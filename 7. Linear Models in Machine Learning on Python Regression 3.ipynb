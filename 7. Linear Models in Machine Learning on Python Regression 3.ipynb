{
 "cells": [
  {
   "cell_type": "code",
   "execution_count": 38,
   "id": "80971c88",
   "metadata": {},
   "outputs": [],
   "source": [
    "import pandas as pd\n",
    "import seaborn as sns\n",
    "import numpy as np\n",
    "import matplotlib.pyplot as plt\n",
    "from sklearn.impute import SimpleImputer\n",
    "from scipy.stats.mstats import normaltest\n",
    "from scipy.stats import boxcox\n",
    "from sklearn.linear_model import LinearRegression\n",
    "from sklearn.metrics import r2_score\n",
    "from sklearn.model_selection import train_test_split\n",
    "from sklearn.preprocessing import (StandardScaler, \n",
    "                                   PolynomialFeatures)\n",
    "from scipy.special import inv_boxcox\n",
    "from sklearn.preprocessing import MinMaxScaler\n",
    "from sklearn.linear_model import SGDRegressor\n",
    "from sklearn.metrics import mean_squared_error\n",
    "from matplotlib import animation as F\n",
    "from IPython.display import HTML\n",
    "from datetime import datetime\n",
    "from sklearn.preprocessing import LabelEncoder\n",
    "from sklearn.preprocessing import OneHotEncoder\n",
    "from sklearn.model_selection import KFold, cross_val_predict\n",
    "from sklearn.linear_model import LinearRegression, Lasso, Ridge\n",
    "from sklearn.metrics import r2_score\n",
    "from sklearn.pipeline import Pipeline\n",
    "import matplotlib.animation as animation\n",
    "import matplotlib.ticker as ticker\n",
    "import plotly as py\n",
    "import plotly.express as px\n",
    "import warnings\n",
    "warnings.filterwarnings('ignore', module='sklearn')\n",
    "sns.set()"
   ]
  },
  {
   "cell_type": "markdown",
   "id": "28f6fb26",
   "metadata": {},
   "source": [
    "# Linear Models in Machine Learning on Python: Regression 3"
   ]
  },
  {
   "cell_type": "markdown",
   "id": "a6dcca16",
   "metadata": {},
   "source": [
    "This is a script of codes that I made in order to practice while I was learning machine learning. Afterwards, I thought I could edit and develop this notebook, so that other people could make use of it and perhaps expedite their learning process. This is not a complete guide to linear models, however, it contains a lot of practices and mathematical aspects of algortihms. There will be three main notebooks about Linear Models \n",
    "Part 1: Linear Regression, Part 2: Logistic Regression, and Part 3: Generalized Linear Models. I will introduce different steps of feature processing and different datasets in which I apply these models, thereby, even if I split them into 3 main parts there may be more than 3 notebooks. I will try to explain algorithms and code as much as possible, however, these topics may be hard for a beginner. In fact, I did not intend this notebook for beginners but for those who have some idea of how algorithms work and want to improve their understanding of both mathematics behind the algorithms and codes to implement the algorithm. In each section, I added external resources that I found helpful when I was learning machine learning. Moreover, I reviewed some processes a couple of time in each example, my aim for doing this is to get you more familiar with these steps. I think this notebook can help a lot to people who intuitively know the algorithms to some extent but want to dive deeper and get some experience. I hope some people can make use of this notebook and learn these machine learning models."
   ]
  },
  {
   "cell_type": "markdown",
   "id": "65a0ff7c",
   "metadata": {},
   "source": [
    "## Regularization and Cross Validation"
   ]
  },
  {
   "cell_type": "markdown",
   "id": "7224de8d",
   "metadata": {},
   "source": [
    "In the previous examples we can observe one obvious thing, that is there is always some difference between the performance of our model on test set and training set. When we talk about this difference, two important concepts are arising overfitting and underfitting. Overfitting happens when we have too many features and fitting the training data so well but the model fails to fit the test data. In this case, we say that the model doesn't generalize well on new data which is also called overfitting. Underfitting, on the other hand, is the opposite of overfitting. In other words, it happens when the model cannot fit the training data well. To deal with these problems we either need to increase or decrease complexity of our model. We use regularization for that purpose. By increasing the number of predictors we use (increasing degrees of freedom), we also increase our complexity of model, by using regularization we can tune our weights so that we constrain some of our predictors and the complexity doesn't go higher than it should be. We can control the amount of regularization we apply to a model by a hyperparameter (Hyperparameters are parameters that are not actually a part of model but part of learning algorithm)."
   ]
  },
  {
   "cell_type": "markdown",
   "id": "9e488548",
   "metadata": {},
   "source": [
    "## L2 Regularization"
   ]
  },
  {
   "cell_type": "markdown",
   "id": "d6c51fae",
   "metadata": {},
   "source": [
    "L2 regularization or a.k.a Ridge Regression is one of the most used regularization techniques. It adds the term $\\lambda \\sum \\:_{j=1}^n\\theta _j^2$ into our cost function. Here we have the hyperparameter $\\lambda$ which we will use to control how much we want to regularize our model. Let's add regularization to our cost function.\n",
    "$$J\\left(\\theta \\:\\right)=\\frac{1}{2m}\\left[\\sum \\:_{i=1}^m\\:\\left(h_{\\theta }\\left(x^{\\left(i\\right)}\\right)-y^{\\left(i\\right)}\\right)^2+\\lambda \\:\\cdot \\sum \\:\\:_{j=1}^n\\:\\theta \\:\\:_j^2\\right]$$\n",
    "\n",
    "Our gradient descent then becomes \n",
    "$$\\theta _j:=\\theta _j-\\:\\alpha \\left[\\left(\\frac{1}{m}\\:\\sum \\:_{i=1}^m\\left(h_{\\theta }\\left(x^{\\left(i\\right)}\\right)-y^{\\left(i\\right)}\\right)^2\\cdot \\:\\:x_j^{\\left(i\\right)}\\right)+\\frac{\\lambda \\:}{m}\\cdot \\:\\theta \\:_j\\:\\right]\\:$$"
   ]
  },
  {
   "cell_type": "markdown",
   "id": "b4a7a85c",
   "metadata": {},
   "source": [
    "## L1 Regularization"
   ]
  },
  {
   "cell_type": "markdown",
   "id": "d61e6e50",
   "metadata": {},
   "source": [
    "L1 Regularization or a.k.a Lasso Regularization is another regularization technique which add the term $\\lambda \\sum _{j=1}^n\\left|\\theta_j\\right|$ into our cost function. We can find the cost function below. One important thing that should be mentioned that We cannot directly write updating rule of gradient descent for lasso regularization as I have written the one for ridge regularization. That is because of that when we add lasso regularization into our cost function, the function becomes undifferentiable (actually it becomes undifferentiable at $\\theta=0$) which takes us to the conclusion the function doesn't have a closed form solution anymore. However, we can still use gradient descent to solve lasso regression. Namely we use subgradient vector method for solving lasso regression. I don't want to go into details of that problem here but if you are curious you can find more information about that in the [link](https://machinelearningcompass.com/machine_learning_math/subgradient_descent/).\n",
    "\n",
    "$$J\\left(\\theta \\right)=\\frac{1}{2m}\\left[\\sum_{i=1}^m\\:\\left(h_{\\theta }\\left(x^{\\left(i\\right)}\\right)-y^{\\left(i\\right)}\\right)^2+\\lambda \\:\\sum _{j=1}^n\\:\\left|\\theta_j\\right|\\right]$$"
   ]
  },
  {
   "cell_type": "markdown",
   "id": "2ecb355a",
   "metadata": {},
   "source": [
    "## Elastic New Regularization"
   ]
  },
  {
   "cell_type": "markdown",
   "id": "458f03db",
   "metadata": {},
   "source": [
    "Elastic net regularization is the combination of L1 and L2 regularization techniques. It has the cost function below.\n",
    "$$J\\left(\\theta\\right)=\\frac{1}{2m}\\left[\\sum_{i=1}^m\\:\\left(h_{\\theta \\:}\\left(x^{\\left(i\\right)}\\right)-y^{\\left(i\\right)}\\right)^2+\\lambda_1 \\:\\sum _{j=1}^n\\:\\theta _j^2+\\lambda_2 \\sum_{j=1}^n\\left|\\theta_j\\right|\\right]$$"
   ]
  },
  {
   "cell_type": "markdown",
   "id": "6acf28d1",
   "metadata": {},
   "source": [
    "## Cross Validation"
   ]
  },
  {
   "cell_type": "markdown",
   "id": "46e6302d",
   "metadata": {},
   "source": [
    "In the previous examples we subdivide our data into train and test sets. Here we will look at another concept called Cross Validation. In cross validation we divide our data into k number of folds and select one of the folds for testing. Then we use remaining folds to train our model and then use the excluded fold for testing our model's performance. We repeat this process again and again. Afterwards, we get the model with best performance on that folds. I recommend watching Statquest's video on that topic for those who aren't familiar with this concept [link](https://www.youtube.com/watch?v=fSytzGwwBVw&t=280s). \n",
    "\n",
    "Moreover, I will use GridSearch or RandomSearch for finding best hyperparameters."
   ]
  },
  {
   "cell_type": "markdown",
   "id": "d3e46532",
   "metadata": {},
   "source": [
    "### Boston Dataset"
   ]
  },
  {
   "cell_type": "markdown",
   "id": "bf8fa528",
   "metadata": {},
   "source": [
    "Here I will switch to another dataset. Ames dataset is a bit big for computations which would take my more time while trying to work on data ( I actually tried it ), on the other hand, boston house dataset is a bit more convenient for regularization part. In the code below, I load the dataset and set up our predictors and target variable."
   ]
  },
  {
   "cell_type": "code",
   "execution_count": 6,
   "id": "b22437f9",
   "metadata": {},
   "outputs": [],
   "source": [
    "import pickle\n",
    "data= pickle.load(open('boston_housing_clean.pickle', \"rb\" ))"
   ]
  },
  {
   "cell_type": "code",
   "execution_count": 7,
   "id": "870ed2ea",
   "metadata": {},
   "outputs": [],
   "source": [
    "boston_data = data['dataframe']\n",
    "X = boston_data.drop('MEDV', axis=1)#predictors\n",
    "\n",
    "y = boston_data.MEDV #target"
   ]
  },
  {
   "cell_type": "code",
   "execution_count": 8,
   "id": "7d7cbfc5",
   "metadata": {},
   "outputs": [
    {
     "data": {
      "text/plain": [
       "Index([], dtype='object')"
      ]
     },
     "execution_count": 8,
     "metadata": {},
     "output_type": "execute_result"
    }
   ],
   "source": [
    "# checking for categorical values.\n",
    "dt = boston_data.dtypes == object \n",
    "columns_categorical = boston_data.columns[dt]\n",
    "columns_categorical"
   ]
  },
  {
   "cell_type": "markdown",
   "id": "be6fd986",
   "metadata": {},
   "source": [
    "By using `Kfold()` function i will split the data into 3 different folds. You can find more about this function on the website [link](https://scikit-learn.org/stable/modules/generated/sklearn.model_selection.KFold.html)"
   ]
  },
  {
   "cell_type": "code",
   "execution_count": 9,
   "id": "e987409b",
   "metadata": {},
   "outputs": [],
   "source": [
    "kf = KFold(shuffle=True, random_state=72018, n_splits=3)"
   ]
  },
  {
   "cell_type": "markdown",
   "id": "6e90b94d",
   "metadata": {},
   "source": [
    "Just like the `LinearRegression()` we can use `Ridge()`. One important change is that we need to set an alphe value. Here I will use 0.001 but in the subsequent examples we will see some ways to find the best alpha value."
   ]
  },
  {
   "cell_type": "code",
   "execution_count": 11,
   "id": "14e04b62",
   "metadata": {},
   "outputs": [
    {
     "name": "stdout",
     "output_type": "stream",
     "text": [
      "0.8572665538430446\n"
     ]
    }
   ],
   "source": [
    "# Decreasing regularization and ensuring convergence\n",
    "pf = PolynomialFeatures(degree=2, include_bias=False,)\n",
    "X_pf = pf.fit_transform(X)\n",
    "s=StandardScaler()\n",
    "X_train, X_test, y_train, y_test = train_test_split(X_pf, y, test_size=0.3, \n",
    "                                                    random_state=72018)\n",
    "\n",
    "\n",
    "r = Ridge(alpha = 0.001)\n",
    "X_train_s = s.fit_transform(X_train)\n",
    "r.fit(X_train_s, y_train)\n",
    "X_test_s = s.transform(X_test)\n",
    "y_pred_r = r.predict(X_test_s)\n",
    "\n",
    "# Calculating r2 score\n",
    "print(r2_score(y_pred_r, y_test))\n"
   ]
  },
  {
   "cell_type": "markdown",
   "id": "1e16ad6d",
   "metadata": {},
   "source": [
    "Let's look at our coefficients as well."
   ]
  },
  {
   "cell_type": "code",
   "execution_count": 12,
   "id": "3873e592",
   "metadata": {},
   "outputs": [
    {
     "data": {
      "text/plain": [
       "array([  7.69158031,   9.88890473, -25.00525751,   5.31046818,\n",
       "        -2.60993701,  14.95803313,  22.31375473, -22.8579177 ,\n",
       "        27.76499232,  -1.5651209 ,  17.07749893,  21.85840549,\n",
       "        11.57430607,   1.0501267 ,   0.43058525,  13.78571186,\n",
       "         1.8138621 ,  -8.34497303,   4.99428114,  -3.56428247,\n",
       "        -3.43620979, -16.33550823,  -7.04652168,   6.60858547,\n",
       "        -1.47661   ,   4.68585754,  -1.30404236,  -0.05944784,\n",
       "        -0.30379373, -12.84226172,   1.97669112,   1.08130677,\n",
       "        -0.67550448,  -1.07931934,   4.49162494,  -4.26689794,\n",
       "         4.67486611,  -1.28089201,   8.66602804,  -0.27373083,\n",
       "        -8.11960573,  11.78297941,   6.53845776,   1.32299881,\n",
       "         2.05956326,   0.89895643,   1.7894665 ,   4.74421976,\n",
       "        -4.66441531,   5.31046818,  -3.23646667,  -8.66803392,\n",
       "         0.97293208,   1.13586914,   0.29037187,  -1.63142731,\n",
       "        -2.92599804,   2.92315095,  -0.73510358,  11.89603615,\n",
       "         0.75403388,  -7.53119729,  18.30567198, -22.16809127,\n",
       "        35.6511429 , -22.38147512,  -7.37805787,   1.73161223,\n",
       "         4.06783879, -12.25400704,  -3.7205649 ,  -5.53714787,\n",
       "       -16.16852126,  -5.87194281,  -4.51530965,  -9.90306269,\n",
       "         0.94154775,  -0.09527988,  17.17999006, -14.26825667,\n",
       "        -2.90436315,  -2.82418895,  -5.41771819,  11.90786565,\n",
       "         0.06464714,  -4.4327351 ,  -5.6787619 ,  -3.51462525,\n",
       "         0.82200331, -29.08179429,  49.34519359, -21.72034431,\n",
       "        -1.4276628 ,  -8.86435308, -15.68192195,  11.98178941,\n",
       "        -0.81828176,   2.92403392,  -0.70149242,  -4.37481606,\n",
       "         2.71199687,  -2.48039401,  -2.38240974,   1.7070104 ])"
      ]
     },
     "execution_count": 12,
     "metadata": {},
     "output_type": "execute_result"
    }
   ],
   "source": [
    "r.coef_"
   ]
  },
  {
   "cell_type": "markdown",
   "id": "2be26ebb",
   "metadata": {},
   "source": [
    "### Finding Best Alpha Values"
   ]
  },
  {
   "cell_type": "markdown",
   "id": "ebcbdbe5",
   "metadata": {},
   "source": [
    "In context of Cross validation we also have some functions that finds best hyperparameters for us. We generally use GridSearchCV and RandomSearchCV for finding the hyperparameters that gives us the best results. Instead of using GridSearchCV here I will use another one called RidgeCv which finds the best alpha values for us. But before using any of these functions let's try to find the best alpha values manually by using some loops and something called pipiline. In pipeline we define a sequence of task, this is an easier way of doing lots of steps in just one code. We define the steps and then only run pipeline itself. You can learn more about these function and pipelines by clicking the links.\n",
    "\n",
    "Pipelines: [link](https://machinelearningmastery.com/modeling-pipeline-optimization-with-scikit-learn/)\n",
    "\n",
    "GridSearchCV and RandomSearchCV: [link](https://machinelearningmastery.com/hyperparameter-optimization-with-random-search-and-grid-search/)\n",
    "\n",
    "Also don't forget the check the parameters that you can use with these functions, you can find them on [GridSearchCV](https://scikit-learn.org/stable/modules/generated/sklearn.model_selection.GridSearchCV.html) [RandomSearch](https://scikit-learn.org/stable/modules/generated/sklearn.model_selection.RandomizedSearchCV.html)"
   ]
  },
  {
   "cell_type": "code",
   "execution_count": 13,
   "id": "a0b31507",
   "metadata": {},
   "outputs": [
    {
     "data": {
      "image/png": "[encoded data removed]",
      "text/plain": [
       "<Figure size 720x432 with 1 Axes>"
      ]
     },
     "metadata": {},
     "output_type": "display_data"
    }
   ],
   "source": [
    "pf = PolynomialFeatures(degree=2)\n",
    "alpha_values = np.geomspace(1e-9, 1e0, num=10)\n",
    "scores=[]\n",
    "for alpha in alpha_values:\n",
    "    ridge = Ridge(alpha=alpha, max_iter=100000)\n",
    "\n",
    "    estimator = Pipeline([\n",
    "        (\"scaler\", s),\n",
    "        (\"polynomial_features\", pf),\n",
    "        (\"ridge_regression\", ridge)])\n",
    "\n",
    "    predictions = cross_val_predict(estimator, X, y, cv = kf)\n",
    "    score = r2_score(y, predictions)\n",
    "    scores.append(score)\n",
    "\n",
    "plt.figure(figsize=(10,6))\n",
    "plt.semilogx(alpha_values, scores, '-o')\n",
    "plt.xlabel('$\\\\alpha value$')\n",
    "plt.ylabel('$R^2 scores$');"
   ]
  },
  {
   "cell_type": "markdown",
   "id": "95df3e65",
   "metadata": {},
   "source": [
    "Let's use the alpha value we found above to see whether or not R Squared matches. I will pass the value 1e-1 and it's supposed to give a R Squared score around 0.8275 "
   ]
  },
  {
   "cell_type": "code",
   "execution_count": 14,
   "id": "7377be6a",
   "metadata": {},
   "outputs": [
    {
     "data": {
      "text/plain": [
       "0.8273692118671543"
      ]
     },
     "execution_count": 14,
     "metadata": {},
     "output_type": "execute_result"
    }
   ],
   "source": [
    "np.argmax(scores) // 15\n",
    "best_estimator = Pipeline([\n",
    "                    (\"scaler\", s),\n",
    "                    (\"make_higher_degree\", PolynomialFeatures(degree=2)),\n",
    "                    (\"ridge_regression\", Ridge(alpha=1e-1))])\n",
    "\n",
    "predictions = cross_val_predict(best_estimator, X, y, cv = kf)\n",
    "score = r2_score(y, predictions)\n",
    "score"
   ]
  },
  {
   "cell_type": "markdown",
   "id": "e25d456e",
   "metadata": {},
   "source": [
    "What would happen if we use directly fit() function instead of cross validation ?"
   ]
  },
  {
   "cell_type": "code",
   "execution_count": 15,
   "id": "97b5fabb",
   "metadata": {},
   "outputs": [
    {
     "data": {
      "text/plain": [
       "0.9290097443102934"
      ]
     },
     "execution_count": 15,
     "metadata": {},
     "output_type": "execute_result"
    }
   ],
   "source": [
    "best_estimator = Pipeline([\n",
    "                    (\"scaler\", s),\n",
    "                    (\"make_higher_degree\", PolynomialFeatures(degree=2)),\n",
    "                    (\"ridge_regression\", Ridge(alpha=1e-2))])\n",
    "\n",
    "best_estimator.fit(X, y)\n",
    "best_estimator.score(X, y)"
   ]
  },
  {
   "cell_type": "markdown",
   "id": "5d5ef197",
   "metadata": {},
   "source": [
    "Interestingly when we directly use fit() function we get a better result. Really ? Actually not. Here we are using the X values that our data is trained on, therefore, it is normal to get a bigger R Squared compared to cross validation result."
   ]
  },
  {
   "cell_type": "code",
   "execution_count": 16,
   "id": "41c68458",
   "metadata": {},
   "outputs": [
    {
     "data": {
      "text/plain": [
       "array([ 0.00000000e+00,  4.15956095e+00,  2.11356960e+00,  3.84761776e+00,\n",
       "        1.45433943e-01, -1.94462939e+00,  3.51499855e+00, -2.08615867e+00,\n",
       "       -2.55812195e+00, -2.85900160e+00,  1.94778567e+00,  1.42376470e-01,\n",
       "        1.43846487e+00, -3.16701889e+00,  1.31037973e-01,  1.12221749e+01,\n",
       "        8.64689457e+00,  5.52349731e+00, -8.15855594e-01,  7.82040506e-01,\n",
       "       -7.93736629e-01, -1.65439211e+00, -4.51926941e+00, -3.96207778e+00,\n",
       "        4.60916485e+00, -2.40338109e-01,  1.25931060e+00, -2.47733963e-01,\n",
       "       -7.86964591e-01, -3.50941230e-01, -2.64364881e+00,  1.93485707e-01,\n",
       "        1.38844222e-02, -6.10672362e-01, -8.78618275e-01,  2.45283683e+00,\n",
       "       -3.09916364e-01,  1.19949983e+00, -6.73095648e-01,  1.70526840e+00,\n",
       "       -6.82039190e-03,  1.16887260e+00,  1.44598951e+00,  6.70044419e-01,\n",
       "        2.00868178e+00, -1.02621659e+00,  6.92570815e-01,  9.53215096e-03,\n",
       "        1.39905594e+00, -4.18798901e-01,  4.93864480e-01, -9.66002755e-01,\n",
       "       -9.72516533e-01,  1.26585390e-01,  6.42023125e-01, -2.61679144e-01,\n",
       "        2.23119271e-01, -4.55679265e-01,  4.39649168e-01, -4.59081386e-01,\n",
       "       -7.01526769e-01,  9.64721061e-02, -1.45674009e+00,  3.11162044e+00,\n",
       "       -1.56262090e+00,  3.26518819e+00, -2.88355558e+00, -2.03674457e-01,\n",
       "        8.53075703e-01,  1.73757763e-01, -1.18179506e+00,  6.13214074e-02,\n",
       "       -2.85969266e-01, -2.26093614e+00, -8.36682092e-01, -2.33319498e-01,\n",
       "       -9.38499251e-01,  1.18588328e-01, -2.22815623e-01,  3.80639621e+00,\n",
       "       -2.50817449e+00,  1.12608971e-02, -1.64053376e+00, -1.49592755e+00,\n",
       "        1.95254626e+00, -1.76931765e+00, -1.59750142e+00, -7.18571706e-01,\n",
       "       -5.60109567e-01,  1.10187246e+00, -9.27290222e+00,  1.03755177e+01,\n",
       "       -1.48493164e+00,  2.09112210e-01, -1.68098067e+00, -2.07838897e+00,\n",
       "        1.90164348e+00, -1.39177331e+00, -1.04473999e+00,  1.47557569e-01,\n",
       "        4.47937436e-01,  7.05122769e-02, -3.07785859e-01, -2.90698996e-01,\n",
       "        6.79590606e-01])"
      ]
     },
     "execution_count": 16,
     "metadata": {},
     "output_type": "execute_result"
    }
   ],
   "source": [
    "best_estimator.named_steps[\"ridge_regression\"].coef_ # We can also show our coefficients as well."
   ]
  },
  {
   "cell_type": "markdown",
   "id": "87728a3c",
   "metadata": {},
   "source": [
    "Let's do the same steps for Lasso Regression as well and manually try to find best alpha values."
   ]
  },
  {
   "cell_type": "code",
   "execution_count": 17,
   "id": "06661b89",
   "metadata": {},
   "outputs": [],
   "source": [
    "pf = PolynomialFeatures(degree=2)\n",
    "\n",
    "scores = []\n",
    "alpha_values = np.geomspace(1e-9, 1e0, num=10)\n",
    "for alpha in alpha_values:\n",
    "    lasso = Lasso(alpha=alpha, max_iter=100000)\n",
    "    \n",
    "    estimator = Pipeline([\n",
    "        (\"scaler\", s),\n",
    "        (\"make_higher_degree\", pf),\n",
    "        (\"lasso_regression\", lasso)])\n",
    "\n",
    "    predictions = cross_val_predict(estimator, X, y, cv = kf)\n",
    "    \n",
    "    score = r2_score(y, predictions)\n",
    "    \n",
    "    scores.append(score)\n"
   ]
  },
  {
   "cell_type": "code",
   "execution_count": 18,
   "id": "84ec539c",
   "metadata": {},
   "outputs": [
    {
     "data": {
      "image/png": "[encoded data removed]",
      "text/plain": [
       "<Figure size 720x432 with 1 Axes>"
      ]
     },
     "metadata": {},
     "output_type": "display_data"
    }
   ],
   "source": [
    "plt.figure(figsize=(10,6))\n",
    "plt.semilogx(alpha_values, scores, '-o')\n",
    "plt.xlabel('$\\\\alpha values$')\n",
    "plt.ylabel('$R^2 scores$');"
   ]
  },
  {
   "cell_type": "markdown",
   "id": "3c20dc4e",
   "metadata": {},
   "source": [
    "Let's train the model with the best alpha value again"
   ]
  },
  {
   "cell_type": "code",
   "execution_count": 19,
   "id": "b36049d4",
   "metadata": {},
   "outputs": [
    {
     "data": {
      "text/plain": [
       "0.8499072215385698"
      ]
     },
     "execution_count": 19,
     "metadata": {},
     "output_type": "execute_result"
    }
   ],
   "source": [
    "best_estimator = Pipeline([\n",
    "                    (\"scaler\", s),\n",
    "                    (\"make_higher_degree\", PolynomialFeatures(degree=2)),\n",
    "                    (\"lasso_regression\", Lasso(alpha=1e-2))])\n",
    "\n",
    "predictions = cross_val_predict(best_estimator, X, y, cv = kf)\n",
    "score = r2_score(y, predictions)\n",
    "score"
   ]
  },
  {
   "cell_type": "markdown",
   "id": "397319f5",
   "metadata": {},
   "source": [
    "As same in the previous example, If we don't use crossvalidation we get a bigger score."
   ]
  },
  {
   "cell_type": "code",
   "execution_count": 20,
   "id": "151feaff",
   "metadata": {},
   "outputs": [
    {
     "data": {
      "text/plain": [
       "0.9290097443102934"
      ]
     },
     "execution_count": 20,
     "metadata": {},
     "output_type": "execute_result"
    }
   ],
   "source": [
    "best_estimator = Pipeline([\n",
    "                    (\"scaler\", s),\n",
    "                    (\"make_higher_degree\", PolynomialFeatures(degree=2)),\n",
    "                    (\"lasso_regression\", Ridge(alpha=1e-2))])\n",
    "\n",
    "best_estimator.fit(X, y)\n",
    "best_estimator.score(X, y)"
   ]
  },
  {
   "cell_type": "code",
   "execution_count": 21,
   "id": "82f22dff",
   "metadata": {},
   "outputs": [
    {
     "data": {
      "text/plain": [
       "array([ 0.00000000e+00,  4.15956095e+00,  2.11356960e+00,  3.84761776e+00,\n",
       "        1.45433943e-01, -1.94462939e+00,  3.51499855e+00, -2.08615867e+00,\n",
       "       -2.55812195e+00, -2.85900160e+00,  1.94778567e+00,  1.42376470e-01,\n",
       "        1.43846487e+00, -3.16701889e+00,  1.31037973e-01,  1.12221749e+01,\n",
       "        8.64689457e+00,  5.52349731e+00, -8.15855594e-01,  7.82040506e-01,\n",
       "       -7.93736629e-01, -1.65439211e+00, -4.51926941e+00, -3.96207778e+00,\n",
       "        4.60916485e+00, -2.40338109e-01,  1.25931060e+00, -2.47733963e-01,\n",
       "       -7.86964591e-01, -3.50941230e-01, -2.64364881e+00,  1.93485707e-01,\n",
       "        1.38844222e-02, -6.10672362e-01, -8.78618275e-01,  2.45283683e+00,\n",
       "       -3.09916364e-01,  1.19949983e+00, -6.73095648e-01,  1.70526840e+00,\n",
       "       -6.82039190e-03,  1.16887260e+00,  1.44598951e+00,  6.70044419e-01,\n",
       "        2.00868178e+00, -1.02621659e+00,  6.92570815e-01,  9.53215096e-03,\n",
       "        1.39905594e+00, -4.18798901e-01,  4.93864480e-01, -9.66002755e-01,\n",
       "       -9.72516533e-01,  1.26585390e-01,  6.42023125e-01, -2.61679144e-01,\n",
       "        2.23119271e-01, -4.55679265e-01,  4.39649168e-01, -4.59081386e-01,\n",
       "       -7.01526769e-01,  9.64721061e-02, -1.45674009e+00,  3.11162044e+00,\n",
       "       -1.56262090e+00,  3.26518819e+00, -2.88355558e+00, -2.03674457e-01,\n",
       "        8.53075703e-01,  1.73757763e-01, -1.18179506e+00,  6.13214074e-02,\n",
       "       -2.85969266e-01, -2.26093614e+00, -8.36682092e-01, -2.33319498e-01,\n",
       "       -9.38499251e-01,  1.18588328e-01, -2.22815623e-01,  3.80639621e+00,\n",
       "       -2.50817449e+00,  1.12608971e-02, -1.64053376e+00, -1.49592755e+00,\n",
       "        1.95254626e+00, -1.76931765e+00, -1.59750142e+00, -7.18571706e-01,\n",
       "       -5.60109567e-01,  1.10187246e+00, -9.27290222e+00,  1.03755177e+01,\n",
       "       -1.48493164e+00,  2.09112210e-01, -1.68098067e+00, -2.07838897e+00,\n",
       "        1.90164348e+00, -1.39177331e+00, -1.04473999e+00,  1.47557569e-01,\n",
       "        4.47937436e-01,  7.05122769e-02, -3.07785859e-01, -2.90698996e-01,\n",
       "        6.79590606e-01])"
      ]
     },
     "execution_count": 21,
     "metadata": {},
     "output_type": "execute_result"
    }
   ],
   "source": [
    "best_estimator.named_steps[\"lasso_regression\"].coef_"
   ]
  },
  {
   "cell_type": "markdown",
   "id": "49c1f240",
   "metadata": {},
   "source": [
    "I talked about GridSearchCV and RandomSearchCV but there are some other functions that we can use finding hyperparameters. These function are easier to use, that's why, I will start will them. For finding alpha values and applying cross validation we can directly use a function called `RidgeCV()`."
   ]
  },
  {
   "cell_type": "code",
   "execution_count": 22,
   "id": "47291076",
   "metadata": {},
   "outputs": [],
   "source": [
    "from sklearn.linear_model import RidgeCV\n",
    "\n",
    "alpha_values = np.geomspace(1e-9, 1e0, num=10)\n",
    "pf = PolynomialFeatures(degree=2,include_bias=False)\n",
    "X_pf = pf.fit_transform(X)\n",
    "\n",
    "ridgeCV = RidgeCV(alphas=alpha_values, cv=13).fit(X_pf, y)\n",
    "\n",
    "ridgeCV_rmse = np.sqrt(mean_squared_error(y, ridgeCV.predict(X_pf)))\n",
    "ridgeCV_Rsquared=r2_score(y, ridgeCV.predict(X_pf))\n",
    "\n"
   ]
  },
  {
   "cell_type": "markdown",
   "id": "89334bd2",
   "metadata": {},
   "source": [
    "We can also use another function called `LassoCV()` to find hyperparameters for Lasso Regression."
   ]
  },
  {
   "cell_type": "code",
   "execution_count": 23,
   "id": "f26ba11b",
   "metadata": {},
   "outputs": [],
   "source": [
    "from sklearn.linear_model import LassoCV\n",
    "\n",
    "alpha_values2 = np.geomspace(1e-9, 1e0, num=10)\n",
    "pf = PolynomialFeatures(degree=2,include_bias=False)\n",
    "X_pf = pf.fit_transform(X)\n",
    "lassoCV = LassoCV(alphas=alpha_values2,\n",
    "                  max_iter=5e4,\n",
    "                  cv=3).fit(X_pf, y)\n",
    "\n",
    "lassoCV_rmse = np.sqrt(mean_squared_error(y, lassoCV.predict(X_pf)))\n",
    "lassoCV_Rsquared=r2_score(y, lassoCV.predict(X_pf))\n",
    "\n",
    "#print(lassoCV.alpha_, lassoCV_Rsquared)  # Lasso is slower"
   ]
  },
  {
   "cell_type": "markdown",
   "id": "4cedae2c",
   "metadata": {},
   "source": [
    "I didn't show any example about ElasticNet, therefore I would like to use it here. I will use `ElasticNetCV()` here to find the best alpha values for the regression."
   ]
  },
  {
   "cell_type": "code",
   "execution_count": 25,
   "id": "000903a8",
   "metadata": {},
   "outputs": [],
   "source": [
    "from sklearn.linear_model import ElasticNetCV\n",
    "\n",
    "l1_ratios = np.linspace(0.1, 0.9, 9)\n",
    "alpha_values = np.geomspace(1e-9, 1e0, num=10)\n",
    "elasticNetCV = ElasticNetCV(alphas=alpha_values, \n",
    "                            l1_ratio=l1_ratios,\n",
    "                            max_iter=1e4).fit(X_pf, y)\n",
    "elasticNetCV_rmse = np.sqrt(mean_squared_error(y, elasticNetCV.predict(X_pf)))\n",
    "elasticNetCV_Rsquared=r2_score(y, elasticNetCV.predict(X_pf))\n",
    "#print(elasticNetCV.alpha_, elasticNetCV.l1_ratio_, elasticNetCV_Rsquared)\n"
   ]
  },
  {
   "cell_type": "markdown",
   "id": "0f0d78f9",
   "metadata": {},
   "source": [
    "Okay now let's see which regularized model is better. I will create a pandas dataframe that show the metrics of the models that we trained."
   ]
  },
  {
   "cell_type": "code",
   "execution_count": 26,
   "id": "e49e31f8",
   "metadata": {},
   "outputs": [
    {
     "data": {
      "text/html": [
       "<div>\n",
       "<style scoped>\n",
       "    .dataframe tbody tr th:only-of-type {\n",
       "        vertical-align: middle;\n",
       "    }\n",
       "\n",
       "    .dataframe tbody tr th {\n",
       "        vertical-align: top;\n",
       "    }\n",
       "\n",
       "    .dataframe thead th {\n",
       "        text-align: right;\n",
       "    }\n",
       "</style>\n",
       "<table border=\"1\" class=\"dataframe\">\n",
       "  <thead>\n",
       "    <tr style=\"text-align: right;\">\n",
       "      <th></th>\n",
       "      <th>Alpha Values</th>\n",
       "      <th>RMSE</th>\n",
       "      <th>RSquared</th>\n",
       "    </tr>\n",
       "  </thead>\n",
       "  <tbody>\n",
       "    <tr>\n",
       "      <th>Ridge</th>\n",
       "      <td>1.00</td>\n",
       "      <td>2.536687</td>\n",
       "      <td>0.923776</td>\n",
       "    </tr>\n",
       "    <tr>\n",
       "      <th>Lasso</th>\n",
       "      <td>0.01</td>\n",
       "      <td>2.566238</td>\n",
       "      <td>0.921990</td>\n",
       "    </tr>\n",
       "    <tr>\n",
       "      <th>ElasticNet</th>\n",
       "      <td>1.00</td>\n",
       "      <td>3.117250</td>\n",
       "      <td>0.884893</td>\n",
       "    </tr>\n",
       "  </tbody>\n",
       "</table>\n",
       "</div>"
      ],
      "text/plain": [
       "            Alpha Values      RMSE  RSquared\n",
       "Ridge               1.00  2.536687  0.923776\n",
       "Lasso               0.01  2.566238  0.921990\n",
       "ElasticNet          1.00  3.117250  0.884893"
      ]
     },
     "execution_count": 26,
     "metadata": {},
     "output_type": "execute_result"
    }
   ],
   "source": [
    "rmse_vals = [ridgeCV_rmse, lassoCV_rmse, elasticNetCV_rmse]\n",
    "rsquared_vals = [ridgeCV_Rsquared, lassoCV_Rsquared, elasticNetCV_Rsquared]\n",
    "alpha_vals = [ridgeCV.alpha_, lassoCV.alpha_, elasticNetCV.alpha_]\n",
    "\n",
    "labels = ['Ridge', 'Lasso', 'ElasticNet']\n",
    "columns=['Alpha Values','RMSE','RSquared']\n",
    "\n",
    "df =pd.DataFrame([alpha_vals, rmse_vals, rsquared_vals])\n",
    "df=df.T\n",
    "df.rename(columns={0: 'Alpha Values',1:'RMSE',2:'RSquared'}, index={0:'Ridge',1:'Lasso',2: 'ElasticNet'}, inplace=True)\n",
    "df"
   ]
  },
  {
   "cell_type": "markdown",
   "id": "beb2cc26",
   "metadata": {},
   "source": [
    "Ridge regression looks slightly better. An important topic that I want to share with you is that Ridge regression is tend to work better when we have more relevant features and Lasso can eleminate unrelevant features, that's because, it might be reasonable to use it when we have lot's of features."
   ]
  },
  {
   "cell_type": "code",
   "execution_count": 40,
   "id": "0d5bf8af",
   "metadata": {},
   "outputs": [],
   "source": [
    "rmse_vals = [ridgeCV_rmse, lassoCV_rmse, elasticNetCV_rmse]\n",
    "rsquared_vals = [ridgeCV_Rsquared, lassoCV_Rsquared, elasticNetCV_Rsquared]\n",
    "alpha_vals = [ridgeCV.alpha_, lassoCV.alpha_, elasticNetCV.alpha_]\n",
    "\n",
    "labels = [ 'Ridge', 'Lasso', 'ElasticNet']\n",
    "\n",
    "rmse_df = pd.Series(alpha_vals, index=labels).to_frame()\n",
    "rmse_df.rename(columns={0: 'Alpha Values'}, inplace=1)\n",
    "\n",
    "\n",
    "rmse_df['RMSE'] = pd.Series(rmse_vals)\n",
    "\n",
    "rmse_df = pd.Series(rmse_vals, index=labels).to_frame()\n",
    "rmse_df.rename(columns={1: 'RMSE'}, inplace=1)\n",
    "rmse_df = pd.Series(rsquared_vals, index=labels).to_frame()\n",
    "rmse_df.rename(columns={2: 'RSquared'}, inplace=1)\n",
    "\n"
   ]
  },
  {
   "cell_type": "code",
   "execution_count": 27,
   "id": "6a9ab1db",
   "metadata": {},
   "outputs": [
    {
     "name": "stderr",
     "output_type": "stream",
     "text": [
      "C:\\Users\\gorke\\anaconda3\\lib\\site-packages\\seaborn\\_decorators.py:36: FutureWarning: Pass the following variables as keyword args: x, y. From version 0.12, the only valid positional argument will be `data`, and passing other arguments without an explicit keyword will result in an error or misinterpretation.\n",
      "  warnings.warn(\n",
      "C:\\Users\\gorke\\anaconda3\\lib\\site-packages\\seaborn\\_decorators.py:36: FutureWarning: Pass the following variables as keyword args: x, y. From version 0.12, the only valid positional argument will be `data`, and passing other arguments without an explicit keyword will result in an error or misinterpretation.\n",
      "  warnings.warn(\n",
      "C:\\Users\\gorke\\anaconda3\\lib\\site-packages\\seaborn\\_decorators.py:36: FutureWarning: Pass the following variables as keyword args: x, y. From version 0.12, the only valid positional argument will be `data`, and passing other arguments without an explicit keyword will result in an error or misinterpretation.\n",
      "  warnings.warn(\n"
     ]
    },
    {
     "data": {
      "image/png": "[encoded data removed]",
      "text/plain": [
       "<Figure size 720x432 with 1 Axes>"
      ]
     },
     "metadata": {},
     "output_type": "display_data"
    }
   ],
   "source": [
    "figure = plt.figure(figsize=(10,6))\n",
    "\n",
    "ax = plt.axes()\n",
    "model_names = ['Ridge', 'Lasso', 'ElasticNet']\n",
    "\n",
    "models = [ridgeCV, lassoCV, elasticNetCV]\n",
    "colors=['r','g','b']\n",
    "\n",
    "for models, names,clr in zip(models, model_names,colors):\n",
    "    sns.scatterplot(y_test, models.predict(X_test),label=names, color=clr)\n",
    "\n",
    "\n",
    "ax.set(xlabel='Real Price', \n",
    "       ylabel='Predicted Price', \n",
    "       title='Linear Regression');"
   ]
  },
  {
   "cell_type": "markdown",
   "id": "78c43f39",
   "metadata": {},
   "source": [
    "Now It's time to use GridSearchCV. Here I will have 2 different pipelines one for Ridge Regression and the other for Lasso Regression. GridSearchCv will find not only the alpha values for me but also degree of polynomial features that gives the best result."
   ]
  },
  {
   "cell_type": "code",
   "execution_count": 28,
   "id": "55ce9a56",
   "metadata": {},
   "outputs": [],
   "source": [
    "from sklearn.model_selection import GridSearchCV\n",
    "\n",
    "# Same estimator as before\n",
    "Lasso\n",
    "estimator = Pipeline([(\"scaler\", StandardScaler()),\n",
    "        (\"polynomial_features\", PolynomialFeatures()),\n",
    "        (\"ridge_regression\", Ridge())])\n",
    "\n",
    "estimator2 = Pipeline([(\"scaler\", StandardScaler()),\n",
    "        (\"polynomial_features\", PolynomialFeatures()),\n",
    "        (\"lasso_regression\", Lasso())])\n",
    "\n",
    "params = {\n",
    "    'polynomial_features__degree': [1, 2, 3],\n",
    "    'ridge_regression__alpha': np.geomspace(1e-9, 1e0, num=10),\n",
    "}\n",
    "params2 = {\n",
    "    'polynomial_features__degree': [1, 2, 3],\n",
    "    'lasso_regression__alpha': np.geomspace(1e-9, 1e0, num=10),\n",
    "}\n"
   ]
  },
  {
   "cell_type": "markdown",
   "id": "8be052e5",
   "metadata": {},
   "source": [
    "Now Let's use the GridSearchCV and find the best estimator values."
   ]
  },
  {
   "cell_type": "code",
   "execution_count": 29,
   "id": "9fd88638",
   "metadata": {},
   "outputs": [],
   "source": [
    "models = {'Lasso': GridSearchCV(estimator, params, cv=kf).fit(X, y).best_estimator_,\n",
    "           'Ridge': GridSearchCV(estimator2, params2, cv=kf).fit(X, y).best_estimator_}"
   ]
  },
  {
   "cell_type": "code",
   "execution_count": 30,
   "id": "f1d84611",
   "metadata": {},
   "outputs": [
    {
     "data": {
      "text/plain": [
       "0.9271062039183926"
      ]
     },
     "execution_count": 30,
     "metadata": {},
     "output_type": "execute_result"
    }
   ],
   "source": [
    "r2_score(y,models['Lasso'].fit(X,y).predict(X)) # RSquared for Lasso Regression"
   ]
  },
  {
   "cell_type": "code",
   "execution_count": 31,
   "id": "c18802df",
   "metadata": {},
   "outputs": [
    {
     "data": {
      "text/plain": [
       "0.9241797703677183"
      ]
     },
     "execution_count": 31,
     "metadata": {},
     "output_type": "execute_result"
    }
   ],
   "source": [
    "r2_score(y,models['Ridge'].fit(X,y).predict(X)) # RSquared for Ridge Regression"
   ]
  },
  {
   "cell_type": "markdown",
   "id": "185acbc6",
   "metadata": {},
   "source": [
    "Looks like Lasso Regression performs a bit better. But be careful that I didn't use cross validation here and we are trying to predict with the values that we used to train the model. We should always care about the performance on test data."
   ]
  },
  {
   "cell_type": "code",
   "execution_count": 32,
   "id": "d894292b",
   "metadata": {},
   "outputs": [
    {
     "data": {
      "text/plain": [
       "0.8367096592832202"
      ]
     },
     "execution_count": 32,
     "metadata": {},
     "output_type": "execute_result"
    }
   ],
   "source": [
    "r2_score(y,cross_val_predict(models['Lasso'], X, y, cv = kf))\n"
   ]
  },
  {
   "cell_type": "code",
   "execution_count": 33,
   "id": "b040b61a",
   "metadata": {},
   "outputs": [
    {
     "data": {
      "text/plain": [
       "0.8499072215385698"
      ]
     },
     "execution_count": 33,
     "metadata": {},
     "output_type": "execute_result"
    }
   ],
   "source": [
    "r2_score(y,cross_val_predict(models['Ridge'], X, y, cv = kf))"
   ]
  },
  {
   "cell_type": "markdown",
   "id": "781a5da1",
   "metadata": {},
   "source": [
    "When we use cross validation it turns out that Ridge Regression actually is the one that performs better."
   ]
  },
  {
   "cell_type": "markdown",
   "id": "8436fb47",
   "metadata": {},
   "source": [
    "We can also use the grid search in the way below."
   ]
  },
  {
   "cell_type": "code",
   "execution_count": 34,
   "id": "5ee3b819",
   "metadata": {},
   "outputs": [],
   "source": [
    "grid = GridSearchCV(estimator, params, cv=kf)"
   ]
  },
  {
   "cell_type": "code",
   "execution_count": 35,
   "id": "cea3c467",
   "metadata": {},
   "outputs": [
    {
     "data": {
      "text/plain": [
       "GridSearchCV(cv=KFold(n_splits=3, random_state=72018, shuffle=True),\n",
       "             estimator=Pipeline(steps=[('scaler', StandardScaler()),\n",
       "                                       ('polynomial_features',\n",
       "                                        PolynomialFeatures()),\n",
       "                                       ('ridge_regression', Ridge())]),\n",
       "             param_grid={'polynomial_features__degree': [1, 2, 3],\n",
       "                         'ridge_regression__alpha': array([1.e-09, 1.e-08, 1.e-07, 1.e-06, 1.e-05, 1.e-04, 1.e-03, 1.e-02,\n",
       "       1.e-01, 1.e+00])})"
      ]
     },
     "execution_count": 35,
     "metadata": {},
     "output_type": "execute_result"
    }
   ],
   "source": [
    "grid.fit(X, y)#fitting gridsearch"
   ]
  },
  {
   "cell_type": "code",
   "execution_count": 36,
   "id": "542e4f20",
   "metadata": {},
   "outputs": [
    {
     "data": {
      "text/plain": [
       "(0.8347116332428728,\n",
       " {'polynomial_features__degree': 2, 'ridge_regression__alpha': 1.0})"
      ]
     },
     "execution_count": 36,
     "metadata": {},
     "output_type": "execute_result"
    }
   ],
   "source": [
    "grid.best_score_, grid.best_params_ # finding best scores and best parameters"
   ]
  },
  {
   "cell_type": "markdown",
   "id": "1831244a",
   "metadata": {},
   "source": [
    "Last but not least, before moving on the next example I would like to show that I have been waiting for a while. In the code below I will show whether or not scaling improves our model's predictions. Here instead of using linear regression function I will use another function called `SGDRegressor()` which uses Stochastic Gradient Descent and apply linear regression. You can find more about this function in the [link](https://scikit-learn.org/stable/modules/generated/sklearn.linear_model.SGDRegressor.html)."
   ]
  },
  {
   "cell_type": "code",
   "execution_count": null,
   "id": "226f72f9",
   "metadata": {},
   "outputs": [],
   "source": []
  },
  {
   "cell_type": "code",
   "execution_count": 42,
   "id": "5c325569",
   "metadata": {},
   "outputs": [
    {
     "data": {
      "text/html": [
       "<div>\n",
       "<style scoped>\n",
       "    .dataframe tbody tr th:only-of-type {\n",
       "        vertical-align: middle;\n",
       "    }\n",
       "\n",
       "    .dataframe tbody tr th {\n",
       "        vertical-align: top;\n",
       "    }\n",
       "\n",
       "    .dataframe thead th {\n",
       "        text-align: right;\n",
       "    }\n",
       "</style>\n",
       "<table border=\"1\" class=\"dataframe\">\n",
       "  <thead>\n",
       "    <tr style=\"text-align: right;\">\n",
       "      <th></th>\n",
       "      <th>RMSE-SGD</th>\n",
       "      <th>RMSE-SGD-learningrate</th>\n",
       "      <th>RMSE-SGD-scaled</th>\n",
       "    </tr>\n",
       "  </thead>\n",
       "  <tbody>\n",
       "    <tr>\n",
       "      <th>Ridge</th>\n",
       "      <td>19191470097192316928.000000</td>\n",
       "      <td>1558272985585374.250000</td>\n",
       "      <td>9.369171</td>\n",
       "    </tr>\n",
       "    <tr>\n",
       "      <th>Lasso</th>\n",
       "      <td>31929913425377128448.000000</td>\n",
       "      <td>250709826881961.218750</td>\n",
       "      <td>5.339741</td>\n",
       "    </tr>\n",
       "    <tr>\n",
       "      <th>ElasticNet</th>\n",
       "      <td>32204413447778127872.000000</td>\n",
       "      <td>543044467116120.437500</td>\n",
       "      <td>8.574329</td>\n",
       "    </tr>\n",
       "  </tbody>\n",
       "</table>\n",
       "</div>"
      ],
      "text/plain": [
       "                               RMSE-SGD    RMSE-SGD-learningrate  \\\n",
       "Ridge       19191470097192316928.000000  1558272985585374.250000   \n",
       "Lasso       31929913425377128448.000000   250709826881961.218750   \n",
       "ElasticNet  32204413447778127872.000000   543044467116120.437500   \n",
       "\n",
       "            RMSE-SGD-scaled  \n",
       "Ridge              9.369171  \n",
       "Lasso              5.339741  \n",
       "ElasticNet         8.574329  "
      ]
     },
     "execution_count": 42,
     "metadata": {},
     "output_type": "execute_result"
    }
   ],
   "source": [
    "pf = PolynomialFeatures(degree=2, include_bias=False,)\n",
    "X_pf = pf.fit_transform(X)\n",
    "\n",
    "# Train_test Splitting\n",
    "X_train, X_test, y_train, y_test = train_test_split(X_pf, y, test_size=0.3, \n",
    "                                                    random_state=72018)\n",
    "\n",
    "# Now I will declare the hyperparameters that I will use\n",
    "model_parameters_dict = {\n",
    "    'Lasso': {'penalty': 'l2',\n",
    "           'alpha': lassoCV.alpha_},\n",
    "    'Ridge': {'penalty': 'l1',\n",
    "           'alpha': ridgeCV_rmse},\n",
    "    'ElasticNet': {'penalty': 'elasticnet', \n",
    "                   'alpha': elasticNetCV.alpha_,\n",
    "                   'l1_ratio': elasticNetCV.l1_ratio_}\n",
    "}\n",
    "\n",
    "#Applying Scaling\n",
    "scaler = MinMaxScaler()\n",
    "X_train_scaled = scaler.fit_transform(X_train)\n",
    "X_test_scaled = scaler.transform(X_test)\n",
    "\n",
    "\n",
    "new_rmses = {}\n",
    "new_rmses2 = {}\n",
    "new_rmses3 = {}\n",
    "for modellabel, parameters in model_parameters_dict.items():\n",
    "    \n",
    "    SGD = SGDRegressor(**parameters)\n",
    "    SGD.fit(X_train, y_train)\n",
    "    new_rmses[modellabel] = format(np.sqrt(mean_squared_error(y_test, SGD.predict(X_test))),'f')\n",
    "    \n",
    "    # Tuning learning rate\n",
    "    SGD_tuned = SGDRegressor(eta0=1e-7, **parameters)\n",
    "    SGD_tuned.fit(X_train, y_train)\n",
    "    new_rmses2[modellabel] = format(np.sqrt(mean_squared_error(y_test, SGD_tuned.predict(X_test))),'f')\n",
    "    \n",
    "    # Okay now let's fit the model and add RMSE into our df.\n",
    "    SGD_scaled = SGDRegressor(**parameters)\n",
    "    SGD_scaled.fit(X_train_scaled, y_train)\n",
    "    new_rmses3[modellabel] = np.sqrt(mean_squared_error(y_test, SGD_scaled.predict(X_test_scaled)))\n",
    "\n",
    "rmse_df['RMSE-SGD'] = pd.Series(new_rmses)\n",
    "rmse_df['RMSE-SGD-learningrate'] = pd.Series(new_rmses2)\n",
    "rmse_df['RMSE-SGD-scaled'] = pd.Series(new_rmses3)\n",
    "rmse_df.drop(0,axis=1,inplace=True) # Dropping R Squared scores\n",
    "rmse_df"
   ]
  },
  {
   "cell_type": "markdown",
   "id": "1eff5e4e",
   "metadata": {},
   "source": [
    "As you can see when we scale our weights Gradient Descent performs much better so that we get a much more lower RMSE as well."
   ]
  },
  {
   "cell_type": "markdown",
   "id": "f3eb09d8",
   "metadata": {},
   "source": [
    "The next notebook on linear models will be the last one about regression (I may also show SVM Regression later but I'm not still sure about that). In that model I will be sort of summing up all the tings we have done so far, in addition, I will also show some new things such as creating our own transformer. We will be working on some covid data and trying to predict the death toll."
   ]
  }
 ],
 "metadata": {
  "kernelspec": {
   "display_name": "Python 3 (ipykernel)",
   "language": "python",
   "name": "python3"
  },
  "language_info": {
   "codemirror_mode": {
    "name": "ipython",
    "version": 3
   },
   "file_extension": ".py",
   "mimetype": "text/x-python",
   "name": "python",
   "nbconvert_exporter": "python",
   "pygments_lexer": "ipython3",
   "version": "3.8.8"
  }
 },
 "nbformat": 4,
 "nbformat_minor": 5
}
