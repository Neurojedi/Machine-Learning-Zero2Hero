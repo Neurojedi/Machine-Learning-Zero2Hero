{
 "cells": [
  {
   "cell_type": "markdown",
   "id": "293d46dd",
   "metadata": {},
   "source": [
    "# Linear Models in Machine Learning on Python - Linear Regression 4 "
   ]
  },
  {
   "cell_type": "code",
   "execution_count": 2,
   "id": "d7f8f079",
   "metadata": {},
   "outputs": [],
   "source": [
    "import pandas as pd\n",
    "import seaborn as sns\n",
    "import numpy as np\n",
    "import matplotlib.pyplot as plt\n",
    "from sklearn.impute import SimpleImputer\n",
    "from scipy.stats.mstats import normaltest\n",
    "from scipy.stats import boxcox\n",
    "from sklearn.metrics import r2_score\n",
    "from sklearn.model_selection import train_test_split\n",
    "from sklearn.preprocessing import (StandardScaler, \n",
    "                                   PolynomialFeatures)\n",
    "from scipy.special import inv_boxcox\n",
    "from sklearn.linear_model import SGDRegressor\n",
    "from sklearn.metrics import mean_squared_error\n",
    "from matplotlib import animation as F\n",
    "from IPython.display import HTML\n",
    "from datetime import datetime\n",
    "from sklearn.preprocessing import LabelEncoder\n",
    "from sklearn.preprocessing import OneHotEncoder\n",
    "from sklearn.model_selection import KFold, cross_val_predict\n",
    "from sklearn.linear_model import LinearRegression, Lasso, Ridge\n",
    "from sklearn.pipeline import Pipeline\n",
    "import matplotlib.animation as animation\n",
    "import matplotlib.ticker as ticker\n",
    "import plotly as py\n",
    "import plotly.express as px\n",
    "import warnings\n",
    "warnings.filterwarnings('ignore', module='sklearn')\n",
    "sns.set()\n",
    "import plotly.io as pio\n",
    "import matplotlib.image as mpimg"
   ]
  },
  {
   "cell_type": "markdown",
   "id": "13064a76",
   "metadata": {},
   "source": [
    "I want to end these lectures on linear regression with a project I have finished a while ago as one of my university projects. This dataset is a altered version of a dataset provided by Johny Hopkins University. I created this version of the actual dataset while I was preparing an assignment for the university that i study at. Now I will use this dataset to show you some animated plots as well as regression models in which we create our own transformers. I will also introduce a function called `ColumnTransformer()` which is used to split things-to-do list for numerical and categorical features.\n",
    "\n",
    "This dataset was created on March 12, 2021. In this dataset you will find the ten countries with most active covid patients, since then the dataset isn't updated, therefore, the countries with most active cases may be changed now. The dataset contains numbers of confirmed, recovered and active cases as well as death toll per each day."
   ]
  },
  {
   "cell_type": "markdown",
   "id": "b66a46b7",
   "metadata": {},
   "source": [
    "## Visualizations"
   ]
  },
  {
   "cell_type": "markdown",
   "id": "ac642f1a",
   "metadata": {},
   "source": [
    "Here I will use two different versions of the datasets and plot animatesplots. The first one will be a geographic plot in which I represent the active case change during the pandemic. In the second one, I will show an animated barplot which also represents the active case change. Afterwards, I will use seaborn functions that I used previously for representing covid data. "
   ]
  },
  {
   "cell_type": "markdown",
   "id": "dfb47ea3",
   "metadata": {},
   "source": [
    "Let's load our data first"
   ]
  },
  {
   "cell_type": "code",
   "execution_count": 3,
   "id": "65398543",
   "metadata": {},
   "outputs": [],
   "source": [
    "data=pd.read_csv(\"alldatasummary.csv\"); #loading our dataset"
   ]
  },
  {
   "cell_type": "markdown",
   "id": "f6bc1049",
   "metadata": {},
   "source": [
    "Here I wanted to do something different and use animated plots of plotly. In the plot below, I show the change in death toll geographically. Note: If you are just viewing the notebook you may not be able to see the animated graphs below. You need to run the code while you have internet connection."
   ]
  },
  {
   "cell_type": "code",
   "execution_count": null,
   "id": "8abf55b3",
   "metadata": {},
   "outputs": [],
   "source": [
    "fig = px.choropleth(\n",
    "    data[::1], \n",
    "    locations= 'Country', # We can also use lat and lon values but this one is more convenient.\n",
    "    locationmode= 'country names', #Type of spatial coordinates\n",
    "    color= 'sum_Active', # I will highlight sum_Active\n",
    "    \n",
    "    #When you draw your cursor on countries I want to show extra data about these countries. You can achieve this\n",
    "    # by edding these hover properties.\n",
    "    hover_name= 'Country', \n",
    "    hover_data= ['Sum_Confirmed','sum_Recovered','sum_Deaths'], \n",
    "    animation_frame= 'Date', \n",
    "    color_continuous_scale=px.colors.diverging.RdYlGn[::-1]\n",
    ")    \n",
    "fig.update_layout(\n",
    "    title_text =   \" COVID-19 Spread in the World up to 23 April 2021\",\n",
    "    title_x = 0.5,\n",
    "    transition = {'duration': 1000000},\n",
    "    geo= dict(\n",
    "        showframe= False,\n",
    "        showcoastlines= False,\n",
    "        projection_type = 'equirectangular'\n",
    "    )  \n",
    ")\n"
   ]
  },
  {
   "cell_type": "markdown",
   "id": "a2e242e4",
   "metadata": {},
   "source": [
    "I also want to plot an animated barplot. To do that I will firstly load a little different version of our data and by using the function below plot the graph."
   ]
  },
  {
   "cell_type": "code",
   "execution_count": null,
   "id": "1a58be82",
   "metadata": {},
   "outputs": [],
   "source": [
    "data=pd.read_csv(\"covidextended.csv\")"
   ]
  },
  {
   "cell_type": "code",
   "execution_count": null,
   "id": "ee90b792",
   "metadata": {},
   "outputs": [],
   "source": [
    "def draw_barchart(date,case=\"sum_Deaths\"):\n",
    "    dff= (data[data['Date'].eq(date)].sort_values(by=case,ascending=False).head(10))[::-1];\n",
    "    ax.clear();\n",
    "    ax.barh(dff['Country'], dff[case], color=[\"#980505\",\"#CD1212\",\"#D84E4E\",\"#CB6262\",\"#D39B5F\",\"#F7EC10\",\"#D0F710\",\"#9CF710\",\"#B4D67F\",\"#969C8E\"][::-1]);\n",
    "    dx = dff[case].max() / 100;\n",
    "    for i, (value, name) in enumerate(zip(dff[case], dff['Country'])):\n",
    "        ax.text(value-dx, i,     name,           size=14, weight=600, ha='right', va='bottom');\n",
    "        ax.text(value-dx, i-.25, value, size=10, color='#17202A', ha='right', va='baseline');\n",
    "    \n",
    "\n",
    "    ax.text(1, 0.3, date, transform=ax.transAxes, color='#777777', size=20, ha='right', weight=500);\n",
    "    ax.text(0, 1.06, 'Number of Cases', transform=ax.transAxes, size=12, color='#777777');\n",
    "    ax.xaxis.set_major_formatter(ticker.StrMethodFormatter('{x:,.0f}'));\n",
    "    ax.xaxis.set_ticks_position('top');\n",
    "    ax.tick_params(axis='x', colors='#777777', labelsize=12);\n",
    "    ax.set_yticks([]);\n",
    "    ax.margins(0, 0.01);\n",
    "    ax.grid(which='major', axis='x', linestyle='-');\n",
    "    ax.set_axisbelow(True);\n",
    "    ax.text(0, 1.12, 'The number of '+str(case)+' Death toll upto 2021-04-23',\n",
    "            transform=ax.transAxes, size=24, weight=600, ha='left');\n",
    "    plt.box(False);\n",
    "    plt.tight_layout();"
   ]
  },
  {
   "cell_type": "code",
   "execution_count": null,
   "id": "7b613d6e",
   "metadata": {
    "scrolled": true
   },
   "outputs": [],
   "source": [
    "fig, ax = plt.subplots(figsize=(15, 8 ));\n",
    "animator = animation.FuncAnimation(fig, draw_barchart, frames=data['Date'].unique());\n",
    "bar_animated=HTML(animator.to_jshtml());"
   ]
  },
  {
   "cell_type": "code",
   "execution_count": null,
   "id": "4fd52945",
   "metadata": {
    "scrolled": true
   },
   "outputs": [],
   "source": [
    "bar_animated"
   ]
  },
  {
   "cell_type": "markdown",
   "id": "3f25cb8a",
   "metadata": {},
   "source": [
    "I got a lot of help from this medium story while preparing these plots. I personally want to thank him and recommend you to check this story in which the author explains these steps in much more detail. [link](https://towardsdatascience.com/spread-of-covid-19-with-interactive-data-visualization-521ac471226e)"
   ]
  },
  {
   "cell_type": "markdown",
   "id": "1ff259fb",
   "metadata": {},
   "source": [
    "Okay now I will go on with regular plots and use the main data that I will also use for regression."
   ]
  },
  {
   "cell_type": "code",
   "execution_count": 4,
   "id": "43670db7",
   "metadata": {},
   "outputs": [
    {
     "data": {
      "text/html": [
       "<div>\n",
       "<style scoped>\n",
       "    .dataframe tbody tr th:only-of-type {\n",
       "        vertical-align: middle;\n",
       "    }\n",
       "\n",
       "    .dataframe tbody tr th {\n",
       "        vertical-align: top;\n",
       "    }\n",
       "\n",
       "    .dataframe thead th {\n",
       "        text-align: right;\n",
       "    }\n",
       "</style>\n",
       "<table border=\"1\" class=\"dataframe\">\n",
       "  <thead>\n",
       "    <tr style=\"text-align: right;\">\n",
       "      <th></th>\n",
       "      <th>Country</th>\n",
       "      <th>Date</th>\n",
       "      <th>sum_Confirmed</th>\n",
       "      <th>sum_Recovered</th>\n",
       "      <th>sum_Deaths</th>\n",
       "      <th>sum_Active</th>\n",
       "      <th>Median_CaseFatalityRatio</th>\n",
       "      <th>Median_IncidenceRate</th>\n",
       "      <th>Lat</th>\n",
       "      <th>Lon</th>\n",
       "    </tr>\n",
       "  </thead>\n",
       "  <tbody>\n",
       "    <tr>\n",
       "      <th>0</th>\n",
       "      <td>United Kingdom</td>\n",
       "      <td>2020-03-23 00:00:00</td>\n",
       "      <td>6726</td>\n",
       "      <td>140</td>\n",
       "      <td>336</td>\n",
       "      <td>6250</td>\n",
       "      <td>NaN</td>\n",
       "      <td>NaN</td>\n",
       "      <td>56.4907</td>\n",
       "      <td>-4.2026</td>\n",
       "    </tr>\n",
       "    <tr>\n",
       "      <th>1</th>\n",
       "      <td>United Kingdom</td>\n",
       "      <td>2020-03-24 00:00:00</td>\n",
       "      <td>8164</td>\n",
       "      <td>140</td>\n",
       "      <td>423</td>\n",
       "      <td>7601</td>\n",
       "      <td>NaN</td>\n",
       "      <td>NaN</td>\n",
       "      <td>56.4907</td>\n",
       "      <td>-4.2026</td>\n",
       "    </tr>\n",
       "    <tr>\n",
       "      <th>2</th>\n",
       "      <td>United Kingdom</td>\n",
       "      <td>2020-03-25 00:00:00</td>\n",
       "      <td>9640</td>\n",
       "      <td>140</td>\n",
       "      <td>466</td>\n",
       "      <td>9034</td>\n",
       "      <td>NaN</td>\n",
       "      <td>NaN</td>\n",
       "      <td>56.4907</td>\n",
       "      <td>-4.2026</td>\n",
       "    </tr>\n",
       "    <tr>\n",
       "      <th>3</th>\n",
       "      <td>United Kingdom</td>\n",
       "      <td>2020-03-26 00:00:00</td>\n",
       "      <td>11812</td>\n",
       "      <td>150</td>\n",
       "      <td>580</td>\n",
       "      <td>11082</td>\n",
       "      <td>NaN</td>\n",
       "      <td>NaN</td>\n",
       "      <td>56.4907</td>\n",
       "      <td>-4.2026</td>\n",
       "    </tr>\n",
       "    <tr>\n",
       "      <th>4</th>\n",
       "      <td>United Kingdom</td>\n",
       "      <td>2020-03-27 00:00:00</td>\n",
       "      <td>14745</td>\n",
       "      <td>151</td>\n",
       "      <td>761</td>\n",
       "      <td>13833</td>\n",
       "      <td>NaN</td>\n",
       "      <td>NaN</td>\n",
       "      <td>56.4907</td>\n",
       "      <td>-4.2026</td>\n",
       "    </tr>\n",
       "  </tbody>\n",
       "</table>\n",
       "</div>"
      ],
      "text/plain": [
       "          Country                 Date  sum_Confirmed  sum_Recovered  \\\n",
       "0  United Kingdom  2020-03-23 00:00:00           6726            140   \n",
       "1  United Kingdom  2020-03-24 00:00:00           8164            140   \n",
       "2  United Kingdom  2020-03-25 00:00:00           9640            140   \n",
       "3  United Kingdom  2020-03-26 00:00:00          11812            150   \n",
       "4  United Kingdom  2020-03-27 00:00:00          14745            151   \n",
       "\n",
       "   sum_Deaths  sum_Active  Median_CaseFatalityRatio  Median_IncidenceRate  \\\n",
       "0         336        6250                       NaN                   NaN   \n",
       "1         423        7601                       NaN                   NaN   \n",
       "2         466        9034                       NaN                   NaN   \n",
       "3         580       11082                       NaN                   NaN   \n",
       "4         761       13833                       NaN                   NaN   \n",
       "\n",
       "       Lat     Lon  \n",
       "0  56.4907 -4.2026  \n",
       "1  56.4907 -4.2026  \n",
       "2  56.4907 -4.2026  \n",
       "3  56.4907 -4.2026  \n",
       "4  56.4907 -4.2026  "
      ]
     },
     "execution_count": 4,
     "metadata": {},
     "output_type": "execute_result"
    }
   ],
   "source": [
    "data=pd.read_csv(\"covidtenmost.csv\")\n",
    "data = data.rename(columns={'Sum_Confirmed': 'sum_Confirmed'})\n",
    "data.head()"
   ]
  },
  {
   "cell_type": "markdown",
   "id": "88fc4545",
   "metadata": {},
   "source": [
    "Let's use a barplot to see death toll for all the ten countries."
   ]
  },
  {
   "cell_type": "code",
   "execution_count": 6,
   "id": "af580b86",
   "metadata": {},
   "outputs": [
    {
     "data": {
      "text/plain": [
       "Text(0, 0.5, 'Country')"
      ]
     },
     "execution_count": 6,
     "metadata": {},
     "output_type": "execute_result"
    },
    {
     "data": {
      "image/png": "[encoded data removed]",
      "text/plain": [
       "<Figure size 864x432 with 1 Axes>"
      ]
     },
     "metadata": {},
     "output_type": "display_data"
    }
   ],
   "source": [
    "# This 00:00:00 is sort of irritating firstly i get rid of them. \n",
    "data['Date'] = data['Date'].str.replace(' 00:00:00','')\n",
    "\n",
    "#data['sum_Recovered']=data['sum_Recovered'].values[data['sum_Recovered'].values <=0] = 0.0000000001 # we need this for tranformation.\n",
    "\n",
    "country_list = data['Country'].unique().tolist()\n",
    "total_list = data[data['Date'].eq('2021-03-12')]['sum_Deaths'].tolist()\n",
    "plot_df = pd.DataFrame(list(zip(country_list, total_list)), \n",
    "               columns =['Country', 'sum_Death'])\n",
    "\n",
    "plot_dff=plot_df[::-1]\n",
    "fig, ax = plt.subplots(figsize=(12, 6))\n",
    "ax.barh(plot_dff['Country'], plot_dff['sum_Death'])\n",
    "plt.xlabel('Death Toll')\n",
    "plt.ylabel('Country')"
   ]
  },
  {
   "cell_type": "markdown",
   "id": "90be4704",
   "metadata": {},
   "source": [
    "The death toll in Brazil is too high compared to others. Let's also see how the Active, Confirmed and Recovered cases change between different countries."
   ]
  },
  {
   "cell_type": "code",
   "execution_count": 107,
   "id": "77d79948",
   "metadata": {},
   "outputs": [
    {
     "data": {
      "image/png": "[encoded data removed]",
      "text/plain": [
       "<Figure size 432x288 with 1 Axes>"
      ]
     },
     "metadata": {},
     "output_type": "display_data"
    }
   ],
   "source": [
    "ax = plt.axes()\n",
    "for col in data.columns:\n",
    "    if \"sum\" in col:\n",
    "        if col !=\"sum_Deaths\":\n",
    "            sns.kdeplot(data[col], shade=True,label=col)\n",
    "            \n",
    "            \n",
    "leg = plt.legend(frameon=True)\n",
    "ax.set(xlabel='Columns', \n",
    "       ylabel='Density', \n",
    "       title='Distribution');           "
   ]
  },
  {
   "cell_type": "markdown",
   "id": "8c6a8d5e",
   "metadata": {},
   "source": [
    "I wonder how to death toll changed during the pandemic. Let's create a subset of our data where we only include first day of each month and plot it to see the change in death toll."
   ]
  },
  {
   "cell_type": "code",
   "execution_count": 108,
   "id": "5ea45c47",
   "metadata": {},
   "outputs": [
    {
     "data": {
      "text/html": [
       "<div>\n",
       "<style scoped>\n",
       "    .dataframe tbody tr th:only-of-type {\n",
       "        vertical-align: middle;\n",
       "    }\n",
       "\n",
       "    .dataframe tbody tr th {\n",
       "        vertical-align: top;\n",
       "    }\n",
       "\n",
       "    .dataframe thead th {\n",
       "        text-align: right;\n",
       "    }\n",
       "</style>\n",
       "<table border=\"1\" class=\"dataframe\">\n",
       "  <thead>\n",
       "    <tr style=\"text-align: right;\">\n",
       "      <th></th>\n",
       "      <th>Country</th>\n",
       "      <th>Date</th>\n",
       "      <th>sum_Confirmed</th>\n",
       "      <th>sum_Recovered</th>\n",
       "      <th>sum_Deaths</th>\n",
       "      <th>sum_Active</th>\n",
       "      <th>Median_CaseFatalityRatio</th>\n",
       "      <th>Median_IncidenceRate</th>\n",
       "      <th>Lat</th>\n",
       "      <th>Lon</th>\n",
       "    </tr>\n",
       "  </thead>\n",
       "  <tbody>\n",
       "  </tbody>\n",
       "</table>\n",
       "</div>"
      ],
      "text/plain": [
       "Empty DataFrame\n",
       "Columns: [Country, Date, sum_Confirmed, sum_Recovered, sum_Deaths, sum_Active, Median_CaseFatalityRatio, Median_IncidenceRate, Lat, Lon]\n",
       "Index: []"
      ]
     },
     "execution_count": 108,
     "metadata": {},
     "output_type": "execute_result"
    }
   ],
   "source": [
    "data2=data.loc[data['Date'].isin([\"2020-04-01 00:00:00\",\"2020-05-01 00:00:00\",\"2020-06-01 00:00:00\",\"2020-07-01 00:00:00\",\n",
    "                            \"2020-08-01 00:00:00\",\"2020-09-01 00:00:00\",\"2020-10-01 00:00:00\",\"2020-11-01 00:00:00\"\n",
    "                           ,\"2020-12-01 00:00:00\",\"2021-01-01 00:00:00\",\"2021-02-01 00:00:00\",\"2021-03-01 00:00:00\"])]\n",
    "data2.head(5)"
   ]
  },
  {
   "cell_type": "code",
   "execution_count": 109,
   "id": "368af0a0",
   "metadata": {},
   "outputs": [
    {
     "data": {
      "image/png": "[encoded data removed]",
      "text/plain": [
       "<Figure size 432x288 with 1 Axes>"
      ]
     },
     "metadata": {},
     "output_type": "display_data"
    }
   ],
   "source": [
    "g=sns.histplot(data=data2, y=\"sum_Deaths\",x=\"Date\", hue=\"Country\")\n",
    "plt.xticks(rotation=35);"
   ]
  },
  {
   "cell_type": "markdown",
   "id": "35c8555d",
   "metadata": {},
   "source": [
    "Well we can see that the death toll rises very quickly in Brazil, whereas for some countries it reaches a plato but the plot isn't that informative. Perhaps lineplot would be a better choice to visualize for that purpose."
   ]
  },
  {
   "cell_type": "code",
   "execution_count": 110,
   "id": "62c5b8e2",
   "metadata": {},
   "outputs": [
    {
     "data": {
      "image/png": "[encoded data removed]",
      "text/plain": [
       "<Figure size 432x288 with 1 Axes>"
      ]
     },
     "metadata": {},
     "output_type": "display_data"
    }
   ],
   "source": [
    "sns.lineplot(x=\"Date\", y=\"sum_Deaths\",hue=\"Country\", marker='o',err_style='bars', data=data2)\n",
    "plt.xticks(rotation=35);"
   ]
  },
  {
   "cell_type": "markdown",
   "id": "2c875ea2",
   "metadata": {},
   "source": [
    "Voila! Lineplot looks more clear than histplot."
   ]
  },
  {
   "cell_type": "markdown",
   "id": "b67d3d5d",
   "metadata": {},
   "source": [
    "Let's use boxplot on sum_Deaths"
   ]
  },
  {
   "cell_type": "code",
   "execution_count": 111,
   "id": "5149fbf8",
   "metadata": {},
   "outputs": [
    {
     "data": {
      "text/plain": [
       "<AxesSubplot:xlabel='sum_Deaths'>"
      ]
     },
     "execution_count": 111,
     "metadata": {},
     "output_type": "execute_result"
    },
    {
     "data": {
      "image/png": "[encoded data removed]",
      "text/plain": [
       "<Figure size 432x288 with 1 Axes>"
      ]
     },
     "metadata": {},
     "output_type": "display_data"
    }
   ],
   "source": [
    "sns.boxplot(x=data['sum_Deaths'])"
   ]
  },
  {
   "cell_type": "markdown",
   "id": "9b040d7d",
   "metadata": {},
   "source": [
    "Looks like a lot of data is above interquartile range, I wonder how violinplot would look in this case."
   ]
  },
  {
   "cell_type": "code",
   "execution_count": 112,
   "id": "665e3a27",
   "metadata": {},
   "outputs": [
    {
     "data": {
      "text/plain": [
       "<AxesSubplot:xlabel='sum_Deaths'>"
      ]
     },
     "execution_count": 112,
     "metadata": {},
     "output_type": "execute_result"
    },
    {
     "data": {
      "image/png": "[encoded data removed]",
      "text/plain": [
       "<Figure size 432x288 with 1 Axes>"
      ]
     },
     "metadata": {},
     "output_type": "display_data"
    }
   ],
   "source": [
    "sns.violinplot(x=data['sum_Deaths'])"
   ]
  },
  {
   "cell_type": "markdown",
   "id": "65d4bc46",
   "metadata": {},
   "source": [
    "It gives a similar result as boxplot. We can also use these function for showing distribution of different categorical features. Let's say we'd like to see active cases for each country."
   ]
  },
  {
   "cell_type": "code",
   "execution_count": 113,
   "id": "b77e2606",
   "metadata": {},
   "outputs": [
    {
     "data": {
      "text/plain": [
       "<AxesSubplot:xlabel='Country', ylabel='sum_Active'>"
      ]
     },
     "execution_count": 113,
     "metadata": {},
     "output_type": "execute_result"
    },
    {
     "data": {
      "image/png": "[encoded data removed]",
      "text/plain": [
       "<Figure size 432x288 with 1 Axes>"
      ]
     },
     "metadata": {},
     "output_type": "display_data"
    }
   ],
   "source": [
    "sns.violinplot(y=data['sum_Active'],x=data['Country'])"
   ]
  },
  {
   "cell_type": "markdown",
   "id": "c68acea3",
   "metadata": {},
   "source": [
    "Let's also look at correlations. I will come back to this talk about correlations again in that notebook but for now let's only see which features is the most highly correlated with sum_Deaths."
   ]
  },
  {
   "cell_type": "code",
   "execution_count": 114,
   "id": "371ba212",
   "metadata": {},
   "outputs": [
    {
     "data": {
      "text/plain": [
       "sum_Deaths                  1.000000\n",
       "sum_Confirmed               0.947110\n",
       "sum_Recovered               0.874510\n",
       "sum_Active                  0.433687\n",
       "Median_IncidenceRate        0.376991\n",
       "Median_CaseFatalityRatio   -0.186322\n",
       "Lat                        -0.620235\n",
       "Lon                        -0.634062\n",
       "Name: sum_Deaths, dtype: float64"
      ]
     },
     "execution_count": 114,
     "metadata": {},
     "output_type": "execute_result"
    }
   ],
   "source": [
    "corr_matrix = data.corr()\n",
    "corr_matrix['sum_Deaths'].sort_values(ascending=False)"
   ]
  },
  {
   "cell_type": "markdown",
   "id": "35aebb90",
   "metadata": {},
   "source": [
    "Okay now let's visualize the most correlated and the least correlated features by using `jointplot()`"
   ]
  },
  {
   "cell_type": "code",
   "execution_count": 115,
   "id": "841810ca",
   "metadata": {},
   "outputs": [
    {
     "data": {
      "image/png": "[encoded data removed]",
      "text/plain": [
       "<Figure size 576x576 with 3 Axes>"
      ]
     },
     "metadata": {},
     "output_type": "display_data"
    }
   ],
   "source": [
    "sns.jointplot(x=data['sum_Confirmed'], y=data['sum_Deaths'],height=8);\n"
   ]
  },
  {
   "cell_type": "code",
   "execution_count": 116,
   "id": "f4509622",
   "metadata": {},
   "outputs": [
    {
     "data": {
      "image/png": "[encoded data removed]",
      "text/plain": [
       "<Figure size 576x576 with 3 Axes>"
      ]
     },
     "metadata": {},
     "output_type": "display_data"
    }
   ],
   "source": [
    "sns.jointplot(x=data['Median_CaseFatalityRatio'], y=data['sum_Deaths'],height=8);"
   ]
  },
  {
   "cell_type": "markdown",
   "id": "7c894399",
   "metadata": {},
   "source": [
    "Well we can see the difference clearly in the jointplot() when there is a correlation or not."
   ]
  },
  {
   "cell_type": "markdown",
   "id": "aa3e7250",
   "metadata": {},
   "source": [
    "## Regression Part"
   ]
  },
  {
   "cell_type": "markdown",
   "id": "d8c97b81",
   "metadata": {},
   "source": [
    "### Baseline Model"
   ]
  },
  {
   "cell_type": "markdown",
   "id": "b554a5a3",
   "metadata": {},
   "source": [
    "I will construct two different modals. The first one will be our baseline model and the other one will be advanced where we try minimizing our error."
   ]
  },
  {
   "cell_type": "code",
   "execution_count": 4,
   "id": "a7033af2",
   "metadata": {},
   "outputs": [
    {
     "data": {
      "text/html": [
       "<div>\n",
       "<style scoped>\n",
       "    .dataframe tbody tr th:only-of-type {\n",
       "        vertical-align: middle;\n",
       "    }\n",
       "\n",
       "    .dataframe tbody tr th {\n",
       "        vertical-align: top;\n",
       "    }\n",
       "\n",
       "    .dataframe thead th {\n",
       "        text-align: right;\n",
       "    }\n",
       "</style>\n",
       "<table border=\"1\" class=\"dataframe\">\n",
       "  <thead>\n",
       "    <tr style=\"text-align: right;\">\n",
       "      <th></th>\n",
       "      <th>sum_Confirmed</th>\n",
       "      <th>sum_Recovered</th>\n",
       "      <th>sum_Active</th>\n",
       "    </tr>\n",
       "  </thead>\n",
       "  <tbody>\n",
       "    <tr>\n",
       "      <th>0</th>\n",
       "      <td>6726</td>\n",
       "      <td>140</td>\n",
       "      <td>6250</td>\n",
       "    </tr>\n",
       "    <tr>\n",
       "      <th>1</th>\n",
       "      <td>8164</td>\n",
       "      <td>140</td>\n",
       "      <td>7601</td>\n",
       "    </tr>\n",
       "    <tr>\n",
       "      <th>2</th>\n",
       "      <td>9640</td>\n",
       "      <td>140</td>\n",
       "      <td>9034</td>\n",
       "    </tr>\n",
       "    <tr>\n",
       "      <th>3</th>\n",
       "      <td>11812</td>\n",
       "      <td>150</td>\n",
       "      <td>11082</td>\n",
       "    </tr>\n",
       "    <tr>\n",
       "      <th>4</th>\n",
       "      <td>14745</td>\n",
       "      <td>151</td>\n",
       "      <td>13833</td>\n",
       "    </tr>\n",
       "  </tbody>\n",
       "</table>\n",
       "</div>"
      ],
      "text/plain": [
       "   sum_Confirmed  sum_Recovered  sum_Active\n",
       "0           6726            140        6250\n",
       "1           8164            140        7601\n",
       "2           9640            140        9034\n",
       "3          11812            150       11082\n",
       "4          14745            151       13833"
      ]
     },
     "execution_count": 4,
     "metadata": {},
     "output_type": "execute_result"
    }
   ],
   "source": [
    "#Here i am selecting predictor features\n",
    "predictors=data.iloc[:, data.columns != 'sum_Deaths']\n",
    "predictors=predictors.iloc[:,2:5]\n",
    "predictors.head(5)"
   ]
  },
  {
   "cell_type": "code",
   "execution_count": 5,
   "id": "e5eda84a",
   "metadata": {},
   "outputs": [
    {
     "data": {
      "text/html": [
       "<div>\n",
       "<style scoped>\n",
       "    .dataframe tbody tr th:only-of-type {\n",
       "        vertical-align: middle;\n",
       "    }\n",
       "\n",
       "    .dataframe tbody tr th {\n",
       "        vertical-align: top;\n",
       "    }\n",
       "\n",
       "    .dataframe thead th {\n",
       "        text-align: right;\n",
       "    }\n",
       "</style>\n",
       "<table border=\"1\" class=\"dataframe\">\n",
       "  <thead>\n",
       "    <tr style=\"text-align: right;\">\n",
       "      <th></th>\n",
       "      <th>sum_Deaths</th>\n",
       "    </tr>\n",
       "  </thead>\n",
       "  <tbody>\n",
       "    <tr>\n",
       "      <th>0</th>\n",
       "      <td>336</td>\n",
       "    </tr>\n",
       "    <tr>\n",
       "      <th>1</th>\n",
       "      <td>423</td>\n",
       "    </tr>\n",
       "    <tr>\n",
       "      <th>2</th>\n",
       "      <td>466</td>\n",
       "    </tr>\n",
       "    <tr>\n",
       "      <th>3</th>\n",
       "      <td>580</td>\n",
       "    </tr>\n",
       "    <tr>\n",
       "      <th>4</th>\n",
       "      <td>761</td>\n",
       "    </tr>\n",
       "  </tbody>\n",
       "</table>\n",
       "</div>"
      ],
      "text/plain": [
       "   sum_Deaths\n",
       "0         336\n",
       "1         423\n",
       "2         466\n",
       "3         580\n",
       "4         761"
      ]
     },
     "execution_count": 5,
     "metadata": {},
     "output_type": "execute_result"
    }
   ],
   "source": [
    "#Selecting response variable\n",
    "response=data.iloc[:,data.columns=='sum_Deaths']\n",
    "response.head(5)"
   ]
  },
  {
   "cell_type": "code",
   "execution_count": 6,
   "id": "205f4caf",
   "metadata": {},
   "outputs": [],
   "source": [
    "predictors_training,predictors_test,response_training,response_test = train_test_split(predictors,response, \n",
    "test_size=0.3, random_state=42,shuffle=True) # Let's split our dataset"
   ]
  },
  {
   "cell_type": "code",
   "execution_count": 7,
   "id": "00009ca6",
   "metadata": {},
   "outputs": [
    {
     "data": {
      "text/plain": [
       "(904, 3)"
      ]
     },
     "execution_count": 7,
     "metadata": {},
     "output_type": "execute_result"
    }
   ],
   "source": [
    "predictors_test.shape # splitting is done"
   ]
  },
  {
   "cell_type": "code",
   "execution_count": 8,
   "id": "c66b617a",
   "metadata": {},
   "outputs": [],
   "source": [
    "predictedvalues=LinearRegression().fit(predictors_training,response_training)"
   ]
  },
  {
   "cell_type": "code",
   "execution_count": 9,
   "id": "15c2ecd4",
   "metadata": {},
   "outputs": [],
   "source": [
    "predictedtraining=predictedvalues.predict(predictors_training)\n",
    "predictedtest=predictedvalues.predict(predictors_test)\n",
    "\n",
    "#Calculating RMSE\n",
    "training_RMSE=np.sqrt(mean_squared_error(response_training, predictedtraining))\n",
    "test_RMSE=np.sqrt(mean_squared_error(response_test, predictedtest))"
   ]
  },
  {
   "cell_type": "code",
   "execution_count": 10,
   "id": "0d443f57",
   "metadata": {},
   "outputs": [
    {
     "data": {
      "text/plain": [
       "4524.845466692701"
      ]
     },
     "execution_count": 10,
     "metadata": {},
     "output_type": "execute_result"
    }
   ],
   "source": [
    "training_RMSE"
   ]
  },
  {
   "cell_type": "code",
   "execution_count": 11,
   "id": "7f83e64a",
   "metadata": {},
   "outputs": [
    {
     "data": {
      "text/plain": [
       "3604.9491556318144"
      ]
     },
     "execution_count": 11,
     "metadata": {},
     "output_type": "execute_result"
    }
   ],
   "source": [
    "test_RMSE"
   ]
  },
  {
   "cell_type": "code",
   "execution_count": 12,
   "id": "4b254510",
   "metadata": {},
   "outputs": [
    {
     "data": {
      "text/plain": [
       "[<matplotlib.lines.Line2D at 0x1e755b49550>]"
      ]
     },
     "execution_count": 12,
     "metadata": {},
     "output_type": "execute_result"
    },
    {
     "data": {
      "image/png": "[encoded data removed]",
      "text/plain": [
       "<Figure size 432x288 with 1 Axes>"
      ]
     },
     "metadata": {},
     "output_type": "display_data"
    }
   ],
   "source": [
    "plt.scatter(response_test, response_test,  color='red')\n",
    "plt.plot(predictedtest, predictedtest,'o', color='blue')"
   ]
  },
  {
   "cell_type": "markdown",
   "id": "adeaac85",
   "metadata": {},
   "source": [
    "### Real Model"
   ]
  },
  {
   "cell_type": "markdown",
   "id": "a93fd6f5",
   "metadata": {},
   "source": [
    "Okay In the my previous examples we show that we can create highly correlated new features. Let's create some.\n",
    "\n",
    "Here I will impelement another dataframe in which I include population and hospital number of the ten countries. These features are important features in a situation like pandemic. I get these data with a quick search on Google so they may not be completely true."
   ]
  },
  {
   "cell_type": "code",
   "execution_count": 7,
   "id": "8ce8c5ef",
   "metadata": {},
   "outputs": [
    {
     "data": {
      "text/html": [
       "<div>\n",
       "<style scoped>\n",
       "    .dataframe tbody tr th:only-of-type {\n",
       "        vertical-align: middle;\n",
       "    }\n",
       "\n",
       "    .dataframe tbody tr th {\n",
       "        vertical-align: top;\n",
       "    }\n",
       "\n",
       "    .dataframe thead th {\n",
       "        text-align: right;\n",
       "    }\n",
       "</style>\n",
       "<table border=\"1\" class=\"dataframe\">\n",
       "  <thead>\n",
       "    <tr style=\"text-align: right;\">\n",
       "      <th></th>\n",
       "      <th>Country</th>\n",
       "      <th>Population</th>\n",
       "      <th>Number of Hospitals</th>\n",
       "    </tr>\n",
       "  </thead>\n",
       "  <tbody>\n",
       "    <tr>\n",
       "      <th>0</th>\n",
       "      <td>United Kingdom</td>\n",
       "      <td>66727461</td>\n",
       "      <td>1257</td>\n",
       "    </tr>\n",
       "    <tr>\n",
       "      <th>1</th>\n",
       "      <td>France</td>\n",
       "      <td>64842509</td>\n",
       "      <td>3042</td>\n",
       "    </tr>\n",
       "    <tr>\n",
       "      <th>2</th>\n",
       "      <td>Spain</td>\n",
       "      <td>46647428</td>\n",
       "      <td>782</td>\n",
       "    </tr>\n",
       "    <tr>\n",
       "      <th>3</th>\n",
       "      <td>Netherlands</td>\n",
       "      <td>17021347</td>\n",
       "      <td>549</td>\n",
       "    </tr>\n",
       "    <tr>\n",
       "      <th>4</th>\n",
       "      <td>Brazil</td>\n",
       "      <td>207833823</td>\n",
       "      <td>6738</td>\n",
       "    </tr>\n",
       "    <tr>\n",
       "      <th>5</th>\n",
       "      <td>Belgium</td>\n",
       "      <td>11419748</td>\n",
       "      <td>165</td>\n",
       "    </tr>\n",
       "    <tr>\n",
       "      <th>6</th>\n",
       "      <td>Sweden</td>\n",
       "      <td>9904896</td>\n",
       "      <td>100</td>\n",
       "    </tr>\n",
       "    <tr>\n",
       "      <th>7</th>\n",
       "      <td>Serbia</td>\n",
       "      <td>8829628</td>\n",
       "      <td>350</td>\n",
       "    </tr>\n",
       "    <tr>\n",
       "      <th>8</th>\n",
       "      <td>Italy</td>\n",
       "      <td>60673701</td>\n",
       "      <td>1048</td>\n",
       "    </tr>\n",
       "    <tr>\n",
       "      <th>9</th>\n",
       "      <td>Russia</td>\n",
       "      <td>145530082</td>\n",
       "      <td>5300</td>\n",
       "    </tr>\n",
       "  </tbody>\n",
       "</table>\n",
       "</div>"
      ],
      "text/plain": [
       "          Country  Population  Number of Hospitals\n",
       "0  United Kingdom    66727461                 1257\n",
       "1          France    64842509                 3042\n",
       "2           Spain    46647428                  782\n",
       "3     Netherlands    17021347                  549\n",
       "4          Brazil   207833823                 6738\n",
       "5         Belgium    11419748                  165\n",
       "6          Sweden     9904896                  100\n",
       "7          Serbia     8829628                  350\n",
       "8           Italy    60673701                 1048\n",
       "9          Russia   145530082                 5300"
      ]
     },
     "execution_count": 7,
     "metadata": {},
     "output_type": "execute_result"
    }
   ],
   "source": [
    "\n",
    "population_list=[\"66727461\",\"64842509\",\"46647428\",\"17021347\",\"207833823\",\"11419748\",\"9904896\",\"8829628\",\"60673701\",\n",
    "                \"145530082\"]\n",
    "\n",
    "hospital_list=[\"1257\",\"3042\",\"782\",\"549\",\"6738\",\"165\",\"100\",\"350\",\"1048\",\"5300\",\n",
    "                ]\n",
    "df_population=pd.DataFrame(population_list,columns=[\"Population\"]) # Data frame of population\n",
    "df_hospital=pd.DataFrame(hospital_list,columns=[\"Number of Hospitals\"]) # Data frame of Hospitals\n",
    "df_country=pd.DataFrame(country_list,columns=[\"Country\"])\n",
    "df_GDP=pd.concat([df_country,df_population[\"Population\"].apply(pd.to_numeric,errors='coerce'),\n",
    "                  df_hospital[\"Number of Hospitals\"].apply(pd.to_numeric,errors='coerce')],axis = 1) # joining data frames\n",
    "df_GDP"
   ]
  },
  {
   "cell_type": "code",
   "execution_count": 8,
   "id": "e08a22e4",
   "metadata": {},
   "outputs": [],
   "source": [
    "data_final = data.merge(df_GDP, how='left', on = 'Country')"
   ]
  },
  {
   "cell_type": "code",
   "execution_count": 9,
   "id": "283a9af7",
   "metadata": {},
   "outputs": [
    {
     "data": {
      "text/html": [
       "<div>\n",
       "<style scoped>\n",
       "    .dataframe tbody tr th:only-of-type {\n",
       "        vertical-align: middle;\n",
       "    }\n",
       "\n",
       "    .dataframe tbody tr th {\n",
       "        vertical-align: top;\n",
       "    }\n",
       "\n",
       "    .dataframe thead th {\n",
       "        text-align: right;\n",
       "    }\n",
       "</style>\n",
       "<table border=\"1\" class=\"dataframe\">\n",
       "  <thead>\n",
       "    <tr style=\"text-align: right;\">\n",
       "      <th></th>\n",
       "      <th>Country</th>\n",
       "      <th>Date</th>\n",
       "      <th>sum_Confirmed</th>\n",
       "      <th>sum_Recovered</th>\n",
       "      <th>sum_Deaths</th>\n",
       "      <th>sum_Active</th>\n",
       "      <th>Median_CaseFatalityRatio</th>\n",
       "      <th>Median_IncidenceRate</th>\n",
       "      <th>Lat</th>\n",
       "      <th>Lon</th>\n",
       "      <th>Population</th>\n",
       "      <th>Number of Hospitals</th>\n",
       "    </tr>\n",
       "  </thead>\n",
       "  <tbody>\n",
       "    <tr>\n",
       "      <th>0</th>\n",
       "      <td>United Kingdom</td>\n",
       "      <td>2020-03-23</td>\n",
       "      <td>6726</td>\n",
       "      <td>140</td>\n",
       "      <td>336</td>\n",
       "      <td>6250</td>\n",
       "      <td>NaN</td>\n",
       "      <td>NaN</td>\n",
       "      <td>56.490700</td>\n",
       "      <td>-4.202600</td>\n",
       "      <td>66727461</td>\n",
       "      <td>1257</td>\n",
       "    </tr>\n",
       "    <tr>\n",
       "      <th>1</th>\n",
       "      <td>United Kingdom</td>\n",
       "      <td>2020-03-24</td>\n",
       "      <td>8164</td>\n",
       "      <td>140</td>\n",
       "      <td>423</td>\n",
       "      <td>7601</td>\n",
       "      <td>NaN</td>\n",
       "      <td>NaN</td>\n",
       "      <td>56.490700</td>\n",
       "      <td>-4.202600</td>\n",
       "      <td>66727461</td>\n",
       "      <td>1257</td>\n",
       "    </tr>\n",
       "    <tr>\n",
       "      <th>2</th>\n",
       "      <td>United Kingdom</td>\n",
       "      <td>2020-03-25</td>\n",
       "      <td>9640</td>\n",
       "      <td>140</td>\n",
       "      <td>466</td>\n",
       "      <td>9034</td>\n",
       "      <td>NaN</td>\n",
       "      <td>NaN</td>\n",
       "      <td>56.490700</td>\n",
       "      <td>-4.202600</td>\n",
       "      <td>66727461</td>\n",
       "      <td>1257</td>\n",
       "    </tr>\n",
       "    <tr>\n",
       "      <th>3</th>\n",
       "      <td>United Kingdom</td>\n",
       "      <td>2020-03-26</td>\n",
       "      <td>11812</td>\n",
       "      <td>150</td>\n",
       "      <td>580</td>\n",
       "      <td>11082</td>\n",
       "      <td>NaN</td>\n",
       "      <td>NaN</td>\n",
       "      <td>56.490700</td>\n",
       "      <td>-4.202600</td>\n",
       "      <td>66727461</td>\n",
       "      <td>1257</td>\n",
       "    </tr>\n",
       "    <tr>\n",
       "      <th>4</th>\n",
       "      <td>United Kingdom</td>\n",
       "      <td>2020-03-27</td>\n",
       "      <td>14745</td>\n",
       "      <td>151</td>\n",
       "      <td>761</td>\n",
       "      <td>13833</td>\n",
       "      <td>NaN</td>\n",
       "      <td>NaN</td>\n",
       "      <td>56.490700</td>\n",
       "      <td>-4.202600</td>\n",
       "      <td>66727461</td>\n",
       "      <td>1257</td>\n",
       "    </tr>\n",
       "    <tr>\n",
       "      <th>...</th>\n",
       "      <td>...</td>\n",
       "      <td>...</td>\n",
       "      <td>...</td>\n",
       "      <td>...</td>\n",
       "      <td>...</td>\n",
       "      <td>...</td>\n",
       "      <td>...</td>\n",
       "      <td>...</td>\n",
       "      <td>...</td>\n",
       "      <td>...</td>\n",
       "      <td>...</td>\n",
       "      <td>...</td>\n",
       "    </tr>\n",
       "    <tr>\n",
       "      <th>3006</th>\n",
       "      <td>Russia</td>\n",
       "      <td>2021-03-09</td>\n",
       "      <td>4284408</td>\n",
       "      <td>3878189</td>\n",
       "      <td>87985</td>\n",
       "      <td>318234</td>\n",
       "      <td>1.594498</td>\n",
       "      <td>2711.950481</td>\n",
       "      <td>52.968543</td>\n",
       "      <td>36.069248</td>\n",
       "      <td>145530082</td>\n",
       "      <td>5300</td>\n",
       "    </tr>\n",
       "    <tr>\n",
       "      <th>3007</th>\n",
       "      <td>Russia</td>\n",
       "      <td>2021-03-10</td>\n",
       "      <td>4293750</td>\n",
       "      <td>3888071</td>\n",
       "      <td>88315</td>\n",
       "      <td>317364</td>\n",
       "      <td>1.598784</td>\n",
       "      <td>2722.076093</td>\n",
       "      <td>52.968543</td>\n",
       "      <td>36.069248</td>\n",
       "      <td>145530082</td>\n",
       "      <td>5300</td>\n",
       "    </tr>\n",
       "    <tr>\n",
       "      <th>3008</th>\n",
       "      <td>Russia</td>\n",
       "      <td>2021-03-11</td>\n",
       "      <td>4302726</td>\n",
       "      <td>3901134</td>\n",
       "      <td>88773</td>\n",
       "      <td>312819</td>\n",
       "      <td>1.603109</td>\n",
       "      <td>2732.123816</td>\n",
       "      <td>52.968543</td>\n",
       "      <td>36.069248</td>\n",
       "      <td>145530082</td>\n",
       "      <td>5300</td>\n",
       "    </tr>\n",
       "    <tr>\n",
       "      <th>3009</th>\n",
       "      <td>Russia</td>\n",
       "      <td>2021-03-12</td>\n",
       "      <td>4311893</td>\n",
       "      <td>3914866</td>\n",
       "      <td>89224</td>\n",
       "      <td>307803</td>\n",
       "      <td>1.607376</td>\n",
       "      <td>2741.937871</td>\n",
       "      <td>52.968543</td>\n",
       "      <td>36.069248</td>\n",
       "      <td>145530082</td>\n",
       "      <td>5300</td>\n",
       "    </tr>\n",
       "    <tr>\n",
       "      <th>3010</th>\n",
       "      <td>Russia</td>\n",
       "      <td>NaT</td>\n",
       "      <td>19623</td>\n",
       "      <td>1169</td>\n",
       "      <td>142</td>\n",
       "      <td>18312</td>\n",
       "      <td>NaN</td>\n",
       "      <td>NaN</td>\n",
       "      <td>52.968543</td>\n",
       "      <td>36.069248</td>\n",
       "      <td>145530082</td>\n",
       "      <td>5300</td>\n",
       "    </tr>\n",
       "  </tbody>\n",
       "</table>\n",
       "<p>3011 rows × 12 columns</p>\n",
       "</div>"
      ],
      "text/plain": [
       "             Country        Date  sum_Confirmed  sum_Recovered  sum_Deaths  \\\n",
       "0     United Kingdom  2020-03-23           6726            140         336   \n",
       "1     United Kingdom  2020-03-24           8164            140         423   \n",
       "2     United Kingdom  2020-03-25           9640            140         466   \n",
       "3     United Kingdom  2020-03-26          11812            150         580   \n",
       "4     United Kingdom  2020-03-27          14745            151         761   \n",
       "...              ...         ...            ...            ...         ...   \n",
       "3006          Russia  2021-03-09        4284408        3878189       87985   \n",
       "3007          Russia  2021-03-10        4293750        3888071       88315   \n",
       "3008          Russia  2021-03-11        4302726        3901134       88773   \n",
       "3009          Russia  2021-03-12        4311893        3914866       89224   \n",
       "3010          Russia         NaT          19623           1169         142   \n",
       "\n",
       "      sum_Active  Median_CaseFatalityRatio  Median_IncidenceRate        Lat  \\\n",
       "0           6250                       NaN                   NaN  56.490700   \n",
       "1           7601                       NaN                   NaN  56.490700   \n",
       "2           9034                       NaN                   NaN  56.490700   \n",
       "3          11082                       NaN                   NaN  56.490700   \n",
       "4          13833                       NaN                   NaN  56.490700   \n",
       "...          ...                       ...                   ...        ...   \n",
       "3006      318234                  1.594498           2711.950481  52.968543   \n",
       "3007      317364                  1.598784           2722.076093  52.968543   \n",
       "3008      312819                  1.603109           2732.123816  52.968543   \n",
       "3009      307803                  1.607376           2741.937871  52.968543   \n",
       "3010       18312                       NaN                   NaN  52.968543   \n",
       "\n",
       "            Lon  Population  Number of Hospitals  \n",
       "0     -4.202600    66727461                 1257  \n",
       "1     -4.202600    66727461                 1257  \n",
       "2     -4.202600    66727461                 1257  \n",
       "3     -4.202600    66727461                 1257  \n",
       "4     -4.202600    66727461                 1257  \n",
       "...         ...         ...                  ...  \n",
       "3006  36.069248   145530082                 5300  \n",
       "3007  36.069248   145530082                 5300  \n",
       "3008  36.069248   145530082                 5300  \n",
       "3009  36.069248   145530082                 5300  \n",
       "3010  36.069248   145530082                 5300  \n",
       "\n",
       "[3011 rows x 12 columns]"
      ]
     },
     "execution_count": 9,
     "metadata": {},
     "output_type": "execute_result"
    }
   ],
   "source": [
    "data_final"
   ]
  },
  {
   "cell_type": "markdown",
   "id": "588004eb",
   "metadata": {},
   "source": [
    "Okay now let's derive some new features"
   ]
  },
  {
   "cell_type": "code",
   "execution_count": 10,
   "id": "119b6733",
   "metadata": {},
   "outputs": [],
   "source": [
    "data_final[\"hospitalcapacity\"]=data_final[\"Number of Hospitals\"]/(data_final[\"sum_Active\"]+data_final[\"sum_Confirmed\"])\n",
    "data_final[\"percentageinfected\"]=data_final[\"Population\"]/(data_final[\"sum_Confirmed\"]+data_final[\"sum_Active\"])\n",
    "data_final[\"deathintensity\"]=(data_final[\"sum_Active\"]+data_final[\"sum_Confirmed\"])/(data_final[\"sum_Deaths\"])\n",
    "data_final[\"death2recovered\"]=data_final[\"sum_Deaths\"]/data_final[\"sum_Recovered\"]"
   ]
  },
  {
   "cell_type": "markdown",
   "id": "ddfcd861",
   "metadata": {},
   "source": [
    "let's look out correlations"
   ]
  },
  {
   "cell_type": "code",
   "execution_count": 11,
   "id": "9bdc367e",
   "metadata": {},
   "outputs": [
    {
     "data": {
      "text/plain": [
       "sum_Deaths                  1.000000\n",
       "sum_Confirmed               0.947110\n",
       "sum_Recovered               0.874510\n",
       "Population                  0.616926\n",
       "Number of Hospitals         0.540727\n",
       "sum_Active                  0.433687\n",
       "Median_IncidenceRate        0.376991\n",
       "hospitalcapacity           -0.064286\n",
       "percentageinfected         -0.067266\n",
       "death2recovered            -0.105564\n",
       "deathintensity             -0.132586\n",
       "Median_CaseFatalityRatio   -0.186322\n",
       "Lat                        -0.620235\n",
       "Lon                        -0.634062\n",
       "Name: sum_Deaths, dtype: float64"
      ]
     },
     "execution_count": 11,
     "metadata": {},
     "output_type": "execute_result"
    }
   ],
   "source": [
    "data_final = data_final.corr()\n",
    "data_final[\"sum_Deaths\"].sort_values(ascending=False)"
   ]
  },
  {
   "cell_type": "markdown",
   "id": "2f27702d",
   "metadata": {},
   "source": [
    "Well looks like new features aren't that correlated with death toll. However, I will use some of them in my regression model. In the next steps I don't want to deal with all these new feature adding stuffs. That's why I will create my own transformer which merges the two dataframe and generates the features. "
   ]
  },
  {
   "cell_type": "code",
   "execution_count": 12,
   "id": "bd4f4604",
   "metadata": {},
   "outputs": [],
   "source": [
    "from sklearn.base import BaseEstimator, TransformerMixin\n",
    "\n",
    "class CombinedAttributesAdder(BaseEstimator, TransformerMixin):\n",
    "    sumdeath=True\n",
    "    def __init__(self,sumdeath=True): # no *args or **kargs\n",
    "        self.X=0\n",
    "        if(sumdeath==True):\n",
    "            self.deaths=data['sum_Deaths']\n",
    "    def fit(self, X, y=None): \n",
    "\n",
    "        return self  \n",
    "    def transform(self, X):\n",
    "        if('Date' in X):\n",
    "            X= X.drop(['Date','Median_CaseFatalityRatio','Lat','Lon'],axis=1) # Dropping unrelevant features\n",
    "            X = X.merge(df_GDP, how='left', on = 'Country')# Merging two datafranes\n",
    "            X=pd.DataFrame(X,\n",
    "                 columns=[\"Country\", \"sum_Confirmed\",\"sum_Recovered\",\"sum_Deaths\",\"sum_Active\",\"Median_IncidenceRate\",\n",
    "                \"Population\",\"Number of Hospitals\"]) # Setting column names\n",
    "            \n",
    "        col_names = \"Number of Hospitals\", \"sum_Active\", \"sum_Confirmed\", \"sum_Recovered\",\"Population\"\n",
    "        hospital_ix, active_ix, confirmed_ix, recovered_ix, population_ix = [X.columns.get_loc(c) for c in col_names] # get the column index\n",
    "        \n",
    "        #creating new features\n",
    "        hospitalcapacity = X.iloc[:,hospital_ix].values / (X.iloc[:,active_ix].values+X.iloc[:,confirmed_ix].values)\n",
    "        percentageinfected = X.iloc[:,population_ix].values / (X.iloc[:,active_ix].values+X.iloc[:,confirmed_ix].values)\n",
    "        X.iloc[:,recovered_ix]=X.iloc[:,recovered_ix].mask(X.iloc[:,recovered_ix] == 0).ffill()\n",
    "        deathintensity = (X.iloc[:,active_ix].values + X.iloc[:,confirmed_ix].values) / X.iloc[:,recovered_ix].values\n",
    "        death2recovered = self.deaths / X.iloc[:,recovered_ix].values\n",
    "        \n",
    "        #adding new features to our dataframe\n",
    "        extra_attribs= np.c_[X, hospitalcapacity, percentageinfected,deathintensity,death2recovered]\n",
    "        extra_attribs = pd.DataFrame(\n",
    "        extra_attribs,\n",
    "        columns=list(X.columns)+[\"Hospital_Capacity\", \"Infected_Population\",\"Death_intensity\",\"Death2recovered\"],\n",
    "        index=X.index)\n",
    "        return extra_attribs    \n",
    "        \n",
    "\n",
    "feature_adder = CombinedAttributesAdder()\n",
    "data2=feature_adder.transform(data)"
   ]
  },
  {
   "cell_type": "markdown",
   "id": "5b483a8c",
   "metadata": {},
   "source": [
    "Now I will introduce some new functions but before that I need to split my categorical and numeric features."
   ]
  },
  {
   "cell_type": "code",
   "execution_count": 14,
   "id": "5d6ea87f",
   "metadata": {},
   "outputs": [],
   "source": [
    "target=data2['sum_Deaths'] # target for regression.\n",
    "data3=data2.loc[:,['Country','sum_Confirmed','sum_Recovered',\n",
    "                   'sum_Active','Median_IncidenceRate','Population','Number of Hospitals']] # some part of our that\n",
    "\n",
    "num_data=data2.loc[:,['sum_Confirmed','sum_Recovered','sum_Active',\n",
    "                      'Median_IncidenceRate','Population','Number of Hospitals']] #numerical columns\n",
    "cat_data=data2['Country']# categorical columns"
   ]
  },
  {
   "cell_type": "markdown",
   "id": "b5e65dfa",
   "metadata": {},
   "source": [
    "For numerical columns I will use the pipeline below."
   ]
  },
  {
   "cell_type": "code",
   "execution_count": 15,
   "id": "f242e6b8",
   "metadata": {},
   "outputs": [],
   "source": [
    "num_pipeline = Pipeline([\n",
    "        ('attribs_adder', CombinedAttributesAdder(sumdeath=True)),\n",
    "        ('imputer', SimpleImputer(strategy=\"median\")),\n",
    "        ('std_scaler', StandardScaler()),\n",
    "        ('polynomial_features',PolynomialFeatures(degree=2)),\n",
    "        \n",
    "    ])\n",
    "\n",
    "covid_num_tr = num_pipeline.fit_transform(num_data)"
   ]
  },
  {
   "cell_type": "code",
   "execution_count": 16,
   "id": "60c09217",
   "metadata": {},
   "outputs": [
    {
     "data": {
      "text/plain": [
       "array([[ 1.00000000e+00, -5.75634474e-01, -3.67306872e-01, ...,\n",
       "         2.65045211e-03,  9.89839404e-03,  3.69666006e-02],\n",
       "       [ 1.00000000e+00, -5.74724378e-01, -3.67306872e-01, ...,\n",
       "         4.91961165e-04, -2.90253271e-03,  1.71247179e-02],\n",
       "       [ 1.00000000e+00, -5.73790232e-01, -3.67306872e-01, ...,\n",
       "         9.80344799e-03, -9.95188821e-03,  1.01025761e-02],\n",
       "       ...,\n",
       "       [ 1.00000000e+00,  2.14326115e+00,  2.52378168e+00, ...,\n",
       "         1.51966113e-01,  1.66523324e-01,  1.82475006e-01],\n",
       "       [ 1.00000000e+00,  2.14906285e+00,  2.53395868e+00, ...,\n",
       "         1.51975020e-01,  1.66526841e-01,  1.82472019e-01],\n",
       "       [ 1.00000000e+00, -5.67472091e-01, -3.66544264e-01, ...,\n",
       "         7.51916391e-02,  1.14460168e-01,  1.74236526e-01]])"
      ]
     },
     "execution_count": 16,
     "metadata": {},
     "output_type": "execute_result"
    }
   ],
   "source": [
    "covid_num_tr"
   ]
  },
  {
   "cell_type": "markdown",
   "id": "3cd68a48",
   "metadata": {},
   "source": [
    "Now I will use `ColumnTransformer()` function to combine my pipeline with one hot encoding. By using columntransformer I will seperate which tasks to do for numerical features and which tasks to do for categorical features."
   ]
  },
  {
   "cell_type": "code",
   "execution_count": 17,
   "id": "7750a14d",
   "metadata": {},
   "outputs": [
    {
     "data": {
      "text/plain": [
       "['sum_Confirmed',\n",
       " 'sum_Recovered',\n",
       " 'sum_Active',\n",
       " 'Median_IncidenceRate',\n",
       " 'Population',\n",
       " 'Number of Hospitals']"
      ]
     },
     "execution_count": 17,
     "metadata": {},
     "output_type": "execute_result"
    }
   ],
   "source": [
    "list(num_data)"
   ]
  },
  {
   "cell_type": "code",
   "execution_count": 19,
   "id": "8e8edb5e",
   "metadata": {},
   "outputs": [],
   "source": [
    "from sklearn.compose import ColumnTransformer\n",
    "num_attribs = list(num_data)\n",
    "cat_attribs = ['Country']\n",
    "num_data\n",
    "\n",
    "\n",
    "full_pipeline = ColumnTransformer([\n",
    "        (\"num\", num_pipeline, num_attribs),\n",
    "        (\"cat\", OneHotEncoder(), cat_attribs),\n",
    "    ])\n",
    "\n",
    "covid_prepared = full_pipeline.fit_transform(data3)"
   ]
  },
  {
   "cell_type": "code",
   "execution_count": 23,
   "id": "628f3e98",
   "metadata": {},
   "outputs": [
    {
     "data": {
      "text/html": [
       "<div>\n",
       "<style scoped>\n",
       "    .dataframe tbody tr th:only-of-type {\n",
       "        vertical-align: middle;\n",
       "    }\n",
       "\n",
       "    .dataframe tbody tr th {\n",
       "        vertical-align: top;\n",
       "    }\n",
       "\n",
       "    .dataframe thead th {\n",
       "        text-align: right;\n",
       "    }\n",
       "</style>\n",
       "<table border=\"1\" class=\"dataframe\">\n",
       "  <thead>\n",
       "    <tr style=\"text-align: right;\">\n",
       "      <th></th>\n",
       "      <th>Country</th>\n",
       "      <th>sum_Confirmed</th>\n",
       "      <th>sum_Recovered</th>\n",
       "      <th>sum_Active</th>\n",
       "      <th>Median_IncidenceRate</th>\n",
       "      <th>Population</th>\n",
       "      <th>Number of Hospitals</th>\n",
       "    </tr>\n",
       "  </thead>\n",
       "  <tbody>\n",
       "    <tr>\n",
       "      <th>0</th>\n",
       "      <td>United Kingdom</td>\n",
       "      <td>6726</td>\n",
       "      <td>140.0</td>\n",
       "      <td>6250</td>\n",
       "      <td>NaN</td>\n",
       "      <td>66727461</td>\n",
       "      <td>1257</td>\n",
       "    </tr>\n",
       "    <tr>\n",
       "      <th>1</th>\n",
       "      <td>United Kingdom</td>\n",
       "      <td>8164</td>\n",
       "      <td>140.0</td>\n",
       "      <td>7601</td>\n",
       "      <td>NaN</td>\n",
       "      <td>66727461</td>\n",
       "      <td>1257</td>\n",
       "    </tr>\n",
       "    <tr>\n",
       "      <th>2</th>\n",
       "      <td>United Kingdom</td>\n",
       "      <td>9640</td>\n",
       "      <td>140.0</td>\n",
       "      <td>9034</td>\n",
       "      <td>NaN</td>\n",
       "      <td>66727461</td>\n",
       "      <td>1257</td>\n",
       "    </tr>\n",
       "    <tr>\n",
       "      <th>3</th>\n",
       "      <td>United Kingdom</td>\n",
       "      <td>11812</td>\n",
       "      <td>150.0</td>\n",
       "      <td>11082</td>\n",
       "      <td>NaN</td>\n",
       "      <td>66727461</td>\n",
       "      <td>1257</td>\n",
       "    </tr>\n",
       "    <tr>\n",
       "      <th>4</th>\n",
       "      <td>United Kingdom</td>\n",
       "      <td>14745</td>\n",
       "      <td>151.0</td>\n",
       "      <td>13833</td>\n",
       "      <td>NaN</td>\n",
       "      <td>66727461</td>\n",
       "      <td>1257</td>\n",
       "    </tr>\n",
       "    <tr>\n",
       "      <th>...</th>\n",
       "      <td>...</td>\n",
       "      <td>...</td>\n",
       "      <td>...</td>\n",
       "      <td>...</td>\n",
       "      <td>...</td>\n",
       "      <td>...</td>\n",
       "      <td>...</td>\n",
       "    </tr>\n",
       "    <tr>\n",
       "      <th>3006</th>\n",
       "      <td>Russia</td>\n",
       "      <td>4284408</td>\n",
       "      <td>3878189.0</td>\n",
       "      <td>318234</td>\n",
       "      <td>2711.950481</td>\n",
       "      <td>145530082</td>\n",
       "      <td>5300</td>\n",
       "    </tr>\n",
       "    <tr>\n",
       "      <th>3007</th>\n",
       "      <td>Russia</td>\n",
       "      <td>4293750</td>\n",
       "      <td>3888071.0</td>\n",
       "      <td>317364</td>\n",
       "      <td>2722.076093</td>\n",
       "      <td>145530082</td>\n",
       "      <td>5300</td>\n",
       "    </tr>\n",
       "    <tr>\n",
       "      <th>3008</th>\n",
       "      <td>Russia</td>\n",
       "      <td>4302726</td>\n",
       "      <td>3901134.0</td>\n",
       "      <td>312819</td>\n",
       "      <td>2732.123816</td>\n",
       "      <td>145530082</td>\n",
       "      <td>5300</td>\n",
       "    </tr>\n",
       "    <tr>\n",
       "      <th>3009</th>\n",
       "      <td>Russia</td>\n",
       "      <td>4311893</td>\n",
       "      <td>3914866.0</td>\n",
       "      <td>307803</td>\n",
       "      <td>2741.937871</td>\n",
       "      <td>145530082</td>\n",
       "      <td>5300</td>\n",
       "    </tr>\n",
       "    <tr>\n",
       "      <th>3010</th>\n",
       "      <td>Russia</td>\n",
       "      <td>19623</td>\n",
       "      <td>1169.0</td>\n",
       "      <td>18312</td>\n",
       "      <td>NaN</td>\n",
       "      <td>145530082</td>\n",
       "      <td>5300</td>\n",
       "    </tr>\n",
       "  </tbody>\n",
       "</table>\n",
       "<p>3011 rows × 7 columns</p>\n",
       "</div>"
      ],
      "text/plain": [
       "             Country sum_Confirmed sum_Recovered sum_Active  \\\n",
       "0     United Kingdom          6726         140.0       6250   \n",
       "1     United Kingdom          8164         140.0       7601   \n",
       "2     United Kingdom          9640         140.0       9034   \n",
       "3     United Kingdom         11812         150.0      11082   \n",
       "4     United Kingdom         14745         151.0      13833   \n",
       "...              ...           ...           ...        ...   \n",
       "3006          Russia       4284408     3878189.0     318234   \n",
       "3007          Russia       4293750     3888071.0     317364   \n",
       "3008          Russia       4302726     3901134.0     312819   \n",
       "3009          Russia       4311893     3914866.0     307803   \n",
       "3010          Russia         19623        1169.0      18312   \n",
       "\n",
       "     Median_IncidenceRate Population Number of Hospitals  \n",
       "0                     NaN   66727461                1257  \n",
       "1                     NaN   66727461                1257  \n",
       "2                     NaN   66727461                1257  \n",
       "3                     NaN   66727461                1257  \n",
       "4                     NaN   66727461                1257  \n",
       "...                   ...        ...                 ...  \n",
       "3006          2711.950481  145530082                5300  \n",
       "3007          2722.076093  145530082                5300  \n",
       "3008          2732.123816  145530082                5300  \n",
       "3009          2741.937871  145530082                5300  \n",
       "3010                  NaN  145530082                5300  \n",
       "\n",
       "[3011 rows x 7 columns]"
      ]
     },
     "execution_count": 23,
     "metadata": {},
     "output_type": "execute_result"
    }
   ],
   "source": [
    "data3"
   ]
  },
  {
   "cell_type": "code",
   "execution_count": 24,
   "id": "6a03e458",
   "metadata": {},
   "outputs": [
    {
     "data": {
      "text/plain": [
       "(3011, 76)"
      ]
     },
     "execution_count": 24,
     "metadata": {},
     "output_type": "execute_result"
    }
   ],
   "source": [
    "covid_prepared.shape"
   ]
  },
  {
   "cell_type": "markdown",
   "id": "7b126ff7",
   "metadata": {},
   "source": [
    "I do recommend checking out documentation of both `Pipeline()` and `ColumnTransformer()` because there are some other extra properties of these function which are very helpful. For instance, you can omit some columns to transform by passing  `passthrough` parameter."
   ]
  },
  {
   "cell_type": "code",
   "execution_count": 25,
   "id": "42db3b20",
   "metadata": {},
   "outputs": [],
   "source": [
    "X_train, X_test, y_train, y_test = train_test_split(covid_prepared, target, test_size=0.3, random_state=42,shuffle=True)"
   ]
  },
  {
   "cell_type": "code",
   "execution_count": 26,
   "id": "62cb8847",
   "metadata": {},
   "outputs": [],
   "source": [
    "kf = KFold(shuffle=True, random_state=42, n_splits=10)"
   ]
  },
  {
   "cell_type": "markdown",
   "id": "f4ccc00c",
   "metadata": {},
   "source": [
    "Which parameters we can optimize by using GridSearchCV ? Let's look at which ones we can use for ridge regression."
   ]
  },
  {
   "cell_type": "code",
   "execution_count": 27,
   "id": "181ca456",
   "metadata": {},
   "outputs": [
    {
     "data": {
      "text/plain": [
       "dict_keys(['alpha', 'copy_X', 'fit_intercept', 'max_iter', 'normalize', 'positive', 'random_state', 'solver', 'tol'])"
      ]
     },
     "execution_count": 27,
     "metadata": {},
     "output_type": "execute_result"
    }
   ],
   "source": [
    "Ridge().get_params().keys()"
   ]
  },
  {
   "cell_type": "markdown",
   "id": "62506f91",
   "metadata": {},
   "source": [
    "Okay now I will select the parameters that I will use for optimization."
   ]
  },
  {
   "cell_type": "code",
   "execution_count": 28,
   "id": "8baa5047",
   "metadata": {},
   "outputs": [],
   "source": [
    "from sklearn.model_selection import GridSearchCV\n",
    "\n",
    "params = {\n",
    "    'alpha': np.geomspace(1e-9, 1e1, num=10),\n",
    "    'fit_intercept': (True, False),\n",
    "    'warm_start':(True,False)\n",
    "}\n",
    "params2 = {\n",
    "    'alpha': np.geomspace(1e-9, 1e1, num=10),\n",
    "    'solver': ('svd', 'cholesky', 'lsqr', 'sparse_cg', 'sag', 'saga'),\n",
    "    'fit_intercept': (True, False),\n",
    "}\n",
    "params3 = {\n",
    "    \"l1_ratio\": np.linspace(0.1, 0.9, 9),\n",
    "    \"alpha\": np.geomspace(1e-9, 1e1, num=10),\n",
    "    \"warm_start\" :(True,False),\n",
    "    \"fit_intercept\": (True, False),  \n",
    "}\n"
   ]
  },
  {
   "cell_type": "code",
   "execution_count": 23,
   "id": "df9aa335",
   "metadata": {},
   "outputs": [
    {
     "name": "stdout",
     "output_type": "stream",
     "text": [
      "Fitting 10 folds for each of 40 candidates, totalling 400 fits\n",
      "Fitting 10 folds for each of 120 candidates, totalling 1200 fits\n",
      "Fitting 10 folds for each of 360 candidates, totalling 3600 fits\n"
     ]
    }
   ],
   "source": [
    "from sklearn.linear_model import ElasticNet\n",
    "lasso = Lasso(max_iter=300)\n",
    "ridge=Ridge(max_iter=300)\n",
    "elasticnet=ElasticNet(max_iter=300)\n",
    "models = {'Lasso': GridSearchCV(lasso, params, scoring='neg_mean_squared_error',verbose=1,return_train_score=True, cv=kf).fit(X_train, y_train),\n",
    "          'Ridge': GridSearchCV(ridge, params2, scoring='neg_mean_squared_error',verbose=1, return_train_score=True,cv=kf).fit(X_train, y_train),\n",
    "          'Elastic_Net':GridSearchCV(elasticnet, params3, scoring='neg_mean_squared_error',verbose=1,return_train_score=True, cv=kf).fit(X_train, y_train)}"
   ]
  },
  {
   "cell_type": "code",
   "execution_count": 25,
   "id": "5edb5ecd",
   "metadata": {},
   "outputs": [
    {
     "data": {
      "text/html": [
       "<div>\n",
       "<style scoped>\n",
       "    .dataframe tbody tr th:only-of-type {\n",
       "        vertical-align: middle;\n",
       "    }\n",
       "\n",
       "    .dataframe tbody tr th {\n",
       "        vertical-align: top;\n",
       "    }\n",
       "\n",
       "    .dataframe thead th {\n",
       "        text-align: right;\n",
       "    }\n",
       "</style>\n",
       "<table border=\"1\" class=\"dataframe\">\n",
       "  <thead>\n",
       "    <tr style=\"text-align: right;\">\n",
       "      <th></th>\n",
       "      <th>RMSE</th>\n",
       "      <th>RSquared</th>\n",
       "    </tr>\n",
       "  </thead>\n",
       "  <tbody>\n",
       "    <tr>\n",
       "      <th>Ridge</th>\n",
       "      <td>1.967996e-01</td>\n",
       "      <td>1.000000</td>\n",
       "    </tr>\n",
       "    <tr>\n",
       "      <th>Lasso</th>\n",
       "      <td>5.354136e+07</td>\n",
       "      <td>0.966474</td>\n",
       "    </tr>\n",
       "    <tr>\n",
       "      <th>ElasticNet</th>\n",
       "      <td>3.954766e+07</td>\n",
       "      <td>0.975236</td>\n",
       "    </tr>\n",
       "  </tbody>\n",
       "</table>\n",
       "</div>"
      ],
      "text/plain": [
       "                    RMSE  RSquared\n",
       "Ridge       1.967996e-01  1.000000\n",
       "Lasso       5.354136e+07  0.966474\n",
       "ElasticNet  3.954766e+07  0.975236"
      ]
     },
     "execution_count": 25,
     "metadata": {},
     "output_type": "execute_result"
    }
   ],
   "source": [
    "rmse_vals = [mean_squared_error(y_test,models['Ridge'].predict(X_test)), mean_squared_error(y_test,models['Lasso'].predict(X_test)), mean_squared_error(y_test,models['Elastic_Net'].predict(X_test))]\n",
    "rsquared_vals = [r2_score(y_test,models['Ridge'].predict(X_test)),r2_score(y_test,models['Lasso'].predict(X_test)),r2_score(y_test,models['Elastic_Net'].predict(X_test))]\n",
    "\n",
    "labels = ['Ridge', 'Lasso', 'ElasticNet']\n",
    "columns=['MSE','RSquared']\n",
    "\n",
    "df =pd.DataFrame([rmse_vals, rsquared_vals])\n",
    "df=df.T\n",
    "df.rename(columns={0:'RMSE',1:'RSquared'}, index={0:'Ridge',1:'Lasso',2: 'ElasticNet'}, inplace=True)\n",
    "df"
   ]
  },
  {
   "cell_type": "code",
   "execution_count": 143,
   "id": "f8f97545",
   "metadata": {},
   "outputs": [
    {
     "data": {
      "text/plain": [
       "0.1967996484332777"
      ]
     },
     "execution_count": 143,
     "metadata": {},
     "output_type": "execute_result"
    }
   ],
   "source": [
    "mean_squared_error(y_test,models['Ridge'].predict(X_test))"
   ]
  },
  {
   "cell_type": "markdown",
   "id": "78872bab",
   "metadata": {},
   "source": [
    "We can see the Ridge Regression performs very well on the data whereas, the two other model aren't that good. By using cv_retults_ we can get see metrics during fitting process of GridSearch. Let's look only look at how Ridge Regression improved during training since it's the best model"
   ]
  },
  {
   "cell_type": "code",
   "execution_count": 144,
   "id": "025974b2",
   "metadata": {},
   "outputs": [
    {
     "data": {
      "text/html": [
       "<div>\n",
       "<style scoped>\n",
       "    .dataframe tbody tr th:only-of-type {\n",
       "        vertical-align: middle;\n",
       "    }\n",
       "\n",
       "    .dataframe tbody tr th {\n",
       "        vertical-align: top;\n",
       "    }\n",
       "\n",
       "    .dataframe thead th {\n",
       "        text-align: right;\n",
       "    }\n",
       "</style>\n",
       "<table border=\"1\" class=\"dataframe\">\n",
       "  <thead>\n",
       "    <tr style=\"text-align: right;\">\n",
       "      <th></th>\n",
       "      <th>mean_fit_time</th>\n",
       "      <th>std_fit_time</th>\n",
       "      <th>mean_score_time</th>\n",
       "      <th>std_score_time</th>\n",
       "      <th>param_alpha</th>\n",
       "      <th>param_fit_intercept</th>\n",
       "      <th>param_solver</th>\n",
       "      <th>params</th>\n",
       "      <th>split0_test_score</th>\n",
       "      <th>split1_test_score</th>\n",
       "      <th>...</th>\n",
       "      <th>split2_train_score</th>\n",
       "      <th>split3_train_score</th>\n",
       "      <th>split4_train_score</th>\n",
       "      <th>split5_train_score</th>\n",
       "      <th>split6_train_score</th>\n",
       "      <th>split7_train_score</th>\n",
       "      <th>split8_train_score</th>\n",
       "      <th>split9_train_score</th>\n",
       "      <th>mean_train_score</th>\n",
       "      <th>std_train_score</th>\n",
       "    </tr>\n",
       "  </thead>\n",
       "  <tbody>\n",
       "    <tr>\n",
       "      <th>0</th>\n",
       "      <td>0.009104</td>\n",
       "      <td>0.001446</td>\n",
       "      <td>0.000699</td>\n",
       "      <td>4.576201e-04</td>\n",
       "      <td>0.0</td>\n",
       "      <td>True</td>\n",
       "      <td>svd</td>\n",
       "      <td>{'alpha': 1e-09, 'fit_intercept': True, 'solve...</td>\n",
       "      <td>-1.171865e-02</td>\n",
       "      <td>-2.371487e+00</td>\n",
       "      <td>...</td>\n",
       "      <td>-1.248784e-02</td>\n",
       "      <td>-1.009602e-02</td>\n",
       "      <td>-1.044741e-02</td>\n",
       "      <td>-1.074135e-02</td>\n",
       "      <td>-1.044732e-02</td>\n",
       "      <td>-1.114575e-02</td>\n",
       "      <td>-1.117292e-02</td>\n",
       "      <td>-1.035168e-02</td>\n",
       "      <td>-1.080249e-02</td>\n",
       "      <td>6.514937e-04</td>\n",
       "    </tr>\n",
       "    <tr>\n",
       "      <th>1</th>\n",
       "      <td>0.003299</td>\n",
       "      <td>0.000900</td>\n",
       "      <td>0.000899</td>\n",
       "      <td>2.998135e-04</td>\n",
       "      <td>0.0</td>\n",
       "      <td>True</td>\n",
       "      <td>cholesky</td>\n",
       "      <td>{'alpha': 1e-09, 'fit_intercept': True, 'solve...</td>\n",
       "      <td>-1.171426e-02</td>\n",
       "      <td>-2.375783e+00</td>\n",
       "      <td>...</td>\n",
       "      <td>-1.248564e-02</td>\n",
       "      <td>-1.009383e-02</td>\n",
       "      <td>-1.044917e-02</td>\n",
       "      <td>-1.074532e-02</td>\n",
       "      <td>-1.044519e-02</td>\n",
       "      <td>-1.113903e-02</td>\n",
       "      <td>-1.116727e-02</td>\n",
       "      <td>-1.034492e-02</td>\n",
       "      <td>-1.080034e-02</td>\n",
       "      <td>6.510866e-04</td>\n",
       "    </tr>\n",
       "    <tr>\n",
       "      <th>2</th>\n",
       "      <td>0.007995</td>\n",
       "      <td>0.002190</td>\n",
       "      <td>0.000600</td>\n",
       "      <td>4.901592e-04</td>\n",
       "      <td>0.0</td>\n",
       "      <td>True</td>\n",
       "      <td>lsqr</td>\n",
       "      <td>{'alpha': 1e-09, 'fit_intercept': True, 'solve...</td>\n",
       "      <td>-1.617938e+07</td>\n",
       "      <td>-2.262057e+08</td>\n",
       "      <td>...</td>\n",
       "      <td>-1.252007e+07</td>\n",
       "      <td>-1.706199e+07</td>\n",
       "      <td>-1.666346e+07</td>\n",
       "      <td>-1.690183e+07</td>\n",
       "      <td>-1.699652e+07</td>\n",
       "      <td>-1.680210e+07</td>\n",
       "      <td>-1.655278e+07</td>\n",
       "      <td>-1.464794e+07</td>\n",
       "      <td>-1.619539e+07</td>\n",
       "      <td>1.397927e+06</td>\n",
       "    </tr>\n",
       "    <tr>\n",
       "      <th>3</th>\n",
       "      <td>0.004496</td>\n",
       "      <td>0.000499</td>\n",
       "      <td>0.000500</td>\n",
       "      <td>4.999174e-04</td>\n",
       "      <td>0.0</td>\n",
       "      <td>True</td>\n",
       "      <td>sparse_cg</td>\n",
       "      <td>{'alpha': 1e-09, 'fit_intercept': True, 'solve...</td>\n",
       "      <td>-1.324288e+07</td>\n",
       "      <td>-4.597661e+08</td>\n",
       "      <td>...</td>\n",
       "      <td>-1.431182e+07</td>\n",
       "      <td>-1.414289e+07</td>\n",
       "      <td>-1.474774e+07</td>\n",
       "      <td>-1.472401e+07</td>\n",
       "      <td>-1.491335e+07</td>\n",
       "      <td>-1.460729e+07</td>\n",
       "      <td>-1.342736e+07</td>\n",
       "      <td>-1.464794e+07</td>\n",
       "      <td>-1.449213e+07</td>\n",
       "      <td>4.137098e+05</td>\n",
       "    </tr>\n",
       "    <tr>\n",
       "      <th>4</th>\n",
       "      <td>0.467701</td>\n",
       "      <td>0.051488</td>\n",
       "      <td>0.000795</td>\n",
       "      <td>3.974583e-04</td>\n",
       "      <td>0.0</td>\n",
       "      <td>True</td>\n",
       "      <td>sag</td>\n",
       "      <td>{'alpha': 1e-09, 'fit_intercept': True, 'solve...</td>\n",
       "      <td>-3.106489e+08</td>\n",
       "      <td>-2.870777e+08</td>\n",
       "      <td>...</td>\n",
       "      <td>-2.677935e+08</td>\n",
       "      <td>-3.061095e+08</td>\n",
       "      <td>-3.066523e+08</td>\n",
       "      <td>-3.045673e+08</td>\n",
       "      <td>-3.078161e+08</td>\n",
       "      <td>-3.051473e+08</td>\n",
       "      <td>-3.052000e+08</td>\n",
       "      <td>-3.047119e+08</td>\n",
       "      <td>-3.021458e+08</td>\n",
       "      <td>1.150148e+07</td>\n",
       "    </tr>\n",
       "    <tr>\n",
       "      <th>...</th>\n",
       "      <td>...</td>\n",
       "      <td>...</td>\n",
       "      <td>...</td>\n",
       "      <td>...</td>\n",
       "      <td>...</td>\n",
       "      <td>...</td>\n",
       "      <td>...</td>\n",
       "      <td>...</td>\n",
       "      <td>...</td>\n",
       "      <td>...</td>\n",
       "      <td>...</td>\n",
       "      <td>...</td>\n",
       "      <td>...</td>\n",
       "      <td>...</td>\n",
       "      <td>...</td>\n",
       "      <td>...</td>\n",
       "      <td>...</td>\n",
       "      <td>...</td>\n",
       "      <td>...</td>\n",
       "      <td>...</td>\n",
       "      <td>...</td>\n",
       "    </tr>\n",
       "    <tr>\n",
       "      <th>115</th>\n",
       "      <td>0.003199</td>\n",
       "      <td>0.000748</td>\n",
       "      <td>0.000799</td>\n",
       "      <td>3.996151e-04</td>\n",
       "      <td>10.0</td>\n",
       "      <td>False</td>\n",
       "      <td>cholesky</td>\n",
       "      <td>{'alpha': 10.0, 'fit_intercept': False, 'solve...</td>\n",
       "      <td>-1.202624e+07</td>\n",
       "      <td>-2.158955e+08</td>\n",
       "      <td>...</td>\n",
       "      <td>-1.272426e+07</td>\n",
       "      <td>-1.266290e+07</td>\n",
       "      <td>-1.318325e+07</td>\n",
       "      <td>-1.324132e+07</td>\n",
       "      <td>-1.334675e+07</td>\n",
       "      <td>-1.321328e+07</td>\n",
       "      <td>-1.199233e+07</td>\n",
       "      <td>-1.322470e+07</td>\n",
       "      <td>-1.299084e+07</td>\n",
       "      <td>3.954751e+05</td>\n",
       "    </tr>\n",
       "    <tr>\n",
       "      <th>116</th>\n",
       "      <td>0.007396</td>\n",
       "      <td>0.001684</td>\n",
       "      <td>0.000899</td>\n",
       "      <td>2.998198e-04</td>\n",
       "      <td>10.0</td>\n",
       "      <td>False</td>\n",
       "      <td>lsqr</td>\n",
       "      <td>{'alpha': 10.0, 'fit_intercept': False, 'solve...</td>\n",
       "      <td>-1.797016e+07</td>\n",
       "      <td>-1.642939e+08</td>\n",
       "      <td>...</td>\n",
       "      <td>-1.514721e+07</td>\n",
       "      <td>-1.769150e+07</td>\n",
       "      <td>-1.824391e+07</td>\n",
       "      <td>-1.891375e+07</td>\n",
       "      <td>-1.710790e+07</td>\n",
       "      <td>-1.857915e+07</td>\n",
       "      <td>-1.707328e+07</td>\n",
       "      <td>-1.682480e+07</td>\n",
       "      <td>-1.770158e+07</td>\n",
       "      <td>1.125886e+06</td>\n",
       "    </tr>\n",
       "    <tr>\n",
       "      <th>117</th>\n",
       "      <td>0.006396</td>\n",
       "      <td>0.000663</td>\n",
       "      <td>0.001000</td>\n",
       "      <td>8.120244e-07</td>\n",
       "      <td>10.0</td>\n",
       "      <td>False</td>\n",
       "      <td>sparse_cg</td>\n",
       "      <td>{'alpha': 10.0, 'fit_intercept': False, 'solve...</td>\n",
       "      <td>-1.641148e+07</td>\n",
       "      <td>-1.987166e+08</td>\n",
       "      <td>...</td>\n",
       "      <td>-1.627960e+07</td>\n",
       "      <td>-1.642940e+07</td>\n",
       "      <td>-1.691892e+07</td>\n",
       "      <td>-1.712403e+07</td>\n",
       "      <td>-1.574047e+07</td>\n",
       "      <td>-1.681310e+07</td>\n",
       "      <td>-1.423580e+07</td>\n",
       "      <td>-1.682477e+07</td>\n",
       "      <td>-1.643463e+07</td>\n",
       "      <td>8.353619e+05</td>\n",
       "    </tr>\n",
       "    <tr>\n",
       "      <th>118</th>\n",
       "      <td>0.463731</td>\n",
       "      <td>0.037738</td>\n",
       "      <td>0.000300</td>\n",
       "      <td>4.581515e-04</td>\n",
       "      <td>10.0</td>\n",
       "      <td>False</td>\n",
       "      <td>sag</td>\n",
       "      <td>{'alpha': 10.0, 'fit_intercept': False, 'solve...</td>\n",
       "      <td>-4.316379e+08</td>\n",
       "      <td>-4.522050e+08</td>\n",
       "      <td>...</td>\n",
       "      <td>-3.930972e+08</td>\n",
       "      <td>-4.354818e+08</td>\n",
       "      <td>-4.377888e+08</td>\n",
       "      <td>-4.316788e+08</td>\n",
       "      <td>-4.363040e+08</td>\n",
       "      <td>-4.355223e+08</td>\n",
       "      <td>-4.345233e+08</td>\n",
       "      <td>-4.330327e+08</td>\n",
       "      <td>-4.308348e+08</td>\n",
       "      <td>1.268632e+07</td>\n",
       "    </tr>\n",
       "    <tr>\n",
       "      <th>119</th>\n",
       "      <td>0.481495</td>\n",
       "      <td>0.023050</td>\n",
       "      <td>0.000395</td>\n",
       "      <td>4.842827e-04</td>\n",
       "      <td>10.0</td>\n",
       "      <td>False</td>\n",
       "      <td>saga</td>\n",
       "      <td>{'alpha': 10.0, 'fit_intercept': False, 'solve...</td>\n",
       "      <td>-5.118137e+08</td>\n",
       "      <td>-5.358231e+08</td>\n",
       "      <td>...</td>\n",
       "      <td>-4.650742e+08</td>\n",
       "      <td>-5.208238e+08</td>\n",
       "      <td>-5.167268e+08</td>\n",
       "      <td>-5.135287e+08</td>\n",
       "      <td>-5.153840e+08</td>\n",
       "      <td>-5.181708e+08</td>\n",
       "      <td>-5.128988e+08</td>\n",
       "      <td>-5.160680e+08</td>\n",
       "      <td>-5.112097e+08</td>\n",
       "      <td>1.553784e+07</td>\n",
       "    </tr>\n",
       "  </tbody>\n",
       "</table>\n",
       "<p>120 rows × 33 columns</p>\n",
       "</div>"
      ],
      "text/plain": [
       "     mean_fit_time  std_fit_time  mean_score_time  std_score_time param_alpha  \\\n",
       "0         0.009104      0.001446         0.000699    4.576201e-04         0.0   \n",
       "1         0.003299      0.000900         0.000899    2.998135e-04         0.0   \n",
       "2         0.007995      0.002190         0.000600    4.901592e-04         0.0   \n",
       "3         0.004496      0.000499         0.000500    4.999174e-04         0.0   \n",
       "4         0.467701      0.051488         0.000795    3.974583e-04         0.0   \n",
       "..             ...           ...              ...             ...         ...   \n",
       "115       0.003199      0.000748         0.000799    3.996151e-04        10.0   \n",
       "116       0.007396      0.001684         0.000899    2.998198e-04        10.0   \n",
       "117       0.006396      0.000663         0.001000    8.120244e-07        10.0   \n",
       "118       0.463731      0.037738         0.000300    4.581515e-04        10.0   \n",
       "119       0.481495      0.023050         0.000395    4.842827e-04        10.0   \n",
       "\n",
       "    param_fit_intercept param_solver  \\\n",
       "0                  True          svd   \n",
       "1                  True     cholesky   \n",
       "2                  True         lsqr   \n",
       "3                  True    sparse_cg   \n",
       "4                  True          sag   \n",
       "..                  ...          ...   \n",
       "115               False     cholesky   \n",
       "116               False         lsqr   \n",
       "117               False    sparse_cg   \n",
       "118               False          sag   \n",
       "119               False         saga   \n",
       "\n",
       "                                                params  split0_test_score  \\\n",
       "0    {'alpha': 1e-09, 'fit_intercept': True, 'solve...      -1.171865e-02   \n",
       "1    {'alpha': 1e-09, 'fit_intercept': True, 'solve...      -1.171426e-02   \n",
       "2    {'alpha': 1e-09, 'fit_intercept': True, 'solve...      -1.617938e+07   \n",
       "3    {'alpha': 1e-09, 'fit_intercept': True, 'solve...      -1.324288e+07   \n",
       "4    {'alpha': 1e-09, 'fit_intercept': True, 'solve...      -3.106489e+08   \n",
       "..                                                 ...                ...   \n",
       "115  {'alpha': 10.0, 'fit_intercept': False, 'solve...      -1.202624e+07   \n",
       "116  {'alpha': 10.0, 'fit_intercept': False, 'solve...      -1.797016e+07   \n",
       "117  {'alpha': 10.0, 'fit_intercept': False, 'solve...      -1.641148e+07   \n",
       "118  {'alpha': 10.0, 'fit_intercept': False, 'solve...      -4.316379e+08   \n",
       "119  {'alpha': 10.0, 'fit_intercept': False, 'solve...      -5.118137e+08   \n",
       "\n",
       "     split1_test_score  ...  split2_train_score  split3_train_score  \\\n",
       "0        -2.371487e+00  ...       -1.248784e-02       -1.009602e-02   \n",
       "1        -2.375783e+00  ...       -1.248564e-02       -1.009383e-02   \n",
       "2        -2.262057e+08  ...       -1.252007e+07       -1.706199e+07   \n",
       "3        -4.597661e+08  ...       -1.431182e+07       -1.414289e+07   \n",
       "4        -2.870777e+08  ...       -2.677935e+08       -3.061095e+08   \n",
       "..                 ...  ...                 ...                 ...   \n",
       "115      -2.158955e+08  ...       -1.272426e+07       -1.266290e+07   \n",
       "116      -1.642939e+08  ...       -1.514721e+07       -1.769150e+07   \n",
       "117      -1.987166e+08  ...       -1.627960e+07       -1.642940e+07   \n",
       "118      -4.522050e+08  ...       -3.930972e+08       -4.354818e+08   \n",
       "119      -5.358231e+08  ...       -4.650742e+08       -5.208238e+08   \n",
       "\n",
       "     split4_train_score  split5_train_score  split6_train_score  \\\n",
       "0         -1.044741e-02       -1.074135e-02       -1.044732e-02   \n",
       "1         -1.044917e-02       -1.074532e-02       -1.044519e-02   \n",
       "2         -1.666346e+07       -1.690183e+07       -1.699652e+07   \n",
       "3         -1.474774e+07       -1.472401e+07       -1.491335e+07   \n",
       "4         -3.066523e+08       -3.045673e+08       -3.078161e+08   \n",
       "..                  ...                 ...                 ...   \n",
       "115       -1.318325e+07       -1.324132e+07       -1.334675e+07   \n",
       "116       -1.824391e+07       -1.891375e+07       -1.710790e+07   \n",
       "117       -1.691892e+07       -1.712403e+07       -1.574047e+07   \n",
       "118       -4.377888e+08       -4.316788e+08       -4.363040e+08   \n",
       "119       -5.167268e+08       -5.135287e+08       -5.153840e+08   \n",
       "\n",
       "     split7_train_score  split8_train_score  split9_train_score  \\\n",
       "0         -1.114575e-02       -1.117292e-02       -1.035168e-02   \n",
       "1         -1.113903e-02       -1.116727e-02       -1.034492e-02   \n",
       "2         -1.680210e+07       -1.655278e+07       -1.464794e+07   \n",
       "3         -1.460729e+07       -1.342736e+07       -1.464794e+07   \n",
       "4         -3.051473e+08       -3.052000e+08       -3.047119e+08   \n",
       "..                  ...                 ...                 ...   \n",
       "115       -1.321328e+07       -1.199233e+07       -1.322470e+07   \n",
       "116       -1.857915e+07       -1.707328e+07       -1.682480e+07   \n",
       "117       -1.681310e+07       -1.423580e+07       -1.682477e+07   \n",
       "118       -4.355223e+08       -4.345233e+08       -4.330327e+08   \n",
       "119       -5.181708e+08       -5.128988e+08       -5.160680e+08   \n",
       "\n",
       "     mean_train_score  std_train_score  \n",
       "0       -1.080249e-02     6.514937e-04  \n",
       "1       -1.080034e-02     6.510866e-04  \n",
       "2       -1.619539e+07     1.397927e+06  \n",
       "3       -1.449213e+07     4.137098e+05  \n",
       "4       -3.021458e+08     1.150148e+07  \n",
       "..                ...              ...  \n",
       "115     -1.299084e+07     3.954751e+05  \n",
       "116     -1.770158e+07     1.125886e+06  \n",
       "117     -1.643463e+07     8.353619e+05  \n",
       "118     -4.308348e+08     1.268632e+07  \n",
       "119     -5.112097e+08     1.553784e+07  \n",
       "\n",
       "[120 rows x 33 columns]"
      ]
     },
     "execution_count": 144,
     "metadata": {},
     "output_type": "execute_result"
    }
   ],
   "source": [
    "results=pd.DataFrame(models['Ridge'].cv_results_)\n",
    "results"
   ]
  },
  {
   "cell_type": "markdown",
   "id": "61210f30",
   "metadata": {},
   "source": [
    "We can find configuration of best model by using best_estimator_ attribute"
   ]
  },
  {
   "cell_type": "code",
   "execution_count": 145,
   "id": "2b8129eb",
   "metadata": {},
   "outputs": [
    {
     "data": {
      "text/plain": [
       "Ridge(alpha=1e-09, fit_intercept=False, max_iter=300, solver='cholesky')"
      ]
     },
     "execution_count": 145,
     "metadata": {},
     "output_type": "execute_result"
    }
   ],
   "source": [
    "models['Ridge'].best_estimator_"
   ]
  },
  {
   "cell_type": "markdown",
   "id": "37d3bd1e",
   "metadata": {},
   "source": [
    "By using the data in cv_results_ we I want to show the progress of the model."
   ]
  },
  {
   "cell_type": "code",
   "execution_count": 146,
   "id": "637fcee8",
   "metadata": {},
   "outputs": [
    {
     "data": {
      "text/plain": [
       "Text(0, 0.5, 'MSE')"
      ]
     },
     "execution_count": 146,
     "metadata": {},
     "output_type": "execute_result"
    },
    {
     "data": {
      "image/png": "[encoded data removed]",
      "text/plain": [
       "<Figure size 720x576 with 1 Axes>"
      ]
     },
     "metadata": {},
     "output_type": "display_data"
    }
   ],
   "source": [
    "sns.set()\n",
    "plt.figure(figsize=(10,8))\n",
    "plt.plot(abs(models['Ridge'].cv_results_['mean_train_score']), \"r-+\", linewidth=3, label=\"train\",alpha=0.6)\n",
    "plt.plot(abs(models['Ridge'].cv_results_['mean_test_score']), \"b-\", linewidth=2, label=\"val\",alpha=0.6)\n",
    "plt.legend(loc=\"upper right\", fontsize=14)   # not shown in the book\n",
    "plt.xlabel(\"Training set size\", fontsize=14) # not shown\n",
    "plt.ylabel(\"MSE\", fontsize=14)"
   ]
  },
  {
   "cell_type": "markdown",
   "id": "07899eec",
   "metadata": {},
   "source": [
    "Let's also use kdeplot() for the same porpuse to see whether it can represent the data better."
   ]
  },
  {
   "cell_type": "code",
   "execution_count": 147,
   "id": "cdc8a604",
   "metadata": {},
   "outputs": [
    {
     "data": {
      "text/plain": [
       "Text(0.5, 0, 'Candidates')"
      ]
     },
     "execution_count": 147,
     "metadata": {},
     "output_type": "execute_result"
    },
    {
     "data": {
      "image/png": "[encoded data removed]",
      "text/plain": [
       "<Figure size 720x576 with 1 Axes>"
      ]
     },
     "metadata": {},
     "output_type": "display_data"
    }
   ],
   "source": [
    "plt.figure(figsize=(10,8))\n",
    "ax=sns.kdeplot(abs(models['Ridge'].cv_results_['mean_train_score'])).set_title(\"Mean Scores for Ridge Regression\",fontsize=18)\n",
    "sns.kdeplot(abs(models['Ridge'].cv_results_['mean_test_score']))\n",
    "plt.legend(['Mean Train Score', 'Mean Test Score'],fontsize=14)\n",
    "plt.ylabel(\"Mean Scores\",fontsize=14)\n",
    "plt.xlabel(\"Candidates\",fontsize=14)"
   ]
  },
  {
   "cell_type": "markdown",
   "id": "9c5b6844",
   "metadata": {},
   "source": [
    "We can see how the error changed during training."
   ]
  },
  {
   "cell_type": "code",
   "execution_count": 148,
   "id": "b2bf30a8",
   "metadata": {},
   "outputs": [],
   "source": [
    "def plot_learning_curves():\n",
    "    X_train, X_test, y_train, y_test = train_test_split(covid_prepared, target, test_size=0.3, random_state=42,shuffle=True)\n",
    "    train_errors, val_errors = [], []\n",
    "    for m in range(1, len(X_train)):\n",
    "        ridge=Ridge(alpha=1e-09, fit_intercept=False, max_iter=100).fit(X_train[:m], y_train[:m])\n",
    "        y_train_predict = ridge.predict(X_train[:m])\n",
    "        y_val_predict = ridge.predict(X_test)\n",
    "        train_errors.append(mean_squared_error(y_train[:m], y_train_predict))\n",
    "        val_errors.append(mean_squared_error(y_test, y_val_predict))\n",
    "\n",
    "    plt.plot(train_errors, \"r-+\", linewidth=1, label=\"train\")\n",
    "    plt.plot(val_errors, \"b-\", linewidth=1, label=\"val\")\n",
    "    plt.legend(loc=\"upper right\", fontsize=14)   # not shown in the book\n",
    "    plt.xlabel(\"Training set size\", fontsize=14) # not shown\n",
    "    plt.ylabel(\"RMSE\", fontsize=14) "
   ]
  },
  {
   "cell_type": "code",
   "execution_count": 149,
   "id": "04dfcc22",
   "metadata": {},
   "outputs": [
    {
     "data": {
      "image/png": "[encoded data removed]",
      "text/plain": [
       "<Figure size 720x576 with 1 Axes>"
      ]
     },
     "metadata": {},
     "output_type": "display_data"
    }
   ],
   "source": [
    "plt.figure(figsize=(10,8))\n",
    "plot_learning_curves()\n",
    "plt.show() \n"
   ]
  },
  {
   "cell_type": "markdown",
   "id": "7477ad0f",
   "metadata": {},
   "source": [
    "Well It looks like we didn't improve training error much, however, validation error reduced a lot and this is actually what matters."
   ]
  },
  {
   "cell_type": "markdown",
   "id": "4dc412b2",
   "metadata": {},
   "source": [
    "## Early Stopping"
   ]
  },
  {
   "cell_type": "markdown",
   "id": "ec977175",
   "metadata": {},
   "source": [
    "There is a concept that I didn't mention before and I think it is now the right time to mention about it. Early Stopping is actually a regularization technique in which we monitore the performance of our model and stop training when the generalization error increases. This technique is used more often with neural networks but we can also use it here. I will firstly implement it manually."
   ]
  },
  {
   "cell_type": "code",
   "execution_count": 150,
   "id": "d4b21f77",
   "metadata": {},
   "outputs": [],
   "source": [
    "num_data=SimpleImputer(strategy=\"median\").fit_transform(num_data)"
   ]
  },
  {
   "cell_type": "code",
   "execution_count": 151,
   "id": "236df4ea",
   "metadata": {},
   "outputs": [
    {
     "data": {
      "image/png": "[encoded data removed]",
      "text/plain": [
       "<Figure size 432x288 with 1 Axes>"
      ]
     },
     "metadata": {},
     "output_type": "display_data"
    }
   ],
   "source": [
    "#num_data.drop('Median_IncidenceRate',axis=1,inplace=True) # I don't want to use this columns so I just drop it.\n",
    "X_train, X_test, y_train, y_test = train_test_split(num_data, target, test_size=0.3, random_state=42,shuffle=True)\n",
    "\n",
    "#I will use SGDRegressor instead of classical Linear Regression.\n",
    "sgd_reg = SGDRegressor(max_iter=1, tol=-np.infty, warm_start=True,\n",
    "                       penalty=\"l2\", learning_rate=\"constant\", eta0=0.0005, random_state=42)\n",
    "\n",
    "num_iteration = 50\n",
    "train_errors, val_errors = [], []\n",
    "for epoch in range(num_iteration):\n",
    "    sgd_reg.fit(X_train, y_train)\n",
    "    train_predict = sgd_reg.predict(X_train)\n",
    "    val_predict = sgd_reg.predict(X_test)\n",
    "    train_errors.append(mean_squared_error(y_train, train_predict))\n",
    "    val_errors.append(mean_squared_error(y_test, val_predict))\n",
    "\n",
    "best_num_iteration = np.argmin(val_errors)\n",
    "best_val_rmse = np.sqrt(val_errors[best_num_iteration])\n",
    "\n",
    "plt.annotate('Best model ',\n",
    "             xy=(best_num_iteration, best_val_rmse),\n",
    "             xytext=(best_num_iteration, best_val_rmse + 1),\n",
    "             ha=\"center\",\n",
    "             arrowprops=dict(facecolor='black', shrink=0.05),\n",
    "             fontsize=16,\n",
    "            )\n",
    "\n",
    "\n",
    "plt.plot([0, num_iteration], [best_val_rmse, best_val_rmse], \"k:\", linewidth=2)\n",
    "plt.plot(np.sqrt(val_errors), \"b-\", linewidth=1, label=\"Validation set\")\n",
    "plt.plot(np.sqrt(train_errors), \"r-\", linewidth=1, label=\"Training set\")\n",
    "plt.legend(loc=\"upper right\", fontsize=14)\n",
    "plt.xlabel(\"Epoch\", fontsize=14)\n",
    "plt.ylabel(\"RMSE\", fontsize=14)\n",
    "plt.show()"
   ]
  },
  {
   "cell_type": "markdown",
   "id": "f2a58f71",
   "metadata": {},
   "source": [
    "We get the best validation score in the 20th iteration (If we iterate for 50 times). Now I will use this technique in a easier way, the reason that I used `SGDRegressor()` here was that we can actually implement Early Stopping as a parameter of `SGDRegressor()` I will also use `GridSearchCV()`."
   ]
  },
  {
   "cell_type": "markdown",
   "id": "b629777f",
   "metadata": {},
   "source": [
    "Let's look at which parameters we can optimize."
   ]
  },
  {
   "cell_type": "code",
   "execution_count": 152,
   "id": "3fdccbb0",
   "metadata": {},
   "outputs": [
    {
     "data": {
      "text/plain": [
       "dict_keys(['alpha', 'average', 'early_stopping', 'epsilon', 'eta0', 'fit_intercept', 'l1_ratio', 'learning_rate', 'loss', 'max_iter', 'n_iter_no_change', 'penalty', 'power_t', 'random_state', 'shuffle', 'tol', 'validation_fraction', 'verbose', 'warm_start'])"
      ]
     },
     "execution_count": 152,
     "metadata": {},
     "output_type": "execute_result"
    }
   ],
   "source": [
    "sgd_reg.get_params().keys()"
   ]
  },
  {
   "cell_type": "markdown",
   "id": "d16dfaa1",
   "metadata": {},
   "source": [
    "Now let's apply GridSearch on that. The thing I would like to point out is I set `validation_fraction=0.1` which means I will use %10 of the data for validation. Moreover, I set `early_stopping=True` and `n_iter_no_change=15`, that means if there isn't change in validation error for 15 times of iteration the algorithm will be stopped. "
   ]
  },
  {
   "cell_type": "code",
   "execution_count": 154,
   "id": "d990e6c7",
   "metadata": {},
   "outputs": [
    {
     "name": "stdout",
     "output_type": "stream",
     "text": [
      "Fitting 10 folds for each of 800 candidates, totalling 8000 fits\n"
     ]
    },
    {
     "data": {
      "text/plain": [
       "475328592.62060684"
      ]
     },
     "execution_count": 154,
     "metadata": {},
     "output_type": "execute_result"
    }
   ],
   "source": [
    "X_train, X_test, y_train, y_test = train_test_split(covid_prepared, target, test_size=0.3, random_state=42,shuffle=True)\n",
    "\n",
    "params_sgd = {\n",
    "    'alpha': np.geomspace(1e-9, 1e1, num=10),\n",
    "    'eta0':  np.geomspace(1e-9, 1e1, num=10),\n",
    "    'learning_rate':('invscaling', 'adaptive'),\n",
    "    'fit_intercept': (True, False),\n",
    "    'shuffle':(True, False),\n",
    "}\n",
    "\n",
    "sgd_reg = SGDRegressor(max_iter=500, tol=-np.infty, warm_start=True,validation_fraction=0.1, penalty='l2', random_state=42, early_stopping=True, n_iter_no_change=15)\n",
    "\n",
    "grid_search=GridSearchCV(sgd_reg, params_sgd, scoring='neg_mean_squared_error',verbose=1,return_train_score=True, cv=kf)\n",
    "\n",
    "grid_search.fit(X_train, y_train)\n",
    "\n",
    "predicted=grid_search.predict(X_test)\n",
    "mean_squared_error(y_test, predicted)"
   ]
  },
  {
   "cell_type": "markdown",
   "id": "03fd705a",
   "metadata": {},
   "source": [
    "The result is extremely bad."
   ]
  },
  {
   "cell_type": "markdown",
   "id": "dd6f7ce6",
   "metadata": {},
   "source": [
    "Now finally, we are done with linear regression. I will be showing other regression algorithms with regression trees and perhaps SVM Regression but we have some time for that. In the next notebooks, we will be talking about logistic regression. I'm planning to release 3 notebooks about logistic regression but there may be one more."
   ]
  }
 ],
 "metadata": {
  "kernelspec": {
   "display_name": "Python 3 (ipykernel)",
   "language": "python",
   "name": "python3"
  },
  "language_info": {
   "codemirror_mode": {
    "name": "ipython",
    "version": 3
   },
   "file_extension": ".py",
   "mimetype": "text/x-python",
   "name": "python",
   "nbconvert_exporter": "python",
   "pygments_lexer": "ipython3",
   "version": "3.8.8"
  }
 },
 "nbformat": 4,
 "nbformat_minor": 5
}
