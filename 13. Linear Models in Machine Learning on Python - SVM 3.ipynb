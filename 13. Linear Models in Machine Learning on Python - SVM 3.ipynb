{
 "cells": [
  {
   "cell_type": "markdown",
   "id": "97e4e807",
   "metadata": {
    "id": "97e4e807"
   },
   "source": [
    "# Linear Models in Machine Learning on Python - Support Vector Machines 3"
   ]
  },
  {
   "cell_type": "markdown",
   "id": "daea8455",
   "metadata": {
    "id": "daea8455"
   },
   "source": [
    "Welcome to the third notebook on SVM. In this notebook we will practice the models that I introduced in the previous two notebooks. We will firstly use SVM on Australian Rain Dataset to see if SVM will give us a better result compared to logistic regression. Then we will use SVM on another binary classification problem. Lastly we will use SVM for multiclass classification."
   ]
  },
  {
   "cell_type": "code",
   "execution_count": 1,
   "id": "6c121dcc",
   "metadata": {
    "id": "6c121dcc"
   },
   "outputs": [],
   "source": [
    "import seaborn as sns\n",
    "import pandas as pd\n",
    "import numpy as np\n",
    "import matplotlib.pyplot as plt\n",
    "from sklearn.metrics import accuracy_score\n",
    "from sklearn.impute import SimpleImputer\n",
    "import warnings\n",
    "from sklearn.preprocessing import LabelEncoder\n",
    "warnings.filterwarnings('ignore', module='sklearn')\n",
    "from sklearn.metrics import confusion_matrix\n",
    "from sklearn.metrics import plot_confusion_matrix\n",
    "from sklearn.model_selection import cross_validate\n",
    "from sklearn.preprocessing import StandardScaler\n",
    "from sklearn.metrics import roc_curve\n",
    "from sklearn.metrics import roc_auc_score\n",
    "from matplotlib import pyplot\n",
    "from sklearn.metrics import precision_recall_curve\n",
    "from sklearn.metrics import f1_score\n",
    "from sklearn.metrics import auc\n",
    "from sklearn.preprocessing import PolynomialFeatures\n",
    "from sklearn.model_selection import train_test_split\n",
    "from imblearn.over_sampling import RandomOverSampler\n",
    "from sklearn.base import BaseEstimator, TransformerMixin\n",
    "from sklearn.model_selection import RepeatedStratifiedKFold\n",
    "from sklearn.model_selection import RandomizedSearchCV\n",
    "from sklearn.svm import LinearSVC,SVC,NuSVC"
   ]
  },
  {
   "cell_type": "code",
   "execution_count": null,
   "id": "aebe0417",
   "metadata": {
    "id": "aebe0417"
   },
   "outputs": [],
   "source": [
    "def plot_confusion(y,y_pred):\n",
    "    if isinstance(y_pred, (np.ndarray)):\n",
    "        plt.figure(figsize=(10, 7))\n",
    "        cm=confusion_matrix(y, y_pred)\n",
    "        \n",
    "        plt.figure(figsize=(10, 7))\n",
    "        group_names =['TN','FS','FN','TP']\n",
    "        \n",
    "        group_counts = ['{0:0.0f}'.format(value) for value in cm.flatten()]\n",
    "        group_percentages = ['{0:.2%}'.format(value) for value in cm.flatten()/np.sum(cm)]\n",
    "\n",
    "        labels = [f'{v1}\\n\\n{v2}\\n{v3}' for v1, v2, v3 in zip(group_names,group_counts,group_percentages)]\n",
    "        labels = np.asarray(labels).reshape(2,2)\n",
    "    \n",
    "        sns.heatmap(cm, annot=labels, fmt='', cmap='mako',annot_kws={\"fontsize\":20})\n",
    "\n",
    "    else:\n",
    "        \n",
    "        f, axes = plt.subplots(1, 3,figsize=(18,5))\n",
    "        for i in range(3):\n",
    "            cm=confusion_matrix(y, y_pred[i])\n",
    "            plt.figure(figsize=(10, 7))\n",
    "            group_names =['TN','FS','FN','TP']\n",
    "            group_counts = ['{0:0.0f}'.format(value) for value in cm.flatten()]\n",
    "            group_percentages = ['{0:.2%}'.format(value) for value in cm.flatten()/np.sum(cm)]\n",
    "            labels = [f'{v1}\\n\\n{v2}\\n{v3}' for v1, v2, v3 in zip(group_names,group_counts,group_percentages)]\n",
    "            labels = np.asarray(labels).reshape(2,2)\n",
    "            sns.heatmap(cm, annot=labels, fmt='', cmap='mako',annot_kws={\"fontsize\":20},ax=axes[i])"
   ]
  },
  {
   "cell_type": "code",
   "execution_count": null,
   "id": "a9bd2078",
   "metadata": {
    "id": "a9bd2078"
   },
   "outputs": [],
   "source": [
    "def plot_precisionvsrecall(y,y_pred):\n",
    "    if isinstance(y_pred, (np.ndarray)):\n",
    "        plt.figure(figsize=(10, 7))\n",
    "        precisions, recalls, thresholds = precision_recall_curve(y, y_pred)\n",
    "        sns.set_style(\"darkgrid\")\n",
    "        ax=sns.lineplot(x=precisions, y=recalls ,linewidth = 2)\n",
    "        ax.set_xlabel(\"Precision\",fontsize=15)\n",
    "        ax.set_ylabel(\"Recall\",fontsize=15)\n",
    "        ax.text(0.7 * (0.25 + 0.25+ 0.5), 0.61 * (0.25 + 0.25+ 0.5), 'AUC=%.3f' % auc(recalls, precisions),size=14)\n",
    "        ax.text(0.7 * (0.25 + 0.25+ 0.5), 0.41 * (0.25 + 0.25+ 0.5), 'F1-Score =%.3f' % f1_score(y, y_pred),size=14)\n",
    "        \n",
    "    else: \n",
    "        f, axes = plt.subplots(1, 3,figsize=(17,5))\n",
    "        for i in range(3):\n",
    "            precisions, recalls, thresholds = precision_recall_curve(y, y_pred[i])\n",
    "            sns.set_style(\"darkgrid\")\n",
    "            ax=sns.lineplot(x=precisions, y=recalls ,ax=axes[i],linewidth = 2)\n",
    "            ax.set_xlabel(\"Precision\",fontsize=15)\n",
    "            ax.set_ylabel(\"Recall\",fontsize=15)\n",
    "            ax.text(0.7 * (0.25 + 0.25+ 0.5), 0.84 * (0.25 + 0.25+ 0.5), 'AUC=%.3f' % auc(recalls, precisions),size=14)\n",
    "            ax.text(0.3 * (0.25 + 0.25+ 0.5), 0.22 * (0.25 + 0.25+ 0.5), 'F1-Score =%.3f' % f1_score(y, y_pred[i]),size=14)"
   ]
  },
  {
   "cell_type": "markdown",
   "id": "1ef6b4cc",
   "metadata": {
    "id": "1ef6b4cc"
   },
   "source": [
    "## Australia Rain Dataset Revisited"
   ]
  },
  {
   "cell_type": "markdown",
   "id": "0c331600",
   "metadata": {
    "id": "0c331600"
   },
   "source": [
    "In the logistic regression notebooks, we got around %80 accuracy and 0.67 auc from precision and recall curve. Let's see if SVM will improve the scores or not."
   ]
  },
  {
   "cell_type": "code",
   "execution_count": null,
   "id": "1f632da2",
   "metadata": {
    "id": "1f632da2",
    "outputId": "a644a404-34f3-4d88-b6b0-5e23141a0033"
   },
   "outputs": [
    {
     "data": {
      "text/html": [
       "<div>\n",
       "<style scoped>\n",
       "    .dataframe tbody tr th:only-of-type {\n",
       "        vertical-align: middle;\n",
       "    }\n",
       "\n",
       "    .dataframe tbody tr th {\n",
       "        vertical-align: top;\n",
       "    }\n",
       "\n",
       "    .dataframe thead th {\n",
       "        text-align: right;\n",
       "    }\n",
       "</style>\n",
       "<table border=\"1\" class=\"dataframe\">\n",
       "  <thead>\n",
       "    <tr style=\"text-align: right;\">\n",
       "      <th></th>\n",
       "      <th>Date</th>\n",
       "      <th>Location</th>\n",
       "      <th>MinTemp</th>\n",
       "      <th>MaxTemp</th>\n",
       "      <th>Rainfall</th>\n",
       "      <th>Evaporation</th>\n",
       "      <th>Sunshine</th>\n",
       "      <th>WindGustDir</th>\n",
       "      <th>WindGustSpeed</th>\n",
       "      <th>WindDir9am</th>\n",
       "      <th>...</th>\n",
       "      <th>Humidity9am</th>\n",
       "      <th>Humidity3pm</th>\n",
       "      <th>Pressure9am</th>\n",
       "      <th>Pressure3pm</th>\n",
       "      <th>Cloud9am</th>\n",
       "      <th>Cloud3pm</th>\n",
       "      <th>Temp9am</th>\n",
       "      <th>Temp3pm</th>\n",
       "      <th>RainToday</th>\n",
       "      <th>RainTomorrow</th>\n",
       "    </tr>\n",
       "  </thead>\n",
       "  <tbody>\n",
       "    <tr>\n",
       "      <th>0</th>\n",
       "      <td>2008-12-01</td>\n",
       "      <td>Albury</td>\n",
       "      <td>13.4</td>\n",
       "      <td>22.9</td>\n",
       "      <td>0.6</td>\n",
       "      <td>NaN</td>\n",
       "      <td>NaN</td>\n",
       "      <td>W</td>\n",
       "      <td>44.0</td>\n",
       "      <td>W</td>\n",
       "      <td>...</td>\n",
       "      <td>71.0</td>\n",
       "      <td>22.0</td>\n",
       "      <td>1007.7</td>\n",
       "      <td>1007.1</td>\n",
       "      <td>8.0</td>\n",
       "      <td>NaN</td>\n",
       "      <td>16.9</td>\n",
       "      <td>21.8</td>\n",
       "      <td>No</td>\n",
       "      <td>No</td>\n",
       "    </tr>\n",
       "    <tr>\n",
       "      <th>1</th>\n",
       "      <td>2008-12-02</td>\n",
       "      <td>Albury</td>\n",
       "      <td>7.4</td>\n",
       "      <td>25.1</td>\n",
       "      <td>0.0</td>\n",
       "      <td>NaN</td>\n",
       "      <td>NaN</td>\n",
       "      <td>WNW</td>\n",
       "      <td>44.0</td>\n",
       "      <td>NNW</td>\n",
       "      <td>...</td>\n",
       "      <td>44.0</td>\n",
       "      <td>25.0</td>\n",
       "      <td>1010.6</td>\n",
       "      <td>1007.8</td>\n",
       "      <td>NaN</td>\n",
       "      <td>NaN</td>\n",
       "      <td>17.2</td>\n",
       "      <td>24.3</td>\n",
       "      <td>No</td>\n",
       "      <td>No</td>\n",
       "    </tr>\n",
       "    <tr>\n",
       "      <th>2</th>\n",
       "      <td>2008-12-03</td>\n",
       "      <td>Albury</td>\n",
       "      <td>12.9</td>\n",
       "      <td>25.7</td>\n",
       "      <td>0.0</td>\n",
       "      <td>NaN</td>\n",
       "      <td>NaN</td>\n",
       "      <td>WSW</td>\n",
       "      <td>46.0</td>\n",
       "      <td>W</td>\n",
       "      <td>...</td>\n",
       "      <td>38.0</td>\n",
       "      <td>30.0</td>\n",
       "      <td>1007.6</td>\n",
       "      <td>1008.7</td>\n",
       "      <td>NaN</td>\n",
       "      <td>2.0</td>\n",
       "      <td>21.0</td>\n",
       "      <td>23.2</td>\n",
       "      <td>No</td>\n",
       "      <td>No</td>\n",
       "    </tr>\n",
       "    <tr>\n",
       "      <th>3</th>\n",
       "      <td>2008-12-04</td>\n",
       "      <td>Albury</td>\n",
       "      <td>9.2</td>\n",
       "      <td>28.0</td>\n",
       "      <td>0.0</td>\n",
       "      <td>NaN</td>\n",
       "      <td>NaN</td>\n",
       "      <td>NE</td>\n",
       "      <td>24.0</td>\n",
       "      <td>SE</td>\n",
       "      <td>...</td>\n",
       "      <td>45.0</td>\n",
       "      <td>16.0</td>\n",
       "      <td>1017.6</td>\n",
       "      <td>1012.8</td>\n",
       "      <td>NaN</td>\n",
       "      <td>NaN</td>\n",
       "      <td>18.1</td>\n",
       "      <td>26.5</td>\n",
       "      <td>No</td>\n",
       "      <td>No</td>\n",
       "    </tr>\n",
       "    <tr>\n",
       "      <th>4</th>\n",
       "      <td>2008-12-05</td>\n",
       "      <td>Albury</td>\n",
       "      <td>17.5</td>\n",
       "      <td>32.3</td>\n",
       "      <td>1.0</td>\n",
       "      <td>NaN</td>\n",
       "      <td>NaN</td>\n",
       "      <td>W</td>\n",
       "      <td>41.0</td>\n",
       "      <td>ENE</td>\n",
       "      <td>...</td>\n",
       "      <td>82.0</td>\n",
       "      <td>33.0</td>\n",
       "      <td>1010.8</td>\n",
       "      <td>1006.0</td>\n",
       "      <td>7.0</td>\n",
       "      <td>8.0</td>\n",
       "      <td>17.8</td>\n",
       "      <td>29.7</td>\n",
       "      <td>No</td>\n",
       "      <td>No</td>\n",
       "    </tr>\n",
       "    <tr>\n",
       "      <th>...</th>\n",
       "      <td>...</td>\n",
       "      <td>...</td>\n",
       "      <td>...</td>\n",
       "      <td>...</td>\n",
       "      <td>...</td>\n",
       "      <td>...</td>\n",
       "      <td>...</td>\n",
       "      <td>...</td>\n",
       "      <td>...</td>\n",
       "      <td>...</td>\n",
       "      <td>...</td>\n",
       "      <td>...</td>\n",
       "      <td>...</td>\n",
       "      <td>...</td>\n",
       "      <td>...</td>\n",
       "      <td>...</td>\n",
       "      <td>...</td>\n",
       "      <td>...</td>\n",
       "      <td>...</td>\n",
       "      <td>...</td>\n",
       "      <td>...</td>\n",
       "    </tr>\n",
       "    <tr>\n",
       "      <th>145455</th>\n",
       "      <td>2017-06-21</td>\n",
       "      <td>Uluru</td>\n",
       "      <td>2.8</td>\n",
       "      <td>23.4</td>\n",
       "      <td>0.0</td>\n",
       "      <td>NaN</td>\n",
       "      <td>NaN</td>\n",
       "      <td>E</td>\n",
       "      <td>31.0</td>\n",
       "      <td>SE</td>\n",
       "      <td>...</td>\n",
       "      <td>51.0</td>\n",
       "      <td>24.0</td>\n",
       "      <td>1024.6</td>\n",
       "      <td>1020.3</td>\n",
       "      <td>NaN</td>\n",
       "      <td>NaN</td>\n",
       "      <td>10.1</td>\n",
       "      <td>22.4</td>\n",
       "      <td>No</td>\n",
       "      <td>No</td>\n",
       "    </tr>\n",
       "    <tr>\n",
       "      <th>145456</th>\n",
       "      <td>2017-06-22</td>\n",
       "      <td>Uluru</td>\n",
       "      <td>3.6</td>\n",
       "      <td>25.3</td>\n",
       "      <td>0.0</td>\n",
       "      <td>NaN</td>\n",
       "      <td>NaN</td>\n",
       "      <td>NNW</td>\n",
       "      <td>22.0</td>\n",
       "      <td>SE</td>\n",
       "      <td>...</td>\n",
       "      <td>56.0</td>\n",
       "      <td>21.0</td>\n",
       "      <td>1023.5</td>\n",
       "      <td>1019.1</td>\n",
       "      <td>NaN</td>\n",
       "      <td>NaN</td>\n",
       "      <td>10.9</td>\n",
       "      <td>24.5</td>\n",
       "      <td>No</td>\n",
       "      <td>No</td>\n",
       "    </tr>\n",
       "    <tr>\n",
       "      <th>145457</th>\n",
       "      <td>2017-06-23</td>\n",
       "      <td>Uluru</td>\n",
       "      <td>5.4</td>\n",
       "      <td>26.9</td>\n",
       "      <td>0.0</td>\n",
       "      <td>NaN</td>\n",
       "      <td>NaN</td>\n",
       "      <td>N</td>\n",
       "      <td>37.0</td>\n",
       "      <td>SE</td>\n",
       "      <td>...</td>\n",
       "      <td>53.0</td>\n",
       "      <td>24.0</td>\n",
       "      <td>1021.0</td>\n",
       "      <td>1016.8</td>\n",
       "      <td>NaN</td>\n",
       "      <td>NaN</td>\n",
       "      <td>12.5</td>\n",
       "      <td>26.1</td>\n",
       "      <td>No</td>\n",
       "      <td>No</td>\n",
       "    </tr>\n",
       "    <tr>\n",
       "      <th>145458</th>\n",
       "      <td>2017-06-24</td>\n",
       "      <td>Uluru</td>\n",
       "      <td>7.8</td>\n",
       "      <td>27.0</td>\n",
       "      <td>0.0</td>\n",
       "      <td>NaN</td>\n",
       "      <td>NaN</td>\n",
       "      <td>SE</td>\n",
       "      <td>28.0</td>\n",
       "      <td>SSE</td>\n",
       "      <td>...</td>\n",
       "      <td>51.0</td>\n",
       "      <td>24.0</td>\n",
       "      <td>1019.4</td>\n",
       "      <td>1016.5</td>\n",
       "      <td>3.0</td>\n",
       "      <td>2.0</td>\n",
       "      <td>15.1</td>\n",
       "      <td>26.0</td>\n",
       "      <td>No</td>\n",
       "      <td>No</td>\n",
       "    </tr>\n",
       "    <tr>\n",
       "      <th>145459</th>\n",
       "      <td>2017-06-25</td>\n",
       "      <td>Uluru</td>\n",
       "      <td>14.9</td>\n",
       "      <td>NaN</td>\n",
       "      <td>0.0</td>\n",
       "      <td>NaN</td>\n",
       "      <td>NaN</td>\n",
       "      <td>NaN</td>\n",
       "      <td>NaN</td>\n",
       "      <td>ESE</td>\n",
       "      <td>...</td>\n",
       "      <td>62.0</td>\n",
       "      <td>36.0</td>\n",
       "      <td>1020.2</td>\n",
       "      <td>1017.9</td>\n",
       "      <td>8.0</td>\n",
       "      <td>8.0</td>\n",
       "      <td>15.0</td>\n",
       "      <td>20.9</td>\n",
       "      <td>No</td>\n",
       "      <td>NaN</td>\n",
       "    </tr>\n",
       "  </tbody>\n",
       "</table>\n",
       "<p>145460 rows × 23 columns</p>\n",
       "</div>"
      ],
      "text/plain": [
       "              Date Location  MinTemp  MaxTemp  Rainfall  Evaporation  \\\n",
       "0       2008-12-01   Albury     13.4     22.9       0.6          NaN   \n",
       "1       2008-12-02   Albury      7.4     25.1       0.0          NaN   \n",
       "2       2008-12-03   Albury     12.9     25.7       0.0          NaN   \n",
       "3       2008-12-04   Albury      9.2     28.0       0.0          NaN   \n",
       "4       2008-12-05   Albury     17.5     32.3       1.0          NaN   \n",
       "...            ...      ...      ...      ...       ...          ...   \n",
       "145455  2017-06-21    Uluru      2.8     23.4       0.0          NaN   \n",
       "145456  2017-06-22    Uluru      3.6     25.3       0.0          NaN   \n",
       "145457  2017-06-23    Uluru      5.4     26.9       0.0          NaN   \n",
       "145458  2017-06-24    Uluru      7.8     27.0       0.0          NaN   \n",
       "145459  2017-06-25    Uluru     14.9      NaN       0.0          NaN   \n",
       "\n",
       "        Sunshine WindGustDir  WindGustSpeed WindDir9am  ... Humidity9am  \\\n",
       "0            NaN           W           44.0          W  ...        71.0   \n",
       "1            NaN         WNW           44.0        NNW  ...        44.0   \n",
       "2            NaN         WSW           46.0          W  ...        38.0   \n",
       "3            NaN          NE           24.0         SE  ...        45.0   \n",
       "4            NaN           W           41.0        ENE  ...        82.0   \n",
       "...          ...         ...            ...        ...  ...         ...   \n",
       "145455       NaN           E           31.0         SE  ...        51.0   \n",
       "145456       NaN         NNW           22.0         SE  ...        56.0   \n",
       "145457       NaN           N           37.0         SE  ...        53.0   \n",
       "145458       NaN          SE           28.0        SSE  ...        51.0   \n",
       "145459       NaN         NaN            NaN        ESE  ...        62.0   \n",
       "\n",
       "        Humidity3pm  Pressure9am  Pressure3pm  Cloud9am  Cloud3pm  Temp9am  \\\n",
       "0              22.0       1007.7       1007.1       8.0       NaN     16.9   \n",
       "1              25.0       1010.6       1007.8       NaN       NaN     17.2   \n",
       "2              30.0       1007.6       1008.7       NaN       2.0     21.0   \n",
       "3              16.0       1017.6       1012.8       NaN       NaN     18.1   \n",
       "4              33.0       1010.8       1006.0       7.0       8.0     17.8   \n",
       "...             ...          ...          ...       ...       ...      ...   \n",
       "145455         24.0       1024.6       1020.3       NaN       NaN     10.1   \n",
       "145456         21.0       1023.5       1019.1       NaN       NaN     10.9   \n",
       "145457         24.0       1021.0       1016.8       NaN       NaN     12.5   \n",
       "145458         24.0       1019.4       1016.5       3.0       2.0     15.1   \n",
       "145459         36.0       1020.2       1017.9       8.0       8.0     15.0   \n",
       "\n",
       "        Temp3pm  RainToday  RainTomorrow  \n",
       "0          21.8         No            No  \n",
       "1          24.3         No            No  \n",
       "2          23.2         No            No  \n",
       "3          26.5         No            No  \n",
       "4          29.7         No            No  \n",
       "...         ...        ...           ...  \n",
       "145455     22.4         No            No  \n",
       "145456     24.5         No            No  \n",
       "145457     26.1         No            No  \n",
       "145458     26.0         No            No  \n",
       "145459     20.9         No           NaN  \n",
       "\n",
       "[145460 rows x 23 columns]"
      ]
     },
     "execution_count": 144,
     "metadata": {},
     "output_type": "execute_result"
    }
   ],
   "source": [
    "data=pd.read_csv(\"weatherAUS.csv\")\n",
    "data"
   ]
  },
  {
   "cell_type": "markdown",
   "id": "046e8d9b",
   "metadata": {
    "id": "046e8d9b"
   },
   "source": [
    "### Preprocessing\n",
    "\n",
    "For preprocessing part, I will use the same comes that we used while using Logistic Regression."
   ]
  },
  {
   "cell_type": "code",
   "execution_count": null,
   "id": "20dc8185",
   "metadata": {
    "id": "20dc8185"
   },
   "outputs": [],
   "source": [
    "categorical = [features for features in data.columns if data[features].dtype==object]\n",
    "numerical = [features for features in data.columns if data[features].dtype==float]"
   ]
  },
  {
   "cell_type": "code",
   "execution_count": null,
   "id": "df01d0be",
   "metadata": {
    "id": "df01d0be",
    "outputId": "2cf7e964-5363-496e-c609-e5a9d57dfa86"
   },
   "outputs": [
    {
     "data": {
      "text/html": [
       "<div>\n",
       "<style scoped>\n",
       "    .dataframe tbody tr th:only-of-type {\n",
       "        vertical-align: middle;\n",
       "    }\n",
       "\n",
       "    .dataframe tbody tr th {\n",
       "        vertical-align: top;\n",
       "    }\n",
       "\n",
       "    .dataframe thead th {\n",
       "        text-align: right;\n",
       "    }\n",
       "</style>\n",
       "<table border=\"1\" class=\"dataframe\">\n",
       "  <thead>\n",
       "    <tr style=\"text-align: right;\">\n",
       "      <th></th>\n",
       "      <th>MinTemp</th>\n",
       "      <th>MaxTemp</th>\n",
       "      <th>Rainfall</th>\n",
       "      <th>Evaporation</th>\n",
       "      <th>Sunshine</th>\n",
       "      <th>WindGustSpeed</th>\n",
       "      <th>WindSpeed9am</th>\n",
       "      <th>WindSpeed3pm</th>\n",
       "      <th>Humidity9am</th>\n",
       "      <th>Humidity3pm</th>\n",
       "      <th>Pressure9am</th>\n",
       "      <th>Pressure3pm</th>\n",
       "      <th>Cloud9am</th>\n",
       "      <th>Cloud3pm</th>\n",
       "      <th>Temp9am</th>\n",
       "      <th>Temp3pm</th>\n",
       "    </tr>\n",
       "  </thead>\n",
       "  <tbody>\n",
       "    <tr>\n",
       "      <th>0</th>\n",
       "      <td>13.4</td>\n",
       "      <td>22.9</td>\n",
       "      <td>0.6</td>\n",
       "      <td>NaN</td>\n",
       "      <td>NaN</td>\n",
       "      <td>44.0</td>\n",
       "      <td>20.0</td>\n",
       "      <td>24.0</td>\n",
       "      <td>71.0</td>\n",
       "      <td>22.0</td>\n",
       "      <td>1007.7</td>\n",
       "      <td>1007.1</td>\n",
       "      <td>8.0</td>\n",
       "      <td>NaN</td>\n",
       "      <td>16.9</td>\n",
       "      <td>21.8</td>\n",
       "    </tr>\n",
       "    <tr>\n",
       "      <th>1</th>\n",
       "      <td>7.4</td>\n",
       "      <td>25.1</td>\n",
       "      <td>0.0</td>\n",
       "      <td>NaN</td>\n",
       "      <td>NaN</td>\n",
       "      <td>44.0</td>\n",
       "      <td>4.0</td>\n",
       "      <td>22.0</td>\n",
       "      <td>44.0</td>\n",
       "      <td>25.0</td>\n",
       "      <td>1010.6</td>\n",
       "      <td>1007.8</td>\n",
       "      <td>NaN</td>\n",
       "      <td>NaN</td>\n",
       "      <td>17.2</td>\n",
       "      <td>24.3</td>\n",
       "    </tr>\n",
       "    <tr>\n",
       "      <th>2</th>\n",
       "      <td>12.9</td>\n",
       "      <td>25.7</td>\n",
       "      <td>0.0</td>\n",
       "      <td>NaN</td>\n",
       "      <td>NaN</td>\n",
       "      <td>46.0</td>\n",
       "      <td>19.0</td>\n",
       "      <td>26.0</td>\n",
       "      <td>38.0</td>\n",
       "      <td>30.0</td>\n",
       "      <td>1007.6</td>\n",
       "      <td>1008.7</td>\n",
       "      <td>NaN</td>\n",
       "      <td>2.0</td>\n",
       "      <td>21.0</td>\n",
       "      <td>23.2</td>\n",
       "    </tr>\n",
       "    <tr>\n",
       "      <th>3</th>\n",
       "      <td>9.2</td>\n",
       "      <td>28.0</td>\n",
       "      <td>0.0</td>\n",
       "      <td>NaN</td>\n",
       "      <td>NaN</td>\n",
       "      <td>24.0</td>\n",
       "      <td>11.0</td>\n",
       "      <td>9.0</td>\n",
       "      <td>45.0</td>\n",
       "      <td>16.0</td>\n",
       "      <td>1017.6</td>\n",
       "      <td>1012.8</td>\n",
       "      <td>NaN</td>\n",
       "      <td>NaN</td>\n",
       "      <td>18.1</td>\n",
       "      <td>26.5</td>\n",
       "    </tr>\n",
       "    <tr>\n",
       "      <th>4</th>\n",
       "      <td>17.5</td>\n",
       "      <td>32.3</td>\n",
       "      <td>1.0</td>\n",
       "      <td>NaN</td>\n",
       "      <td>NaN</td>\n",
       "      <td>41.0</td>\n",
       "      <td>7.0</td>\n",
       "      <td>20.0</td>\n",
       "      <td>82.0</td>\n",
       "      <td>33.0</td>\n",
       "      <td>1010.8</td>\n",
       "      <td>1006.0</td>\n",
       "      <td>7.0</td>\n",
       "      <td>8.0</td>\n",
       "      <td>17.8</td>\n",
       "      <td>29.7</td>\n",
       "    </tr>\n",
       "  </tbody>\n",
       "</table>\n",
       "</div>"
      ],
      "text/plain": [
       "   MinTemp  MaxTemp  Rainfall  Evaporation  Sunshine  WindGustSpeed  \\\n",
       "0     13.4     22.9       0.6          NaN       NaN           44.0   \n",
       "1      7.4     25.1       0.0          NaN       NaN           44.0   \n",
       "2     12.9     25.7       0.0          NaN       NaN           46.0   \n",
       "3      9.2     28.0       0.0          NaN       NaN           24.0   \n",
       "4     17.5     32.3       1.0          NaN       NaN           41.0   \n",
       "\n",
       "   WindSpeed9am  WindSpeed3pm  Humidity9am  Humidity3pm  Pressure9am  \\\n",
       "0          20.0          24.0         71.0         22.0       1007.7   \n",
       "1           4.0          22.0         44.0         25.0       1010.6   \n",
       "2          19.0          26.0         38.0         30.0       1007.6   \n",
       "3          11.0           9.0         45.0         16.0       1017.6   \n",
       "4           7.0          20.0         82.0         33.0       1010.8   \n",
       "\n",
       "   Pressure3pm  Cloud9am  Cloud3pm  Temp9am  Temp3pm  \n",
       "0       1007.1       8.0       NaN     16.9     21.8  \n",
       "1       1007.8       NaN       NaN     17.2     24.3  \n",
       "2       1008.7       NaN       2.0     21.0     23.2  \n",
       "3       1012.8       NaN       NaN     18.1     26.5  \n",
       "4       1006.0       7.0       8.0     17.8     29.7  "
      ]
     },
     "execution_count": 146,
     "metadata": {},
     "output_type": "execute_result"
    }
   ],
   "source": [
    "data[numerical].head(5)"
   ]
  },
  {
   "cell_type": "code",
   "execution_count": null,
   "id": "15d06450",
   "metadata": {
    "id": "15d06450",
    "outputId": "3272700d-dee1-4d4f-d7bf-95ee9a267a02"
   },
   "outputs": [
    {
     "data": {
      "text/html": [
       "<div>\n",
       "<style scoped>\n",
       "    .dataframe tbody tr th:only-of-type {\n",
       "        vertical-align: middle;\n",
       "    }\n",
       "\n",
       "    .dataframe tbody tr th {\n",
       "        vertical-align: top;\n",
       "    }\n",
       "\n",
       "    .dataframe thead th {\n",
       "        text-align: right;\n",
       "    }\n",
       "</style>\n",
       "<table border=\"1\" class=\"dataframe\">\n",
       "  <thead>\n",
       "    <tr style=\"text-align: right;\">\n",
       "      <th></th>\n",
       "      <th>Date</th>\n",
       "      <th>Location</th>\n",
       "      <th>WindGustDir</th>\n",
       "      <th>WindDir9am</th>\n",
       "      <th>WindDir3pm</th>\n",
       "      <th>RainToday</th>\n",
       "      <th>RainTomorrow</th>\n",
       "    </tr>\n",
       "  </thead>\n",
       "  <tbody>\n",
       "    <tr>\n",
       "      <th>0</th>\n",
       "      <td>2008-12-01</td>\n",
       "      <td>Albury</td>\n",
       "      <td>W</td>\n",
       "      <td>W</td>\n",
       "      <td>WNW</td>\n",
       "      <td>No</td>\n",
       "      <td>No</td>\n",
       "    </tr>\n",
       "    <tr>\n",
       "      <th>1</th>\n",
       "      <td>2008-12-02</td>\n",
       "      <td>Albury</td>\n",
       "      <td>WNW</td>\n",
       "      <td>NNW</td>\n",
       "      <td>WSW</td>\n",
       "      <td>No</td>\n",
       "      <td>No</td>\n",
       "    </tr>\n",
       "    <tr>\n",
       "      <th>2</th>\n",
       "      <td>2008-12-03</td>\n",
       "      <td>Albury</td>\n",
       "      <td>WSW</td>\n",
       "      <td>W</td>\n",
       "      <td>WSW</td>\n",
       "      <td>No</td>\n",
       "      <td>No</td>\n",
       "    </tr>\n",
       "    <tr>\n",
       "      <th>3</th>\n",
       "      <td>2008-12-04</td>\n",
       "      <td>Albury</td>\n",
       "      <td>NE</td>\n",
       "      <td>SE</td>\n",
       "      <td>E</td>\n",
       "      <td>No</td>\n",
       "      <td>No</td>\n",
       "    </tr>\n",
       "    <tr>\n",
       "      <th>4</th>\n",
       "      <td>2008-12-05</td>\n",
       "      <td>Albury</td>\n",
       "      <td>W</td>\n",
       "      <td>ENE</td>\n",
       "      <td>NW</td>\n",
       "      <td>No</td>\n",
       "      <td>No</td>\n",
       "    </tr>\n",
       "  </tbody>\n",
       "</table>\n",
       "</div>"
      ],
      "text/plain": [
       "         Date Location WindGustDir WindDir9am WindDir3pm RainToday  \\\n",
       "0  2008-12-01   Albury           W          W        WNW        No   \n",
       "1  2008-12-02   Albury         WNW        NNW        WSW        No   \n",
       "2  2008-12-03   Albury         WSW          W        WSW        No   \n",
       "3  2008-12-04   Albury          NE         SE          E        No   \n",
       "4  2008-12-05   Albury           W        ENE         NW        No   \n",
       "\n",
       "  RainTomorrow  \n",
       "0           No  \n",
       "1           No  \n",
       "2           No  \n",
       "3           No  \n",
       "4           No  "
      ]
     },
     "execution_count": 147,
     "metadata": {},
     "output_type": "execute_result"
    }
   ],
   "source": [
    "data[categorical].head(5)"
   ]
  },
  {
   "cell_type": "code",
   "execution_count": null,
   "id": "cd252300",
   "metadata": {
    "id": "cd252300"
   },
   "outputs": [],
   "source": [
    "data.drop(['WindGustDir','WindDir9am','WindDir3pm'],axis=1,inplace=True)"
   ]
  },
  {
   "cell_type": "code",
   "execution_count": null,
   "id": "11e3d925",
   "metadata": {
    "id": "11e3d925"
   },
   "outputs": [],
   "source": [
    "def splitdate(data_s):\n",
    "    data_s[\"Date\"] = pd.to_datetime(data_s[\"Date\"]) #convert it to date\n",
    "    data_s[\"Year\"]=data_s[\"Date\"].dt.year # Parsing year \n",
    "    data_s[\"Month\"]=data_s[\"Date\"].dt.month # Parsing month\n",
    "    data_s[\"Day\"]=data_s[\"Date\"].dt.day # Parsing day\n",
    "    data_s =  data_s.drop([\"Date\"], axis=1) # Dropping original Date row\n",
    "    return data_s;"
   ]
  },
  {
   "cell_type": "code",
   "execution_count": null,
   "id": "81f61e57",
   "metadata": {
    "id": "81f61e57"
   },
   "outputs": [],
   "source": [
    "\n",
    "\n",
    "class Convert_Missing(BaseEstimator, TransformerMixin):\n",
    "    def __init__(self,data): # no *args or **kargs\n",
    "        print(\"Transforming in progress...\")\n",
    "        self.data=data;\n",
    "        self.splitted_data=splitdate(data);\n",
    "        self.categorical = [features for features in self.splitted_data.columns if self.splitted_data[features].dtype==object]\n",
    "        self.numerical = [features for features in self.splitted_data.columns if self.splitted_data[features].dtype==float]\n",
    "        self.numerical_int64 = [features for features in self.splitted_data.columns if self.splitted_data[features].dtype=='int64']\n",
    "    def transform(self):\n",
    "        imputer = SimpleImputer(strategy=\"most_frequent\")\n",
    "        features_categorical=imputer.fit_transform(self.splitted_data[self.categorical])\n",
    "        imputer = SimpleImputer(strategy=\"median\")\n",
    "        features_numeric=imputer.fit_transform(self.splitted_data[self.numerical])\n",
    "        concatenated_array=np.concatenate((features_categorical,features_numeric),axis=1)#concatane arrays obtained from imputer\n",
    "        dataframe=pd.DataFrame(concatenated_array, columns=self.categorical+self.numerical) # convert it to dataframe\n",
    "        frames = [dataframe, data[self.numerical_int64]] # combining the dataframe in the previous line and date dataframe \n",
    "        final_dataframe=pd.concat(frames,axis=1)  # concataneting the two dataframes in the previous line\n",
    "        final_dataframe=final_dataframe.loc[:,~final_dataframe.columns.duplicated()]\n",
    "        print(\"Transforming completed\")\n",
    "        return final_dataframe"
   ]
  },
  {
   "cell_type": "code",
   "execution_count": null,
   "id": "c0eff5d4",
   "metadata": {
    "id": "c0eff5d4"
   },
   "outputs": [],
   "source": [
    "le=LabelEncoder()\n",
    "def One_Hot_Encoder(data):\n",
    "    numerical = [features for features in data.columns if data[features].dtype==float]  # getting names of numerical columns\n",
    "    categorical = [features for features in data.columns if data[features].dtype==object] # getting names of categorical columns\n",
    "    numerical_int64 = [features for features in data.columns if data[features].dtype=='int64']\n",
    "    data=pd.concat([data[numerical],data[categorical],data[numerical_int64],pd.get_dummies(data.Location)],axis=1)\n",
    "    data[\"RainToday\"]=le.fit_transform(data[\"RainToday\"])\n",
    "    data.drop(['Location'],axis=1,inplace=True)\n",
    "    return data;"
   ]
  },
  {
   "cell_type": "code",
   "execution_count": null,
   "id": "8a73d0a5",
   "metadata": {
    "id": "8a73d0a5"
   },
   "outputs": [],
   "source": [
    "def scaleandmerge(data): \n",
    "    scaler = StandardScaler()\n",
    "    numerical_data = scaler.fit_transform(data[numerical])\n",
    "    numerical_data = pd.DataFrame(numerical_data)\n",
    "    data.drop(numerical,axis=1,inplace=True)\n",
    "    data_processed=pd.concat([numerical_data, data],axis=1) \n",
    "    return data_processed"
   ]
  },
  {
   "cell_type": "code",
   "execution_count": null,
   "id": "3d54f0ed",
   "metadata": {
    "id": "3d54f0ed"
   },
   "outputs": [],
   "source": [
    "def combinedprocessing(data):\n",
    "    missing_transformer=Convert_Missing(data)\n",
    "    data1=missing_transformer.transform()\n",
    "    data2=One_Hot_Encoder(data1)\n",
    "    data3=scaleandmerge(data2)\n",
    "    return data3;"
   ]
  },
  {
   "cell_type": "code",
   "execution_count": null,
   "id": "d3b3334f",
   "metadata": {
    "id": "d3b3334f"
   },
   "outputs": [],
   "source": [
    "def df_column_uniquify(df):\n",
    "    df_columns = df.columns\n",
    "    new_columns = []\n",
    "    for item in df_columns:\n",
    "        counter = 0\n",
    "        newitem = item\n",
    "        while newitem in new_columns:\n",
    "            counter += 1\n",
    "            newitem = \"{}_{}\".format(item, counter)\n",
    "        new_columns.append(newitem)\n",
    "    df.columns = new_columns\n",
    "    return df"
   ]
  },
  {
   "cell_type": "markdown",
   "id": "6d67ef09",
   "metadata": {
    "id": "6d67ef09"
   },
   "source": [
    "Let's use the function above to process the data."
   ]
  },
  {
   "cell_type": "code",
   "execution_count": null,
   "id": "d8f040a6",
   "metadata": {
    "id": "d8f040a6",
    "outputId": "29bb338d-9445-425d-c9c0-9ad815da831f"
   },
   "outputs": [
    {
     "name": "stdout",
     "output_type": "stream",
     "text": [
      "Transforming in progress...\n",
      "Transforming completed\n"
     ]
    }
   ],
   "source": [
    "numerical = [features for features in data.columns if data[features].dtype==float]\n",
    "data_processed=combinedprocessing(data)\n",
    "data_processed=df_column_uniquify(data_processed)"
   ]
  },
  {
   "cell_type": "markdown",
   "id": "ab01a6ba",
   "metadata": {
    "id": "ab01a6ba"
   },
   "source": [
    "Now I will encode target feature and use `train_test_split()`"
   ]
  },
  {
   "cell_type": "code",
   "execution_count": null,
   "id": "f5c18f79",
   "metadata": {
    "id": "f5c18f79"
   },
   "outputs": [],
   "source": [
    "le=LabelEncoder()\n",
    "target=le.fit_transform(data_processed[\"RainTomorrow\"])\n",
    "data_processed.drop([\"RainTomorrow\"],axis=1,inplace=True)\n",
    "\n",
    "X_train, X_test, y_train, y_test = train_test_split(data_processed, target, test_size = 0.2, random_state = 42)"
   ]
  },
  {
   "cell_type": "markdown",
   "id": "4dd786b1",
   "metadata": {
    "id": "4dd786b1"
   },
   "source": [
    "In the 4th notebook of Logistic Regression OverSampled dataset provided us the best accuracy, therefore,  I will also use `RandomOverSampler()` for this exercise. "
   ]
  },
  {
   "cell_type": "code",
   "execution_count": null,
   "id": "231e88ce",
   "metadata": {
    "id": "231e88ce"
   },
   "outputs": [],
   "source": [
    "oversampler_float = RandomOverSampler(sampling_strategy=0.4,random_state=42)\n",
    "X_rosfloat, yrosfloat = oversampler_float.fit_resample(X_train,y_train)"
   ]
  },
  {
   "cell_type": "markdown",
   "id": "36b29a5d",
   "metadata": {
    "id": "36b29a5d"
   },
   "source": [
    "### Training the Model"
   ]
  },
  {
   "cell_type": "markdown",
   "id": "95cc1672",
   "metadata": {
    "id": "95cc1672"
   },
   "source": [
    "Now it is time for the training part. I will use `LinearSVC()`. The reason for using LinearSVC is time complexity. I will also use `RepeatedStratifiedKFold()` and if I use SVC() or NuSVC() that would take a big time to train the algorithm (I actually tried it and after 7 hours hyperparameter tuning wasn't even on half the way). I will use `RandomizedSearchCV()` instead of GridSearchCV() again for not spending much time on hyperparameter tuning and then I will add PolynomialFeatures() to our data and fit the best model returned from RandomizedSearchCV() on this new data. If I firstly added the PolynomialFeatures() and then trained the algorithm that would take a long time to tune the hyperparameters as well. My aim here is to have a clue about what to set the parameters of LinearSVC() by using RandomizedSearchCV() and then I will try to improve the model a bit further manually."
   ]
  },
  {
   "cell_type": "code",
   "execution_count": null,
   "id": "149ec5ba",
   "metadata": {
    "id": "149ec5ba"
   },
   "outputs": [],
   "source": [
    "params = {\n",
    "    'C':[0.50,1,3,10,50,100],\n",
    "    'penalty': [\"l2\",\"l1\"],\n",
    "    'loss': [\"hinge\",\"squared_hinge\"],\n",
    "    'fit_intercept':[True,False],\n",
    "    'dual':[True,False],\n",
    "    \n",
    "}"
   ]
  },
  {
   "cell_type": "code",
   "execution_count": null,
   "id": "c30a84ab",
   "metadata": {
    "id": "c30a84ab"
   },
   "outputs": [],
   "source": [
    "skf=RepeatedStratifiedKFold(n_splits=10, n_repeats=3, random_state=42)"
   ]
  },
  {
   "cell_type": "code",
   "execution_count": null,
   "id": "f8d5a5ae",
   "metadata": {
    "id": "f8d5a5ae"
   },
   "outputs": [],
   "source": [
    "rscv=RandomizedSearchCV(LinearSVC(), params, cv=skf,verbose=2,scoring=\"accuracy\")"
   ]
  },
  {
   "cell_type": "code",
   "execution_count": null,
   "id": "3a0bfa65",
   "metadata": {
    "id": "3a0bfa65",
    "outputId": "ef8fb20d-c7a5-40a2-8ce0-7dea5cb85c61",
    "scrolled": true
   },
   "outputs": [
    {
     "name": "stdout",
     "output_type": "stream",
     "text": [
      "Fitting 30 folds for each of 10 candidates, totalling 300 fits\n",
      "[CV] END C=10, dual=False, fit_intercept=True, loss=squared_hinge, penalty=l1; total time=   1.3s\n",
      "[CV] END C=10, dual=False, fit_intercept=True, loss=squared_hinge, penalty=l1; total time=   1.5s\n",
      "[CV] END C=10, dual=False, fit_intercept=True, loss=squared_hinge, penalty=l1; total time=   2.3s\n",
      "[CV] END C=10, dual=False, fit_intercept=True, loss=squared_hinge, penalty=l1; total time=   0.9s\n",
      "[CV] END C=10, dual=False, fit_intercept=True, loss=squared_hinge, penalty=l1; total time=   1.1s\n",
      "[CV] END C=10, dual=False, fit_intercept=True, loss=squared_hinge, penalty=l1; total time=   3.7s\n",
      "[CV] END C=10, dual=False, fit_intercept=True, loss=squared_hinge, penalty=l1; total time=   0.8s\n",
      "[CV] END C=10, dual=False, fit_intercept=True, loss=squared_hinge, penalty=l1; total time=   2.1s\n",
      "[CV] END C=10, dual=False, fit_intercept=True, loss=squared_hinge, penalty=l1; total time=   1.5s\n",
      "[CV] END C=10, dual=False, fit_intercept=True, loss=squared_hinge, penalty=l1; total time=   1.0s\n",
      "[CV] END C=10, dual=False, fit_intercept=True, loss=squared_hinge, penalty=l1; total time=   2.8s\n",
      "[CV] END C=10, dual=False, fit_intercept=True, loss=squared_hinge, penalty=l1; total time=   1.9s\n",
      "[CV] END C=10, dual=False, fit_intercept=True, loss=squared_hinge, penalty=l1; total time=   1.5s\n",
      "[CV] END C=10, dual=False, fit_intercept=True, loss=squared_hinge, penalty=l1; total time=   1.9s\n",
      "[CV] END C=10, dual=False, fit_intercept=True, loss=squared_hinge, penalty=l1; total time=   2.4s\n",
      "[CV] END C=10, dual=False, fit_intercept=True, loss=squared_hinge, penalty=l1; total time=   0.5s\n",
      "[CV] END C=10, dual=False, fit_intercept=True, loss=squared_hinge, penalty=l1; total time=   2.4s\n",
      "[CV] END C=10, dual=False, fit_intercept=True, loss=squared_hinge, penalty=l1; total time=  11.5s\n",
      "[CV] END C=10, dual=False, fit_intercept=True, loss=squared_hinge, penalty=l1; total time=   0.7s\n",
      "[CV] END C=10, dual=False, fit_intercept=True, loss=squared_hinge, penalty=l1; total time=   2.0s\n",
      "[CV] END C=10, dual=False, fit_intercept=True, loss=squared_hinge, penalty=l1; total time=   1.3s\n",
      "[CV] END C=10, dual=False, fit_intercept=True, loss=squared_hinge, penalty=l1; total time=   1.6s\n",
      "[CV] END C=10, dual=False, fit_intercept=True, loss=squared_hinge, penalty=l1; total time=   1.2s\n",
      "[CV] END C=10, dual=False, fit_intercept=True, loss=squared_hinge, penalty=l1; total time=   2.8s\n",
      "[CV] END C=10, dual=False, fit_intercept=True, loss=squared_hinge, penalty=l1; total time=   1.0s\n",
      "[CV] END C=10, dual=False, fit_intercept=True, loss=squared_hinge, penalty=l1; total time=   1.0s\n",
      "[CV] END C=10, dual=False, fit_intercept=True, loss=squared_hinge, penalty=l1; total time=   1.8s\n",
      "[CV] END C=10, dual=False, fit_intercept=True, loss=squared_hinge, penalty=l1; total time=   1.6s\n",
      "[CV] END C=10, dual=False, fit_intercept=True, loss=squared_hinge, penalty=l1; total time=   0.5s\n",
      "[CV] END C=10, dual=False, fit_intercept=True, loss=squared_hinge, penalty=l1; total time=   1.8s\n",
      "[CV] END C=3, dual=True, fit_intercept=False, loss=hinge, penalty=l2; total time=  53.8s\n",
      "[CV] END C=3, dual=True, fit_intercept=False, loss=hinge, penalty=l2; total time=  42.1s\n",
      "[CV] END C=3, dual=True, fit_intercept=False, loss=hinge, penalty=l2; total time=  34.8s\n",
      "[CV] END C=3, dual=True, fit_intercept=False, loss=hinge, penalty=l2; total time=  36.5s\n",
      "[CV] END C=3, dual=True, fit_intercept=False, loss=hinge, penalty=l2; total time=  32.2s\n",
      "[CV] END C=3, dual=True, fit_intercept=False, loss=hinge, penalty=l2; total time=  32.3s\n",
      "[CV] END C=3, dual=True, fit_intercept=False, loss=hinge, penalty=l2; total time=  37.4s\n",
      "[CV] END C=3, dual=True, fit_intercept=False, loss=hinge, penalty=l2; total time=  32.9s\n",
      "[CV] END C=3, dual=True, fit_intercept=False, loss=hinge, penalty=l2; total time=  32.1s\n",
      "[CV] END C=3, dual=True, fit_intercept=False, loss=hinge, penalty=l2; total time=  44.7s\n",
      "[CV] END C=3, dual=True, fit_intercept=False, loss=hinge, penalty=l2; total time=  38.5s\n",
      "[CV] END C=3, dual=True, fit_intercept=False, loss=hinge, penalty=l2; total time=  34.4s\n",
      "[CV] END C=3, dual=True, fit_intercept=False, loss=hinge, penalty=l2; total time=  37.7s\n",
      "[CV] END C=3, dual=True, fit_intercept=False, loss=hinge, penalty=l2; total time=  48.5s\n",
      "[CV] END C=3, dual=True, fit_intercept=False, loss=hinge, penalty=l2; total time=  33.9s\n",
      "[CV] END C=3, dual=True, fit_intercept=False, loss=hinge, penalty=l2; total time=  32.7s\n",
      "[CV] END C=3, dual=True, fit_intercept=False, loss=hinge, penalty=l2; total time=  33.7s\n",
      "[CV] END C=3, dual=True, fit_intercept=False, loss=hinge, penalty=l2; total time=  33.8s\n",
      "[CV] END C=3, dual=True, fit_intercept=False, loss=hinge, penalty=l2; total time=  32.6s\n",
      "[CV] END C=3, dual=True, fit_intercept=False, loss=hinge, penalty=l2; total time=  31.5s\n",
      "[CV] END C=3, dual=True, fit_intercept=False, loss=hinge, penalty=l2; total time=  34.9s\n",
      "[CV] END C=3, dual=True, fit_intercept=False, loss=hinge, penalty=l2; total time=  32.0s\n",
      "[CV] END C=3, dual=True, fit_intercept=False, loss=hinge, penalty=l2; total time=  35.7s\n",
      "[CV] END C=3, dual=True, fit_intercept=False, loss=hinge, penalty=l2; total time=  37.3s\n",
      "[CV] END C=3, dual=True, fit_intercept=False, loss=hinge, penalty=l2; total time=  42.6s\n",
      "[CV] END C=3, dual=True, fit_intercept=False, loss=hinge, penalty=l2; total time=  37.5s\n",
      "[CV] END C=3, dual=True, fit_intercept=False, loss=hinge, penalty=l2; total time=  37.1s\n",
      "[CV] END C=3, dual=True, fit_intercept=False, loss=hinge, penalty=l2; total time=  38.3s\n",
      "[CV] END C=3, dual=True, fit_intercept=False, loss=hinge, penalty=l2; total time=  46.2s\n",
      "[CV] END C=3, dual=True, fit_intercept=False, loss=hinge, penalty=l2; total time=  36.3s\n",
      "[CV] END C=0.5, dual=False, fit_intercept=True, loss=squared_hinge, penalty=l1; total time=  13.6s\n",
      "[CV] END C=0.5, dual=False, fit_intercept=True, loss=squared_hinge, penalty=l1; total time=  13.5s\n",
      "[CV] END C=0.5, dual=False, fit_intercept=True, loss=squared_hinge, penalty=l1; total time=  13.3s\n",
      "[CV] END C=0.5, dual=False, fit_intercept=True, loss=squared_hinge, penalty=l1; total time=  13.0s\n",
      "[CV] END C=0.5, dual=False, fit_intercept=True, loss=squared_hinge, penalty=l1; total time=  11.8s\n",
      "[CV] END C=0.5, dual=False, fit_intercept=True, loss=squared_hinge, penalty=l1; total time=  12.3s\n",
      "[CV] END C=0.5, dual=False, fit_intercept=True, loss=squared_hinge, penalty=l1; total time=  12.9s\n",
      "[CV] END C=0.5, dual=False, fit_intercept=True, loss=squared_hinge, penalty=l1; total time=  13.2s\n",
      "[CV] END C=0.5, dual=False, fit_intercept=True, loss=squared_hinge, penalty=l1; total time=  12.7s\n",
      "[CV] END C=0.5, dual=False, fit_intercept=True, loss=squared_hinge, penalty=l1; total time=  11.6s\n",
      "[CV] END C=0.5, dual=False, fit_intercept=True, loss=squared_hinge, penalty=l1; total time=   0.9s\n",
      "[CV] END C=0.5, dual=False, fit_intercept=True, loss=squared_hinge, penalty=l1; total time=  12.6s\n",
      "[CV] END C=0.5, dual=False, fit_intercept=True, loss=squared_hinge, penalty=l1; total time=  14.0s\n",
      "[CV] END C=0.5, dual=False, fit_intercept=True, loss=squared_hinge, penalty=l1; total time=  12.4s\n",
      "[CV] END C=0.5, dual=False, fit_intercept=True, loss=squared_hinge, penalty=l1; total time=  12.1s\n",
      "[CV] END C=0.5, dual=False, fit_intercept=True, loss=squared_hinge, penalty=l1; total time=  11.8s\n",
      "[CV] END C=0.5, dual=False, fit_intercept=True, loss=squared_hinge, penalty=l1; total time=  12.0s\n",
      "[CV] END C=0.5, dual=False, fit_intercept=True, loss=squared_hinge, penalty=l1; total time=  11.8s\n",
      "[CV] END C=0.5, dual=False, fit_intercept=True, loss=squared_hinge, penalty=l1; total time=  12.8s\n",
      "[CV] END C=0.5, dual=False, fit_intercept=True, loss=squared_hinge, penalty=l1; total time=  15.2s\n",
      "[CV] END C=0.5, dual=False, fit_intercept=True, loss=squared_hinge, penalty=l1; total time=   0.6s\n",
      "[CV] END C=0.5, dual=False, fit_intercept=True, loss=squared_hinge, penalty=l1; total time=   1.9s\n",
      "[CV] END C=0.5, dual=False, fit_intercept=True, loss=squared_hinge, penalty=l1; total time=  12.3s\n",
      "[CV] END C=0.5, dual=False, fit_intercept=True, loss=squared_hinge, penalty=l1; total time=  12.2s\n",
      "[CV] END C=0.5, dual=False, fit_intercept=True, loss=squared_hinge, penalty=l1; total time=   0.7s\n",
      "[CV] END C=0.5, dual=False, fit_intercept=True, loss=squared_hinge, penalty=l1; total time=  12.2s\n"
     ]
    },
    {
     "name": "stdout",
     "output_type": "stream",
     "text": [
      "[CV] END C=0.5, dual=False, fit_intercept=True, loss=squared_hinge, penalty=l1; total time=  12.0s\n",
      "[CV] END C=0.5, dual=False, fit_intercept=True, loss=squared_hinge, penalty=l1; total time=  11.9s\n",
      "[CV] END C=0.5, dual=False, fit_intercept=True, loss=squared_hinge, penalty=l1; total time=  12.1s\n",
      "[CV] END C=0.5, dual=False, fit_intercept=True, loss=squared_hinge, penalty=l1; total time=   0.9s\n",
      "[CV] END C=1, dual=False, fit_intercept=True, loss=hinge, penalty=l2; total time=   0.0s\n",
      "[CV] END C=1, dual=False, fit_intercept=True, loss=hinge, penalty=l2; total time=   0.0s\n",
      "[CV] END C=1, dual=False, fit_intercept=True, loss=hinge, penalty=l2; total time=   0.0s\n",
      "[CV] END C=1, dual=False, fit_intercept=True, loss=hinge, penalty=l2; total time=   0.0s\n",
      "[CV] END C=1, dual=False, fit_intercept=True, loss=hinge, penalty=l2; total time=   0.0s\n",
      "[CV] END C=1, dual=False, fit_intercept=True, loss=hinge, penalty=l2; total time=   0.1s\n",
      "[CV] END C=1, dual=False, fit_intercept=True, loss=hinge, penalty=l2; total time=   0.1s\n",
      "[CV] END C=1, dual=False, fit_intercept=True, loss=hinge, penalty=l2; total time=   0.0s\n",
      "[CV] END C=1, dual=False, fit_intercept=True, loss=hinge, penalty=l2; total time=   0.0s\n",
      "[CV] END C=1, dual=False, fit_intercept=True, loss=hinge, penalty=l2; total time=   0.0s\n",
      "[CV] END C=1, dual=False, fit_intercept=True, loss=hinge, penalty=l2; total time=   0.0s\n",
      "[CV] END C=1, dual=False, fit_intercept=True, loss=hinge, penalty=l2; total time=   0.0s\n",
      "[CV] END C=1, dual=False, fit_intercept=True, loss=hinge, penalty=l2; total time=   0.1s\n",
      "[CV] END C=1, dual=False, fit_intercept=True, loss=hinge, penalty=l2; total time=   0.1s\n",
      "[CV] END C=1, dual=False, fit_intercept=True, loss=hinge, penalty=l2; total time=   0.0s\n",
      "[CV] END C=1, dual=False, fit_intercept=True, loss=hinge, penalty=l2; total time=   0.0s\n",
      "[CV] END C=1, dual=False, fit_intercept=True, loss=hinge, penalty=l2; total time=   0.0s\n",
      "[CV] END C=1, dual=False, fit_intercept=True, loss=hinge, penalty=l2; total time=   0.0s\n",
      "[CV] END C=1, dual=False, fit_intercept=True, loss=hinge, penalty=l2; total time=   0.0s\n",
      "[CV] END C=1, dual=False, fit_intercept=True, loss=hinge, penalty=l2; total time=   0.0s\n",
      "[CV] END C=1, dual=False, fit_intercept=True, loss=hinge, penalty=l2; total time=   0.1s\n",
      "[CV] END C=1, dual=False, fit_intercept=True, loss=hinge, penalty=l2; total time=   0.0s\n",
      "[CV] END C=1, dual=False, fit_intercept=True, loss=hinge, penalty=l2; total time=   0.0s\n",
      "[CV] END C=1, dual=False, fit_intercept=True, loss=hinge, penalty=l2; total time=   0.0s\n",
      "[CV] END C=1, dual=False, fit_intercept=True, loss=hinge, penalty=l2; total time=   0.0s\n",
      "[CV] END C=1, dual=False, fit_intercept=True, loss=hinge, penalty=l2; total time=   0.0s\n",
      "[CV] END C=1, dual=False, fit_intercept=True, loss=hinge, penalty=l2; total time=   0.0s\n",
      "[CV] END C=1, dual=False, fit_intercept=True, loss=hinge, penalty=l2; total time=   0.1s\n",
      "[CV] END C=1, dual=False, fit_intercept=True, loss=hinge, penalty=l2; total time=   0.0s\n",
      "[CV] END C=1, dual=False, fit_intercept=True, loss=hinge, penalty=l2; total time=   0.0s\n",
      "[CV] END C=0.5, dual=True, fit_intercept=True, loss=squared_hinge, penalty=l1; total time=   0.0s\n",
      "[CV] END C=0.5, dual=True, fit_intercept=True, loss=squared_hinge, penalty=l1; total time=   0.0s\n",
      "[CV] END C=0.5, dual=True, fit_intercept=True, loss=squared_hinge, penalty=l1; total time=   0.0s\n",
      "[CV] END C=0.5, dual=True, fit_intercept=True, loss=squared_hinge, penalty=l1; total time=   0.1s\n",
      "[CV] END C=0.5, dual=True, fit_intercept=True, loss=squared_hinge, penalty=l1; total time=   0.1s\n",
      "[CV] END C=0.5, dual=True, fit_intercept=True, loss=squared_hinge, penalty=l1; total time=   0.0s\n",
      "[CV] END C=0.5, dual=True, fit_intercept=True, loss=squared_hinge, penalty=l1; total time=   0.0s\n",
      "[CV] END C=0.5, dual=True, fit_intercept=True, loss=squared_hinge, penalty=l1; total time=   0.0s\n",
      "[CV] END C=0.5, dual=True, fit_intercept=True, loss=squared_hinge, penalty=l1; total time=   0.0s\n",
      "[CV] END C=0.5, dual=True, fit_intercept=True, loss=squared_hinge, penalty=l1; total time=   0.0s\n",
      "[CV] END C=0.5, dual=True, fit_intercept=True, loss=squared_hinge, penalty=l1; total time=   0.1s\n",
      "[CV] END C=0.5, dual=True, fit_intercept=True, loss=squared_hinge, penalty=l1; total time=   0.1s\n",
      "[CV] END C=0.5, dual=True, fit_intercept=True, loss=squared_hinge, penalty=l1; total time=   0.0s\n",
      "[CV] END C=0.5, dual=True, fit_intercept=True, loss=squared_hinge, penalty=l1; total time=   0.0s\n",
      "[CV] END C=0.5, dual=True, fit_intercept=True, loss=squared_hinge, penalty=l1; total time=   0.0s\n",
      "[CV] END C=0.5, dual=True, fit_intercept=True, loss=squared_hinge, penalty=l1; total time=   0.0s\n",
      "[CV] END C=0.5, dual=True, fit_intercept=True, loss=squared_hinge, penalty=l1; total time=   0.0s\n",
      "[CV] END C=0.5, dual=True, fit_intercept=True, loss=squared_hinge, penalty=l1; total time=   0.1s\n",
      "[CV] END C=0.5, dual=True, fit_intercept=True, loss=squared_hinge, penalty=l1; total time=   0.1s\n",
      "[CV] END C=0.5, dual=True, fit_intercept=True, loss=squared_hinge, penalty=l1; total time=   0.0s\n",
      "[CV] END C=0.5, dual=True, fit_intercept=True, loss=squared_hinge, penalty=l1; total time=   0.1s\n",
      "[CV] END C=0.5, dual=True, fit_intercept=True, loss=squared_hinge, penalty=l1; total time=   0.0s\n",
      "[CV] END C=0.5, dual=True, fit_intercept=True, loss=squared_hinge, penalty=l1; total time=   0.0s\n",
      "[CV] END C=0.5, dual=True, fit_intercept=True, loss=squared_hinge, penalty=l1; total time=   0.1s\n",
      "[CV] END C=0.5, dual=True, fit_intercept=True, loss=squared_hinge, penalty=l1; total time=   0.1s\n",
      "[CV] END C=0.5, dual=True, fit_intercept=True, loss=squared_hinge, penalty=l1; total time=   0.0s\n",
      "[CV] END C=0.5, dual=True, fit_intercept=True, loss=squared_hinge, penalty=l1; total time=   0.0s\n",
      "[CV] END C=0.5, dual=True, fit_intercept=True, loss=squared_hinge, penalty=l1; total time=   0.0s\n",
      "[CV] END C=0.5, dual=True, fit_intercept=True, loss=squared_hinge, penalty=l1; total time=   0.0s\n",
      "[CV] END C=0.5, dual=True, fit_intercept=True, loss=squared_hinge, penalty=l1; total time=   0.0s\n",
      "[CV] END C=100, dual=True, fit_intercept=True, loss=hinge, penalty=l1; total time=   0.1s\n",
      "[CV] END C=100, dual=True, fit_intercept=True, loss=hinge, penalty=l1; total time=   0.1s\n",
      "[CV] END C=100, dual=True, fit_intercept=True, loss=hinge, penalty=l1; total time=   0.0s\n",
      "[CV] END C=100, dual=True, fit_intercept=True, loss=hinge, penalty=l1; total time=   0.0s\n",
      "[CV] END C=100, dual=True, fit_intercept=True, loss=hinge, penalty=l1; total time=   0.0s\n",
      "[CV] END C=100, dual=True, fit_intercept=True, loss=hinge, penalty=l1; total time=   0.0s\n",
      "[CV] END C=100, dual=True, fit_intercept=True, loss=hinge, penalty=l1; total time=   0.0s\n",
      "[CV] END C=100, dual=True, fit_intercept=True, loss=hinge, penalty=l1; total time=   0.0s\n",
      "[CV] END C=100, dual=True, fit_intercept=True, loss=hinge, penalty=l1; total time=   0.1s\n",
      "[CV] END C=100, dual=True, fit_intercept=True, loss=hinge, penalty=l1; total time=   0.0s\n",
      "[CV] END C=100, dual=True, fit_intercept=True, loss=hinge, penalty=l1; total time=   0.0s\n",
      "[CV] END C=100, dual=True, fit_intercept=True, loss=hinge, penalty=l1; total time=   0.0s\n",
      "[CV] END C=100, dual=True, fit_intercept=True, loss=hinge, penalty=l1; total time=   0.0s\n",
      "[CV] END C=100, dual=True, fit_intercept=True, loss=hinge, penalty=l1; total time=   0.0s\n",
      "[CV] END C=100, dual=True, fit_intercept=True, loss=hinge, penalty=l1; total time=   0.1s\n",
      "[CV] END C=100, dual=True, fit_intercept=True, loss=hinge, penalty=l1; total time=   0.1s\n",
      "[CV] END C=100, dual=True, fit_intercept=True, loss=hinge, penalty=l1; total time=   0.0s\n",
      "[CV] END C=100, dual=True, fit_intercept=True, loss=hinge, penalty=l1; total time=   0.0s\n",
      "[CV] END C=100, dual=True, fit_intercept=True, loss=hinge, penalty=l1; total time=   0.0s\n",
      "[CV] END C=100, dual=True, fit_intercept=True, loss=hinge, penalty=l1; total time=   0.0s\n",
      "[CV] END C=100, dual=True, fit_intercept=True, loss=hinge, penalty=l1; total time=   0.0s\n",
      "[CV] END C=100, dual=True, fit_intercept=True, loss=hinge, penalty=l1; total time=   0.1s\n",
      "[CV] END C=100, dual=True, fit_intercept=True, loss=hinge, penalty=l1; total time=   0.1s\n",
      "[CV] END C=100, dual=True, fit_intercept=True, loss=hinge, penalty=l1; total time=   0.0s\n",
      "[CV] END C=100, dual=True, fit_intercept=True, loss=hinge, penalty=l1; total time=   0.0s\n"
     ]
    },
    {
     "name": "stdout",
     "output_type": "stream",
     "text": [
      "[CV] END C=100, dual=True, fit_intercept=True, loss=hinge, penalty=l1; total time=   0.0s\n",
      "[CV] END C=100, dual=True, fit_intercept=True, loss=hinge, penalty=l1; total time=   0.0s\n",
      "[CV] END C=100, dual=True, fit_intercept=True, loss=hinge, penalty=l1; total time=   0.0s\n",
      "[CV] END C=100, dual=True, fit_intercept=True, loss=hinge, penalty=l1; total time=   0.0s\n",
      "[CV] END C=100, dual=True, fit_intercept=True, loss=hinge, penalty=l1; total time=   0.1s\n",
      "[CV] END C=100, dual=False, fit_intercept=False, loss=squared_hinge, penalty=l2; total time=   0.8s\n",
      "[CV] END C=100, dual=False, fit_intercept=False, loss=squared_hinge, penalty=l2; total time=   0.9s\n",
      "[CV] END C=100, dual=False, fit_intercept=False, loss=squared_hinge, penalty=l2; total time=   0.9s\n",
      "[CV] END C=100, dual=False, fit_intercept=False, loss=squared_hinge, penalty=l2; total time=   0.9s\n",
      "[CV] END C=100, dual=False, fit_intercept=False, loss=squared_hinge, penalty=l2; total time=   0.9s\n",
      "[CV] END C=100, dual=False, fit_intercept=False, loss=squared_hinge, penalty=l2; total time=   0.9s\n",
      "[CV] END C=100, dual=False, fit_intercept=False, loss=squared_hinge, penalty=l2; total time=   1.3s\n",
      "[CV] END C=100, dual=False, fit_intercept=False, loss=squared_hinge, penalty=l2; total time=   0.9s\n",
      "[CV] END C=100, dual=False, fit_intercept=False, loss=squared_hinge, penalty=l2; total time=   0.9s\n",
      "[CV] END C=100, dual=False, fit_intercept=False, loss=squared_hinge, penalty=l2; total time=   1.0s\n",
      "[CV] END C=100, dual=False, fit_intercept=False, loss=squared_hinge, penalty=l2; total time=   0.9s\n",
      "[CV] END C=100, dual=False, fit_intercept=False, loss=squared_hinge, penalty=l2; total time=   1.2s\n",
      "[CV] END C=100, dual=False, fit_intercept=False, loss=squared_hinge, penalty=l2; total time=   1.0s\n",
      "[CV] END C=100, dual=False, fit_intercept=False, loss=squared_hinge, penalty=l2; total time=   0.9s\n",
      "[CV] END C=100, dual=False, fit_intercept=False, loss=squared_hinge, penalty=l2; total time=   1.1s\n",
      "[CV] END C=100, dual=False, fit_intercept=False, loss=squared_hinge, penalty=l2; total time=   1.0s\n",
      "[CV] END C=100, dual=False, fit_intercept=False, loss=squared_hinge, penalty=l2; total time=   1.2s\n",
      "[CV] END C=100, dual=False, fit_intercept=False, loss=squared_hinge, penalty=l2; total time=   1.1s\n",
      "[CV] END C=100, dual=False, fit_intercept=False, loss=squared_hinge, penalty=l2; total time=   1.0s\n",
      "[CV] END C=100, dual=False, fit_intercept=False, loss=squared_hinge, penalty=l2; total time=   1.0s\n",
      "[CV] END C=100, dual=False, fit_intercept=False, loss=squared_hinge, penalty=l2; total time=   1.3s\n",
      "[CV] END C=100, dual=False, fit_intercept=False, loss=squared_hinge, penalty=l2; total time=   1.4s\n",
      "[CV] END C=100, dual=False, fit_intercept=False, loss=squared_hinge, penalty=l2; total time=   1.1s\n",
      "[CV] END C=100, dual=False, fit_intercept=False, loss=squared_hinge, penalty=l2; total time=   1.2s\n",
      "[CV] END C=100, dual=False, fit_intercept=False, loss=squared_hinge, penalty=l2; total time=   1.3s\n",
      "[CV] END C=100, dual=False, fit_intercept=False, loss=squared_hinge, penalty=l2; total time=   1.0s\n",
      "[CV] END C=100, dual=False, fit_intercept=False, loss=squared_hinge, penalty=l2; total time=   1.0s\n",
      "[CV] END C=100, dual=False, fit_intercept=False, loss=squared_hinge, penalty=l2; total time=   0.9s\n",
      "[CV] END C=100, dual=False, fit_intercept=False, loss=squared_hinge, penalty=l2; total time=   1.1s\n",
      "[CV] END C=100, dual=False, fit_intercept=False, loss=squared_hinge, penalty=l2; total time=   1.0s\n",
      "[CV] END C=1, dual=True, fit_intercept=True, loss=hinge, penalty=l1; total time=   0.1s\n",
      "[CV] END C=1, dual=True, fit_intercept=True, loss=hinge, penalty=l1; total time=   0.0s\n",
      "[CV] END C=1, dual=True, fit_intercept=True, loss=hinge, penalty=l1; total time=   0.1s\n",
      "[CV] END C=1, dual=True, fit_intercept=True, loss=hinge, penalty=l1; total time=   0.0s\n",
      "[CV] END C=1, dual=True, fit_intercept=True, loss=hinge, penalty=l1; total time=   0.0s\n",
      "[CV] END C=1, dual=True, fit_intercept=True, loss=hinge, penalty=l1; total time=   0.0s\n",
      "[CV] END C=1, dual=True, fit_intercept=True, loss=hinge, penalty=l1; total time=   0.0s\n",
      "[CV] END C=1, dual=True, fit_intercept=True, loss=hinge, penalty=l1; total time=   0.0s\n",
      "[CV] END C=1, dual=True, fit_intercept=True, loss=hinge, penalty=l1; total time=   0.0s\n",
      "[CV] END C=1, dual=True, fit_intercept=True, loss=hinge, penalty=l1; total time=   0.1s\n",
      "[CV] END C=1, dual=True, fit_intercept=True, loss=hinge, penalty=l1; total time=   0.1s\n",
      "[CV] END C=1, dual=True, fit_intercept=True, loss=hinge, penalty=l1; total time=   0.0s\n",
      "[CV] END C=1, dual=True, fit_intercept=True, loss=hinge, penalty=l1; total time=   0.0s\n",
      "[CV] END C=1, dual=True, fit_intercept=True, loss=hinge, penalty=l1; total time=   0.0s\n",
      "[CV] END C=1, dual=True, fit_intercept=True, loss=hinge, penalty=l1; total time=   0.0s\n",
      "[CV] END C=1, dual=True, fit_intercept=True, loss=hinge, penalty=l1; total time=   0.0s\n",
      "[CV] END C=1, dual=True, fit_intercept=True, loss=hinge, penalty=l1; total time=   0.1s\n",
      "[CV] END C=1, dual=True, fit_intercept=True, loss=hinge, penalty=l1; total time=   0.0s\n",
      "[CV] END C=1, dual=True, fit_intercept=True, loss=hinge, penalty=l1; total time=   0.0s\n",
      "[CV] END C=1, dual=True, fit_intercept=True, loss=hinge, penalty=l1; total time=   0.0s\n",
      "[CV] END C=1, dual=True, fit_intercept=True, loss=hinge, penalty=l1; total time=   0.0s\n",
      "[CV] END C=1, dual=True, fit_intercept=True, loss=hinge, penalty=l1; total time=   0.0s\n",
      "[CV] END C=1, dual=True, fit_intercept=True, loss=hinge, penalty=l1; total time=   0.0s\n",
      "[CV] END C=1, dual=True, fit_intercept=True, loss=hinge, penalty=l1; total time=   0.1s\n",
      "[CV] END C=1, dual=True, fit_intercept=True, loss=hinge, penalty=l1; total time=   0.1s\n",
      "[CV] END C=1, dual=True, fit_intercept=True, loss=hinge, penalty=l1; total time=   0.0s\n",
      "[CV] END C=1, dual=True, fit_intercept=True, loss=hinge, penalty=l1; total time=   0.0s\n",
      "[CV] END C=1, dual=True, fit_intercept=True, loss=hinge, penalty=l1; total time=   0.0s\n",
      "[CV] END C=1, dual=True, fit_intercept=True, loss=hinge, penalty=l1; total time=   0.0s\n",
      "[CV] END C=1, dual=True, fit_intercept=True, loss=hinge, penalty=l1; total time=   0.0s\n",
      "[CV] END C=100, dual=True, fit_intercept=True, loss=hinge, penalty=l2; total time=  35.3s\n",
      "[CV] END C=100, dual=True, fit_intercept=True, loss=hinge, penalty=l2; total time=  43.3s\n",
      "[CV] END C=100, dual=True, fit_intercept=True, loss=hinge, penalty=l2; total time=  47.3s\n",
      "[CV] END C=100, dual=True, fit_intercept=True, loss=hinge, penalty=l2; total time=  39.9s\n",
      "[CV] END C=100, dual=True, fit_intercept=True, loss=hinge, penalty=l2; total time=  51.1s\n",
      "[CV] END C=100, dual=True, fit_intercept=True, loss=hinge, penalty=l2; total time=  43.8s\n",
      "[CV] END C=100, dual=True, fit_intercept=True, loss=hinge, penalty=l2; total time=  34.9s\n",
      "[CV] END C=100, dual=True, fit_intercept=True, loss=hinge, penalty=l2; total time=  35.0s\n",
      "[CV] END C=100, dual=True, fit_intercept=True, loss=hinge, penalty=l2; total time=  39.0s\n",
      "[CV] END C=100, dual=True, fit_intercept=True, loss=hinge, penalty=l2; total time=  36.4s\n",
      "[CV] END C=100, dual=True, fit_intercept=True, loss=hinge, penalty=l2; total time=  35.8s\n",
      "[CV] END C=100, dual=True, fit_intercept=True, loss=hinge, penalty=l2; total time=  36.6s\n",
      "[CV] END C=100, dual=True, fit_intercept=True, loss=hinge, penalty=l2; total time=  36.1s\n",
      "[CV] END C=100, dual=True, fit_intercept=True, loss=hinge, penalty=l2; total time=  35.3s\n",
      "[CV] END C=100, dual=True, fit_intercept=True, loss=hinge, penalty=l2; total time=  35.1s\n",
      "[CV] END C=100, dual=True, fit_intercept=True, loss=hinge, penalty=l2; total time=  35.8s\n",
      "[CV] END C=100, dual=True, fit_intercept=True, loss=hinge, penalty=l2; total time=  36.2s\n",
      "[CV] END C=100, dual=True, fit_intercept=True, loss=hinge, penalty=l2; total time=  37.4s\n",
      "[CV] END C=100, dual=True, fit_intercept=True, loss=hinge, penalty=l2; total time=  37.1s\n",
      "[CV] END C=100, dual=True, fit_intercept=True, loss=hinge, penalty=l2; total time=  34.0s\n",
      "[CV] END C=100, dual=True, fit_intercept=True, loss=hinge, penalty=l2; total time=  35.2s\n",
      "[CV] END C=100, dual=True, fit_intercept=True, loss=hinge, penalty=l2; total time=  35.0s\n",
      "[CV] END C=100, dual=True, fit_intercept=True, loss=hinge, penalty=l2; total time=  35.5s\n",
      "[CV] END C=100, dual=True, fit_intercept=True, loss=hinge, penalty=l2; total time=  37.4s\n"
     ]
    },
    {
     "name": "stdout",
     "output_type": "stream",
     "text": [
      "[CV] END C=100, dual=True, fit_intercept=True, loss=hinge, penalty=l2; total time=  41.5s\n",
      "[CV] END C=100, dual=True, fit_intercept=True, loss=hinge, penalty=l2; total time=  42.5s\n",
      "[CV] END C=100, dual=True, fit_intercept=True, loss=hinge, penalty=l2; total time=  40.2s\n",
      "[CV] END C=100, dual=True, fit_intercept=True, loss=hinge, penalty=l2; total time=  36.0s\n",
      "[CV] END C=100, dual=True, fit_intercept=True, loss=hinge, penalty=l2; total time=  35.3s\n",
      "[CV] END C=100, dual=True, fit_intercept=True, loss=hinge, penalty=l2; total time=  35.7s\n",
      "[CV] END C=1, dual=True, fit_intercept=True, loss=hinge, penalty=l2; total time=  35.1s\n",
      "[CV] END C=1, dual=True, fit_intercept=True, loss=hinge, penalty=l2; total time=  36.2s\n",
      "[CV] END C=1, dual=True, fit_intercept=True, loss=hinge, penalty=l2; total time=  35.8s\n",
      "[CV] END C=1, dual=True, fit_intercept=True, loss=hinge, penalty=l2; total time=  35.3s\n",
      "[CV] END C=1, dual=True, fit_intercept=True, loss=hinge, penalty=l2; total time=  36.2s\n",
      "[CV] END C=1, dual=True, fit_intercept=True, loss=hinge, penalty=l2; total time=  35.4s\n",
      "[CV] END C=1, dual=True, fit_intercept=True, loss=hinge, penalty=l2; total time=  35.8s\n",
      "[CV] END C=1, dual=True, fit_intercept=True, loss=hinge, penalty=l2; total time=  37.0s\n",
      "[CV] END C=1, dual=True, fit_intercept=True, loss=hinge, penalty=l2; total time=  37.2s\n",
      "[CV] END C=1, dual=True, fit_intercept=True, loss=hinge, penalty=l2; total time=  36.5s\n",
      "[CV] END C=1, dual=True, fit_intercept=True, loss=hinge, penalty=l2; total time=  37.0s\n",
      "[CV] END C=1, dual=True, fit_intercept=True, loss=hinge, penalty=l2; total time=  41.0s\n",
      "[CV] END C=1, dual=True, fit_intercept=True, loss=hinge, penalty=l2; total time=  47.3s\n",
      "[CV] END C=1, dual=True, fit_intercept=True, loss=hinge, penalty=l2; total time=  41.8s\n",
      "[CV] END C=1, dual=True, fit_intercept=True, loss=hinge, penalty=l2; total time=  38.3s\n",
      "[CV] END C=1, dual=True, fit_intercept=True, loss=hinge, penalty=l2; total time=  37.1s\n",
      "[CV] END C=1, dual=True, fit_intercept=True, loss=hinge, penalty=l2; total time=  35.1s\n",
      "[CV] END C=1, dual=True, fit_intercept=True, loss=hinge, penalty=l2; total time=  35.6s\n",
      "[CV] END C=1, dual=True, fit_intercept=True, loss=hinge, penalty=l2; total time=  37.6s\n",
      "[CV] END C=1, dual=True, fit_intercept=True, loss=hinge, penalty=l2; total time=  43.7s\n",
      "[CV] END C=1, dual=True, fit_intercept=True, loss=hinge, penalty=l2; total time=  34.8s\n",
      "[CV] END C=1, dual=True, fit_intercept=True, loss=hinge, penalty=l2; total time=  33.6s\n",
      "[CV] END C=1, dual=True, fit_intercept=True, loss=hinge, penalty=l2; total time=  30.3s\n",
      "[CV] END C=1, dual=True, fit_intercept=True, loss=hinge, penalty=l2; total time=  30.7s\n",
      "[CV] END C=1, dual=True, fit_intercept=True, loss=hinge, penalty=l2; total time=  35.9s\n",
      "[CV] END C=1, dual=True, fit_intercept=True, loss=hinge, penalty=l2; total time=  38.0s\n",
      "[CV] END C=1, dual=True, fit_intercept=True, loss=hinge, penalty=l2; total time=  34.4s\n",
      "[CV] END C=1, dual=True, fit_intercept=True, loss=hinge, penalty=l2; total time=  34.5s\n",
      "[CV] END C=1, dual=True, fit_intercept=True, loss=hinge, penalty=l2; total time=  34.4s\n",
      "[CV] END C=1, dual=True, fit_intercept=True, loss=hinge, penalty=l2; total time=  42.2s\n"
     ]
    }
   ],
   "source": [
    "model=rscv.fit(X_rosfloat,yrosfloat)"
   ]
  },
  {
   "cell_type": "code",
   "execution_count": null,
   "id": "c71739f0",
   "metadata": {
    "id": "c71739f0",
    "outputId": "56cf69be-5742-4647-a4f9-4306f991df57"
   },
   "outputs": [
    {
     "data": {
      "text/plain": [
       "0.8446652000549979"
      ]
     },
     "execution_count": 27,
     "metadata": {},
     "output_type": "execute_result"
    }
   ],
   "source": [
    "accuracy_score(model.predict(X_test),y_test)"
   ]
  },
  {
   "cell_type": "markdown",
   "id": "8837ae18",
   "metadata": {
    "id": "8837ae18"
   },
   "source": [
    "We slightly improved the accuracy compared to logistic regression. Let's also see how other metrics changed."
   ]
  },
  {
   "cell_type": "code",
   "execution_count": null,
   "id": "f5462c34",
   "metadata": {
    "id": "f5462c34",
    "outputId": "24c1e57a-f5af-4d8b-9a89-47a141c4953f"
   },
   "outputs": [
    {
     "data": {
      "text/plain": [
       "<Figure size 720x504 with 0 Axes>"
      ]
     },
     "metadata": {},
     "output_type": "display_data"
    },
    {
     "data": {
      "image/png": "[encoded data removed]",
      "text/plain": [
       "<Figure size 720x504 with 2 Axes>"
      ]
     },
     "metadata": {},
     "output_type": "display_data"
    }
   ],
   "source": [
    "plot_confusion(model.predict(X_test),y_test)"
   ]
  },
  {
   "cell_type": "code",
   "execution_count": null,
   "id": "412154e5",
   "metadata": {
    "id": "412154e5",
    "outputId": "d106f097-5d68-45c9-dcb8-5bac0e9cf929"
   },
   "outputs": [
    {
     "data": {
      "image/png": "[encoded data removed]",
      "text/plain": [
       "<Figure size 720x504 with 1 Axes>"
      ]
     },
     "metadata": {},
     "output_type": "display_data"
    }
   ],
   "source": [
    "plot_precisionvsrecall(model.predict(X_test),y_test)"
   ]
  },
  {
   "cell_type": "markdown",
   "id": "b4c1d8cc",
   "metadata": {
    "id": "b4c1d8cc"
   },
   "source": [
    "Looks like we couldn't improve AUC that much. Let's now get the best parameters and train the model on `PolynomialFeatures()` used version of our data to see if we can improve the model further."
   ]
  },
  {
   "cell_type": "code",
   "execution_count": null,
   "id": "17160677",
   "metadata": {
    "id": "17160677",
    "outputId": "ae438cac-756f-4b52-b387-02536094037c"
   },
   "outputs": [
    {
     "data": {
      "text/plain": [
       "{'penalty': 'l1',\n",
       " 'loss': 'squared_hinge',\n",
       " 'fit_intercept': True,\n",
       " 'dual': False,\n",
       " 'C': 10}"
      ]
     },
     "execution_count": 28,
     "metadata": {},
     "output_type": "execute_result"
    }
   ],
   "source": [
    "model.best_params_"
   ]
  },
  {
   "cell_type": "markdown",
   "id": "9baaf558",
   "metadata": {
    "id": "9baaf558"
   },
   "source": [
    "Now I will add PolynomialFeatures with degree three to scaleandmerge() function and split the dataset again."
   ]
  },
  {
   "cell_type": "code",
   "execution_count": null,
   "id": "f9ea7df9",
   "metadata": {
    "id": "f9ea7df9"
   },
   "outputs": [],
   "source": [
    "def scaleandmerge(data):\n",
    "    numerical_data=PolynomialFeatures(degree=3).fit_transform(data[numerical])\n",
    "    scaler = StandardScaler()\n",
    "    numerical_data = scaler.fit_transform(numerical_data)\n",
    "    numerical_data = pd.DataFrame(numerical_data)\n",
    "    data.drop(numerical,axis=1,inplace=True)\n",
    "    data_processed=pd.concat([numerical_data, data],axis=1) \n",
    "    return data_processed"
   ]
  },
  {
   "cell_type": "code",
   "execution_count": null,
   "id": "4033ac70",
   "metadata": {
    "id": "4033ac70",
    "outputId": "a2144d14-e1ad-454a-de6b-d98239689430"
   },
   "outputs": [
    {
     "name": "stdout",
     "output_type": "stream",
     "text": [
      "Transforming in progress...\n",
      "Transforming completed\n"
     ]
    }
   ],
   "source": [
    "numerical = [features for features in data.columns if data[features].dtype==float]\n",
    "data_processed=combinedprocessing(data)\n",
    "data_processed=df_column_uniquify(data_processed)"
   ]
  },
  {
   "cell_type": "code",
   "execution_count": null,
   "id": "db641b75",
   "metadata": {
    "id": "db641b75"
   },
   "outputs": [],
   "source": [
    "le=LabelEncoder()\n",
    "target=le.fit_transform(data_processed[\"RainTomorrow\"])\n",
    "data_processed.drop([\"RainTomorrow\"],axis=1,inplace=True)\n",
    "\n",
    "X_train, X_test, y_train, y_test = train_test_split(data_processed, target, test_size = 0.2, random_state = 42)\n",
    "X_rosfloat, yrosfloat = oversampler_float.fit_resample(X_train,y_train)"
   ]
  },
  {
   "cell_type": "markdown",
   "id": "b7511bee",
   "metadata": {
    "id": "b7511bee"
   },
   "source": [
    "Let's train the model. I will also add class_weight argument to try improving the result."
   ]
  },
  {
   "cell_type": "code",
   "execution_count": null,
   "id": "40bfc8b3",
   "metadata": {
    "id": "40bfc8b3"
   },
   "outputs": [],
   "source": [
    "modelfit=LinearSVC(penalty=\"l1\",loss=\"squared_hinge\",fit_intercept=True,dual=False,C=50,class_weight={0:1.3,1:1},max_iter=1500).fit(X_rosfloat,yrosfloat)"
   ]
  },
  {
   "cell_type": "code",
   "execution_count": null,
   "id": "b91a8262",
   "metadata": {
    "id": "b91a8262",
    "outputId": "8fd7c1e9-1d33-4bce-e162-dd6d0ef565e2"
   },
   "outputs": [
    {
     "data": {
      "text/plain": [
       "0.8497868829918878"
      ]
     },
     "execution_count": 129,
     "metadata": {},
     "output_type": "execute_result"
    }
   ],
   "source": [
    "accuracy_score(modelfit.predict(X_test),y_test)"
   ]
  },
  {
   "cell_type": "markdown",
   "id": "d6b534ad",
   "metadata": {
    "id": "d6b534ad"
   },
   "source": [
    "We slightly improved the accuracy, let's also see how F1-Score changed."
   ]
  },
  {
   "cell_type": "code",
   "execution_count": null,
   "id": "73a2126b",
   "metadata": {
    "id": "73a2126b",
    "outputId": "0ff220d7-e2a4-455a-ede9-6d91a87ed183"
   },
   "outputs": [
    {
     "data": {
      "text/plain": [
       "<Figure size 720x504 with 0 Axes>"
      ]
     },
     "metadata": {},
     "output_type": "display_data"
    },
    {
     "data": {
      "image/png": "[encoded data removed]",
      "text/plain": [
       "<Figure size 720x504 with 2 Axes>"
      ]
     },
     "metadata": {},
     "output_type": "display_data"
    }
   ],
   "source": [
    "plot_confusion(modelfit.predict(X_test),y_test)"
   ]
  },
  {
   "cell_type": "code",
   "execution_count": null,
   "id": "67bec7bd",
   "metadata": {
    "id": "67bec7bd",
    "outputId": "b094c38e-4ec2-43a1-8cfc-bdba667f3196"
   },
   "outputs": [
    {
     "data": {
      "image/png": "[encoded data removed]",
      "text/plain": [
       "<Figure size 720x504 with 1 Axes>"
      ]
     },
     "metadata": {},
     "output_type": "display_data"
    }
   ],
   "source": [
    "plot_precisionvsrecall(modelfit.predict(X_test),y_test)"
   ]
  },
  {
   "cell_type": "markdown",
   "id": "d9da4a83",
   "metadata": {
    "id": "d9da4a83"
   },
   "source": [
    "Even though we improved the accuracy score, We got lower F1 and AUC scores. In fact we can improve the F1 and AUC scores slightly by setting `scoring=\"f1\"` but I will not do that in this notebook. You can try out different combinations to improve model"
   ]
  },
  {
   "cell_type": "markdown",
   "id": "5fea2855",
   "metadata": {
    "id": "5fea2855"
   },
   "source": [
    "## Adult Census Income Dataset"
   ]
  },
  {
   "cell_type": "markdown",
   "id": "6e0df121",
   "metadata": {
    "id": "6e0df121"
   },
   "source": [
    "Now I will load a famous dataset that we didn't use before. For this dataset our aim will be predicting median house income. You can find more about this dataset [here](https://archive.ics.uci.edu/ml/datasets/adult)."
   ]
  },
  {
   "cell_type": "code",
   "execution_count": null,
   "id": "6450f2be",
   "metadata": {
    "id": "6450f2be",
    "outputId": "09c46fe3-5c7d-4980-d857-1f23468c00ca"
   },
   "outputs": [
    {
     "data": {
      "text/html": [
       "<div>\n",
       "<style scoped>\n",
       "    .dataframe tbody tr th:only-of-type {\n",
       "        vertical-align: middle;\n",
       "    }\n",
       "\n",
       "    .dataframe tbody tr th {\n",
       "        vertical-align: top;\n",
       "    }\n",
       "\n",
       "    .dataframe thead th {\n",
       "        text-align: right;\n",
       "    }\n",
       "</style>\n",
       "<table border=\"1\" class=\"dataframe\">\n",
       "  <thead>\n",
       "    <tr style=\"text-align: right;\">\n",
       "      <th></th>\n",
       "      <th>age</th>\n",
       "      <th>workclass</th>\n",
       "      <th>fnlwgt</th>\n",
       "      <th>education</th>\n",
       "      <th>education.num</th>\n",
       "      <th>marital.status</th>\n",
       "      <th>occupation</th>\n",
       "      <th>relationship</th>\n",
       "      <th>race</th>\n",
       "      <th>sex</th>\n",
       "      <th>capital.gain</th>\n",
       "      <th>capital.loss</th>\n",
       "      <th>hours.per.week</th>\n",
       "      <th>native.country</th>\n",
       "      <th>income</th>\n",
       "    </tr>\n",
       "  </thead>\n",
       "  <tbody>\n",
       "    <tr>\n",
       "      <th>0</th>\n",
       "      <td>90</td>\n",
       "      <td>?</td>\n",
       "      <td>77053</td>\n",
       "      <td>HS-grad</td>\n",
       "      <td>9</td>\n",
       "      <td>Widowed</td>\n",
       "      <td>?</td>\n",
       "      <td>Not-in-family</td>\n",
       "      <td>White</td>\n",
       "      <td>Female</td>\n",
       "      <td>0</td>\n",
       "      <td>4356</td>\n",
       "      <td>40</td>\n",
       "      <td>United-States</td>\n",
       "      <td>&lt;=50K</td>\n",
       "    </tr>\n",
       "    <tr>\n",
       "      <th>1</th>\n",
       "      <td>82</td>\n",
       "      <td>Private</td>\n",
       "      <td>132870</td>\n",
       "      <td>HS-grad</td>\n",
       "      <td>9</td>\n",
       "      <td>Widowed</td>\n",
       "      <td>Exec-managerial</td>\n",
       "      <td>Not-in-family</td>\n",
       "      <td>White</td>\n",
       "      <td>Female</td>\n",
       "      <td>0</td>\n",
       "      <td>4356</td>\n",
       "      <td>18</td>\n",
       "      <td>United-States</td>\n",
       "      <td>&lt;=50K</td>\n",
       "    </tr>\n",
       "    <tr>\n",
       "      <th>2</th>\n",
       "      <td>66</td>\n",
       "      <td>?</td>\n",
       "      <td>186061</td>\n",
       "      <td>Some-college</td>\n",
       "      <td>10</td>\n",
       "      <td>Widowed</td>\n",
       "      <td>?</td>\n",
       "      <td>Unmarried</td>\n",
       "      <td>Black</td>\n",
       "      <td>Female</td>\n",
       "      <td>0</td>\n",
       "      <td>4356</td>\n",
       "      <td>40</td>\n",
       "      <td>United-States</td>\n",
       "      <td>&lt;=50K</td>\n",
       "    </tr>\n",
       "    <tr>\n",
       "      <th>3</th>\n",
       "      <td>54</td>\n",
       "      <td>Private</td>\n",
       "      <td>140359</td>\n",
       "      <td>7th-8th</td>\n",
       "      <td>4</td>\n",
       "      <td>Divorced</td>\n",
       "      <td>Machine-op-inspct</td>\n",
       "      <td>Unmarried</td>\n",
       "      <td>White</td>\n",
       "      <td>Female</td>\n",
       "      <td>0</td>\n",
       "      <td>3900</td>\n",
       "      <td>40</td>\n",
       "      <td>United-States</td>\n",
       "      <td>&lt;=50K</td>\n",
       "    </tr>\n",
       "    <tr>\n",
       "      <th>4</th>\n",
       "      <td>41</td>\n",
       "      <td>Private</td>\n",
       "      <td>264663</td>\n",
       "      <td>Some-college</td>\n",
       "      <td>10</td>\n",
       "      <td>Separated</td>\n",
       "      <td>Prof-specialty</td>\n",
       "      <td>Own-child</td>\n",
       "      <td>White</td>\n",
       "      <td>Female</td>\n",
       "      <td>0</td>\n",
       "      <td>3900</td>\n",
       "      <td>40</td>\n",
       "      <td>United-States</td>\n",
       "      <td>&lt;=50K</td>\n",
       "    </tr>\n",
       "  </tbody>\n",
       "</table>\n",
       "</div>"
      ],
      "text/plain": [
       "   age workclass  fnlwgt     education  education.num marital.status  \\\n",
       "0   90         ?   77053       HS-grad              9        Widowed   \n",
       "1   82   Private  132870       HS-grad              9        Widowed   \n",
       "2   66         ?  186061  Some-college             10        Widowed   \n",
       "3   54   Private  140359       7th-8th              4       Divorced   \n",
       "4   41   Private  264663  Some-college             10      Separated   \n",
       "\n",
       "          occupation   relationship   race     sex  capital.gain  \\\n",
       "0                  ?  Not-in-family  White  Female             0   \n",
       "1    Exec-managerial  Not-in-family  White  Female             0   \n",
       "2                  ?      Unmarried  Black  Female             0   \n",
       "3  Machine-op-inspct      Unmarried  White  Female             0   \n",
       "4     Prof-specialty      Own-child  White  Female             0   \n",
       "\n",
       "   capital.loss  hours.per.week native.country income  \n",
       "0          4356              40  United-States  <=50K  \n",
       "1          4356              18  United-States  <=50K  \n",
       "2          4356              40  United-States  <=50K  \n",
       "3          3900              40  United-States  <=50K  \n",
       "4          3900              40  United-States  <=50K  "
      ]
     },
     "execution_count": 170,
     "metadata": {},
     "output_type": "execute_result"
    }
   ],
   "source": [
    "data=pd.read_csv(\"adult.csv\")\n",
    "data.head(5)"
   ]
  },
  {
   "cell_type": "markdown",
   "id": "32493f99",
   "metadata": {
    "id": "32493f99"
   },
   "source": [
    "Let's get the target feature and drop it from the dataframe."
   ]
  },
  {
   "cell_type": "code",
   "execution_count": null,
   "id": "1dc7daca",
   "metadata": {
    "id": "1dc7daca"
   },
   "outputs": [],
   "source": [
    "target=data[\"income\"]\n",
    "data.drop([\"income\"],axis=1,inplace=True)"
   ]
  },
  {
   "cell_type": "markdown",
   "id": "8c8bd31b",
   "metadata": {
    "id": "8c8bd31b"
   },
   "source": [
    "This dataset is also another dataset which we have class imbalance problem."
   ]
  },
  {
   "cell_type": "code",
   "execution_count": null,
   "id": "c916ff61",
   "metadata": {
    "id": "c916ff61",
    "outputId": "73ac753b-5a7e-476e-f0ff-4eeb897b938c"
   },
   "outputs": [
    {
     "name": "stderr",
     "output_type": "stream",
     "text": [
      "C:\\Users\\gorke\\anaconda3\\lib\\site-packages\\seaborn\\_decorators.py:36: FutureWarning: Pass the following variable as a keyword arg: x. From version 0.12, the only valid positional argument will be `data`, and passing other arguments without an explicit keyword will result in an error or misinterpretation.\n",
      "  warnings.warn(\n"
     ]
    },
    {
     "data": {
      "text/plain": [
       "<AxesSubplot:ylabel='count'>"
      ]
     },
     "execution_count": 192,
     "metadata": {},
     "output_type": "execute_result"
    },
    {
     "data": {
      "image/png": "[encoded data removed]",
      "text/plain": [
       "<Figure size 432x288 with 1 Axes>"
      ]
     },
     "metadata": {},
     "output_type": "display_data"
    }
   ],
   "source": [
    "sns.countplot(target)"
   ]
  },
  {
   "cell_type": "markdown",
   "id": "36f0ce7d",
   "metadata": {
    "id": "36f0ce7d"
   },
   "source": [
    "Let's get numerical features in the dataset and see if they contain any missing value."
   ]
  },
  {
   "cell_type": "code",
   "execution_count": null,
   "id": "4b8a19b8",
   "metadata": {
    "id": "4b8a19b8",
    "outputId": "b5d36f22-5541-435b-e415-c9616d0ca677"
   },
   "outputs": [
    {
     "data": {
      "text/plain": [
       "age               0\n",
       "fnlwgt            0\n",
       "education.num     0\n",
       "capital.gain      0\n",
       "capital.loss      0\n",
       "hours.per.week    0\n",
       "dtype: int64"
      ]
     },
     "execution_count": 172,
     "metadata": {},
     "output_type": "execute_result"
    }
   ],
   "source": [
    "numerical = [features for features in data.columns if data[features].dtype=='int64']\n",
    "data[numerical].isnull().sum()"
   ]
  },
  {
   "cell_type": "markdown",
   "id": "5c045920",
   "metadata": {
    "id": "5c045920"
   },
   "source": [
    "Looks like we don't have any missing value. We can directly use `PolynomialFeatures()` and `StandardScaler()`."
   ]
  },
  {
   "cell_type": "code",
   "execution_count": null,
   "id": "14d3f4f3",
   "metadata": {
    "id": "14d3f4f3"
   },
   "outputs": [],
   "source": [
    "numerical_pf=PolynomialFeatures(degree=2).fit_transform(data[numerical])"
   ]
  },
  {
   "cell_type": "code",
   "execution_count": null,
   "id": "bf8696b6",
   "metadata": {
    "id": "bf8696b6"
   },
   "outputs": [],
   "source": [
    "numerical_scaled=StandardScaler().fit_transform(numerical_pf)\n",
    "numerical_scaled=pd.DataFrame(numerical_scaled)"
   ]
  },
  {
   "cell_type": "markdown",
   "id": "3321966d",
   "metadata": {
    "id": "3321966d"
   },
   "source": [
    "Now I will use get dummies to encode the categorical features."
   ]
  },
  {
   "cell_type": "code",
   "execution_count": null,
   "id": "3580851a",
   "metadata": {
    "id": "3580851a",
    "outputId": "5735c3ce-a85a-4d66-fbf1-ae10a6ff82c2"
   },
   "outputs": [
    {
     "data": {
      "text/html": [
       "<div>\n",
       "<style scoped>\n",
       "    .dataframe tbody tr th:only-of-type {\n",
       "        vertical-align: middle;\n",
       "    }\n",
       "\n",
       "    .dataframe tbody tr th {\n",
       "        vertical-align: top;\n",
       "    }\n",
       "\n",
       "    .dataframe thead th {\n",
       "        text-align: right;\n",
       "    }\n",
       "</style>\n",
       "<table border=\"1\" class=\"dataframe\">\n",
       "  <thead>\n",
       "    <tr style=\"text-align: right;\">\n",
       "      <th></th>\n",
       "      <th>workclass_?</th>\n",
       "      <th>workclass_Federal-gov</th>\n",
       "      <th>workclass_Local-gov</th>\n",
       "      <th>workclass_Never-worked</th>\n",
       "      <th>workclass_Private</th>\n",
       "      <th>workclass_Self-emp-inc</th>\n",
       "      <th>workclass_Self-emp-not-inc</th>\n",
       "      <th>workclass_State-gov</th>\n",
       "      <th>workclass_Without-pay</th>\n",
       "      <th>education_10th</th>\n",
       "      <th>...</th>\n",
       "      <th>native.country_Portugal</th>\n",
       "      <th>native.country_Puerto-Rico</th>\n",
       "      <th>native.country_Scotland</th>\n",
       "      <th>native.country_South</th>\n",
       "      <th>native.country_Taiwan</th>\n",
       "      <th>native.country_Thailand</th>\n",
       "      <th>native.country_Trinadad&amp;Tobago</th>\n",
       "      <th>native.country_United-States</th>\n",
       "      <th>native.country_Vietnam</th>\n",
       "      <th>native.country_Yugoslavia</th>\n",
       "    </tr>\n",
       "  </thead>\n",
       "  <tbody>\n",
       "    <tr>\n",
       "      <th>0</th>\n",
       "      <td>1</td>\n",
       "      <td>0</td>\n",
       "      <td>0</td>\n",
       "      <td>0</td>\n",
       "      <td>0</td>\n",
       "      <td>0</td>\n",
       "      <td>0</td>\n",
       "      <td>0</td>\n",
       "      <td>0</td>\n",
       "      <td>0</td>\n",
       "      <td>...</td>\n",
       "      <td>0</td>\n",
       "      <td>0</td>\n",
       "      <td>0</td>\n",
       "      <td>0</td>\n",
       "      <td>0</td>\n",
       "      <td>0</td>\n",
       "      <td>0</td>\n",
       "      <td>1</td>\n",
       "      <td>0</td>\n",
       "      <td>0</td>\n",
       "    </tr>\n",
       "    <tr>\n",
       "      <th>1</th>\n",
       "      <td>0</td>\n",
       "      <td>0</td>\n",
       "      <td>0</td>\n",
       "      <td>0</td>\n",
       "      <td>1</td>\n",
       "      <td>0</td>\n",
       "      <td>0</td>\n",
       "      <td>0</td>\n",
       "      <td>0</td>\n",
       "      <td>0</td>\n",
       "      <td>...</td>\n",
       "      <td>0</td>\n",
       "      <td>0</td>\n",
       "      <td>0</td>\n",
       "      <td>0</td>\n",
       "      <td>0</td>\n",
       "      <td>0</td>\n",
       "      <td>0</td>\n",
       "      <td>1</td>\n",
       "      <td>0</td>\n",
       "      <td>0</td>\n",
       "    </tr>\n",
       "    <tr>\n",
       "      <th>2</th>\n",
       "      <td>1</td>\n",
       "      <td>0</td>\n",
       "      <td>0</td>\n",
       "      <td>0</td>\n",
       "      <td>0</td>\n",
       "      <td>0</td>\n",
       "      <td>0</td>\n",
       "      <td>0</td>\n",
       "      <td>0</td>\n",
       "      <td>0</td>\n",
       "      <td>...</td>\n",
       "      <td>0</td>\n",
       "      <td>0</td>\n",
       "      <td>0</td>\n",
       "      <td>0</td>\n",
       "      <td>0</td>\n",
       "      <td>0</td>\n",
       "      <td>0</td>\n",
       "      <td>1</td>\n",
       "      <td>0</td>\n",
       "      <td>0</td>\n",
       "    </tr>\n",
       "    <tr>\n",
       "      <th>3</th>\n",
       "      <td>0</td>\n",
       "      <td>0</td>\n",
       "      <td>0</td>\n",
       "      <td>0</td>\n",
       "      <td>1</td>\n",
       "      <td>0</td>\n",
       "      <td>0</td>\n",
       "      <td>0</td>\n",
       "      <td>0</td>\n",
       "      <td>0</td>\n",
       "      <td>...</td>\n",
       "      <td>0</td>\n",
       "      <td>0</td>\n",
       "      <td>0</td>\n",
       "      <td>0</td>\n",
       "      <td>0</td>\n",
       "      <td>0</td>\n",
       "      <td>0</td>\n",
       "      <td>1</td>\n",
       "      <td>0</td>\n",
       "      <td>0</td>\n",
       "    </tr>\n",
       "    <tr>\n",
       "      <th>4</th>\n",
       "      <td>0</td>\n",
       "      <td>0</td>\n",
       "      <td>0</td>\n",
       "      <td>0</td>\n",
       "      <td>1</td>\n",
       "      <td>0</td>\n",
       "      <td>0</td>\n",
       "      <td>0</td>\n",
       "      <td>0</td>\n",
       "      <td>0</td>\n",
       "      <td>...</td>\n",
       "      <td>0</td>\n",
       "      <td>0</td>\n",
       "      <td>0</td>\n",
       "      <td>0</td>\n",
       "      <td>0</td>\n",
       "      <td>0</td>\n",
       "      <td>0</td>\n",
       "      <td>1</td>\n",
       "      <td>0</td>\n",
       "      <td>0</td>\n",
       "    </tr>\n",
       "    <tr>\n",
       "      <th>...</th>\n",
       "      <td>...</td>\n",
       "      <td>...</td>\n",
       "      <td>...</td>\n",
       "      <td>...</td>\n",
       "      <td>...</td>\n",
       "      <td>...</td>\n",
       "      <td>...</td>\n",
       "      <td>...</td>\n",
       "      <td>...</td>\n",
       "      <td>...</td>\n",
       "      <td>...</td>\n",
       "      <td>...</td>\n",
       "      <td>...</td>\n",
       "      <td>...</td>\n",
       "      <td>...</td>\n",
       "      <td>...</td>\n",
       "      <td>...</td>\n",
       "      <td>...</td>\n",
       "      <td>...</td>\n",
       "      <td>...</td>\n",
       "      <td>...</td>\n",
       "    </tr>\n",
       "    <tr>\n",
       "      <th>32556</th>\n",
       "      <td>0</td>\n",
       "      <td>0</td>\n",
       "      <td>0</td>\n",
       "      <td>0</td>\n",
       "      <td>1</td>\n",
       "      <td>0</td>\n",
       "      <td>0</td>\n",
       "      <td>0</td>\n",
       "      <td>0</td>\n",
       "      <td>0</td>\n",
       "      <td>...</td>\n",
       "      <td>0</td>\n",
       "      <td>0</td>\n",
       "      <td>0</td>\n",
       "      <td>0</td>\n",
       "      <td>0</td>\n",
       "      <td>0</td>\n",
       "      <td>0</td>\n",
       "      <td>1</td>\n",
       "      <td>0</td>\n",
       "      <td>0</td>\n",
       "    </tr>\n",
       "    <tr>\n",
       "      <th>32557</th>\n",
       "      <td>0</td>\n",
       "      <td>0</td>\n",
       "      <td>0</td>\n",
       "      <td>0</td>\n",
       "      <td>1</td>\n",
       "      <td>0</td>\n",
       "      <td>0</td>\n",
       "      <td>0</td>\n",
       "      <td>0</td>\n",
       "      <td>0</td>\n",
       "      <td>...</td>\n",
       "      <td>0</td>\n",
       "      <td>0</td>\n",
       "      <td>0</td>\n",
       "      <td>0</td>\n",
       "      <td>0</td>\n",
       "      <td>0</td>\n",
       "      <td>0</td>\n",
       "      <td>1</td>\n",
       "      <td>0</td>\n",
       "      <td>0</td>\n",
       "    </tr>\n",
       "    <tr>\n",
       "      <th>32558</th>\n",
       "      <td>0</td>\n",
       "      <td>0</td>\n",
       "      <td>0</td>\n",
       "      <td>0</td>\n",
       "      <td>1</td>\n",
       "      <td>0</td>\n",
       "      <td>0</td>\n",
       "      <td>0</td>\n",
       "      <td>0</td>\n",
       "      <td>0</td>\n",
       "      <td>...</td>\n",
       "      <td>0</td>\n",
       "      <td>0</td>\n",
       "      <td>0</td>\n",
       "      <td>0</td>\n",
       "      <td>0</td>\n",
       "      <td>0</td>\n",
       "      <td>0</td>\n",
       "      <td>1</td>\n",
       "      <td>0</td>\n",
       "      <td>0</td>\n",
       "    </tr>\n",
       "    <tr>\n",
       "      <th>32559</th>\n",
       "      <td>0</td>\n",
       "      <td>0</td>\n",
       "      <td>0</td>\n",
       "      <td>0</td>\n",
       "      <td>1</td>\n",
       "      <td>0</td>\n",
       "      <td>0</td>\n",
       "      <td>0</td>\n",
       "      <td>0</td>\n",
       "      <td>0</td>\n",
       "      <td>...</td>\n",
       "      <td>0</td>\n",
       "      <td>0</td>\n",
       "      <td>0</td>\n",
       "      <td>0</td>\n",
       "      <td>0</td>\n",
       "      <td>0</td>\n",
       "      <td>0</td>\n",
       "      <td>1</td>\n",
       "      <td>0</td>\n",
       "      <td>0</td>\n",
       "    </tr>\n",
       "    <tr>\n",
       "      <th>32560</th>\n",
       "      <td>0</td>\n",
       "      <td>0</td>\n",
       "      <td>0</td>\n",
       "      <td>0</td>\n",
       "      <td>1</td>\n",
       "      <td>0</td>\n",
       "      <td>0</td>\n",
       "      <td>0</td>\n",
       "      <td>0</td>\n",
       "      <td>0</td>\n",
       "      <td>...</td>\n",
       "      <td>0</td>\n",
       "      <td>0</td>\n",
       "      <td>0</td>\n",
       "      <td>0</td>\n",
       "      <td>0</td>\n",
       "      <td>0</td>\n",
       "      <td>0</td>\n",
       "      <td>1</td>\n",
       "      <td>0</td>\n",
       "      <td>0</td>\n",
       "    </tr>\n",
       "  </tbody>\n",
       "</table>\n",
       "<p>32561 rows × 102 columns</p>\n",
       "</div>"
      ],
      "text/plain": [
       "       workclass_?  workclass_Federal-gov  workclass_Local-gov  \\\n",
       "0                1                      0                    0   \n",
       "1                0                      0                    0   \n",
       "2                1                      0                    0   \n",
       "3                0                      0                    0   \n",
       "4                0                      0                    0   \n",
       "...            ...                    ...                  ...   \n",
       "32556            0                      0                    0   \n",
       "32557            0                      0                    0   \n",
       "32558            0                      0                    0   \n",
       "32559            0                      0                    0   \n",
       "32560            0                      0                    0   \n",
       "\n",
       "       workclass_Never-worked  workclass_Private  workclass_Self-emp-inc  \\\n",
       "0                           0                  0                       0   \n",
       "1                           0                  1                       0   \n",
       "2                           0                  0                       0   \n",
       "3                           0                  1                       0   \n",
       "4                           0                  1                       0   \n",
       "...                       ...                ...                     ...   \n",
       "32556                       0                  1                       0   \n",
       "32557                       0                  1                       0   \n",
       "32558                       0                  1                       0   \n",
       "32559                       0                  1                       0   \n",
       "32560                       0                  1                       0   \n",
       "\n",
       "       workclass_Self-emp-not-inc  workclass_State-gov  workclass_Without-pay  \\\n",
       "0                               0                    0                      0   \n",
       "1                               0                    0                      0   \n",
       "2                               0                    0                      0   \n",
       "3                               0                    0                      0   \n",
       "4                               0                    0                      0   \n",
       "...                           ...                  ...                    ...   \n",
       "32556                           0                    0                      0   \n",
       "32557                           0                    0                      0   \n",
       "32558                           0                    0                      0   \n",
       "32559                           0                    0                      0   \n",
       "32560                           0                    0                      0   \n",
       "\n",
       "       education_10th  ...  native.country_Portugal  \\\n",
       "0                   0  ...                        0   \n",
       "1                   0  ...                        0   \n",
       "2                   0  ...                        0   \n",
       "3                   0  ...                        0   \n",
       "4                   0  ...                        0   \n",
       "...               ...  ...                      ...   \n",
       "32556               0  ...                        0   \n",
       "32557               0  ...                        0   \n",
       "32558               0  ...                        0   \n",
       "32559               0  ...                        0   \n",
       "32560               0  ...                        0   \n",
       "\n",
       "       native.country_Puerto-Rico  native.country_Scotland  \\\n",
       "0                               0                        0   \n",
       "1                               0                        0   \n",
       "2                               0                        0   \n",
       "3                               0                        0   \n",
       "4                               0                        0   \n",
       "...                           ...                      ...   \n",
       "32556                           0                        0   \n",
       "32557                           0                        0   \n",
       "32558                           0                        0   \n",
       "32559                           0                        0   \n",
       "32560                           0                        0   \n",
       "\n",
       "       native.country_South  native.country_Taiwan  native.country_Thailand  \\\n",
       "0                         0                      0                        0   \n",
       "1                         0                      0                        0   \n",
       "2                         0                      0                        0   \n",
       "3                         0                      0                        0   \n",
       "4                         0                      0                        0   \n",
       "...                     ...                    ...                      ...   \n",
       "32556                     0                      0                        0   \n",
       "32557                     0                      0                        0   \n",
       "32558                     0                      0                        0   \n",
       "32559                     0                      0                        0   \n",
       "32560                     0                      0                        0   \n",
       "\n",
       "       native.country_Trinadad&Tobago  native.country_United-States  \\\n",
       "0                                   0                             1   \n",
       "1                                   0                             1   \n",
       "2                                   0                             1   \n",
       "3                                   0                             1   \n",
       "4                                   0                             1   \n",
       "...                               ...                           ...   \n",
       "32556                               0                             1   \n",
       "32557                               0                             1   \n",
       "32558                               0                             1   \n",
       "32559                               0                             1   \n",
       "32560                               0                             1   \n",
       "\n",
       "       native.country_Vietnam  native.country_Yugoslavia  \n",
       "0                           0                          0  \n",
       "1                           0                          0  \n",
       "2                           0                          0  \n",
       "3                           0                          0  \n",
       "4                           0                          0  \n",
       "...                       ...                        ...  \n",
       "32556                       0                          0  \n",
       "32557                       0                          0  \n",
       "32558                       0                          0  \n",
       "32559                       0                          0  \n",
       "32560                       0                          0  \n",
       "\n",
       "[32561 rows x 102 columns]"
      ]
     },
     "execution_count": 175,
     "metadata": {},
     "output_type": "execute_result"
    }
   ],
   "source": [
    "categorical = [features for features in data.columns if data[features].dtype==object]\n",
    "data_dummied=pd.get_dummies(data[categorical], columns = ['workclass', 'education', 'marital.status', 'occupation', 'relationship', 'race', 'sex', 'native.country'])\n",
    "data_dummied"
   ]
  },
  {
   "cell_type": "markdown",
   "id": "196fd1ce",
   "metadata": {
    "id": "196fd1ce"
   },
   "source": [
    "Let's concatenate categorical and numerical features."
   ]
  },
  {
   "cell_type": "code",
   "execution_count": null,
   "id": "ca301674",
   "metadata": {
    "id": "ca301674"
   },
   "outputs": [],
   "source": [
    "concatenated_array=np.concatenate((data_dummied,numerical_scaled),axis=1)"
   ]
  },
  {
   "cell_type": "code",
   "execution_count": null,
   "id": "3e50c7ad",
   "metadata": {
    "id": "3e50c7ad"
   },
   "outputs": [],
   "source": [
    "predictors=pd.DataFrame(concatenated_array,columns=list(data_dummied.columns)+list(numerical_scaled.columns))"
   ]
  },
  {
   "cell_type": "code",
   "execution_count": null,
   "id": "67d18f48",
   "metadata": {
    "id": "67d18f48",
    "outputId": "7859257b-e496-41ed-bec5-0d5993e7901f"
   },
   "outputs": [
    {
     "data": {
      "text/html": [
       "<div>\n",
       "<style scoped>\n",
       "    .dataframe tbody tr th:only-of-type {\n",
       "        vertical-align: middle;\n",
       "    }\n",
       "\n",
       "    .dataframe tbody tr th {\n",
       "        vertical-align: top;\n",
       "    }\n",
       "\n",
       "    .dataframe thead th {\n",
       "        text-align: right;\n",
       "    }\n",
       "</style>\n",
       "<table border=\"1\" class=\"dataframe\">\n",
       "  <thead>\n",
       "    <tr style=\"text-align: right;\">\n",
       "      <th></th>\n",
       "      <th>workclass_?</th>\n",
       "      <th>workclass_Federal-gov</th>\n",
       "      <th>workclass_Local-gov</th>\n",
       "      <th>workclass_Never-worked</th>\n",
       "      <th>workclass_Private</th>\n",
       "      <th>workclass_Self-emp-inc</th>\n",
       "      <th>workclass_Self-emp-not-inc</th>\n",
       "      <th>workclass_State-gov</th>\n",
       "      <th>workclass_Without-pay</th>\n",
       "      <th>education_10th</th>\n",
       "      <th>...</th>\n",
       "      <th>18</th>\n",
       "      <th>19</th>\n",
       "      <th>20</th>\n",
       "      <th>21</th>\n",
       "      <th>22</th>\n",
       "      <th>23</th>\n",
       "      <th>24</th>\n",
       "      <th>25</th>\n",
       "      <th>26</th>\n",
       "      <th>27</th>\n",
       "    </tr>\n",
       "  </thead>\n",
       "  <tbody>\n",
       "    <tr>\n",
       "      <th>0</th>\n",
       "      <td>1.0</td>\n",
       "      <td>0.0</td>\n",
       "      <td>0.0</td>\n",
       "      <td>0.0</td>\n",
       "      <td>0.0</td>\n",
       "      <td>0.0</td>\n",
       "      <td>0.0</td>\n",
       "      <td>0.0</td>\n",
       "      <td>0.0</td>\n",
       "      <td>0.0</td>\n",
       "      <td>...</td>\n",
       "      <td>-0.535093</td>\n",
       "      <td>-0.13662</td>\n",
       "      <td>8.307044</td>\n",
       "      <td>-0.294334</td>\n",
       "      <td>-0.079789</td>\n",
       "      <td>0.0</td>\n",
       "      <td>-0.13498</td>\n",
       "      <td>22.479247</td>\n",
       "      <td>9.291414</td>\n",
       "      <td>-0.172685</td>\n",
       "    </tr>\n",
       "    <tr>\n",
       "      <th>1</th>\n",
       "      <td>0.0</td>\n",
       "      <td>0.0</td>\n",
       "      <td>0.0</td>\n",
       "      <td>0.0</td>\n",
       "      <td>1.0</td>\n",
       "      <td>0.0</td>\n",
       "      <td>0.0</td>\n",
       "      <td>0.0</td>\n",
       "      <td>0.0</td>\n",
       "      <td>0.0</td>\n",
       "      <td>...</td>\n",
       "      <td>-0.535093</td>\n",
       "      <td>-0.13662</td>\n",
       "      <td>8.307044</td>\n",
       "      <td>-1.407741</td>\n",
       "      <td>-0.079789</td>\n",
       "      <td>0.0</td>\n",
       "      <td>-0.13498</td>\n",
       "      <td>22.479247</td>\n",
       "      <td>4.067193</td>\n",
       "      <td>-1.346972</td>\n",
       "    </tr>\n",
       "    <tr>\n",
       "      <th>2</th>\n",
       "      <td>1.0</td>\n",
       "      <td>0.0</td>\n",
       "      <td>0.0</td>\n",
       "      <td>0.0</td>\n",
       "      <td>0.0</td>\n",
       "      <td>0.0</td>\n",
       "      <td>0.0</td>\n",
       "      <td>0.0</td>\n",
       "      <td>0.0</td>\n",
       "      <td>0.0</td>\n",
       "      <td>...</td>\n",
       "      <td>-0.161847</td>\n",
       "      <td>-0.13662</td>\n",
       "      <td>9.253290</td>\n",
       "      <td>-0.069404</td>\n",
       "      <td>-0.079789</td>\n",
       "      <td>0.0</td>\n",
       "      <td>-0.13498</td>\n",
       "      <td>22.479247</td>\n",
       "      <td>9.291414</td>\n",
       "      <td>-0.172685</td>\n",
       "    </tr>\n",
       "    <tr>\n",
       "      <th>3</th>\n",
       "      <td>0.0</td>\n",
       "      <td>0.0</td>\n",
       "      <td>0.0</td>\n",
       "      <td>0.0</td>\n",
       "      <td>1.0</td>\n",
       "      <td>0.0</td>\n",
       "      <td>0.0</td>\n",
       "      <td>0.0</td>\n",
       "      <td>0.0</td>\n",
       "      <td>0.0</td>\n",
       "      <td>...</td>\n",
       "      <td>-1.811989</td>\n",
       "      <td>-0.13662</td>\n",
       "      <td>3.179585</td>\n",
       "      <td>-1.418988</td>\n",
       "      <td>-0.079789</td>\n",
       "      <td>0.0</td>\n",
       "      <td>-0.13498</td>\n",
       "      <td>17.978870</td>\n",
       "      <td>8.297072</td>\n",
       "      <td>-0.172685</td>\n",
       "    </tr>\n",
       "    <tr>\n",
       "      <th>4</th>\n",
       "      <td>0.0</td>\n",
       "      <td>0.0</td>\n",
       "      <td>0.0</td>\n",
       "      <td>0.0</td>\n",
       "      <td>1.0</td>\n",
       "      <td>0.0</td>\n",
       "      <td>0.0</td>\n",
       "      <td>0.0</td>\n",
       "      <td>0.0</td>\n",
       "      <td>0.0</td>\n",
       "      <td>...</td>\n",
       "      <td>-0.161847</td>\n",
       "      <td>-0.13662</td>\n",
       "      <td>8.262729</td>\n",
       "      <td>-0.069404</td>\n",
       "      <td>-0.079789</td>\n",
       "      <td>0.0</td>\n",
       "      <td>-0.13498</td>\n",
       "      <td>17.978870</td>\n",
       "      <td>8.297072</td>\n",
       "      <td>-0.172685</td>\n",
       "    </tr>\n",
       "  </tbody>\n",
       "</table>\n",
       "<p>5 rows × 130 columns</p>\n",
       "</div>"
      ],
      "text/plain": [
       "   workclass_?  workclass_Federal-gov  workclass_Local-gov  \\\n",
       "0          1.0                    0.0                  0.0   \n",
       "1          0.0                    0.0                  0.0   \n",
       "2          1.0                    0.0                  0.0   \n",
       "3          0.0                    0.0                  0.0   \n",
       "4          0.0                    0.0                  0.0   \n",
       "\n",
       "   workclass_Never-worked  workclass_Private  workclass_Self-emp-inc  \\\n",
       "0                     0.0                0.0                     0.0   \n",
       "1                     0.0                1.0                     0.0   \n",
       "2                     0.0                0.0                     0.0   \n",
       "3                     0.0                1.0                     0.0   \n",
       "4                     0.0                1.0                     0.0   \n",
       "\n",
       "   workclass_Self-emp-not-inc  workclass_State-gov  workclass_Without-pay  \\\n",
       "0                         0.0                  0.0                    0.0   \n",
       "1                         0.0                  0.0                    0.0   \n",
       "2                         0.0                  0.0                    0.0   \n",
       "3                         0.0                  0.0                    0.0   \n",
       "4                         0.0                  0.0                    0.0   \n",
       "\n",
       "   education_10th  ...        18       19        20        21        22   23  \\\n",
       "0             0.0  ... -0.535093 -0.13662  8.307044 -0.294334 -0.079789  0.0   \n",
       "1             0.0  ... -0.535093 -0.13662  8.307044 -1.407741 -0.079789  0.0   \n",
       "2             0.0  ... -0.161847 -0.13662  9.253290 -0.069404 -0.079789  0.0   \n",
       "3             0.0  ... -1.811989 -0.13662  3.179585 -1.418988 -0.079789  0.0   \n",
       "4             0.0  ... -0.161847 -0.13662  8.262729 -0.069404 -0.079789  0.0   \n",
       "\n",
       "        24         25        26        27  \n",
       "0 -0.13498  22.479247  9.291414 -0.172685  \n",
       "1 -0.13498  22.479247  4.067193 -1.346972  \n",
       "2 -0.13498  22.479247  9.291414 -0.172685  \n",
       "3 -0.13498  17.978870  8.297072 -0.172685  \n",
       "4 -0.13498  17.978870  8.297072 -0.172685  \n",
       "\n",
       "[5 rows x 130 columns]"
      ]
     },
     "execution_count": 179,
     "metadata": {},
     "output_type": "execute_result"
    }
   ],
   "source": [
    "predictors.head(5)"
   ]
  },
  {
   "cell_type": "markdown",
   "id": "1f381240",
   "metadata": {
    "id": "1f381240"
   },
   "source": [
    "Now I will encode target feature and split training and testing data."
   ]
  },
  {
   "cell_type": "code",
   "execution_count": null,
   "id": "b2c853d3",
   "metadata": {
    "id": "b2c853d3"
   },
   "outputs": [],
   "source": [
    "le=LabelEncoder()\n",
    "target=le.fit_transform(target)"
   ]
  },
  {
   "cell_type": "code",
   "execution_count": null,
   "id": "451575e3",
   "metadata": {
    "id": "451575e3"
   },
   "outputs": [],
   "source": [
    "X_train, X_test, y_train, y_test = train_test_split(predictors, target, test_size = 0.2, random_state = 42)"
   ]
  },
  {
   "cell_type": "code",
   "execution_count": null,
   "id": "75f26222",
   "metadata": {
    "id": "75f26222"
   },
   "outputs": [],
   "source": [
    "params = {\n",
    "    'C':[0.50,1,5,10,50],\n",
    "    'kernel': [\"linear\",\"poly\",\"rbf\"],\n",
    "    'gamma': [\"scale\",\"auto\"],\n",
    "    'degree':[2,3], \n",
    "}"
   ]
  },
  {
   "cell_type": "markdown",
   "id": "9b1dcd43",
   "metadata": {
    "id": "9b1dcd43"
   },
   "source": [
    "This time I will use `SVC()`. We will use almost the same parameters that we used in the previous notebook for tuning, however, this time I will not add sigmoid kernel because I don't think it is as effective as the others."
   ]
  },
  {
   "cell_type": "code",
   "execution_count": null,
   "id": "3b964810",
   "metadata": {
    "id": "3b964810"
   },
   "outputs": [],
   "source": [
    "from sklearn.svm import SVC"
   ]
  },
  {
   "cell_type": "code",
   "execution_count": null,
   "id": "fb784dfb",
   "metadata": {
    "id": "fb784dfb"
   },
   "outputs": [],
   "source": [
    "from sklearn.model_selection import RandomizedSearchCV\n",
    "rscv_adultincome=RandomizedSearchCV(SVC(), params, cv=10,verbose=2,scoring=\"accuracy\")"
   ]
  },
  {
   "cell_type": "code",
   "execution_count": null,
   "id": "b729f9f9",
   "metadata": {
    "id": "b729f9f9",
    "outputId": "713bec32-6370-48b5-db95-2a9aaf022db0",
    "scrolled": true
   },
   "outputs": [
    {
     "name": "stdout",
     "output_type": "stream",
     "text": [
      "Fitting 10 folds for each of 10 candidates, totalling 100 fits\n",
      "[CV] END ............C=10, degree=2, gamma=scale, kernel=rbf; total time= 1.3min\n",
      "[CV] END ............C=10, degree=2, gamma=scale, kernel=rbf; total time= 1.2min\n",
      "[CV] END ............C=10, degree=2, gamma=scale, kernel=rbf; total time= 1.3min\n",
      "[CV] END ............C=10, degree=2, gamma=scale, kernel=rbf; total time= 1.2min\n",
      "[CV] END ............C=10, degree=2, gamma=scale, kernel=rbf; total time= 1.1min\n",
      "[CV] END ............C=10, degree=2, gamma=scale, kernel=rbf; total time= 1.1min\n",
      "[CV] END ............C=10, degree=2, gamma=scale, kernel=rbf; total time= 1.1min\n",
      "[CV] END ............C=10, degree=2, gamma=scale, kernel=rbf; total time= 1.1min\n",
      "[CV] END ............C=10, degree=2, gamma=scale, kernel=rbf; total time= 1.0min\n",
      "[CV] END ............C=10, degree=2, gamma=scale, kernel=rbf; total time= 1.0min\n",
      "[CV] END ..............C=1, degree=2, gamma=auto, kernel=rbf; total time=  60.0s\n",
      "[CV] END ..............C=1, degree=2, gamma=auto, kernel=rbf; total time= 1.3min\n",
      "[CV] END ..............C=1, degree=2, gamma=auto, kernel=rbf; total time=  55.1s\n",
      "[CV] END ..............C=1, degree=2, gamma=auto, kernel=rbf; total time= 1.1min\n",
      "[CV] END ..............C=1, degree=2, gamma=auto, kernel=rbf; total time=  50.4s\n",
      "[CV] END ..............C=1, degree=2, gamma=auto, kernel=rbf; total time=  49.5s\n",
      "[CV] END ..............C=1, degree=2, gamma=auto, kernel=rbf; total time=  50.4s\n",
      "[CV] END ..............C=1, degree=2, gamma=auto, kernel=rbf; total time=  51.7s\n",
      "[CV] END ..............C=1, degree=2, gamma=auto, kernel=rbf; total time=  51.7s\n",
      "[CV] END ..............C=1, degree=2, gamma=auto, kernel=rbf; total time=  52.8s\n",
      "[CV] END ...........C=0.5, degree=2, gamma=auto, kernel=poly; total time=  53.1s\n",
      "[CV] END ...........C=0.5, degree=2, gamma=auto, kernel=poly; total time=  55.2s\n",
      "[CV] END ...........C=0.5, degree=2, gamma=auto, kernel=poly; total time=  51.8s\n",
      "[CV] END ...........C=0.5, degree=2, gamma=auto, kernel=poly; total time=  43.2s\n",
      "[CV] END ...........C=0.5, degree=2, gamma=auto, kernel=poly; total time= 1.0min\n",
      "[CV] END ...........C=0.5, degree=2, gamma=auto, kernel=poly; total time= 1.1min\n",
      "[CV] END ...........C=0.5, degree=2, gamma=auto, kernel=poly; total time= 1.1min\n",
      "[CV] END ...........C=0.5, degree=2, gamma=auto, kernel=poly; total time=  44.5s\n",
      "[CV] END ...........C=0.5, degree=2, gamma=auto, kernel=poly; total time=  46.0s\n",
      "[CV] END ...........C=0.5, degree=2, gamma=auto, kernel=poly; total time=  46.1s\n",
      "[CV] END .............C=1, degree=2, gamma=auto, kernel=poly; total time=  45.6s\n",
      "[CV] END .............C=1, degree=2, gamma=auto, kernel=poly; total time=  47.8s\n",
      "[CV] END .............C=1, degree=2, gamma=auto, kernel=poly; total time=  40.1s\n",
      "[CV] END .............C=1, degree=2, gamma=auto, kernel=poly; total time=  38.2s\n",
      "[CV] END .............C=1, degree=2, gamma=auto, kernel=poly; total time=  38.3s\n",
      "[CV] END .............C=1, degree=2, gamma=auto, kernel=poly; total time=  42.7s\n",
      "[CV] END .............C=1, degree=2, gamma=auto, kernel=poly; total time=  39.3s\n",
      "[CV] END .............C=1, degree=2, gamma=auto, kernel=poly; total time=  38.9s\n",
      "[CV] END .............C=1, degree=2, gamma=auto, kernel=poly; total time=  39.3s\n",
      "[CV] END .............C=1, degree=2, gamma=auto, kernel=poly; total time=  38.6s\n",
      "[CV] END ...........C=0.5, degree=3, gamma=auto, kernel=poly; total time=  46.0s\n",
      "[CV] END ...........C=0.5, degree=3, gamma=auto, kernel=poly; total time=  47.5s\n",
      "[CV] END ...........C=0.5, degree=3, gamma=auto, kernel=poly; total time=  45.7s\n",
      "[CV] END ...........C=0.5, degree=3, gamma=auto, kernel=poly; total time=  45.5s\n",
      "[CV] END ...........C=0.5, degree=3, gamma=auto, kernel=poly; total time=  45.7s\n",
      "[CV] END ...........C=0.5, degree=3, gamma=auto, kernel=poly; total time=  45.6s\n",
      "[CV] END ...........C=0.5, degree=3, gamma=auto, kernel=poly; total time=  45.4s\n",
      "[CV] END ...........C=0.5, degree=3, gamma=auto, kernel=poly; total time=  45.3s\n",
      "[CV] END ...........C=0.5, degree=3, gamma=auto, kernel=poly; total time=  46.1s\n",
      "[CV] END ...........C=0.5, degree=3, gamma=auto, kernel=poly; total time=  46.5s\n",
      "[CV] END ...........C=5, degree=3, gamma=auto, kernel=linear; total time= 2.5min\n",
      "[CV] END ...........C=5, degree=3, gamma=auto, kernel=linear; total time= 2.5min\n",
      "[CV] END ...........C=5, degree=3, gamma=auto, kernel=linear; total time= 2.5min\n",
      "[CV] END ...........C=5, degree=3, gamma=auto, kernel=linear; total time= 2.4min\n",
      "[CV] END ...........C=5, degree=3, gamma=auto, kernel=linear; total time= 2.5min\n",
      "[CV] END ...........C=5, degree=3, gamma=auto, kernel=linear; total time= 2.5min\n",
      "[CV] END ...........C=5, degree=3, gamma=auto, kernel=linear; total time= 2.4min\n",
      "[CV] END ...........C=5, degree=3, gamma=auto, kernel=linear; total time= 2.5min\n",
      "[CV] END ...........C=5, degree=3, gamma=auto, kernel=linear; total time= 2.4min\n",
      "[CV] END ...........C=5, degree=3, gamma=auto, kernel=linear; total time= 2.4min\n",
      "[CV] END ...........C=5, degree=2, gamma=auto, kernel=linear; total time= 2.5min\n",
      "[CV] END ...........C=5, degree=2, gamma=auto, kernel=linear; total time= 2.3min\n",
      "[CV] END ...........C=5, degree=2, gamma=auto, kernel=linear; total time= 2.5min\n",
      "[CV] END ...........C=5, degree=2, gamma=auto, kernel=linear; total time= 2.4min\n",
      "[CV] END ...........C=5, degree=2, gamma=auto, kernel=linear; total time= 2.6min\n",
      "[CV] END ...........C=5, degree=2, gamma=auto, kernel=linear; total time= 3.2min\n",
      "[CV] END ...........C=5, degree=2, gamma=auto, kernel=linear; total time= 4.3min\n",
      "[CV] END ...........C=5, degree=2, gamma=auto, kernel=linear; total time= 3.5min\n",
      "[CV] END ...........C=5, degree=2, gamma=auto, kernel=linear; total time= 4.0min\n",
      "[CV] END ...........C=5, degree=2, gamma=auto, kernel=linear; total time= 3.6min\n",
      "[CV] END ..........C=5, degree=3, gamma=scale, kernel=linear; total time= 3.3min\n",
      "[CV] END ..........C=5, degree=3, gamma=scale, kernel=linear; total time= 4.4min\n",
      "[CV] END ..........C=5, degree=3, gamma=scale, kernel=linear; total time= 4.0min\n",
      "[CV] END ..........C=5, degree=3, gamma=scale, kernel=linear; total time= 3.6min\n",
      "[CV] END ..........C=5, degree=3, gamma=scale, kernel=linear; total time= 3.6min\n",
      "[CV] END ..........C=5, degree=3, gamma=scale, kernel=linear; total time= 3.5min\n",
      "[CV] END ..........C=5, degree=3, gamma=scale, kernel=linear; total time= 4.0min\n",
      "[CV] END ..........C=5, degree=3, gamma=scale, kernel=linear; total time= 3.3min\n",
      "[CV] END ..........C=5, degree=3, gamma=scale, kernel=linear; total time= 3.2min\n",
      "[CV] END ..........C=5, degree=3, gamma=scale, kernel=linear; total time= 3.0min\n",
      "[CV] END ..........C=0.5, degree=3, gamma=scale, kernel=poly; total time=  43.2s\n",
      "[CV] END ..........C=0.5, degree=3, gamma=scale, kernel=poly; total time=  44.0s\n",
      "[CV] END ..........C=0.5, degree=3, gamma=scale, kernel=poly; total time=  49.7s\n",
      "[CV] END ..........C=0.5, degree=3, gamma=scale, kernel=poly; total time=  53.0s\n",
      "[CV] END ..........C=0.5, degree=3, gamma=scale, kernel=poly; total time=  51.9s\n",
      "[CV] END ..........C=0.5, degree=3, gamma=scale, kernel=poly; total time=  52.7s\n",
      "[CV] END ..........C=0.5, degree=3, gamma=scale, kernel=poly; total time=  44.7s\n",
      "[CV] END ..........C=0.5, degree=3, gamma=scale, kernel=poly; total time=  46.4s\n",
      "[CV] END ..........C=0.5, degree=3, gamma=scale, kernel=poly; total time=  43.1s\n",
      "[CV] END ..........C=0.5, degree=3, gamma=scale, kernel=poly; total time=  47.5s\n",
      "[CV] END ............C=1, degree=3, gamma=scale, kernel=poly; total time=  41.6s\n",
      "[CV] END ............C=1, degree=3, gamma=scale, kernel=poly; total time=  42.9s\n",
      "[CV] END ............C=1, degree=3, gamma=scale, kernel=poly; total time=  47.4s\n",
      "[CV] END ............C=1, degree=3, gamma=scale, kernel=poly; total time=  52.6s\n",
      "[CV] END ............C=1, degree=3, gamma=scale, kernel=poly; total time=  56.8s\n",
      "[CV] END ............C=1, degree=3, gamma=scale, kernel=poly; total time=  54.6s\n",
      "[CV] END ............C=1, degree=3, gamma=scale, kernel=poly; total time=  52.9s\n",
      "[CV] END ............C=1, degree=3, gamma=scale, kernel=poly; total time=  48.6s\n",
      "[CV] END ............C=1, degree=3, gamma=scale, kernel=poly; total time=  46.0s\n",
      "[CV] END ............C=1, degree=3, gamma=scale, kernel=poly; total time=  49.5s\n"
     ]
    }
   ],
   "source": [
    "model2=rscv_adultincome.fit(X_train,y_train)"
   ]
  },
  {
   "cell_type": "code",
   "execution_count": null,
   "id": "36adbd55",
   "metadata": {
    "id": "36adbd55",
    "outputId": "5cc6b893-26cb-4b7a-d73e-8c7c4e81927a"
   },
   "outputs": [
    {
     "data": {
      "text/plain": [
       "0.855366190695532"
      ]
     },
     "execution_count": 189,
     "metadata": {},
     "output_type": "execute_result"
    }
   ],
   "source": [
    "accuracy_score(model2.predict(X_test),y_test)"
   ]
  },
  {
   "cell_type": "code",
   "execution_count": null,
   "id": "b256292b",
   "metadata": {
    "id": "b256292b",
    "outputId": "a86b06af-d3c3-4a5f-9f7e-f3bc1d2a0cc1"
   },
   "outputs": [
    {
     "data": {
      "text/plain": [
       "<Figure size 720x504 with 0 Axes>"
      ]
     },
     "metadata": {},
     "output_type": "display_data"
    },
    {
     "data": {
      "image/png": "[encoded data removed]",
      "text/plain": [
       "<Figure size 720x504 with 2 Axes>"
      ]
     },
     "metadata": {},
     "output_type": "display_data"
    }
   ],
   "source": [
    "plot_confusion(model2.predict(X_test),y_test)"
   ]
  },
  {
   "cell_type": "code",
   "execution_count": null,
   "id": "e089695d",
   "metadata": {
    "id": "e089695d",
    "outputId": "8e7e050c-e944-45df-aa3b-289add01fd42"
   },
   "outputs": [
    {
     "data": {
      "image/png": "[encoded data removed]",
      "text/plain": [
       "<Figure size 720x504 with 1 Axes>"
      ]
     },
     "metadata": {},
     "output_type": "display_data"
    }
   ],
   "source": [
    "plot_precisionvsrecall(model2.predict(X_test),y_test)"
   ]
  },
  {
   "cell_type": "markdown",
   "id": "291f852d",
   "metadata": {
    "id": "291f852d"
   },
   "source": [
    "Even though we didn't use any method to deal with class imbalance, the AUC score looks relatively good.\n",
    "\n",
    "**Attention:** It may look like I'm just randomly training these models on these dataset, however, my aim is not this. My aim is here actually to show you despite the fact that we used different models what is important is still how good our data is. Of course we can use more robust methods but the performance of algorithm is much affected by its data. Instead of really constructing a real model that deals with class imbalance here. I wanted to show you how the performance would change if we used SVM instead of Logistic Regression. Moreover, I showed another dataset in which we have class imbalance problem. Think those models as our baseline models and  I will try to improve these models in notebooks that I call **Playground Notebooks**. I still think I need to show some important algorithms and concepts such PCA or Naive Bayes to prepare this notebooks. So be patient, we will get good models that provides us good classification metrics."
   ]
  },
  {
   "cell_type": "markdown",
   "id": "42fbbe8f",
   "metadata": {
    "id": "42fbbe8f"
   },
   "source": [
    "## Multiclass Classification with SVC on Wine Quality Dataset"
   ]
  },
  {
   "cell_type": "markdown",
   "id": "597f8a5d",
   "metadata": {
    "id": "597f8a5d"
   },
   "source": [
    "Now We will perform multiclass classification on Wine Quality Dataset. This dataset is different than the previous wine dataset we used and here we are trying to predict quality of wine ranging from 3 to 9."
   ]
  },
  {
   "cell_type": "code",
   "execution_count": 8,
   "id": "26d9d789",
   "metadata": {
    "colab": {
     "base_uri": "https://localhost:8080/",
     "height": 206
    },
    "id": "26d9d789",
    "outputId": "a6617fb8-580b-4826-e334-145f8e3beacc"
   },
   "outputs": [
    {
     "data": {
      "text/html": [
       "\n",
       "  <div id=\"df-56adfb23-c5c7-4307-aa52-cfd870d0b75b\">\n",
       "    <div class=\"colab-df-container\">\n",
       "      <div>\n",
       "<style scoped>\n",
       "    .dataframe tbody tr th:only-of-type {\n",
       "        vertical-align: middle;\n",
       "    }\n",
       "\n",
       "    .dataframe tbody tr th {\n",
       "        vertical-align: top;\n",
       "    }\n",
       "\n",
       "    .dataframe thead th {\n",
       "        text-align: right;\n",
       "    }\n",
       "</style>\n",
       "<table border=\"1\" class=\"dataframe\">\n",
       "  <thead>\n",
       "    <tr style=\"text-align: right;\">\n",
       "      <th></th>\n",
       "      <th>type</th>\n",
       "      <th>fixed acidity</th>\n",
       "      <th>volatile acidity</th>\n",
       "      <th>citric acid</th>\n",
       "      <th>residual sugar</th>\n",
       "      <th>chlorides</th>\n",
       "      <th>free sulfur dioxide</th>\n",
       "      <th>total sulfur dioxide</th>\n",
       "      <th>density</th>\n",
       "      <th>pH</th>\n",
       "      <th>sulphates</th>\n",
       "      <th>alcohol</th>\n",
       "      <th>quality</th>\n",
       "    </tr>\n",
       "  </thead>\n",
       "  <tbody>\n",
       "    <tr>\n",
       "      <th>0</th>\n",
       "      <td>white</td>\n",
       "      <td>7.0</td>\n",
       "      <td>0.27</td>\n",
       "      <td>0.36</td>\n",
       "      <td>20.7</td>\n",
       "      <td>0.045</td>\n",
       "      <td>45.0</td>\n",
       "      <td>170.0</td>\n",
       "      <td>1.0010</td>\n",
       "      <td>3.00</td>\n",
       "      <td>0.45</td>\n",
       "      <td>8.8</td>\n",
       "      <td>6</td>\n",
       "    </tr>\n",
       "    <tr>\n",
       "      <th>1</th>\n",
       "      <td>white</td>\n",
       "      <td>6.3</td>\n",
       "      <td>0.30</td>\n",
       "      <td>0.34</td>\n",
       "      <td>1.6</td>\n",
       "      <td>0.049</td>\n",
       "      <td>14.0</td>\n",
       "      <td>132.0</td>\n",
       "      <td>0.9940</td>\n",
       "      <td>3.30</td>\n",
       "      <td>0.49</td>\n",
       "      <td>9.5</td>\n",
       "      <td>6</td>\n",
       "    </tr>\n",
       "    <tr>\n",
       "      <th>2</th>\n",
       "      <td>white</td>\n",
       "      <td>8.1</td>\n",
       "      <td>0.28</td>\n",
       "      <td>0.40</td>\n",
       "      <td>6.9</td>\n",
       "      <td>0.050</td>\n",
       "      <td>30.0</td>\n",
       "      <td>97.0</td>\n",
       "      <td>0.9951</td>\n",
       "      <td>3.26</td>\n",
       "      <td>0.44</td>\n",
       "      <td>10.1</td>\n",
       "      <td>6</td>\n",
       "    </tr>\n",
       "    <tr>\n",
       "      <th>3</th>\n",
       "      <td>white</td>\n",
       "      <td>7.2</td>\n",
       "      <td>0.23</td>\n",
       "      <td>0.32</td>\n",
       "      <td>8.5</td>\n",
       "      <td>0.058</td>\n",
       "      <td>47.0</td>\n",
       "      <td>186.0</td>\n",
       "      <td>0.9956</td>\n",
       "      <td>3.19</td>\n",
       "      <td>0.40</td>\n",
       "      <td>9.9</td>\n",
       "      <td>6</td>\n",
       "    </tr>\n",
       "    <tr>\n",
       "      <th>4</th>\n",
       "      <td>white</td>\n",
       "      <td>7.2</td>\n",
       "      <td>0.23</td>\n",
       "      <td>0.32</td>\n",
       "      <td>8.5</td>\n",
       "      <td>0.058</td>\n",
       "      <td>47.0</td>\n",
       "      <td>186.0</td>\n",
       "      <td>0.9956</td>\n",
       "      <td>3.19</td>\n",
       "      <td>0.40</td>\n",
       "      <td>9.9</td>\n",
       "      <td>6</td>\n",
       "    </tr>\n",
       "  </tbody>\n",
       "</table>\n",
       "</div>\n",
       "      <button class=\"colab-df-convert\" onclick=\"convertToInteractive('df-56adfb23-c5c7-4307-aa52-cfd870d0b75b')\"\n",
       "              title=\"Convert this dataframe to an interactive table.\"\n",
       "              style=\"display:none;\">\n",
       "        \n",
       "  <svg xmlns=\"http://www.w3.org/2000/svg\" height=\"24px\"viewBox=\"0 0 24 24\"\n",
       "       width=\"24px\">\n",
       "    <path d=\"M0 0h24v24H0V0z\" fill=\"none\"/>\n",
       "    <path d=\"M18.56 5.44l.94 2.06.94-2.06 2.06-.94-2.06-.94-.94-2.06-.94 2.06-2.06.94zm-11 1L8.5 8.5l.94-2.06 2.06-.94-2.06-.94L8.5 2.5l-.94 2.06-2.06.94zm10 10l.94 2.06.94-2.06 2.06-.94-2.06-.94-.94-2.06-.94 2.06-2.06.94z\"/><path d=\"M17.41 7.96l-1.37-1.37c-.4-.4-.92-.59-1.43-.59-.52 0-1.04.2-1.43.59L10.3 9.45l-7.72 7.72c-.78.78-.78 2.05 0 2.83L4 21.41c.39.39.9.59 1.41.59.51 0 1.02-.2 1.41-.59l7.78-7.78 2.81-2.81c.8-.78.8-2.07 0-2.86zM5.41 20L4 18.59l7.72-7.72 1.47 1.35L5.41 20z\"/>\n",
       "  </svg>\n",
       "      </button>\n",
       "      \n",
       "  <style>\n",
       "    .colab-df-container {\n",
       "      display:flex;\n",
       "      flex-wrap:wrap;\n",
       "      gap: 12px;\n",
       "    }\n",
       "\n",
       "    .colab-df-convert {\n",
       "      background-color: #E8F0FE;\n",
       "      border: none;\n",
       "      border-radius: 50%;\n",
       "      cursor: pointer;\n",
       "      display: none;\n",
       "      fill: #1967D2;\n",
       "      height: 32px;\n",
       "      padding: 0 0 0 0;\n",
       "      width: 32px;\n",
       "    }\n",
       "\n",
       "    .colab-df-convert:hover {\n",
       "      background-color: #E2EBFA;\n",
       "      box-shadow: 0px 1px 2px rgba(60, 64, 67, 0.3), 0px 1px 3px 1px rgba(60, 64, 67, 0.15);\n",
       "      fill: #174EA6;\n",
       "    }\n",
       "\n",
       "    [theme=dark] .colab-df-convert {\n",
       "      background-color: #3B4455;\n",
       "      fill: #D2E3FC;\n",
       "    }\n",
       "\n",
       "    [theme=dark] .colab-df-convert:hover {\n",
       "      background-color: #434B5C;\n",
       "      box-shadow: 0px 1px 3px 1px rgba(0, 0, 0, 0.15);\n",
       "      filter: drop-shadow(0px 1px 2px rgba(0, 0, 0, 0.3));\n",
       "      fill: #FFFFFF;\n",
       "    }\n",
       "  </style>\n",
       "\n",
       "      <script>\n",
       "        const buttonEl =\n",
       "          document.querySelector('#df-56adfb23-c5c7-4307-aa52-cfd870d0b75b button.colab-df-convert');\n",
       "        buttonEl.style.display =\n",
       "          google.colab.kernel.accessAllowed ? 'block' : 'none';\n",
       "\n",
       "        async function convertToInteractive(key) {\n",
       "          const element = document.querySelector('#df-56adfb23-c5c7-4307-aa52-cfd870d0b75b');\n",
       "          const dataTable =\n",
       "            await google.colab.kernel.invokeFunction('convertToInteractive',\n",
       "                                                     [key], {});\n",
       "          if (!dataTable) return;\n",
       "\n",
       "          const docLinkHtml = 'Like what you see? Visit the ' +\n",
       "            '<a target=\"_blank\" href=https://colab.research.google.com/notebooks/data_table.ipynb>data table notebook</a>'\n",
       "            + ' to learn more about interactive tables.';\n",
       "          element.innerHTML = '';\n",
       "          dataTable['output_type'] = 'display_data';\n",
       "          await google.colab.output.renderOutput(dataTable, element);\n",
       "          const docLink = document.createElement('div');\n",
       "          docLink.innerHTML = docLinkHtml;\n",
       "          element.appendChild(docLink);\n",
       "        }\n",
       "      </script>\n",
       "    </div>\n",
       "  </div>\n",
       "  "
      ],
      "text/plain": [
       "    type  fixed acidity  volatile acidity  citric acid  residual sugar  \\\n",
       "0  white            7.0              0.27         0.36            20.7   \n",
       "1  white            6.3              0.30         0.34             1.6   \n",
       "2  white            8.1              0.28         0.40             6.9   \n",
       "3  white            7.2              0.23         0.32             8.5   \n",
       "4  white            7.2              0.23         0.32             8.5   \n",
       "\n",
       "   chlorides  free sulfur dioxide  total sulfur dioxide  density    pH  \\\n",
       "0      0.045                 45.0                 170.0   1.0010  3.00   \n",
       "1      0.049                 14.0                 132.0   0.9940  3.30   \n",
       "2      0.050                 30.0                  97.0   0.9951  3.26   \n",
       "3      0.058                 47.0                 186.0   0.9956  3.19   \n",
       "4      0.058                 47.0                 186.0   0.9956  3.19   \n",
       "\n",
       "   sulphates  alcohol  quality  \n",
       "0       0.45      8.8        6  \n",
       "1       0.49      9.5        6  \n",
       "2       0.44     10.1        6  \n",
       "3       0.40      9.9        6  \n",
       "4       0.40      9.9        6  "
      ]
     },
     "execution_count": 8,
     "metadata": {},
     "output_type": "execute_result"
    }
   ],
   "source": [
    "data=pd.read_csv(\"winequality.csv\")\n",
    "data.head(5)"
   ]
  },
  {
   "cell_type": "markdown",
   "id": "24f48490",
   "metadata": {
    "id": "24f48490"
   },
   "source": [
    "Let's seperate categorical columns and numerical so that we can use `PolynomialFeatures()` on numerical features and encode categorical ones."
   ]
  },
  {
   "cell_type": "code",
   "execution_count": 9,
   "id": "965d4541",
   "metadata": {
    "id": "965d4541"
   },
   "outputs": [],
   "source": [
    "categorical = [features for features in data.columns if data[features].dtype==object]\n",
    "numerical = [features for features in data.columns if data[features].dtype==float]"
   ]
  },
  {
   "cell_type": "code",
   "execution_count": 10,
   "id": "c7db8182",
   "metadata": {
    "id": "c7db8182"
   },
   "outputs": [],
   "source": [
    "target=data[\"quality\"]\n",
    "winetype=data[categorical]\n",
    "data.drop([\"quality\",\"type\"],axis=1,inplace=True)"
   ]
  },
  {
   "cell_type": "markdown",
   "id": "23a87f58",
   "metadata": {
    "id": "23a87f58"
   },
   "source": [
    "Let's also use countplot() to see if there is class imbalance."
   ]
  },
  {
   "cell_type": "code",
   "execution_count": 11,
   "id": "339102e3",
   "metadata": {
    "colab": {
     "base_uri": "https://localhost:8080/",
     "height": 351
    },
    "id": "339102e3",
    "outputId": "485c9ba7-1fee-43e6-e988-e70562b23158"
   },
   "outputs": [
    {
     "name": "stderr",
     "output_type": "stream",
     "text": [
      "/usr/local/lib/python3.7/dist-packages/seaborn/_decorators.py:43: FutureWarning: Pass the following variable as a keyword arg: x. From version 0.12, the only valid positional argument will be `data`, and passing other arguments without an explicit keyword will result in an error or misinterpretation.\n",
      "  FutureWarning\n"
     ]
    },
    {
     "data": {
      "text/plain": [
       "<matplotlib.axes._subplots.AxesSubplot at 0x7f3dcdcd11d0>"
      ]
     },
     "execution_count": 11,
     "metadata": {},
     "output_type": "execute_result"
    },
    {
     "data": {
      "image/png": "[encoded data removed]",
      "text/plain": [
       "<Figure size 432x288 with 1 Axes>"
      ]
     },
     "metadata": {
      "needs_background": "light"
     },
     "output_type": "display_data"
    }
   ],
   "source": [
    "sns.countplot(target)"
   ]
  },
  {
   "cell_type": "markdown",
   "id": "ba706d04",
   "metadata": {
    "id": "ba706d04"
   },
   "source": [
    "There is a big class imbalance. I will not use any technique to cope with this problem not to make this notebook even longer. However, I will try to improve the model we will construct in this notebook in upcoming notebooks."
   ]
  },
  {
   "cell_type": "code",
   "execution_count": 12,
   "id": "363e3df2",
   "metadata": {
    "colab": {
     "base_uri": "https://localhost:8080/"
    },
    "id": "363e3df2",
    "outputId": "b4f1cedf-7f14-4b01-91b1-94ba3b485368"
   },
   "outputs": [
    {
     "data": {
      "text/plain": [
       "fixed acidity           10\n",
       "volatile acidity         8\n",
       "citric acid              3\n",
       "residual sugar           2\n",
       "chlorides                2\n",
       "free sulfur dioxide      0\n",
       "total sulfur dioxide     0\n",
       "density                  0\n",
       "pH                       9\n",
       "sulphates                4\n",
       "alcohol                  0\n",
       "dtype: int64"
      ]
     },
     "execution_count": 12,
     "metadata": {},
     "output_type": "execute_result"
    }
   ],
   "source": [
    "data[numerical].isnull().sum()"
   ]
  },
  {
   "cell_type": "markdown",
   "id": "4941b1b7",
   "metadata": {
    "id": "4941b1b7"
   },
   "source": [
    "Looks like we also need to use `SimpleImputer()`"
   ]
  },
  {
   "cell_type": "code",
   "execution_count": 13,
   "id": "27925233",
   "metadata": {
    "id": "27925233"
   },
   "outputs": [],
   "source": [
    "from sklearn.impute import SimpleImputer\n",
    "predictors_numerical=SimpleImputer(strategy='median').fit_transform(data[numerical])"
   ]
  },
  {
   "cell_type": "code",
   "execution_count": 14,
   "id": "98aa407b",
   "metadata": {
    "id": "98aa407b"
   },
   "outputs": [],
   "source": [
    "from sklearn.preprocessing import PolynomialFeatures\n",
    "predictors_pf=PolynomialFeatures(degree=2).fit_transform(predictors_numerical)"
   ]
  },
  {
   "cell_type": "code",
   "execution_count": 15,
   "id": "2ee5f9bc",
   "metadata": {
    "id": "2ee5f9bc"
   },
   "outputs": [],
   "source": [
    "from sklearn.preprocessing import StandardScaler\n",
    "predictors_scaled=StandardScaler().fit_transform(predictors_pf)"
   ]
  },
  {
   "cell_type": "code",
   "execution_count": 16,
   "id": "a5d0180a",
   "metadata": {
    "id": "a5d0180a"
   },
   "outputs": [],
   "source": [
    "predictors=np.concatenate((pd.get_dummies(winetype),predictors_scaled),axis=1)"
   ]
  },
  {
   "cell_type": "code",
   "execution_count": 17,
   "id": "88f6771a",
   "metadata": {
    "id": "88f6771a"
   },
   "outputs": [],
   "source": [
    "from sklearn.model_selection import train_test_split\n",
    "X_train, X_test, y_train, y_test = train_test_split(predictors, target, test_size = 0.2, random_state = 42,stratify = target)"
   ]
  },
  {
   "cell_type": "markdown",
   "id": "461bb8b5",
   "metadata": {
    "id": "461bb8b5"
   },
   "source": [
    "I will only use rbf and linear kernels."
   ]
  },
  {
   "cell_type": "code",
   "execution_count": 18,
   "id": "03d20f5d",
   "metadata": {
    "id": "03d20f5d"
   },
   "outputs": [],
   "source": [
    "params = [\n",
    "  {'C': [0.5, 1,  10, 20, 50, 100], 'kernel': ['linear']},\n",
    "  {'C': [0.5, 1,  10, 20, 50, 100], 'gamma': [0.1, 0.5, 0.75, 1], 'kernel': ['rbf']},\n",
    " ]"
   ]
  },
  {
   "cell_type": "code",
   "execution_count": 19,
   "id": "25b98217",
   "metadata": {
    "id": "25b98217"
   },
   "outputs": [],
   "source": [
    "rscv_wine=RandomizedSearchCV(SVC(gamma=\"scale\"), params, cv=10,verbose=42,scoring=\"accuracy\")"
   ]
  },
  {
   "cell_type": "code",
   "execution_count": 20,
   "id": "3e88073b",
   "metadata": {
    "colab": {
     "base_uri": "https://localhost:8080/"
    },
    "id": "3e88073b",
    "outputId": "b9ce60c4-9adc-49bd-c9fd-2795f74b7ef9",
    "scrolled": true
   },
   "outputs": [
    {
     "name": "stdout",
     "output_type": "stream",
     "text": [
      "Fitting 10 folds for each of 10 candidates, totalling 100 fits\n",
      "[CV 1/10; 1/10] START C=50, gamma=0.5, kernel=rbf...............................\n",
      "[CV 1/10; 1/10] END C=50, gamma=0.5, kernel=rbf;, score=0.615 total time=   5.6s\n",
      "[CV 2/10; 1/10] START C=50, gamma=0.5, kernel=rbf...............................\n",
      "[CV 2/10; 1/10] END C=50, gamma=0.5, kernel=rbf;, score=0.629 total time=   5.3s\n",
      "[CV 3/10; 1/10] START C=50, gamma=0.5, kernel=rbf...............................\n",
      "[CV 3/10; 1/10] END C=50, gamma=0.5, kernel=rbf;, score=0.644 total time=   5.4s\n",
      "[CV 4/10; 1/10] START C=50, gamma=0.5, kernel=rbf...............................\n",
      "[CV 4/10; 1/10] END C=50, gamma=0.5, kernel=rbf;, score=0.627 total time=   5.3s\n",
      "[CV 5/10; 1/10] START C=50, gamma=0.5, kernel=rbf...............................\n",
      "[CV 5/10; 1/10] END C=50, gamma=0.5, kernel=rbf;, score=0.642 total time=   5.3s\n",
      "[CV 6/10; 1/10] START C=50, gamma=0.5, kernel=rbf...............................\n",
      "[CV 6/10; 1/10] END C=50, gamma=0.5, kernel=rbf;, score=0.619 total time=   5.3s\n",
      "[CV 7/10; 1/10] START C=50, gamma=0.5, kernel=rbf...............................\n",
      "[CV 7/10; 1/10] END C=50, gamma=0.5, kernel=rbf;, score=0.625 total time=   5.4s\n",
      "[CV 8/10; 1/10] START C=50, gamma=0.5, kernel=rbf...............................\n",
      "[CV 8/10; 1/10] END C=50, gamma=0.5, kernel=rbf;, score=0.642 total time=   5.4s\n",
      "[CV 9/10; 1/10] START C=50, gamma=0.5, kernel=rbf...............................\n",
      "[CV 9/10; 1/10] END C=50, gamma=0.5, kernel=rbf;, score=0.607 total time=   5.4s\n",
      "[CV 10/10; 1/10] START C=50, gamma=0.5, kernel=rbf..............................\n",
      "[CV 10/10; 1/10] END C=50, gamma=0.5, kernel=rbf;, score=0.634 total time=   5.3s\n",
      "[CV 1/10; 2/10] START C=10, kernel=linear.......................................\n",
      "[CV 1/10; 2/10] END ........C=10, kernel=linear;, score=0.565 total time=  42.3s\n",
      "[CV 2/10; 2/10] START C=10, kernel=linear.......................................\n",
      "[CV 2/10; 2/10] END ........C=10, kernel=linear;, score=0.562 total time=  56.8s\n",
      "[CV 3/10; 2/10] START C=10, kernel=linear.......................................\n",
      "[CV 3/10; 2/10] END ........C=10, kernel=linear;, score=0.573 total time=  54.2s\n",
      "[CV 4/10; 2/10] START C=10, kernel=linear.......................................\n",
      "[CV 4/10; 2/10] END ........C=10, kernel=linear;, score=0.546 total time= 1.0min\n",
      "[CV 5/10; 2/10] START C=10, kernel=linear.......................................\n",
      "[CV 5/10; 2/10] END ........C=10, kernel=linear;, score=0.527 total time=  47.7s\n",
      "[CV 6/10; 2/10] START C=10, kernel=linear.......................................\n",
      "[CV 6/10; 2/10] END ........C=10, kernel=linear;, score=0.575 total time=  54.8s\n",
      "[CV 7/10; 2/10] START C=10, kernel=linear.......................................\n",
      "[CV 7/10; 2/10] END ........C=10, kernel=linear;, score=0.594 total time=  43.9s\n",
      "[CV 8/10; 2/10] START C=10, kernel=linear.......................................\n",
      "[CV 8/10; 2/10] END ........C=10, kernel=linear;, score=0.541 total time=  49.8s\n",
      "[CV 9/10; 2/10] START C=10, kernel=linear.......................................\n",
      "[CV 9/10; 2/10] END ........C=10, kernel=linear;, score=0.538 total time=  59.8s\n",
      "[CV 10/10; 2/10] START C=10, kernel=linear......................................\n",
      "[CV 10/10; 2/10] END .......C=10, kernel=linear;, score=0.499 total time=  54.5s\n",
      "[CV 1/10; 3/10] START C=20, kernel=linear.......................................\n",
      "[CV 1/10; 3/10] END ........C=20, kernel=linear;, score=0.558 total time= 2.4min\n",
      "[CV 2/10; 3/10] START C=20, kernel=linear.......................................\n",
      "[CV 2/10; 3/10] END ........C=20, kernel=linear;, score=0.562 total time= 3.4min\n",
      "[CV 3/10; 3/10] START C=20, kernel=linear.......................................\n",
      "[CV 3/10; 3/10] END ........C=20, kernel=linear;, score=0.575 total time= 3.1min\n",
      "[CV 4/10; 3/10] START C=20, kernel=linear.......................................\n",
      "[CV 4/10; 3/10] END ........C=20, kernel=linear;, score=0.556 total time= 3.6min\n",
      "[CV 5/10; 3/10] START C=20, kernel=linear.......................................\n",
      "[CV 5/10; 3/10] END ........C=20, kernel=linear;, score=0.519 total time= 3.0min\n",
      "[CV 6/10; 3/10] START C=20, kernel=linear.......................................\n",
      "[CV 6/10; 3/10] END ........C=20, kernel=linear;, score=0.575 total time= 3.1min\n",
      "[CV 7/10; 3/10] START C=20, kernel=linear.......................................\n",
      "[CV 7/10; 3/10] END ........C=20, kernel=linear;, score=0.587 total time= 2.9min\n",
      "[CV 8/10; 3/10] START C=20, kernel=linear.......................................\n",
      "[CV 8/10; 3/10] END ........C=20, kernel=linear;, score=0.539 total time= 3.4min\n",
      "[CV 9/10; 3/10] START C=20, kernel=linear.......................................\n",
      "[CV 9/10; 3/10] END ........C=20, kernel=linear;, score=0.536 total time= 3.5min\n",
      "[CV 10/10; 3/10] START C=20, kernel=linear......................................\n",
      "[CV 10/10; 3/10] END .......C=20, kernel=linear;, score=0.507 total time= 3.1min\n",
      "[CV 1/10; 4/10] START C=1, gamma=0.1, kernel=rbf................................\n",
      "[CV 1/10; 4/10] END .C=1, gamma=0.1, kernel=rbf;, score=0.617 total time=   3.7s\n",
      "[CV 2/10; 4/10] START C=1, gamma=0.1, kernel=rbf................................\n",
      "[CV 2/10; 4/10] END .C=1, gamma=0.1, kernel=rbf;, score=0.608 total time=   3.7s\n",
      "[CV 3/10; 4/10] START C=1, gamma=0.1, kernel=rbf................................\n",
      "[CV 3/10; 4/10] END .C=1, gamma=0.1, kernel=rbf;, score=0.621 total time=   3.7s\n",
      "[CV 4/10; 4/10] START C=1, gamma=0.1, kernel=rbf................................\n",
      "[CV 4/10; 4/10] END .C=1, gamma=0.1, kernel=rbf;, score=0.635 total time=   3.7s\n",
      "[CV 5/10; 4/10] START C=1, gamma=0.1, kernel=rbf................................\n",
      "[CV 5/10; 4/10] END .C=1, gamma=0.1, kernel=rbf;, score=0.608 total time=   3.7s\n",
      "[CV 6/10; 4/10] START C=1, gamma=0.1, kernel=rbf................................\n",
      "[CV 6/10; 4/10] END .C=1, gamma=0.1, kernel=rbf;, score=0.625 total time=   3.7s\n",
      "[CV 7/10; 4/10] START C=1, gamma=0.1, kernel=rbf................................\n",
      "[CV 7/10; 4/10] END .C=1, gamma=0.1, kernel=rbf;, score=0.612 total time=   3.7s\n",
      "[CV 8/10; 4/10] START C=1, gamma=0.1, kernel=rbf................................\n",
      "[CV 8/10; 4/10] END .C=1, gamma=0.1, kernel=rbf;, score=0.620 total time=   3.7s\n",
      "[CV 9/10; 4/10] START C=1, gamma=0.1, kernel=rbf................................\n",
      "[CV 9/10; 4/10] END .C=1, gamma=0.1, kernel=rbf;, score=0.584 total time=   3.7s\n",
      "[CV 10/10; 4/10] START C=1, gamma=0.1, kernel=rbf...............................\n",
      "[CV 10/10; 4/10] END C=1, gamma=0.1, kernel=rbf;, score=0.632 total time=   3.6s\n",
      "[CV 1/10; 5/10] START C=1, kernel=linear........................................\n",
      "[CV 1/10; 5/10] END .........C=1, kernel=linear;, score=0.550 total time=   7.4s\n",
      "[CV 2/10; 5/10] START C=1, kernel=linear........................................\n",
      "[CV 2/10; 5/10] END .........C=1, kernel=linear;, score=0.554 total time=   7.3s\n",
      "[CV 3/10; 5/10] START C=1, kernel=linear........................................\n",
      "[CV 3/10; 5/10] END .........C=1, kernel=linear;, score=0.565 total time=   7.7s\n",
      "[CV 4/10; 5/10] START C=1, kernel=linear........................................\n",
      "[CV 4/10; 5/10] END .........C=1, kernel=linear;, score=0.537 total time=   7.5s\n",
      "[CV 5/10; 5/10] START C=1, kernel=linear........................................\n",
      "[CV 5/10; 5/10] END .........C=1, kernel=linear;, score=0.535 total time=   8.3s\n",
      "[CV 6/10; 5/10] START C=1, kernel=linear........................................\n",
      "[CV 6/10; 5/10] END .........C=1, kernel=linear;, score=0.554 total time=   7.8s\n",
      "[CV 7/10; 5/10] START C=1, kernel=linear........................................\n",
      "[CV 7/10; 5/10] END .........C=1, kernel=linear;, score=0.581 total time=   7.3s\n",
      "[CV 8/10; 5/10] START C=1, kernel=linear........................................\n",
      "[CV 8/10; 5/10] END .........C=1, kernel=linear;, score=0.539 total time=   7.0s\n",
      "[CV 9/10; 5/10] START C=1, kernel=linear........................................\n",
      "[CV 9/10; 5/10] END .........C=1, kernel=linear;, score=0.536 total time=   7.3s\n",
      "[CV 10/10; 5/10] START C=1, kernel=linear.......................................\n",
      "[CV 10/10; 5/10] END ........C=1, kernel=linear;, score=0.509 total time=   7.2s\n",
      "[CV 1/10; 6/10] START C=100, kernel=linear......................................\n",
      "[CV 1/10; 6/10] END .......C=100, kernel=linear;, score=0.554 total time=10.6min\n",
      "[CV 2/10; 6/10] START C=100, kernel=linear......................................\n",
      "[CV 2/10; 6/10] END .......C=100, kernel=linear;, score=0.565 total time=12.9min\n",
      "[CV 3/10; 6/10] START C=100, kernel=linear......................................\n",
      "[CV 3/10; 6/10] END .......C=100, kernel=linear;, score=0.575 total time=12.0min\n",
      "[CV 4/10; 6/10] START C=100, kernel=linear......................................\n",
      "[CV 4/10; 6/10] END .......C=100, kernel=linear;, score=0.552 total time=11.6min\n",
      "[CV 5/10; 6/10] START C=100, kernel=linear......................................\n",
      "[CV 5/10; 6/10] END .......C=100, kernel=linear;, score=0.521 total time=11.7min\n",
      "[CV 6/10; 6/10] START C=100, kernel=linear......................................\n",
      "[CV 6/10; 6/10] END .......C=100, kernel=linear;, score=0.581 total time=13.1min\n",
      "[CV 7/10; 6/10] START C=100, kernel=linear......................................\n",
      "[CV 7/10; 6/10] END .......C=100, kernel=linear;, score=0.592 total time=13.1min\n",
      "[CV 8/10; 6/10] START C=100, kernel=linear......................................\n",
      "[CV 8/10; 6/10] END .......C=100, kernel=linear;, score=0.541 total time=13.1min\n",
      "[CV 9/10; 6/10] START C=100, kernel=linear......................................\n",
      "[CV 9/10; 6/10] END .......C=100, kernel=linear;, score=0.534 total time=14.4min\n",
      "[CV 10/10; 6/10] START C=100, kernel=linear.....................................\n",
      "[CV 10/10; 6/10] END ......C=100, kernel=linear;, score=0.503 total time=12.0min\n",
      "[CV 1/10; 7/10] START C=10, gamma=0.1, kernel=rbf...............................\n",
      "[CV 1/10; 7/10] END C=10, gamma=0.1, kernel=rbf;, score=0.635 total time=   4.2s\n",
      "[CV 2/10; 7/10] START C=10, gamma=0.1, kernel=rbf...............................\n",
      "[CV 2/10; 7/10] END C=10, gamma=0.1, kernel=rbf;, score=0.627 total time=   4.2s\n",
      "[CV 3/10; 7/10] START C=10, gamma=0.1, kernel=rbf...............................\n",
      "[CV 3/10; 7/10] END C=10, gamma=0.1, kernel=rbf;, score=0.638 total time=   4.1s\n",
      "[CV 4/10; 7/10] START C=10, gamma=0.1, kernel=rbf...............................\n",
      "[CV 4/10; 7/10] END C=10, gamma=0.1, kernel=rbf;, score=0.640 total time=   4.1s\n",
      "[CV 5/10; 7/10] START C=10, gamma=0.1, kernel=rbf...............................\n",
      "[CV 5/10; 7/10] END C=10, gamma=0.1, kernel=rbf;, score=0.604 total time=   4.0s\n",
      "[CV 6/10; 7/10] START C=10, gamma=0.1, kernel=rbf...............................\n",
      "[CV 6/10; 7/10] END C=10, gamma=0.1, kernel=rbf;, score=0.606 total time=   4.3s\n",
      "[CV 7/10; 7/10] START C=10, gamma=0.1, kernel=rbf...............................\n",
      "[CV 7/10; 7/10] END C=10, gamma=0.1, kernel=rbf;, score=0.625 total time=   4.1s\n",
      "[CV 8/10; 7/10] START C=10, gamma=0.1, kernel=rbf...............................\n",
      "[CV 8/10; 7/10] END C=10, gamma=0.1, kernel=rbf;, score=0.607 total time=   4.2s\n",
      "[CV 9/10; 7/10] START C=10, gamma=0.1, kernel=rbf...............................\n",
      "[CV 9/10; 7/10] END C=10, gamma=0.1, kernel=rbf;, score=0.605 total time=   4.2s\n",
      "[CV 10/10; 7/10] START C=10, gamma=0.1, kernel=rbf..............................\n",
      "[CV 10/10; 7/10] END C=10, gamma=0.1, kernel=rbf;, score=0.686 total time=   4.2s\n",
      "[CV 1/10; 8/10] START C=50, kernel=linear.......................................\n",
      "[CV 1/10; 8/10] END ........C=50, kernel=linear;, score=0.554 total time= 5.9min\n",
      "[CV 2/10; 8/10] START C=50, kernel=linear.......................................\n",
      "[CV 2/10; 8/10] END ........C=50, kernel=linear;, score=0.565 total time= 8.3min\n",
      "[CV 3/10; 8/10] START C=50, kernel=linear.......................................\n",
      "[CV 3/10; 8/10] END ........C=50, kernel=linear;, score=0.575 total time= 7.9min\n",
      "[CV 4/10; 8/10] START C=50, kernel=linear.......................................\n",
      "[CV 4/10; 8/10] END ........C=50, kernel=linear;, score=0.554 total time= 7.8min\n",
      "[CV 5/10; 8/10] START C=50, kernel=linear.......................................\n",
      "[CV 5/10; 8/10] END ........C=50, kernel=linear;, score=0.517 total time= 7.3min\n",
      "[CV 6/10; 8/10] START C=50, kernel=linear.......................................\n",
      "[CV 6/10; 8/10] END ........C=50, kernel=linear;, score=0.575 total time= 8.5min\n",
      "[CV 7/10; 8/10] START C=50, kernel=linear.......................................\n",
      "[CV 7/10; 8/10] END ........C=50, kernel=linear;, score=0.590 total time= 7.7min\n",
      "[CV 8/10; 8/10] START C=50, kernel=linear.......................................\n",
      "[CV 8/10; 8/10] END ........C=50, kernel=linear;, score=0.543 total time= 8.0min\n",
      "[CV 9/10; 8/10] START C=50, kernel=linear.......................................\n",
      "[CV 9/10; 8/10] END ........C=50, kernel=linear;, score=0.534 total time= 8.0min\n",
      "[CV 10/10; 8/10] START C=50, kernel=linear......................................\n",
      "[CV 10/10; 8/10] END .......C=50, kernel=linear;, score=0.503 total time= 7.4min\n",
      "[CV 1/10; 9/10] START C=20, gamma=0.5, kernel=rbf...............................\n",
      "[CV 1/10; 9/10] END C=20, gamma=0.5, kernel=rbf;, score=0.615 total time=   5.3s\n",
      "[CV 2/10; 9/10] START C=20, gamma=0.5, kernel=rbf...............................\n",
      "[CV 2/10; 9/10] END C=20, gamma=0.5, kernel=rbf;, score=0.629 total time=   5.3s\n",
      "[CV 3/10; 9/10] START C=20, gamma=0.5, kernel=rbf...............................\n",
      "[CV 3/10; 9/10] END C=20, gamma=0.5, kernel=rbf;, score=0.644 total time=   5.4s\n",
      "[CV 4/10; 9/10] START C=20, gamma=0.5, kernel=rbf...............................\n",
      "[CV 4/10; 9/10] END C=20, gamma=0.5, kernel=rbf;, score=0.627 total time=   5.4s\n",
      "[CV 5/10; 9/10] START C=20, gamma=0.5, kernel=rbf...............................\n",
      "[CV 5/10; 9/10] END C=20, gamma=0.5, kernel=rbf;, score=0.642 total time=   5.4s\n",
      "[CV 6/10; 9/10] START C=20, gamma=0.5, kernel=rbf...............................\n",
      "[CV 6/10; 9/10] END C=20, gamma=0.5, kernel=rbf;, score=0.619 total time=   5.3s\n",
      "[CV 7/10; 9/10] START C=20, gamma=0.5, kernel=rbf...............................\n",
      "[CV 7/10; 9/10] END C=20, gamma=0.5, kernel=rbf;, score=0.625 total time=   5.3s\n",
      "[CV 8/10; 9/10] START C=20, gamma=0.5, kernel=rbf...............................\n",
      "[CV 8/10; 9/10] END C=20, gamma=0.5, kernel=rbf;, score=0.642 total time=   5.4s\n",
      "[CV 9/10; 9/10] START C=20, gamma=0.5, kernel=rbf...............................\n",
      "[CV 9/10; 9/10] END C=20, gamma=0.5, kernel=rbf;, score=0.607 total time=   5.4s\n",
      "[CV 10/10; 9/10] START C=20, gamma=0.5, kernel=rbf..............................\n",
      "[CV 10/10; 9/10] END C=20, gamma=0.5, kernel=rbf;, score=0.634 total time=   5.4s\n",
      "[CV 1/10; 10/10] START C=0.5, gamma=0.75, kernel=rbf............................\n",
      "[CV 1/10; 10/10] END C=0.5, gamma=0.75, kernel=rbf;, score=0.471 total time=   5.5s\n",
      "[CV 2/10; 10/10] START C=0.5, gamma=0.75, kernel=rbf............................\n",
      "[CV 2/10; 10/10] END C=0.5, gamma=0.75, kernel=rbf;, score=0.483 total time=   5.4s\n",
      "[CV 3/10; 10/10] START C=0.5, gamma=0.75, kernel=rbf............................\n",
      "[CV 3/10; 10/10] END C=0.5, gamma=0.75, kernel=rbf;, score=0.485 total time=   5.3s\n",
      "[CV 4/10; 10/10] START C=0.5, gamma=0.75, kernel=rbf............................\n",
      "[CV 4/10; 10/10] END C=0.5, gamma=0.75, kernel=rbf;, score=0.490 total time=   5.4s\n",
      "[CV 5/10; 10/10] START C=0.5, gamma=0.75, kernel=rbf............................\n",
      "[CV 5/10; 10/10] END C=0.5, gamma=0.75, kernel=rbf;, score=0.483 total time=   5.4s\n",
      "[CV 6/10; 10/10] START C=0.5, gamma=0.75, kernel=rbf............................\n",
      "[CV 6/10; 10/10] END C=0.5, gamma=0.75, kernel=rbf;, score=0.490 total time=   5.3s\n",
      "[CV 7/10; 10/10] START C=0.5, gamma=0.75, kernel=rbf............................\n",
      "[CV 7/10; 10/10] END C=0.5, gamma=0.75, kernel=rbf;, score=0.490 total time=   5.3s\n",
      "[CV 8/10; 10/10] START C=0.5, gamma=0.75, kernel=rbf............................\n",
      "[CV 8/10; 10/10] END C=0.5, gamma=0.75, kernel=rbf;, score=0.484 total time=   5.4s\n",
      "[CV 9/10; 10/10] START C=0.5, gamma=0.75, kernel=rbf............................\n",
      "[CV 9/10; 10/10] END C=0.5, gamma=0.75, kernel=rbf;, score=0.486 total time=   5.4s\n",
      "[CV 10/10; 10/10] START C=0.5, gamma=0.75, kernel=rbf...........................\n",
      "[CV 10/10; 10/10] END C=0.5, gamma=0.75, kernel=rbf;, score=0.509 total time=   5.4s\n"
     ]
    }
   ],
   "source": [
    "model1=rscv_wine.fit(X_train,y_train)"
   ]
  },
  {
   "cell_type": "code",
   "execution_count": 25,
   "id": "qVoRESmnOv02",
   "metadata": {
    "colab": {
     "base_uri": "https://localhost:8080/"
    },
    "id": "qVoRESmnOv02",
    "outputId": "09e394ab-3ff1-47b4-888c-ab86a49e550a"
   },
   "outputs": [
    {
     "data": {
      "text/plain": [
       "{'C': 50, 'gamma': 0.5, 'kernel': 'rbf'}"
      ]
     },
     "execution_count": 25,
     "metadata": {},
     "output_type": "execute_result"
    }
   ],
   "source": [
    "model1.best_params_"
   ]
  },
  {
   "cell_type": "code",
   "execution_count": 26,
   "id": "0f370254",
   "metadata": {
    "colab": {
     "base_uri": "https://localhost:8080/"
    },
    "id": "0f370254",
    "outputId": "472a2b08-71c1-404a-97e3-f051ad1cf675"
   },
   "outputs": [
    {
     "data": {
      "text/plain": [
       "0.6338461538461538"
      ]
     },
     "execution_count": 26,
     "metadata": {},
     "output_type": "execute_result"
    }
   ],
   "source": [
    "accuracy_score(rscv_wine.predict(X_test),y_test)"
   ]
  },
  {
   "cell_type": "markdown",
   "id": "a77a1c69",
   "metadata": {
    "id": "a77a1c69"
   },
   "source": [
    "Accuracy score is actually better than I expected. However, It is not a good score in general. Let's also plot confusion matrix and precision-recall curve."
   ]
  },
  {
   "cell_type": "code",
   "execution_count": 22,
   "id": "g00MAleSgSzg",
   "metadata": {
    "colab": {
     "base_uri": "https://localhost:8080/",
     "height": 434
    },
    "id": "g00MAleSgSzg",
    "outputId": "03614bcc-8ec4-4dff-ab1e-0bb65b0bff4a"
   },
   "outputs": [
    {
     "data": {
      "text/plain": [
       "<sklearn.metrics._plot.confusion_matrix.ConfusionMatrixDisplay at 0x7f3dcd663b50>"
      ]
     },
     "execution_count": 22,
     "metadata": {},
     "output_type": "execute_result"
    },
    {
     "data": {
      "image/png": "[encoded data removed]",
      "text/plain": [
       "<Figure size 504x504 with 2 Axes>"
      ]
     },
     "metadata": {
      "needs_background": "light"
     },
     "output_type": "display_data"
    }
   ],
   "source": [
    "from sklearn.metrics import confusion_matrix, ConfusionMatrixDisplay\n",
    "\n",
    "cm = confusion_matrix(y_test, rscv_wine.predict(X_test), labels=model1.classes_)\n",
    "fig, ax = plt.subplots(figsize=(7,7))\n",
    "ConfusionMatrixDisplay(confusion_matrix=cm, display_labels=model1.classes_).plot(cmap=plt.cm.Blues,ax=ax)"
   ]
  },
  {
   "cell_type": "markdown",
   "id": "97b285d4",
   "metadata": {
    "id": "97b285d4"
   },
   "source": [
    "I will redefine plot_precisionvsrecall() so that we can use it for this dataset."
   ]
  },
  {
   "cell_type": "code",
   "execution_count": 23,
   "id": "TJVgVurOgSjQ",
   "metadata": {
    "id": "TJVgVurOgSjQ"
   },
   "outputs": [],
   "source": [
    "def plot_precisionvsrecall(y,y_pred):\n",
    "    fpr = dict()\n",
    "    tpr = dict()\n",
    "    th  = dict()\n",
    "    roc_auc = dict()\n",
    "    \n",
    "    y_score=label_binarize(y_pred, classes=[3, 4, 5, 6, 7, 8, 9])\n",
    "    y_test_binarized=label_binarize(y, classes=[3, 4, 5, 6, 7, 8, 9])\n",
    "    n_classes = y_score.shape[1] \n",
    "    if isinstance(y_pred, (np.ndarray)):\n",
    "        # precision recall curve\n",
    "        prevsrec_auc=dict()\n",
    "        precision = dict()\n",
    "        recall = dict()\n",
    "        th = dict()\n",
    "\n",
    "        plt.figure(figsize=(10, 7))\n",
    "        sns.set_style(\"darkgrid\")\n",
    "\n",
    "        precision[\"micro\"], recall[\"micro\"], th[\"micro\"] = precision_recall_curve(y_test_binarized.ravel(), y_score.ravel())\n",
    "        prevsrec_auc[\"micro\"] = auc(recall[\"micro\"], precision[\"micro\"])\n",
    "\n",
    "        plt.plot(precision[\"micro\"], recall[\"micro\"], lw=2, label='micro-average Precision-Recall curve (area = {0:0.2f})'\n",
    "                       ''.format(prevsrec_auc[\"micro\"]))\n",
    "    \n",
    "        plt.xlim([-0.01, 1.05])\n",
    "        plt.ylim([-0.01, 1.05])\n",
    "        plt.xlabel(\"Precision\",fontsize=20)\n",
    "        plt.ylabel(\"Recall\",fontsize=20)\n",
    "        plt.legend(loc=\"lower right\",prop={'size': 16})"
   ]
  },
  {
   "cell_type": "code",
   "execution_count": 24,
   "id": "Xuro0PTUgSIa",
   "metadata": {
    "colab": {
     "base_uri": "https://localhost:8080/",
     "height": 451
    },
    "id": "Xuro0PTUgSIa",
    "outputId": "98f3e2d4-25b0-47f5-acaf-9f51b0d9e41d"
   },
   "outputs": [
    {
     "data": {
      "image/png": "[encoded data removed]",
      "text/plain": [
       "<Figure size 720x504 with 1 Axes>"
      ]
     },
     "metadata": {
      "needs_background": "light"
     },
     "output_type": "display_data"
    }
   ],
   "source": [
    "from sklearn.preprocessing import label_binarize\n",
    "plot_precisionvsrecall(y_test, rscv_wine.predict(X_test))"
   ]
  },
  {
   "cell_type": "markdown",
   "id": "01e3bd35",
   "metadata": {
    "id": "01e3bd35"
   },
   "source": [
    "Let's also use OveVsRest strategy to see if it will perform better."
   ]
  },
  {
   "cell_type": "code",
   "execution_count": null,
   "id": "7f36fc40",
   "metadata": {
    "id": "7f36fc40"
   },
   "outputs": [],
   "source": [
    "from sklearn.multiclass import OneVsRestClassifier\n",
    "model_onevsrest=OneVsRestClassifier(SVC(gamma=\"scale\"))"
   ]
  },
  {
   "cell_type": "code",
   "execution_count": null,
   "id": "AUVvcgeDEs7s",
   "metadata": {
    "id": "AUVvcgeDEs7s"
   },
   "outputs": [],
   "source": [
    "params2 = [\n",
    "  {'estimator__C': [0.5, 1,  10, 20, 50, 100], 'estimator__kernel': ['linear']},\n",
    "  {'estimator__C': [0.5, 1,  10, 20, 50, 100], 'estimator__gamma': [0.1, 0.5, 0.75, 1], 'estimator__kernel': ['rbf']},\n",
    " ]"
   ]
  },
  {
   "cell_type": "code",
   "execution_count": null,
   "id": "fc1c718a",
   "metadata": {
    "id": "fc1c718a"
   },
   "outputs": [],
   "source": [
    "rscv_wine2=RandomizedSearchCV(model_onevsrest, params2, cv=10,verbose=42,scoring=\"accuracy\")"
   ]
  },
  {
   "cell_type": "code",
   "execution_count": null,
   "id": "a592731d",
   "metadata": {
    "colab": {
     "base_uri": "https://localhost:8080/"
    },
    "id": "a592731d",
    "outputId": "47cac6f2-2d59-4bb8-8a53-1078b9f0394b",
    "scrolled": true
   },
   "outputs": [
    {
     "name": "stdout",
     "output_type": "stream",
     "text": [
      "Fitting 10 folds for each of 10 candidates, totalling 100 fits\n",
      "[CV 1/10; 1/10] START estimator__C=0.5, estimator__gamma=0.5, estimator__kernel=rbf\n",
      "[CV 1/10; 1/10] END estimator__C=0.5, estimator__gamma=0.5, estimator__kernel=rbf;, score=0.619 total time=  14.2s\n",
      "[CV 2/10; 1/10] START estimator__C=0.5, estimator__gamma=0.5, estimator__kernel=rbf\n",
      "[CV 2/10; 1/10] END estimator__C=0.5, estimator__gamma=0.5, estimator__kernel=rbf;, score=0.615 total time=  11.5s\n",
      "[CV 3/10; 1/10] START estimator__C=0.5, estimator__gamma=0.5, estimator__kernel=rbf\n",
      "[CV 3/10; 1/10] END estimator__C=0.5, estimator__gamma=0.5, estimator__kernel=rbf;, score=0.640 total time=  11.7s\n",
      "[CV 4/10; 1/10] START estimator__C=0.5, estimator__gamma=0.5, estimator__kernel=rbf\n",
      "[CV 4/10; 1/10] END estimator__C=0.5, estimator__gamma=0.5, estimator__kernel=rbf;, score=0.631 total time=  11.4s\n",
      "[CV 5/10; 1/10] START estimator__C=0.5, estimator__gamma=0.5, estimator__kernel=rbf\n",
      "[CV 5/10; 1/10] END estimator__C=0.5, estimator__gamma=0.5, estimator__kernel=rbf;, score=0.623 total time=  11.4s\n",
      "[CV 6/10; 1/10] START estimator__C=0.5, estimator__gamma=0.5, estimator__kernel=rbf\n",
      "[CV 6/10; 1/10] END estimator__C=0.5, estimator__gamma=0.5, estimator__kernel=rbf;, score=0.606 total time=  11.4s\n",
      "[CV 7/10; 1/10] START estimator__C=0.5, estimator__gamma=0.5, estimator__kernel=rbf\n",
      "[CV 7/10; 1/10] END estimator__C=0.5, estimator__gamma=0.5, estimator__kernel=rbf;, score=0.617 total time=  11.4s\n",
      "[CV 8/10; 1/10] START estimator__C=0.5, estimator__gamma=0.5, estimator__kernel=rbf\n",
      "[CV 8/10; 1/10] END estimator__C=0.5, estimator__gamma=0.5, estimator__kernel=rbf;, score=0.642 total time=  11.6s\n",
      "[CV 9/10; 1/10] START estimator__C=0.5, estimator__gamma=0.5, estimator__kernel=rbf\n",
      "[CV 9/10; 1/10] END estimator__C=0.5, estimator__gamma=0.5, estimator__kernel=rbf;, score=0.609 total time=  11.6s\n",
      "[CV 10/10; 1/10] START estimator__C=0.5, estimator__gamma=0.5, estimator__kernel=rbf\n",
      "[CV 10/10; 1/10] END estimator__C=0.5, estimator__gamma=0.5, estimator__kernel=rbf;, score=0.640 total time=  12.4s\n",
      "[CV 1/10; 2/10] START estimator__C=1, estimator__gamma=0.1, estimator__kernel=rbf\n",
      "[CV 1/10; 2/10] END estimator__C=1, estimator__gamma=0.1, estimator__kernel=rbf;, score=0.613 total time=   7.0s\n",
      "[CV 2/10; 2/10] START estimator__C=1, estimator__gamma=0.1, estimator__kernel=rbf\n",
      "[CV 2/10; 2/10] END estimator__C=1, estimator__gamma=0.1, estimator__kernel=rbf;, score=0.627 total time=   7.0s\n",
      "[CV 3/10; 2/10] START estimator__C=1, estimator__gamma=0.1, estimator__kernel=rbf\n",
      "[CV 3/10; 2/10] END estimator__C=1, estimator__gamma=0.1, estimator__kernel=rbf;, score=0.629 total time=   6.9s\n",
      "[CV 4/10; 2/10] START estimator__C=1, estimator__gamma=0.1, estimator__kernel=rbf\n",
      "[CV 4/10; 2/10] END estimator__C=1, estimator__gamma=0.1, estimator__kernel=rbf;, score=0.650 total time=   7.0s\n",
      "[CV 5/10; 2/10] START estimator__C=1, estimator__gamma=0.1, estimator__kernel=rbf\n",
      "[CV 5/10; 2/10] END estimator__C=1, estimator__gamma=0.1, estimator__kernel=rbf;, score=0.617 total time=   6.9s\n",
      "[CV 6/10; 2/10] START estimator__C=1, estimator__gamma=0.1, estimator__kernel=rbf\n",
      "[CV 6/10; 2/10] END estimator__C=1, estimator__gamma=0.1, estimator__kernel=rbf;, score=0.617 total time=   7.0s\n",
      "[CV 7/10; 2/10] START estimator__C=1, estimator__gamma=0.1, estimator__kernel=rbf\n",
      "[CV 7/10; 2/10] END estimator__C=1, estimator__gamma=0.1, estimator__kernel=rbf;, score=0.619 total time=   7.0s\n",
      "[CV 8/10; 2/10] START estimator__C=1, estimator__gamma=0.1, estimator__kernel=rbf\n",
      "[CV 8/10; 2/10] END estimator__C=1, estimator__gamma=0.1, estimator__kernel=rbf;, score=0.624 total time=   6.8s\n",
      "[CV 9/10; 2/10] START estimator__C=1, estimator__gamma=0.1, estimator__kernel=rbf\n",
      "[CV 9/10; 2/10] END estimator__C=1, estimator__gamma=0.1, estimator__kernel=rbf;, score=0.592 total time=   7.0s\n",
      "[CV 10/10; 2/10] START estimator__C=1, estimator__gamma=0.1, estimator__kernel=rbf\n",
      "[CV 10/10; 2/10] END estimator__C=1, estimator__gamma=0.1, estimator__kernel=rbf;, score=0.634 total time=   6.9s\n",
      "[CV 1/10; 3/10] START estimator__C=10, estimator__gamma=1, estimator__kernel=rbf\n",
      "[CV 1/10; 3/10] END estimator__C=10, estimator__gamma=1, estimator__kernel=rbf;, score=0.604 total time=  12.9s\n",
      "[CV 2/10; 3/10] START estimator__C=10, estimator__gamma=1, estimator__kernel=rbf\n",
      "[CV 2/10; 3/10] END estimator__C=10, estimator__gamma=1, estimator__kernel=rbf;, score=0.608 total time=  12.9s\n",
      "[CV 3/10; 3/10] START estimator__C=10, estimator__gamma=1, estimator__kernel=rbf\n",
      "[CV 3/10; 3/10] END estimator__C=10, estimator__gamma=1, estimator__kernel=rbf;, score=0.621 total time=  13.5s\n",
      "[CV 4/10; 3/10] START estimator__C=10, estimator__gamma=1, estimator__kernel=rbf\n",
      "[CV 4/10; 3/10] END estimator__C=10, estimator__gamma=1, estimator__kernel=rbf;, score=0.615 total time=  12.9s\n",
      "[CV 5/10; 3/10] START estimator__C=10, estimator__gamma=1, estimator__kernel=rbf\n",
      "[CV 5/10; 3/10] END estimator__C=10, estimator__gamma=1, estimator__kernel=rbf;, score=0.623 total time=  13.0s\n",
      "[CV 6/10; 3/10] START estimator__C=10, estimator__gamma=1, estimator__kernel=rbf\n",
      "[CV 6/10; 3/10] END estimator__C=10, estimator__gamma=1, estimator__kernel=rbf;, score=0.598 total time=  12.9s\n",
      "[CV 7/10; 3/10] START estimator__C=10, estimator__gamma=1, estimator__kernel=rbf\n",
      "[CV 7/10; 3/10] END estimator__C=10, estimator__gamma=1, estimator__kernel=rbf;, score=0.594 total time=  12.9s\n",
      "[CV 8/10; 3/10] START estimator__C=10, estimator__gamma=1, estimator__kernel=rbf\n",
      "[CV 8/10; 3/10] END estimator__C=10, estimator__gamma=1, estimator__kernel=rbf;, score=0.624 total time=  12.9s\n",
      "[CV 9/10; 3/10] START estimator__C=10, estimator__gamma=1, estimator__kernel=rbf\n",
      "[CV 9/10; 3/10] END estimator__C=10, estimator__gamma=1, estimator__kernel=rbf;, score=0.582 total time=  12.9s\n",
      "[CV 10/10; 3/10] START estimator__C=10, estimator__gamma=1, estimator__kernel=rbf\n",
      "[CV 10/10; 3/10] END estimator__C=10, estimator__gamma=1, estimator__kernel=rbf;, score=0.618 total time=  13.0s\n",
      "[CV 1/10; 4/10] START estimator__C=50, estimator__gamma=1, estimator__kernel=rbf\n",
      "[CV 1/10; 4/10] END estimator__C=50, estimator__gamma=1, estimator__kernel=rbf;, score=0.604 total time=  13.0s\n",
      "[CV 2/10; 4/10] START estimator__C=50, estimator__gamma=1, estimator__kernel=rbf\n",
      "[CV 2/10; 4/10] END estimator__C=50, estimator__gamma=1, estimator__kernel=rbf;, score=0.608 total time=  12.9s\n",
      "[CV 3/10; 4/10] START estimator__C=50, estimator__gamma=1, estimator__kernel=rbf\n",
      "[CV 3/10; 4/10] END estimator__C=50, estimator__gamma=1, estimator__kernel=rbf;, score=0.621 total time=  12.9s\n",
      "[CV 4/10; 4/10] START estimator__C=50, estimator__gamma=1, estimator__kernel=rbf\n",
      "[CV 4/10; 4/10] END estimator__C=50, estimator__gamma=1, estimator__kernel=rbf;, score=0.615 total time=  12.9s\n",
      "[CV 5/10; 4/10] START estimator__C=50, estimator__gamma=1, estimator__kernel=rbf\n",
      "[CV 5/10; 4/10] END estimator__C=50, estimator__gamma=1, estimator__kernel=rbf;, score=0.623 total time=  12.9s\n",
      "[CV 6/10; 4/10] START estimator__C=50, estimator__gamma=1, estimator__kernel=rbf\n",
      "[CV 6/10; 4/10] END estimator__C=50, estimator__gamma=1, estimator__kernel=rbf;, score=0.598 total time=  12.8s\n",
      "[CV 7/10; 4/10] START estimator__C=50, estimator__gamma=1, estimator__kernel=rbf\n",
      "[CV 7/10; 4/10] END estimator__C=50, estimator__gamma=1, estimator__kernel=rbf;, score=0.594 total time=  12.9s\n",
      "[CV 8/10; 4/10] START estimator__C=50, estimator__gamma=1, estimator__kernel=rbf\n",
      "[CV 8/10; 4/10] END estimator__C=50, estimator__gamma=1, estimator__kernel=rbf;, score=0.624 total time=  13.0s\n",
      "[CV 9/10; 4/10] START estimator__C=50, estimator__gamma=1, estimator__kernel=rbf\n",
      "[CV 9/10; 4/10] END estimator__C=50, estimator__gamma=1, estimator__kernel=rbf;, score=0.582 total time=  12.9s\n",
      "[CV 10/10; 4/10] START estimator__C=50, estimator__gamma=1, estimator__kernel=rbf\n",
      "[CV 10/10; 4/10] END estimator__C=50, estimator__gamma=1, estimator__kernel=rbf;, score=0.618 total time=  13.0s\n",
      "[CV 1/10; 5/10] START estimator__C=100, estimator__gamma=0.75, estimator__kernel=rbf\n",
      "[CV 1/10; 5/10] END estimator__C=100, estimator__gamma=0.75, estimator__kernel=rbf;, score=0.619 total time=  12.7s\n",
      "[CV 2/10; 5/10] START estimator__C=100, estimator__gamma=0.75, estimator__kernel=rbf\n",
      "[CV 2/10; 5/10] END estimator__C=100, estimator__gamma=0.75, estimator__kernel=rbf;, score=0.625 total time=  12.8s\n",
      "[CV 3/10; 5/10] START estimator__C=100, estimator__gamma=0.75, estimator__kernel=rbf\n",
      "[CV 3/10; 5/10] END estimator__C=100, estimator__gamma=0.75, estimator__kernel=rbf;, score=0.629 total time=  13.0s\n",
      "[CV 4/10; 5/10] START estimator__C=100, estimator__gamma=0.75, estimator__kernel=rbf\n",
      "[CV 4/10; 5/10] END estimator__C=100, estimator__gamma=0.75, estimator__kernel=rbf;, score=0.615 total time=  12.9s\n",
      "[CV 5/10; 5/10] START estimator__C=100, estimator__gamma=0.75, estimator__kernel=rbf\n",
      "[CV 5/10; 5/10] END estimator__C=100, estimator__gamma=0.75, estimator__kernel=rbf;, score=0.625 total time=  12.9s\n",
      "[CV 6/10; 5/10] START estimator__C=100, estimator__gamma=0.75, estimator__kernel=rbf\n",
      "[CV 6/10; 5/10] END estimator__C=100, estimator__gamma=0.75, estimator__kernel=rbf;, score=0.602 total time=  12.8s\n",
      "[CV 7/10; 5/10] START estimator__C=100, estimator__gamma=0.75, estimator__kernel=rbf\n",
      "[CV 7/10; 5/10] END estimator__C=100, estimator__gamma=0.75, estimator__kernel=rbf;, score=0.602 total time=  12.7s\n",
      "[CV 8/10; 5/10] START estimator__C=100, estimator__gamma=0.75, estimator__kernel=rbf\n",
      "[CV 8/10; 5/10] END estimator__C=100, estimator__gamma=0.75, estimator__kernel=rbf;, score=0.638 total time=  12.8s\n",
      "[CV 9/10; 5/10] START estimator__C=100, estimator__gamma=0.75, estimator__kernel=rbf\n",
      "[CV 9/10; 5/10] END estimator__C=100, estimator__gamma=0.75, estimator__kernel=rbf;, score=0.593 total time=  12.8s\n",
      "[CV 10/10; 5/10] START estimator__C=100, estimator__gamma=0.75, estimator__kernel=rbf\n",
      "[CV 10/10; 5/10] END estimator__C=100, estimator__gamma=0.75, estimator__kernel=rbf;, score=0.630 total time=  12.9s\n",
      "[CV 1/10; 6/10] START estimator__C=0.5, estimator__gamma=1, estimator__kernel=rbf\n",
      "[CV 1/10; 6/10] END estimator__C=0.5, estimator__gamma=1, estimator__kernel=rbf;, score=0.596 total time=  11.8s\n",
      "[CV 2/10; 6/10] START estimator__C=0.5, estimator__gamma=1, estimator__kernel=rbf\n",
      "[CV 2/10; 6/10] END estimator__C=0.5, estimator__gamma=1, estimator__kernel=rbf;, score=0.610 total time=  11.8s\n",
      "[CV 3/10; 6/10] START estimator__C=0.5, estimator__gamma=1, estimator__kernel=rbf\n",
      "[CV 3/10; 6/10] END estimator__C=0.5, estimator__gamma=1, estimator__kernel=rbf;, score=0.612 total time=  11.8s\n",
      "[CV 4/10; 6/10] START estimator__C=0.5, estimator__gamma=1, estimator__kernel=rbf\n",
      "[CV 4/10; 6/10] END estimator__C=0.5, estimator__gamma=1, estimator__kernel=rbf;, score=0.613 total time=  11.6s\n",
      "[CV 5/10; 6/10] START estimator__C=0.5, estimator__gamma=1, estimator__kernel=rbf\n",
      "[CV 5/10; 6/10] END estimator__C=0.5, estimator__gamma=1, estimator__kernel=rbf;, score=0.617 total time=  11.6s\n",
      "[CV 6/10; 6/10] START estimator__C=0.5, estimator__gamma=1, estimator__kernel=rbf\n",
      "[CV 6/10; 6/10] END estimator__C=0.5, estimator__gamma=1, estimator__kernel=rbf;, score=0.588 total time=  11.6s\n",
      "[CV 7/10; 6/10] START estimator__C=0.5, estimator__gamma=1, estimator__kernel=rbf\n",
      "[CV 7/10; 6/10] END estimator__C=0.5, estimator__gamma=1, estimator__kernel=rbf;, score=0.598 total time=  11.6s\n",
      "[CV 8/10; 6/10] START estimator__C=0.5, estimator__gamma=1, estimator__kernel=rbf\n",
      "[CV 8/10; 6/10] END estimator__C=0.5, estimator__gamma=1, estimator__kernel=rbf;, score=0.611 total time=  11.8s\n",
      "[CV 9/10; 6/10] START estimator__C=0.5, estimator__gamma=1, estimator__kernel=rbf\n",
      "[CV 9/10; 6/10] END estimator__C=0.5, estimator__gamma=1, estimator__kernel=rbf;, score=0.576 total time=  11.7s\n",
      "[CV 10/10; 6/10] START estimator__C=0.5, estimator__gamma=1, estimator__kernel=rbf\n",
      "[CV 10/10; 6/10] END estimator__C=0.5, estimator__gamma=1, estimator__kernel=rbf;, score=0.605 total time=  11.8s\n",
      "[CV 1/10; 7/10] START estimator__C=100, estimator__gamma=1, estimator__kernel=rbf\n",
      "[CV 1/10; 7/10] END estimator__C=100, estimator__gamma=1, estimator__kernel=rbf;, score=0.604 total time=  13.0s\n",
      "[CV 2/10; 7/10] START estimator__C=100, estimator__gamma=1, estimator__kernel=rbf\n",
      "[CV 2/10; 7/10] END estimator__C=100, estimator__gamma=1, estimator__kernel=rbf;, score=0.608 total time=  13.0s\n",
      "[CV 3/10; 7/10] START estimator__C=100, estimator__gamma=1, estimator__kernel=rbf\n",
      "[CV 3/10; 7/10] END estimator__C=100, estimator__gamma=1, estimator__kernel=rbf;, score=0.621 total time=  12.8s\n",
      "[CV 4/10; 7/10] START estimator__C=100, estimator__gamma=1, estimator__kernel=rbf\n",
      "[CV 4/10; 7/10] END estimator__C=100, estimator__gamma=1, estimator__kernel=rbf;, score=0.615 total time=  13.0s\n",
      "[CV 5/10; 7/10] START estimator__C=100, estimator__gamma=1, estimator__kernel=rbf\n",
      "[CV 5/10; 7/10] END estimator__C=100, estimator__gamma=1, estimator__kernel=rbf;, score=0.623 total time=  12.9s\n",
      "[CV 6/10; 7/10] START estimator__C=100, estimator__gamma=1, estimator__kernel=rbf\n",
      "[CV 6/10; 7/10] END estimator__C=100, estimator__gamma=1, estimator__kernel=rbf;, score=0.598 total time=  12.9s\n",
      "[CV 7/10; 7/10] START estimator__C=100, estimator__gamma=1, estimator__kernel=rbf\n",
      "[CV 7/10; 7/10] END estimator__C=100, estimator__gamma=1, estimator__kernel=rbf;, score=0.594 total time=  12.9s\n",
      "[CV 8/10; 7/10] START estimator__C=100, estimator__gamma=1, estimator__kernel=rbf\n",
      "[CV 8/10; 7/10] END estimator__C=100, estimator__gamma=1, estimator__kernel=rbf;, score=0.624 total time=  13.1s\n",
      "[CV 9/10; 7/10] START estimator__C=100, estimator__gamma=1, estimator__kernel=rbf\n",
      "[CV 9/10; 7/10] END estimator__C=100, estimator__gamma=1, estimator__kernel=rbf;, score=0.582 total time=  13.0s\n",
      "[CV 10/10; 7/10] START estimator__C=100, estimator__gamma=1, estimator__kernel=rbf\n",
      "[CV 10/10; 7/10] END estimator__C=100, estimator__gamma=1, estimator__kernel=rbf;, score=0.618 total time=  13.0s\n",
      "[CV 1/10; 8/10] START estimator__C=10, estimator__kernel=linear.................\n",
      "[CV 1/10; 8/10] END estimator__C=10, estimator__kernel=linear;, score=0.542 total time=11.9min\n",
      "[CV 2/10; 8/10] START estimator__C=10, estimator__kernel=linear.................\n",
      "[CV 2/10; 8/10] END estimator__C=10, estimator__kernel=linear;, score=0.560 total time=10.2min\n",
      "[CV 3/10; 8/10] START estimator__C=10, estimator__kernel=linear.................\n",
      "[CV 3/10; 8/10] END estimator__C=10, estimator__kernel=linear;, score=0.571 total time=13.7min\n",
      "[CV 4/10; 8/10] START estimator__C=10, estimator__kernel=linear.................\n",
      "[CV 4/10; 8/10] END estimator__C=10, estimator__kernel=linear;, score=0.540 total time=12.0min\n",
      "[CV 5/10; 8/10] START estimator__C=10, estimator__kernel=linear.................\n",
      "[CV 5/10; 8/10] END estimator__C=10, estimator__kernel=linear;, score=0.538 total time=12.5min\n",
      "[CV 6/10; 8/10] START estimator__C=10, estimator__kernel=linear.................\n",
      "[CV 6/10; 8/10] END estimator__C=10, estimator__kernel=linear;, score=0.550 total time=13.5min\n",
      "[CV 7/10; 8/10] START estimator__C=10, estimator__kernel=linear.................\n",
      "[CV 7/10; 8/10] END estimator__C=10, estimator__kernel=linear;, score=0.567 total time=12.4min\n",
      "[CV 8/10; 8/10] START estimator__C=10, estimator__kernel=linear.................\n",
      "[CV 8/10; 8/10] END estimator__C=10, estimator__kernel=linear;, score=0.536 total time=11.5min\n",
      "[CV 9/10; 8/10] START estimator__C=10, estimator__kernel=linear.................\n",
      "[CV 9/10; 8/10] END estimator__C=10, estimator__kernel=linear;, score=0.514 total time=12.7min\n",
      "[CV 10/10; 8/10] START estimator__C=10, estimator__kernel=linear................\n",
      "[CV 10/10; 8/10] END estimator__C=10, estimator__kernel=linear;, score=0.495 total time=12.8min\n",
      "[CV 1/10; 9/10] START estimator__C=10, estimator__gamma=0.1, estimator__kernel=rbf\n",
      "[CV 1/10; 9/10] END estimator__C=10, estimator__gamma=0.1, estimator__kernel=rbf;, score=0.631 total time=   7.8s\n",
      "[CV 2/10; 9/10] START estimator__C=10, estimator__gamma=0.1, estimator__kernel=rbf\n",
      "[CV 2/10; 9/10] END estimator__C=10, estimator__gamma=0.1, estimator__kernel=rbf;, score=0.635 total time=   8.1s\n",
      "[CV 3/10; 9/10] START estimator__C=10, estimator__gamma=0.1, estimator__kernel=rbf\n",
      "[CV 3/10; 9/10] END estimator__C=10, estimator__gamma=0.1, estimator__kernel=rbf;, score=0.640 total time=   7.7s\n",
      "[CV 4/10; 9/10] START estimator__C=10, estimator__gamma=0.1, estimator__kernel=rbf\n",
      "[CV 4/10; 9/10] END estimator__C=10, estimator__gamma=0.1, estimator__kernel=rbf;, score=0.635 total time=   7.9s\n",
      "[CV 5/10; 9/10] START estimator__C=10, estimator__gamma=0.1, estimator__kernel=rbf\n",
      "[CV 5/10; 9/10] END estimator__C=10, estimator__gamma=0.1, estimator__kernel=rbf;, score=0.610 total time=   7.6s\n",
      "[CV 6/10; 9/10] START estimator__C=10, estimator__gamma=0.1, estimator__kernel=rbf\n",
      "[CV 6/10; 9/10] END estimator__C=10, estimator__gamma=0.1, estimator__kernel=rbf;, score=0.623 total time=   7.4s\n",
      "[CV 7/10; 9/10] START estimator__C=10, estimator__gamma=0.1, estimator__kernel=rbf\n",
      "[CV 7/10; 9/10] END estimator__C=10, estimator__gamma=0.1, estimator__kernel=rbf;, score=0.617 total time=   7.5s\n",
      "[CV 8/10; 9/10] START estimator__C=10, estimator__gamma=0.1, estimator__kernel=rbf\n",
      "[CV 8/10; 9/10] END estimator__C=10, estimator__gamma=0.1, estimator__kernel=rbf;, score=0.636 total time=   7.6s\n",
      "[CV 9/10; 9/10] START estimator__C=10, estimator__gamma=0.1, estimator__kernel=rbf\n",
      "[CV 9/10; 9/10] END estimator__C=10, estimator__gamma=0.1, estimator__kernel=rbf;, score=0.617 total time=   7.4s\n",
      "[CV 10/10; 9/10] START estimator__C=10, estimator__gamma=0.1, estimator__kernel=rbf\n",
      "[CV 10/10; 9/10] END estimator__C=10, estimator__gamma=0.1, estimator__kernel=rbf;, score=0.680 total time=   7.5s\n",
      "[CV 1/10; 10/10] START estimator__C=20, estimator__gamma=1, estimator__kernel=rbf\n",
      "[CV 1/10; 10/10] END estimator__C=20, estimator__gamma=1, estimator__kernel=rbf;, score=0.604 total time=  12.9s\n",
      "[CV 2/10; 10/10] START estimator__C=20, estimator__gamma=1, estimator__kernel=rbf\n",
      "[CV 2/10; 10/10] END estimator__C=20, estimator__gamma=1, estimator__kernel=rbf;, score=0.608 total time=  12.9s\n",
      "[CV 3/10; 10/10] START estimator__C=20, estimator__gamma=1, estimator__kernel=rbf\n",
      "[CV 3/10; 10/10] END estimator__C=20, estimator__gamma=1, estimator__kernel=rbf;, score=0.621 total time=  12.8s\n",
      "[CV 4/10; 10/10] START estimator__C=20, estimator__gamma=1, estimator__kernel=rbf\n",
      "[CV 4/10; 10/10] END estimator__C=20, estimator__gamma=1, estimator__kernel=rbf;, score=0.615 total time=  12.8s\n",
      "[CV 5/10; 10/10] START estimator__C=20, estimator__gamma=1, estimator__kernel=rbf\n",
      "[CV 5/10; 10/10] END estimator__C=20, estimator__gamma=1, estimator__kernel=rbf;, score=0.623 total time=  13.0s\n",
      "[CV 6/10; 10/10] START estimator__C=20, estimator__gamma=1, estimator__kernel=rbf\n",
      "[CV 6/10; 10/10] END estimator__C=20, estimator__gamma=1, estimator__kernel=rbf;, score=0.598 total time=  12.9s\n",
      "[CV 7/10; 10/10] START estimator__C=20, estimator__gamma=1, estimator__kernel=rbf\n",
      "[CV 7/10; 10/10] END estimator__C=20, estimator__gamma=1, estimator__kernel=rbf;, score=0.594 total time=  12.9s\n",
      "[CV 8/10; 10/10] START estimator__C=20, estimator__gamma=1, estimator__kernel=rbf\n",
      "[CV 8/10; 10/10] END estimator__C=20, estimator__gamma=1, estimator__kernel=rbf;, score=0.624 total time=  12.9s\n",
      "[CV 9/10; 10/10] START estimator__C=20, estimator__gamma=1, estimator__kernel=rbf\n",
      "[CV 9/10; 10/10] END estimator__C=20, estimator__gamma=1, estimator__kernel=rbf;, score=0.582 total time=  13.0s\n",
      "[CV 10/10; 10/10] START estimator__C=20, estimator__gamma=1, estimator__kernel=rbf\n",
      "[CV 10/10; 10/10] END estimator__C=20, estimator__gamma=1, estimator__kernel=rbf;, score=0.618 total time=  13.0s\n"
     ]
    }
   ],
   "source": [
    "model2=rscv_wine2.fit(X_train,y_train)"
   ]
  },
  {
   "cell_type": "code",
   "execution_count": null,
   "id": "78a6f634",
   "metadata": {
    "colab": {
     "base_uri": "https://localhost:8080/"
    },
    "id": "78a6f634",
    "outputId": "a2f79ad7-27fd-4191-afaf-c4a7f4cde36f"
   },
   "outputs": [
    {
     "data": {
      "text/plain": [
       "0.6515384615384615"
      ]
     },
     "execution_count": 21,
     "metadata": {},
     "output_type": "execute_result"
    }
   ],
   "source": [
    "accuracy_score(rscv_wine2.predict(X_test),y_test)"
   ]
  },
  {
   "cell_type": "code",
   "execution_count": null,
   "id": "8szZOK4Xn3BH",
   "metadata": {
    "colab": {
     "base_uri": "https://localhost:8080/",
     "height": 434
    },
    "id": "8szZOK4Xn3BH",
    "outputId": "9962a489-33f0-42d4-dfcf-ee36ad83a38b"
   },
   "outputs": [
    {
     "data": {
      "text/plain": [
       "<sklearn.metrics._plot.confusion_matrix.ConfusionMatrixDisplay at 0x7ffb2f86a350>"
      ]
     },
     "execution_count": 22,
     "metadata": {},
     "output_type": "execute_result"
    },
    {
     "data": {
      "image/png": "[encoded data removed]",
      "text/plain": [
       "<Figure size 504x504 with 2 Axes>"
      ]
     },
     "metadata": {
      "needs_background": "light"
     },
     "output_type": "display_data"
    }
   ],
   "source": [
    "from sklearn.metrics import confusion_matrix, ConfusionMatrixDisplay\n",
    "\n",
    "cm = confusion_matrix(y_test, rscv_wine2.predict(X_test), labels=model2.classes_)\n",
    "fig, ax = plt.subplots(figsize=(7,7))\n",
    "ConfusionMatrixDisplay(confusion_matrix=cm, display_labels=model2.classes_).plot(cmap=plt.cm.Blues,ax=ax)"
   ]
  },
  {
   "cell_type": "code",
   "execution_count": null,
   "id": "ZVfD2MFOn7L2",
   "metadata": {
    "colab": {
     "base_uri": "https://localhost:8080/",
     "height": 451
    },
    "id": "ZVfD2MFOn7L2",
    "outputId": "54246377-d059-47e7-cc34-2d6e09bea374"
   },
   "outputs": [
    {
     "data": {
      "image/png": "[encoded data removed]",
      "text/plain": [
       "<Figure size 720x504 with 1 Axes>"
      ]
     },
     "metadata": {
      "needs_background": "light"
     },
     "output_type": "display_data"
    }
   ],
   "source": [
    "from sklearn.preprocessing import label_binarize\n",
    "plot_precisionvsrecall(y_test, rscv_wine2.predict(X_test))"
   ]
  },
  {
   "cell_type": "code",
   "execution_count": null,
   "id": "0883bb98",
   "metadata": {
    "colab": {
     "base_uri": "https://localhost:8080/"
    },
    "id": "0883bb98",
    "outputId": "02217a96-25a8-427b-900b-b55c3a5e10fa"
   },
   "outputs": [
    {
     "data": {
      "text/plain": [
       "{'estimator__C': 10, 'estimator__gamma': 0.1, 'estimator__kernel': 'rbf'}"
      ]
     },
     "execution_count": 25,
     "metadata": {},
     "output_type": "execute_result"
    }
   ],
   "source": [
    "rscv_wine2.best_params_"
   ]
  },
  {
   "cell_type": "markdown",
   "id": "5606445f",
   "metadata": {
    "id": "8c0d5741"
   },
   "source": [
    "One-vs-Rest strategy looks like slight performing better but there is actually no much performance change between them. I will improve the models in this notebook further in another notebook."
   ]
  }
 ],
 "metadata": {
  "colab": {
   "collapsed_sections": [
    "36b29a5d",
    "5fea2855"
   ],
   "name": "Linear Models in Machine Learning on Python - SVM 3.ipynb",
   "provenance": []
  },
  "kernelspec": {
   "display_name": "Python 3 (ipykernel)",
   "language": "python",
   "name": "python3"
  },
  "language_info": {
   "codemirror_mode": {
    "name": "ipython",
    "version": 3
   },
   "file_extension": ".py",
   "mimetype": "text/x-python",
   "name": "python",
   "nbconvert_exporter": "python",
   "pygments_lexer": "ipython3",
   "version": "3.8.8"
  }
 },
 "nbformat": 4,
 "nbformat_minor": 5
}
