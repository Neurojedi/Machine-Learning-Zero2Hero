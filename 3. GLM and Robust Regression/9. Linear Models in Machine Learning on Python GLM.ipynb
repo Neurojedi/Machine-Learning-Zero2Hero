{
 "cells": [
  {
   "cell_type": "markdown",
   "id": "dde5c776",
   "metadata": {},
   "source": [
    "# Linear Models in Machine Learning on Python - Generalized Linear Models"
   ]
  },
  {
   "cell_type": "markdown",
   "id": "47b1a7b7",
   "metadata": {},
   "source": [
    "Welcome to the 9th notebook on Linear Models. In this notebook thanks to some aliens named Staticians who live on the planet called earth, we will explore that Linear Regression and Logistic Regression models are actualy a member of a more general model family called Generalized Linear Models."
   ]
  },
  {
   "cell_type": "code",
   "execution_count": 39,
   "id": "05c48d98",
   "metadata": {},
   "outputs": [],
   "source": [
    "import seaborn as sns\n",
    "import pandas as pd\n",
    "import numpy as np\n",
    "import matplotlib.pyplot as plt\n",
    "import warnings\n",
    "warnings.filterwarnings('ignore', module='sklearn')\n",
    "from matplotlib import pyplot\n",
    "from sklearn.linear_model import Ridge\n",
    "from sklearn.metrics import mean_squared_error\n",
    "from sklearn.preprocessing import StandardScaler\n",
    "from sklearn.metrics import r2_score\n",
    "from sklearn.model_selection import GridSearchCV\n",
    "from sklearn.model_selection import train_test_split\n",
    "from sklearn.linear_model import PoissonRegressor\n",
    "from sklearn.preprocessing import PolynomialFeatures"
   ]
  },
  {
   "cell_type": "markdown",
   "id": "afba620e",
   "metadata": {},
   "source": [
    "In the previous notebooks, we used linear regression for predicting normally distributed or almost normally distributed outcomes. Afterwards, we used logistic regression for predicting binary (binomial distribution) outcomes. Generalized Linear Models generalize the situation of linear models and provide us a way to use linear models to model non-normally distributed features. In this notebook, we will firstly talk about Maximum Likelihood Estimation and see how this it is related to logistic regression and linear regression. Afterwards, we will derive another model called Poisson regression for count data in which we have a different distribution than normal. Lastly, we will see how we can generalize these steps and use different approaches for different distributions.\n",
    "\n",
    "This time the notebook will be very mathematical compared to the other notebooks, you may skip it if you would like and start with the implementation of Poisson Regression on Python. However, I recommend you spend some time with these algorithms. It took quite a while for me to get to grasp the mechanisms behind GLM. I still think I have some problems with these algorithms but It is not as hard as it looks."
   ]
  },
  {
   "cell_type": "markdown",
   "id": "648bfec3",
   "metadata": {},
   "source": [
    "## Mathematics behind Generalized Linear Models"
   ]
  },
  {
   "cell_type": "markdown",
   "id": "0805d6fd",
   "metadata": {},
   "source": [
    "Welcome to the world of Statistics and Probability... \n",
    "\n",
    "###  Maximum Likelihood Estimation \n",
    "\n",
    "I will start by introducing something called Maximum Likelihood Estimation. I guess I mentioned this name in one of the Logistic Regression notebooks but didn't explain what it is. To understand maximum likelihood we first need to understand some concepts that are relevant to it(actually they are relevant to Logistic Regression as well). I will talk about these relevant concepts briefly and provide additional sources for each.\n",
    "\n",
    "\n",
    "#### Bayes Theorem\n",
    "\n",
    "$$P\\left(H\\:|\\:E\\right)=\\frac{P\\left(H\\right)P\\left(E\\:|\\:H\\right)}{P\\left(E\\right)}$$\n",
    "\n",
    "In the equation, E= Evidence and H= Hypothesis. $P\\left(H\\:|\\:E\\right)$ is the probability of hypothesis giving that the evidence is true. This is something called conditional probability because $P\\left(H\\:|\\:E\\right)$ equals the probability of H if E is true. Why do we need something like that ? Well, Bayes Theorem is a very general idea but part of it that we are interested in right now is that evidence should not determine our beliefs but it should update our prior beliefs (there are a couple of different interpretation of Bayes Theorem, here I refer the one called Diachronic Bayes Theorem). The reason for doing that is we are not always sure about our data. If the prediction of our model can change with every new evidence we would have many problems in situations like when we have imbalanced classes. To read more about Bayes Theorem, I recommend you to check these videos [link1](https://www.youtube.com/watch?v=HZGCoVF3YvM) and [link2](https://www.youtube.com/watch?v=9wCnvr7Xw4E)\n",
    "\n",
    "#### Odds\n",
    "\n",
    "Another important concept that we need to learn is odds. Odds are defined as the probability of an event happening divided by the probability of an event not happening. More mathematically we can define it as $$Odds =\\frac{p}{1-p}$$\n",
    "\n",
    "If you want to read more about Odds, I will share three sources. Two of them are videos from a Youtube channel called Statquest and the last one is an article from Geeksforgeeks. Watch the videos and read the article carefully, it is especially important to understand why we are using log(odds) but not odds [link1](https://www.youtube.com/watch?v=ARfXDSkQf1Y&t=98s), [link2](https://www.youtube.com/watch?v=8nm0G-1uJzA), [link3](https://www.geeksforgeeks.org/log-odds/) and finally reading this discussion can be very good [The Difference Between \"Probability\" and \"Odds\"](https://sphweb.bumc.bu.edu/otlt/mph-modules/bs/bs704_confidence_intervals/BS704_Confidence_Intervals10.html)\n",
    "\n",
    "We talked about two important concepts that we need for learning maximum likelihood estimation, as well as, generalized linear models. Now let's define one more thing: Likelihood. <br> \n",
    "\n",
    "#### Likelihood\n",
    "\n",
    "**=>** Likelihood gives us the probability value given our model. To some extent, it's like a function. We provide our model or assumption and in return, likelihood provides us a probability value. These concepts can be very confusing and actually they are. People even use likelihood and probability interchangeably in some cases, however, it is important to understand the real difference between them. At this point, I can recommend watching these two videos [link1](https://www.youtube.com/watch?v=pYxNSUDSFH4&t=135s) and [link2](https://www.youtube.com/watch?v=Dmy3AGIj7_U). I also recommend watching this video about the equivalence of likelihood and probability in some specific cases [link3](https://www.youtube.com/watch?v=bWaACQGsk7c). For a deeper understanding also watching this video can be good [link4](https://www.youtube.com/watch?v=ScduwntrMzc).\n",
    "\n",
    "#### Maximum Likelihood Estimation\n",
    "\n",
    "Now we will turn back to maximum likelihood. Let's say we would like to know probability of having breast cancer for a person **given that** we have some instances from our Breast cancer dataset. The probability of having breast cancer given our population(or parameter x) is given by <br> <br>  $$P\\left(y=1|\\:x;\\beta\\right)=h_{\\beta }\\left(x\\right)$$ <br> Similarly, we can get the probability of not having a breast cancer by the equation <br><br>   $$ P\\left(y=0|x;\\beta\\right)=1-h_{\\beta }\\left(x\\right)$$<br> When we combine these two equation, we get a general form that we can use either for y=1 and y=0. <br> <br> \n",
    "$$P\\left(y|x;\\beta \\right)=\\left(h_{\\beta }\\left(x\\right)\\right)^y\\left(1-h_{\\beta}\\left(x\\right)\\right)^{y-1}$$\n",
    "\n",
    "\n",
    "But the equation above is just for one instance in our dataset. Let's define a function that we will use for all the instances that we are interested in\n",
    "\n",
    "$$L\\left(\\beta \\right)=P\\left(y|x;\\beta \\:\\right)=\\prod _{i=1}^mP\\left(y^{\\left(i\\right)}\\:|\\:x^{\\left(i\\right)};\\beta \\:\\right)=\\prod_{i=1}^m\\left(h_{\\beta \\:}\\left(x^{\\left(i\\right)}\\right)\\right)^{y^{\\left(i\\right)}}\\left(1-h_{\\beta \\:}\\left(x^{\\left(i\\right)}\\right)\\right)^{y^{\\left(i\\right)}-1}$$\n",
    "\n",
    "Here we get the joint probability for the instances that we are interested in (in our case we are interested in people with breast cancer). This function is also called the Likelihood Function since it provides us a probability value given a model or assumption. For finding instances with breast cancer, we need to maximize this likelihood for them but before doing that I recommend watching a video from one of the channels that I really like. Even if you don't have any problem understanding Maximum Likelihood so far, I recommend you to watch this [video](https://www.youtube.com/watch?v=I_dhPETvll8).\n",
    "\n",
    "Let's go on with the second part. We were trying to find a probability value for having breast cancer given a population (a population of people who either has breast cancer or not, just like in our dataset). For finding instances with breast cancer we need to maximize the likelihood function. Therefore, we will take its derivative and set it to zero, so that we will find the value that maximizes it.  \n",
    "\n",
    "In order to find the people (instances) with breast cancer in our population (in our dataset), we need to maximize the likelihood. The function is dependent on $\\beta $ and we can find $\\beta$ values that maximize our likelihood function by derivating the function and setting it to zero $\\frac{\\partial \\:}{\\partial \\beta _j}\\left(L\\left(\\beta \\right)\\right)=0$. \n",
    "However, the problem is derivative of product is a computationally expensive. We can overcome this problem by taking logarithm of the likelihood function. Let's do it:\n",
    "\n",
    "$$ℓ\\left(\\beta \\right)=log\\left(L\\left(\\beta \\right)\\right)=log\\left(\\prod_{i=1}^m\\left(h_{\\beta }\\left(x^{\\left(i\\right)}\\right)\\right)^{y^{\\left(i\\right)}}\\:\\left(1-h_{\\beta }\\left(x^{\\left(i\\right)}\\right)\\right)^{y^{\\left(i\\right)}-1}\\right)$$\n",
    "\n",
    "Remember that $log\\left(ab\\right)=loga+logb$, therefore, our function becomes <br><br>\n",
    "$$ℓ\\left(\\beta \\right)=\\left[\\sum _{i=1}^m\\:y^{\\left(i\\right)}log\\left(h_{\\beta }\\left(x^{\\left(i\\right)}\\right)\\right)+\\left(1-y^{\\left(i\\right)}\\right)log\\left(1-h_{\\beta }\\left(x^{\\left(i\\right)}\\right)\\right)\\right]$$\n",
    "\n",
    "Wow that is almost the binary cross-entropy function that we have in the first logistic regression notebook.\n",
    "\n",
    "Here we are trying to get $\\beta$ values that maximizes $ℓ\\left(θ\\right)$. We can use optimization algorithms like [gradient ascent](https://vasugupta2000.medium.com/implementation-of-gradient-ascent-using-logistic-regression-7f5343877c21) to maximize this function, however, we can multiply the function by -1  and minimize this negative log-likelihood which is equalivalent to maximizing the positive version.\n",
    "\n",
    "$$ℓ\\left(\\beta \\right)=-\\left[\\sum _{i=1}^m\\:y^{\\left(i\\right)}log\\left(h_{\\beta }\\left(x^{\\left(i\\right)}\\right)\\right)+\\left(1-y^{\\left(i\\right)}\\right)log\\left(1-h_{\\beta }\\left(x^{\\left(i\\right)}\\right)\\right)\\right]$$\n",
    "\n",
    "Finally, we got the same cost function in logistic regression notebook 1. You may wonder where is $\\frac{1}{m}$, this term is used for making the computation faster so we can add it if we'd like to but it's not in the general equation. \n",
    "\n",
    "**Additional sources:**\n",
    "\n",
    "For the second part, firstly watch the second video of Ben Lambart [link](https://www.youtube.com/watch?v=Z582V53dfr8). I also recommend watching these Youtube videos [Logistic Regression with Maximum Likelihood](https://www.youtube.com/watch?v=TM1lijyQnaI) and [Why maximize 'log' likelihood?](https://www.youtube.com/watch?v=ddqny3aZNPY) also MachineLearningMastery has a good article for using Maximum Likelihood Estimation in Logistic Regression [link](https://machinelearningmastery.com/logistic-regression-with-maximum-likelihood-estimation/). A note that I should also say is we can also get the multinomial logistic regression formula from Maximum Likelihood, I will not explain it in this notebook. Nevertheless, I will share some documents that I used for studying this algorithm and you can find the multinomial case in these documents."
   ]
  },
  {
   "cell_type": "markdown",
   "id": "525584e5",
   "metadata": {},
   "source": [
    "### Using Maximum Likelihood Estimation for deriving Ordinary Least Squares\n",
    "Above I showed that the cross-entropy function is actually derived from Maximum Likelihood Estimation. In this part, I would like to show also that we can actually derive the cost function of the least-squares estimator from Maximum Likelihood Estimation. Firstly, If you wonder what is Least-Squares Estimator is, it is basically the linear regression algorithm that we used in the notebooks. It's also called Least-Squares Estimator because we are trying to minimize the sum of squared error, in addition, it is also known as Ordinary Least Squares(OLS), so many names for an algorithm right?. \n",
    "\n",
    "In the algorithm, we were trying to optimize $\\beta$ values (a.k.a weights) to fit the best line. Well, It turns out that if the error term is normally distributed  we can actually use maximum likelihood estimation to derive the least-squares cost function. Let's prove that;\n",
    "\n",
    "\n",
    "**1**. Let's firstly define what is an error. <br> $$Error\\left(E\\right)=y_{actual}-y_{predicted}$$<br>\n",
    "\n",
    "\n",
    "**2**. In this case $Y_{actual}$ (the actual target value that we are trying to predict) is equal to $\\beta _0+\\beta _1\\cdot x+E\\:$. Note: $\\beta_0$ represents bias term. Therefore we get <br><br> $$Y_{actual}=\\beta _0+\\beta _1\\cdot x+E\\:$$<br>\n",
    "\n",
    "**3**. We also assume that Error is normally distributed, therefore, for error we have zero mean and constant variance. <br><br>$$E^{\\left(i\\right)}\\:∼\\:N\\:\\left(0,\\:σ^2\\right)$$<br>\n",
    "\n",
    "**4**. In this case we have normal distribution instead of binomial (that was in the case of Logistic Regression). Therefore, let's also have a quick look at normal distribution equation (that is actually probability density function of normal distribution, check out the [link](https://machinelearningmastery.com/continuous-probability-distributions-for-machine-learning/#:~:text=PDF%3A%20Probability%20Density%20Function%2C%20returns,equal%20to%20the%20given%20probability.)) that we will use for estimating Likelihood. <br><br> $$PDF\\left(x_i\\:|\\:\\beta ,\\:\\sigma ^2\\:\\right)=\\left(\\frac{1}{\\sqrt{2\\pi \\sigma ^2}}\\cdot \\:exp\\left(\\frac{^{-\\left(y_i-\\beta \\:^T\\cdot x_i\\right)^2}}{2\\sigma^2}\\right)\\right)$$<br>\n",
    "\n",
    "**5**. For m number of instances, our likelihood function for normal distribution will be the following <br><br> $$L=\\prod _{i=0}^m\\left(\\frac{1}{\\sqrt{2\\pi \\sigma^2}}\\cdot exp\\left(\\frac{^{-\\left(y_i-\\beta \\cdot x_i\\right)^2}}{2\\sigma ^2}\\right)\\right)=\\left[\\frac{1}{\\sqrt{2\\pi \\sigma ^2}}\\right]^2\\cdot \\prod _{i=0}^m\\left(exp\\left(\\frac{^{-\\left(y_i-\\beta^T \\cdot x_i\\right)^2}}{2\\sigma^2}\\right)\\right)$$<br>\n",
    "\n",
    "**6**. Again we need to take logarithm of this function to make derivation simpler. <br><br> $$ℓ\\left(\\beta \\right)=log\\left(L\\right)=m\\cdot \\:log\\left(\\left[\\frac{1}{\\sqrt{2\\pi \\sigma \\:\\:^2}}\\right]^2\\cdot \\:\\:\\prod _{i=0}^m\\left(exp\\left(\\frac{^{-\\left(y_i-\\beta \\:^Tx_i\\right)^2}}{2\\sigma \\:^2}\\right)\\right)\\right)\\:=m\\cdot \\:log\\left(\\left[\\frac{1}{\\sqrt{2\\pi \\sigma ^2}}\\right]\\right)-\\frac{1}{2\\sigma \\:^2}\\sum_{i=1}^m\\left(y_i-\\beta ^Tx_i\\right)^2$$ <br>\n",
    "\n",
    "**7**. We can omit the first term $(mlog\\left(\\left[\\frac{1}{\\sqrt{2\\pi \\sigma ^2}}\\right]\\right))$ since it is not parametrized by $\\beta$ and we can also omit $\\left(\\frac{1}{2\\sigma \\:^2}\\right)$ because our choice of $\\beta$ doesn't depend on this term. When we get rid of these irrelevant terms, we get almost the same equation that we used in linear regression. In fact, the equation we get is known as residual sum of squares or RSS. <br><br> $$RSS=\\sum _{i=1}^m\\left(y_i-\\beta ^Tx_i\\right)^2\\:\\:\\::$$<br> We can scale by the number of instances in our dataset to obtain the exact cost function (Mean Squared Error) that we used in linear regression<br><br>\n",
    "$$MSE=\\frac{1}{m}\\sum _{i=1}^m\\left(y_i-\\beta ^Tx_i\\right)^2\\:\\:\\:\\:$$ <br> \n",
    "\n",
    "**Note for those who are confused why we drop some terms:** Since we are supposed to take derivative of this function to find the $\\beta$ values that maximizes the log likelihood, even if we didn't drop the first term $(mlog\\left(\\left[\\frac{1}{\\sqrt{2\\pi \\sigma ^2}}\\right]\\right))$ we would drop it while taking the derivative since it's not parameterized by $\\beta$. Moreover, for $\\left(\\frac{1}{2\\sigma \\:^2}\\right)$, we can always scale our function with some terms just like we scaled it with number of instances in MSE. Therefore, these terms are not that important for us. \n",
    "\n",
    "**8**. Now to maximize the likelihood (or we can also minimize it by multiplying minus one) we need to take derivative of the log likelihood function. <br><br> $$\\frac{\\partial}{\\partial \\beta }\\left(L\\right)=\\:2\\:\\sum _{i=0}^m\\left(x_i\\left(y_i-\\beta ^Tx_i\\right)\\right)\\:\\:$$ <br> We can again omit multiplying by two and get an equation for calculating  $\\beta$ <br><br>$$\\beta  \\:=\\frac{\\sum_{i=1}^M\\left(x_i\\cdot \\:y_i\\right)}{\\sum_{i=i}^M\\left(x_i^2\\right)}$$ <br>\n",
    "\n",
    "The equation we get for calculating beta is actually the same equation that we would arrive if we omitted the intercept term(bias) in linear regression without assuming any particular distribution for error. For the steps that I covered here, I recommend watching this [video](https://www.youtube.com/watch?v=_-Gnu498s3o&t=1s). Also check out this video [Least squares comparison with Maximum Likelihood - proof that OLS is BUE](https://www.youtube.com/watch?v=1ChjaRSZUZk). You can also find these steps in the first paper of Additional Sources part and also in this [article](https://bookdown.org/egarpor/PM-UC3M/app-ext-mle.html)\n",
    "\n",
    "\n",
    "**To sum up:**\n",
    "\n",
    "1. The Cross-Entropy function that we used for Logistic Regression is derived from Maximum Likelihood Estimation.\n",
    "2. Under specific assumptions ( when error term is normally distributed) we can also derive the cost function that we use in Linear Regression from Maximum Likelihood Estimation. Despite that, Linear Regression is a numerical method that we can use without any assumption for distribution. Therefore, even though we can derive the same cost function It doesn't mean that this is true for every case in which we used the algorithm.\n",
    "\n",
    "\n",
    "I will share some StackExchange discussions that you will find helpful\n",
    "1. [How does linear regression use the normal distribution?](https://stats.stackexchange.com/questions/148803/how-does-linear-regression-use-the-normal-distribution)\n",
    "2. [Linear regression: any non-normal distribution giving identity of OLS and MLE?](https://stats.stackexchange.com/questions/173621/linear-regression-any-non-normal-distribution-giving-identity-of-ols-and-mle)\n",
    "3. [Why is the normality of residuals \"barely important at all\" for the purpose of estimating the regression line?](https://stats.stackexchange.com/questions/152674/why-is-the-normality-of-residuals-barely-important-at-all-for-the-purpose-of-e)\n",
    "4. [What if residuals are normally distributed, but y is not?](https://stats.stackexchange.com/questions/12262/what-if-residuals-are-normally-distributed-but-y-is-not)\n",
    "\n",
    "Additional Sources:\n",
    "1. In this notes you can find brief explanations for linear models and generalized linear models. They are not detailed but well-oriented. [CS229 Lecture notes](https://see.stanford.edu/materials/aimlcs229/cs229-notes1.pdf)\n",
    "2. In this paper you can find Maximum Likelihood Estimation for Multinomial Logistic Regression.  [Maximum Likelihood Estimation of Logistic Regression Models: Theory and Implementation](https://czep.net/stat/mlelr.pdf)\n",
    "3. There two additional books that I used while preparing this notebook. I cannot share any pdf for them but If you are interested in learning more about mathematics behind these algorithms you should get one of these books.  \n",
    " * Murphy, K. P. (2022). Probabilistic machine learning: an introduction. MIT press.\n",
    " * Alpaydin, E. (2020). Introduction to machine learning. MIT press.\n",
    "4. Also I can recommend another book for GLM: Dobson, A. J., & Barnett, A. G. (2018). An introduction to generalized linear models. Chapman and Hall/CRC. "
   ]
  },
  {
   "cell_type": "markdown",
   "id": "71d9803b",
   "metadata": {},
   "source": [
    "### Generalized Linear Models\n",
    "Now we came along a long way but still have a long one to go. Let's start with a question that perhaps we should have talked about in the beginning of this notebook. We shortly talked about that we need generalized linear models because we need some other models to use for different distributions. Basically, we are trying to develop some models to deal with non linear data. For instance, would it be suitable to use linear regression for a data like the one in the picture below ? It doesn't look continuous and we probably cannot use polynomial regression as well. As in the case of logistic regression we need some other models to deal with non-continuous data. Generalized Linear Models **generalizes** the situation we had in simple linear regression and let us use some function to deal with non-linearity. We are still using linear models but as we will see, in this case, we use a different approach in which we use some functions called **link functions** to link the relationship between linear predictor and mean. There are also some other details such as we assume that target variable is generated from exponential family of distributions ( like normal, binomial, poisson and gamma). I will talk about these details in the last part. I recommend reading this artile for a good introduction about link functions [article](https://support.minitab.com/en-us/minitab/18/help-and-how-to/modeling-statistics/regression/supporting-topics/logistic-regression/link-function/) and there is a good StackOverFlow [discussion](https://stats.stackexchange.com/questions/48594/purpose-of-the-link-function-in-generalized-linear-model)"
   ]
  },
  {
   "attachments": {
    "wN4lH.png": {
     "image/png": "[encoded data removed]"
    }
   },
   "cell_type": "markdown",
   "id": "b411614c",
   "metadata": {},
   "source": [
    "![wN4lH.png](attachment:wN4lH.png)\n",
    "\n",
    "This picture is taken from a stackoverflow discussion [link](https://stackoverflow.com/questions/60982870/how-to-plot-a-linear-regression-model-and-a-poisson-regression-model-on-the-same)\n",
    "\n"
   ]
  },
  {
   "cell_type": "markdown",
   "id": "efc14aea",
   "metadata": {},
   "source": [
    "### Logistic Regression Filling the Gap\n",
    "We learnt logistic regression algorithm in my previous notebooks and in this notebook we saw that the binary cross entropy loss is actually derived from Maximum Likelihood Estimation. There is still a gap in our mathematical background of Logistic Regression. We will fill this gap with understanding the concept of link function in GLM. Let's get started.\n",
    "\n",
    "\n",
    "In linear regression there is an assumption that mean(a.k.a expected value) of the target is equal to the linear predictor. Mathematically, we say $\\mu _i=\\beta _0+\\beta _ix\\:$. In GLM we generalize this assumption by saying that there is a link function which is related to mean and this function equals to the linear predictor.\n",
    "\n",
    "$$g\\left(\\mu \\right)\\:=\\beta _0+\\beta _1x$$\n",
    " \n",
    "We sometimes also say that the linear predictor is equal to the Greek letter Eta and write the equation as stated below.\n",
    "\n",
    "$$g\\left(\\mu \\right)\\:=\\eta =\\beta _0+\\beta _1x$$\n",
    "\n",
    "Also there are some properties that the link function should follow\n",
    "1. Link function must be monotonic\n",
    "2. It must be invertible so that there can only be one mean value for each predictor.\n",
    "3. It must be differentiable (we need to differentiate it so that we can find $\\beta$)"
   ]
  },
  {
   "attachments": {
    "Untitled-1.png": {
     "image/png": "[encoded data removed]"
    }
   },
   "cell_type": "markdown",
   "id": "5b268d4b",
   "metadata": {},
   "source": [
    "![Untitled-1.png](attachment:Untitled-1.png)"
   ]
  },
  {
   "cell_type": "markdown",
   "id": "94794bcf",
   "metadata": {},
   "source": [
    "**What is the relationship between logistic regression and these link functions?**\n",
    "\n",
    "In logistic regression we have an additional step that we use this link function. In logistic regression we use a link function called **logit**. \n",
    "\n",
    "$$logit=log\\left(\\frac{\\mu \\:\\:}{1-\\mu }\\:\\right)$$\n",
    "\n",
    "As I stated above the link function equals to the linear predictor, therefore, in logistic regression we equivalance the below.\n",
    "$$g\\left(\\mu \\right)=log\\left(\\frac{\\mu }{1-\\mu }\\right)=\\beta \\:_0+\\beta_1x$$\n",
    "\n",
    "It turns out that **the mean ($\\mu$) is equal to probability in binomial distribution** and in this case with the link function we have the below equivalance.\n",
    "\n",
    "$$g\\left(\\mu \\right)\\:=log\\left(\\frac{p}{1-p}\\right)=\\beta \\:_0+\\beta_1x$$\n",
    "\n",
    "Wow!! By using the link function we derived a relationship between the linear predictor and log odds. You can see this relationship in the **picture A**. In Generalized Linear Models, we are using the link function (as we used it here for logistic regression) to make a relationship between the linear predictor and the mean of target. In the case of Logistic Regression, the mean equals to the probability, therefore, we are deriving a relationship between log odds and the linear predictor.\n",
    "\n",
    "\n",
    "Then we need to take inverse of this link function so that we can get estimated probability values for prediction. And it turns out that the inverse of logit function equals to sigmoid function.\n",
    "\n",
    "$$logit^{-1}\\left(\\mu \\:\\right)=\\sigma \\:\\left(\\mu \\:\\right)$$\n",
    "\n",
    "We can use sigmoid function to find mean/probability values as follows. Here LP represent Linear Predictor($\\beta _0+\\beta _1x$)\n",
    "\n",
    "$$p=\\mu _i=sigmoid\\left(LP\\right)=\\frac{e^{^{\\beta _0+\\beta_1x}}}{e^{^{\\beta_0+\\beta _1x}}+1}$$\n",
    "\n",
    "As I showed it in the part B of the picture above, we are using the sigmoid function to get mean/probability values and then just like we talked about it in logistic regression notebook 1, we are using this probability for prediction. \n",
    "\n",
    "**Summing up:** In logistic regression we use the link function logit to derive a relationship between the linear predictor and log odds ratio. Afterwards, by using inverse of this link function a.k.a sigmoid function we get estimated probability values to predict the class of an instance. All other the steps such as optimization stays the same.\n",
    "\n",
    "\n",
    "1. I recommend watching Statquest's video on this so that with animations you can understand how it exactly works [link](https://www.youtube.com/watch?v=BfKanl1aSG0&list=PLblh5JKOoLUKxzEP5HA2d-Li7IJkHfXSe&index=4) \n",
    "2. Ritvikmath has a good explanation video on this topic as well I also recommend watching it [link](https://www.youtube.com/watch?v=VOIhswqFWVc&t=41s)\n",
    "3. You can find a good explanation for log odds and how logistic regression utilizes it in this [article](https://www.geeksforgeeks.org/log-odds/)\n",
    "4. I also came across with two Medium articles [article1](https://medium.com/codex/logistic-regression-and-maximum-likelihood-estimation-function-5d8d998245f9) [article2](https://towardsdatascience.com/maximum-likelihood-the-easy-way-1f14c0e2a5ce) in which you can also find more about logistic regression in context of glm\n",
    "\n",
    "I recommend checking all these links because It's good to read different sources to have an intuitive idea of the algorithm."
   ]
  },
  {
   "cell_type": "markdown",
   "id": "68d2ccc0",
   "metadata": {},
   "source": [
    "### Poisson Regression\n",
    "\n",
    "\n",
    "\n",
    "\n"
   ]
  },
  {
   "cell_type": "markdown",
   "id": "cc767b32",
   "metadata": {},
   "source": [
    "Sometimes we need some models to cope with questions like “How many goods will i sell today ?” or “How many people will come to visit my shop ?” These are basic questions that we can encounter while dealing with count data. Count data is also a datatype we cannot model effectively with linear regression(in some cases actually we can, I generally try it as a baseline model while dealing with count data). You can actually see an example of this data in the first picture.\n",
    "To model count data we can use another member of GLM named Poisson Regression. We need to do two similar steps that we did for Logistic Regression to understand the mathematics behind it.\n",
    "\n",
    "1. Firstly, I will show the link function that we can use for Poisson Regression to derive a relationship between the linear predictor and mean.\n",
    "2. Then I will use Maximum Likelihood Estimation for Poisson Distribution to derive a cost function.\n",
    "\n",
    "Let's get started.\n",
    "\n",
    "#### Link Function\n",
    "\n",
    "In Poisson Regression we have the log-link function.<br><br>\n",
    "$$g\\left(\\mu \\right)=log\\left(\\mu \\right)=\\beta _0+\\beta _1x$$<br>\n",
    "\n",
    "Since the inverse of natural log is exponential we can directly find the mean as follows.<br><br>\n",
    "\n",
    "$$\\mu \\:=g^{-1}\\left(\\beta_0+\\beta_1x\\right)=exp\\left(\\beta_0+\\beta_1x\\right)$$\n",
    "\n",
    "\n",
    "#### Maximum Likelihood Estimation\n",
    "\n",
    "The probability density function of Poisson Distribution is stated below.<br><br>\n",
    "\n",
    "$$f\\left(\\lambda ,y\\right)=\\frac{\\lambda ^ye^{-\\lambda }}{k!}$$\n",
    "\n",
    "In probability density function of poisson distribution, the lambda is equal to the mean and variance. $\\lambda=\\mu$. This equivalence can also be written in terms of expected value as the following $\\lambda =E\\left(X\\right)=Var\\left(X\\right)$. By using this PDF, we will derive the log likelihood function for poisson regression. <br><br>\n",
    "\n",
    "$$L\\left(\\lambda \\:,y\\right)=\\prod_{i=1}^{m\\:}\\left(\\frac{\\lambda ^y\\cdot e^{-\\lambda }}{k!}\\right)\\:$$<br>\n",
    "\n",
    "Now let's take logarithm of the both sides to make the derivation simpler. <br><br>\n",
    "\n",
    "$$ℓ=log\\left(\\prod_{i=1}^{m\\:}\\left(\\frac{\\lambda^y\\cdot e^{-\\lambda}}{k!}\\right)\\right)=\\sum_{i=1}^{m\\:}\\left[y\\cdot log\\left(\\lambda \\:\\right)-\\lambda-log\\left(y!\\right)\\right]$$<br>\n",
    "\n",
    "We end up having the following equation for likelihood analysis. <br><br>\n",
    "$$ℓ=\\sum_{i=1}^{m\\:}ylog\\left(\\lambda\\right)-\\sum_{i=1}^{m\\:}\\lambda - \\sum_{i=1}^{m\\:}log\\left(y!\\right)$$<br>\n",
    "\n",
    "\n",
    "I previously said that $\\lambda=\\mu$ and $\\mu$ is also related to our linear predictor. Let's rewrite the likelihood function so that it is parameterized by the linear predictor.<br><br>\n",
    "\n",
    "$$ℓ\\left(\\beta\\right)=\\sum_{i=1}^{m}y\\left(\\beta_0+\\beta_1x\\right)-\\sum _{i=1}^{m}exp\\left(\\beta_0+\\beta _1x\\right)$$<br>\n",
    "\n",
    "I got rid of the last sum $\\sum _{i=1}^{m\\:}log\\left(y!\\right)$ since it is not parameterized by linear predictor.<br><br>\n",
    "\n",
    "Finally we derived our maximum likelihood function for poisson regression. Now let's get derivative of this function so that we can update the parameters with respect to gradient vector. Firstly, I will take derivative of the function with respect to weights($\\beta_1$) and then with respect to bias term ($\\beta_0$)\n",
    "\n",
    "$$\\frac{\\partial}{\\partial\\beta _1}\\left(ℓ\\left(\\beta\\right)\\right)\\:=\\sum_{i=1}^n\\left(y_i-exp\\left(\\beta_0+\\beta _1x\\right)\\right)x_i$$\n",
    "\n",
    "For derivation with respect to bias term.\n",
    "\n",
    "$$\\frac{\\partial}{\\partial \\beta _0}\\left(ℓ\\left(\\beta \\right)\\right)\\:=\\sum _{i=1}^n\\left(y_i-exp\\left(\\beta_0+\\beta _1x\\right)\\right)$$\n",
    "\n",
    "Now we can update bias and weights by using the derivatives and optimize our poisson regression model.\n",
    "\n",
    "Resources:\n",
    "1. I recommend reading this medium article about mathematics behind Poisson Regression [link](https://medium.com/lcc-unison/how-to-poisson-regression-model-python-implementation-1c672582eb96)\n",
    "2. I also found one of the articles that I read when I started first learning about GLM. I do remember I found this article very informative [link](https://towardsdatascience.com/generalized-linear-models-9cbf848bb8ab#:~:text=In%20the%20case%20of%20Poisson%20regression%2C%20the%20typical%20link%20function,generates%20the%20observed%20variable%20y.)\n",
    "3. For Maximum Likelihood of Poisson Distribution, you can find more information on this website [link](https://www.statology.org/mle-poisson-distribution/)\n",
    "4. Lastly there are some lecture notes that I utilized while writing this part. I also recommend reading them [link1](https://www.stt.msu.edu/users/pszhong/Lecture_10_Spring_2017.pdf),[link2](http://home.iitk.ac.in/~shalab/regression/Chapter15-Regression-PoissonRegressionModels.pdf) and [link3](https://personal.psu.edu/abs12/stat504/online/07_poisson/04_poisson_model.htm)"
   ]
  },
  {
   "cell_type": "markdown",
   "id": "39ef6ea7",
   "metadata": {},
   "source": [
    "# Using Poisson Regression on Python"
   ]
  },
  {
   "cell_type": "markdown",
   "id": "e9386bcf",
   "metadata": {},
   "source": [
    "## Competetion Awards Dataset"
   ]
  },
  {
   "cell_type": "markdown",
   "id": "49c9a4d3",
   "metadata": {},
   "source": [
    "I will start with a simple example. We will try to predict number of awards in a computation."
   ]
  },
  {
   "cell_type": "code",
   "execution_count": 4,
   "id": "a0a70d4b",
   "metadata": {},
   "outputs": [
    {
     "data": {
      "text/html": [
       "<div>\n",
       "<style scoped>\n",
       "    .dataframe tbody tr th:only-of-type {\n",
       "        vertical-align: middle;\n",
       "    }\n",
       "\n",
       "    .dataframe tbody tr th {\n",
       "        vertical-align: top;\n",
       "    }\n",
       "\n",
       "    .dataframe thead th {\n",
       "        text-align: right;\n",
       "    }\n",
       "</style>\n",
       "<table border=\"1\" class=\"dataframe\">\n",
       "  <thead>\n",
       "    <tr style=\"text-align: right;\">\n",
       "      <th></th>\n",
       "      <th>Awards</th>\n",
       "      <th>Math Score</th>\n",
       "    </tr>\n",
       "  </thead>\n",
       "  <tbody>\n",
       "    <tr>\n",
       "      <th>0</th>\n",
       "      <td>0</td>\n",
       "      <td>43</td>\n",
       "    </tr>\n",
       "    <tr>\n",
       "      <th>1</th>\n",
       "      <td>0</td>\n",
       "      <td>38</td>\n",
       "    </tr>\n",
       "    <tr>\n",
       "      <th>2</th>\n",
       "      <td>0</td>\n",
       "      <td>41</td>\n",
       "    </tr>\n",
       "    <tr>\n",
       "      <th>3</th>\n",
       "      <td>0</td>\n",
       "      <td>33</td>\n",
       "    </tr>\n",
       "    <tr>\n",
       "      <th>4</th>\n",
       "      <td>0</td>\n",
       "      <td>39</td>\n",
       "    </tr>\n",
       "  </tbody>\n",
       "</table>\n",
       "</div>"
      ],
      "text/plain": [
       "   Awards  Math Score\n",
       "0       0          43\n",
       "1       0          38\n",
       "2       0          41\n",
       "3       0          33\n",
       "4       0          39"
      ]
     },
     "execution_count": 4,
     "metadata": {},
     "output_type": "execute_result"
    }
   ],
   "source": [
    "data=pd.read_csv(\"competition_awards_data.csv\")\n",
    "data.head(5)"
   ]
  },
  {
   "cell_type": "markdown",
   "id": "f95a075f",
   "metadata": {},
   "source": [
    "Let's see how the data looks like."
   ]
  },
  {
   "cell_type": "code",
   "execution_count": 5,
   "id": "9d374bff",
   "metadata": {},
   "outputs": [
    {
     "data": {
      "image/png": "[encoded data removed]",
      "text/plain": [
       "<Figure size 720x504 with 1 Axes>"
      ]
     },
     "metadata": {},
     "output_type": "display_data"
    }
   ],
   "source": [
    "sns.set_theme()\n",
    "sns.set(rc={'figure.figsize':(10,7)})\n",
    "plot=sns.scatterplot(data=data, x=\"Math Score\", y=\"Awards\")"
   ]
  },
  {
   "cell_type": "markdown",
   "id": "9b1fef86",
   "metadata": {},
   "source": [
    "Our model will try to predict the number of awards by using math scores. Let's drop extract awards from the data and drop the column."
   ]
  },
  {
   "cell_type": "code",
   "execution_count": 6,
   "id": "7e73f84f",
   "metadata": {},
   "outputs": [],
   "source": [
    "target=data[\"Awards\"]\n",
    "data.drop(['Awards'],axis=1,inplace=True)"
   ]
  },
  {
   "cell_type": "code",
   "execution_count": 7,
   "id": "1fda2382",
   "metadata": {},
   "outputs": [],
   "source": [
    "X_train, X_test, y_train, y_test = train_test_split(data, target, test_size = 0.2, random_state = 42)"
   ]
  },
  {
   "cell_type": "markdown",
   "id": "a8ad8895",
   "metadata": {},
   "source": [
    "Now let's use `PoissonRegressor()` and tune it with GridSearchCV()."
   ]
  },
  {
   "cell_type": "code",
   "execution_count": 11,
   "id": "7a01ac62",
   "metadata": {},
   "outputs": [],
   "source": [
    "poisson_reg=PoissonRegressor(max_iter=500)"
   ]
  },
  {
   "cell_type": "code",
   "execution_count": 18,
   "id": "c62bad43",
   "metadata": {},
   "outputs": [],
   "source": [
    "params = {\n",
    "    'alpha': [0.1,0.3,0.5,0.7,1,2,5,10,20,30,50,70,100],\n",
    "    'fit_intercept': (True, False),\n",
    "    'warm_start':(True,False)\n",
    "}"
   ]
  },
  {
   "cell_type": "code",
   "execution_count": 23,
   "id": "a459d26b",
   "metadata": {},
   "outputs": [],
   "source": [
    "gscv=GridSearchCV(poisson_reg, params, cv=10,verbose=2,scoring=\"neg_mean_squared_log_error\")"
   ]
  },
  {
   "cell_type": "code",
   "execution_count": null,
   "id": "6dd88581",
   "metadata": {},
   "outputs": [],
   "source": [
    "model=gscv.fit(X_train,y_train)"
   ]
  },
  {
   "cell_type": "code",
   "execution_count": 25,
   "id": "ff45c677",
   "metadata": {},
   "outputs": [
    {
     "data": {
      "text/plain": [
       "{'alpha': 20, 'fit_intercept': True, 'warm_start': True}"
      ]
     },
     "execution_count": 25,
     "metadata": {},
     "output_type": "execute_result"
    }
   ],
   "source": [
    "model.best_params_"
   ]
  },
  {
   "cell_type": "code",
   "execution_count": 26,
   "id": "8b9e3f09",
   "metadata": {},
   "outputs": [
    {
     "data": {
      "text/plain": [
       "'0.828345'"
      ]
     },
     "execution_count": 26,
     "metadata": {},
     "output_type": "execute_result"
    }
   ],
   "source": [
    "format(r2_score(model.predict(X_test),y_test),'f')"
   ]
  },
  {
   "cell_type": "markdown",
   "id": "7a6729c2",
   "metadata": {},
   "source": [
    "$R^2$ looks not very good but it is relatively good. Actually I guess we can so much improve this score with using some preprocessing and adding some additional terms."
   ]
  },
  {
   "cell_type": "markdown",
   "id": "132388c7",
   "metadata": {},
   "source": [
    "## NYC Bicycle Counts"
   ]
  },
  {
   "cell_type": "markdown",
   "id": "c3ff1a2b",
   "metadata": {},
   "source": [
    "We will use NYC Bicycle Count dataset for applying Poisson Regression. Our aim is to predict the number of bicycles crossed from one of the bridges by using the predictors. Let's get started."
   ]
  },
  {
   "cell_type": "code",
   "execution_count": 4,
   "id": "9a6c653f",
   "metadata": {
    "scrolled": true
   },
   "outputs": [
    {
     "data": {
      "text/html": [
       "<div>\n",
       "<style scoped>\n",
       "    .dataframe tbody tr th:only-of-type {\n",
       "        vertical-align: middle;\n",
       "    }\n",
       "\n",
       "    .dataframe tbody tr th {\n",
       "        vertical-align: top;\n",
       "    }\n",
       "\n",
       "    .dataframe thead th {\n",
       "        text-align: right;\n",
       "    }\n",
       "</style>\n",
       "<table border=\"1\" class=\"dataframe\">\n",
       "  <thead>\n",
       "    <tr style=\"text-align: right;\">\n",
       "      <th></th>\n",
       "      <th>Unnamed: 0</th>\n",
       "      <th>Date</th>\n",
       "      <th>Day</th>\n",
       "      <th>High Temp (°F)</th>\n",
       "      <th>Low Temp (°F)</th>\n",
       "      <th>Precipitation</th>\n",
       "      <th>Brooklyn Bridge</th>\n",
       "      <th>Manhattan Bridge</th>\n",
       "      <th>Williamsburg Bridge</th>\n",
       "      <th>Queensboro Bridge</th>\n",
       "      <th>Total</th>\n",
       "    </tr>\n",
       "  </thead>\n",
       "  <tbody>\n",
       "    <tr>\n",
       "      <th>0</th>\n",
       "      <td>0</td>\n",
       "      <td>2016-04-01 00:00:00</td>\n",
       "      <td>2016-04-01 00:00:00</td>\n",
       "      <td>78.1</td>\n",
       "      <td>66.0</td>\n",
       "      <td>0.01</td>\n",
       "      <td>1704.0</td>\n",
       "      <td>3126</td>\n",
       "      <td>4115.0</td>\n",
       "      <td>2552.0</td>\n",
       "      <td>11497</td>\n",
       "    </tr>\n",
       "    <tr>\n",
       "      <th>1</th>\n",
       "      <td>1</td>\n",
       "      <td>2016-04-02 00:00:00</td>\n",
       "      <td>2016-04-02 00:00:00</td>\n",
       "      <td>55.0</td>\n",
       "      <td>48.9</td>\n",
       "      <td>0.15</td>\n",
       "      <td>827.0</td>\n",
       "      <td>1646</td>\n",
       "      <td>2565.0</td>\n",
       "      <td>1884.0</td>\n",
       "      <td>6922</td>\n",
       "    </tr>\n",
       "    <tr>\n",
       "      <th>2</th>\n",
       "      <td>2</td>\n",
       "      <td>2016-04-03 00:00:00</td>\n",
       "      <td>2016-04-03 00:00:00</td>\n",
       "      <td>39.9</td>\n",
       "      <td>34.0</td>\n",
       "      <td>0.09</td>\n",
       "      <td>526.0</td>\n",
       "      <td>1232</td>\n",
       "      <td>1695.0</td>\n",
       "      <td>1306.0</td>\n",
       "      <td>4759</td>\n",
       "    </tr>\n",
       "    <tr>\n",
       "      <th>3</th>\n",
       "      <td>3</td>\n",
       "      <td>2016-04-04 00:00:00</td>\n",
       "      <td>2016-04-04 00:00:00</td>\n",
       "      <td>44.1</td>\n",
       "      <td>33.1</td>\n",
       "      <td>0.47 (S)</td>\n",
       "      <td>521.0</td>\n",
       "      <td>1067</td>\n",
       "      <td>1440.0</td>\n",
       "      <td>1307.0</td>\n",
       "      <td>4335</td>\n",
       "    </tr>\n",
       "    <tr>\n",
       "      <th>4</th>\n",
       "      <td>4</td>\n",
       "      <td>2016-04-05 00:00:00</td>\n",
       "      <td>2016-04-05 00:00:00</td>\n",
       "      <td>42.1</td>\n",
       "      <td>26.1</td>\n",
       "      <td>0</td>\n",
       "      <td>1416.0</td>\n",
       "      <td>2617</td>\n",
       "      <td>3081.0</td>\n",
       "      <td>2357.0</td>\n",
       "      <td>9471</td>\n",
       "    </tr>\n",
       "  </tbody>\n",
       "</table>\n",
       "</div>"
      ],
      "text/plain": [
       "   Unnamed: 0                 Date                  Day  High Temp (°F)  \\\n",
       "0           0  2016-04-01 00:00:00  2016-04-01 00:00:00            78.1   \n",
       "1           1  2016-04-02 00:00:00  2016-04-02 00:00:00            55.0   \n",
       "2           2  2016-04-03 00:00:00  2016-04-03 00:00:00            39.9   \n",
       "3           3  2016-04-04 00:00:00  2016-04-04 00:00:00            44.1   \n",
       "4           4  2016-04-05 00:00:00  2016-04-05 00:00:00            42.1   \n",
       "\n",
       "   Low Temp (°F) Precipitation  Brooklyn Bridge  Manhattan Bridge  \\\n",
       "0           66.0          0.01           1704.0              3126   \n",
       "1           48.9          0.15            827.0              1646   \n",
       "2           34.0          0.09            526.0              1232   \n",
       "3           33.1      0.47 (S)            521.0              1067   \n",
       "4           26.1             0           1416.0              2617   \n",
       "\n",
       "   Williamsburg Bridge  Queensboro Bridge  Total  \n",
       "0               4115.0             2552.0  11497  \n",
       "1               2565.0             1884.0   6922  \n",
       "2               1695.0             1306.0   4759  \n",
       "3               1440.0             1307.0   4335  \n",
       "4               3081.0             2357.0   9471  "
      ]
     },
     "execution_count": 4,
     "metadata": {},
     "output_type": "execute_result"
    }
   ],
   "source": [
    "data=pd.read_csv(\"nyc-east-river-bicycle-counts.csv\")\n",
    "data.head(5)"
   ]
  },
  {
   "cell_type": "markdown",
   "id": "0134e8eb",
   "metadata": {},
   "source": [
    "We loaded the dataset. Let's look for missing values."
   ]
  },
  {
   "cell_type": "code",
   "execution_count": 5,
   "id": "cdd6d719",
   "metadata": {},
   "outputs": [
    {
     "data": {
      "text/plain": [
       "Index([], dtype='object')"
      ]
     },
     "execution_count": 5,
     "metadata": {},
     "output_type": "execute_result"
    }
   ],
   "source": [
    "data.columns[data.isnull().sum() > 5]"
   ]
  },
  {
   "cell_type": "markdown",
   "id": "c690393c",
   "metadata": {},
   "source": [
    "Looks like we don't have any NaN values in the dataset. That makes our job easier. Additionally, I will drop some unnecessary columns."
   ]
  },
  {
   "cell_type": "code",
   "execution_count": 6,
   "id": "d5192e74",
   "metadata": {},
   "outputs": [],
   "source": [
    "data.drop([\"Day\",\"Unnamed: 0\"],axis=1,inplace=True)"
   ]
  },
  {
   "cell_type": "code",
   "execution_count": 7,
   "id": "963c8128",
   "metadata": {},
   "outputs": [
    {
     "data": {
      "text/html": [
       "<div>\n",
       "<style scoped>\n",
       "    .dataframe tbody tr th:only-of-type {\n",
       "        vertical-align: middle;\n",
       "    }\n",
       "\n",
       "    .dataframe tbody tr th {\n",
       "        vertical-align: top;\n",
       "    }\n",
       "\n",
       "    .dataframe thead th {\n",
       "        text-align: right;\n",
       "    }\n",
       "</style>\n",
       "<table border=\"1\" class=\"dataframe\">\n",
       "  <thead>\n",
       "    <tr style=\"text-align: right;\">\n",
       "      <th></th>\n",
       "      <th>Date</th>\n",
       "      <th>High Temp (°F)</th>\n",
       "      <th>Low Temp (°F)</th>\n",
       "      <th>Precipitation</th>\n",
       "      <th>Brooklyn Bridge</th>\n",
       "      <th>Manhattan Bridge</th>\n",
       "      <th>Williamsburg Bridge</th>\n",
       "      <th>Queensboro Bridge</th>\n",
       "      <th>Total</th>\n",
       "    </tr>\n",
       "  </thead>\n",
       "  <tbody>\n",
       "    <tr>\n",
       "      <th>0</th>\n",
       "      <td>2016-04-01 00:00:00</td>\n",
       "      <td>78.1</td>\n",
       "      <td>66.0</td>\n",
       "      <td>0.01</td>\n",
       "      <td>1704.0</td>\n",
       "      <td>3126</td>\n",
       "      <td>4115.0</td>\n",
       "      <td>2552.0</td>\n",
       "      <td>11497</td>\n",
       "    </tr>\n",
       "    <tr>\n",
       "      <th>1</th>\n",
       "      <td>2016-04-02 00:00:00</td>\n",
       "      <td>55.0</td>\n",
       "      <td>48.9</td>\n",
       "      <td>0.15</td>\n",
       "      <td>827.0</td>\n",
       "      <td>1646</td>\n",
       "      <td>2565.0</td>\n",
       "      <td>1884.0</td>\n",
       "      <td>6922</td>\n",
       "    </tr>\n",
       "    <tr>\n",
       "      <th>2</th>\n",
       "      <td>2016-04-03 00:00:00</td>\n",
       "      <td>39.9</td>\n",
       "      <td>34.0</td>\n",
       "      <td>0.09</td>\n",
       "      <td>526.0</td>\n",
       "      <td>1232</td>\n",
       "      <td>1695.0</td>\n",
       "      <td>1306.0</td>\n",
       "      <td>4759</td>\n",
       "    </tr>\n",
       "    <tr>\n",
       "      <th>3</th>\n",
       "      <td>2016-04-04 00:00:00</td>\n",
       "      <td>44.1</td>\n",
       "      <td>33.1</td>\n",
       "      <td>0.47 (S)</td>\n",
       "      <td>521.0</td>\n",
       "      <td>1067</td>\n",
       "      <td>1440.0</td>\n",
       "      <td>1307.0</td>\n",
       "      <td>4335</td>\n",
       "    </tr>\n",
       "    <tr>\n",
       "      <th>4</th>\n",
       "      <td>2016-04-05 00:00:00</td>\n",
       "      <td>42.1</td>\n",
       "      <td>26.1</td>\n",
       "      <td>0</td>\n",
       "      <td>1416.0</td>\n",
       "      <td>2617</td>\n",
       "      <td>3081.0</td>\n",
       "      <td>2357.0</td>\n",
       "      <td>9471</td>\n",
       "    </tr>\n",
       "  </tbody>\n",
       "</table>\n",
       "</div>"
      ],
      "text/plain": [
       "                  Date  High Temp (°F)  Low Temp (°F) Precipitation  \\\n",
       "0  2016-04-01 00:00:00            78.1           66.0          0.01   \n",
       "1  2016-04-02 00:00:00            55.0           48.9          0.15   \n",
       "2  2016-04-03 00:00:00            39.9           34.0          0.09   \n",
       "3  2016-04-04 00:00:00            44.1           33.1      0.47 (S)   \n",
       "4  2016-04-05 00:00:00            42.1           26.1             0   \n",
       "\n",
       "   Brooklyn Bridge  Manhattan Bridge  Williamsburg Bridge  Queensboro Bridge  \\\n",
       "0           1704.0              3126               4115.0             2552.0   \n",
       "1            827.0              1646               2565.0             1884.0   \n",
       "2            526.0              1232               1695.0             1306.0   \n",
       "3            521.0              1067               1440.0             1307.0   \n",
       "4           1416.0              2617               3081.0             2357.0   \n",
       "\n",
       "   Total  \n",
       "0  11497  \n",
       "1   6922  \n",
       "2   4759  \n",
       "3   4335  \n",
       "4   9471  "
      ]
     },
     "execution_count": 7,
     "metadata": {},
     "output_type": "execute_result"
    }
   ],
   "source": [
    "data.head(5)"
   ]
  },
  {
   "cell_type": "markdown",
   "id": "a66374ff",
   "metadata": {},
   "source": [
    "We only have one problem about the data. In precipitation part, some of the values has string part. Let's group them to see the problem."
   ]
  },
  {
   "cell_type": "code",
   "execution_count": 8,
   "id": "5016207b",
   "metadata": {},
   "outputs": [
    {
     "data": {
      "text/plain": [
       "Precipitation\n",
       "0           1\n",
       "0.01        1\n",
       "0.05        1\n",
       "0.09        1\n",
       "0.15        1\n",
       "0.16        1\n",
       "0.2         1\n",
       "0.24        1\n",
       "0.47 (S)    1\n",
       "T           1\n",
       "Name: Precipitation, dtype: int64"
      ]
     },
     "execution_count": 8,
     "metadata": {},
     "output_type": "execute_result"
    }
   ],
   "source": [
    "data.groupby('Precipitation')['Precipitation'].nunique()"
   ]
  },
  {
   "cell_type": "markdown",
   "id": "a10a1afd",
   "metadata": {},
   "source": [
    "I will change rows with the value 0.47 (S) as 0.47"
   ]
  },
  {
   "cell_type": "code",
   "execution_count": 9,
   "id": "e57a2a3c",
   "metadata": {},
   "outputs": [],
   "source": [
    "data = data[data.Precipitation != \"T\"]"
   ]
  },
  {
   "cell_type": "code",
   "execution_count": 10,
   "id": "13690b00",
   "metadata": {},
   "outputs": [],
   "source": [
    "data['Precipitation'] = data['Precipitation'].replace(r'[^\\d.]', ' ', regex=True)"
   ]
  },
  {
   "cell_type": "code",
   "execution_count": 11,
   "id": "5713f155",
   "metadata": {},
   "outputs": [
    {
     "data": {
      "text/plain": [
       "Precipitation\n",
       "0           1\n",
       "0.01        1\n",
       "0.05        1\n",
       "0.09        1\n",
       "0.15        1\n",
       "0.16        1\n",
       "0.2         1\n",
       "0.24        1\n",
       "0.47        1\n",
       "Name: Precipitation, dtype: int64"
      ]
     },
     "execution_count": 11,
     "metadata": {},
     "output_type": "execute_result"
    }
   ],
   "source": [
    "data.groupby('Precipitation')['Precipitation'].nunique()"
   ]
  },
  {
   "cell_type": "markdown",
   "id": "b819ab6e",
   "metadata": {},
   "source": [
    "Now I will define a function that plots number of bicycles crossed over the Bridge that I select."
   ]
  },
  {
   "cell_type": "code",
   "execution_count": 12,
   "id": "f16b913b",
   "metadata": {},
   "outputs": [],
   "source": [
    "def plot_count(y_axis):\n",
    "    sns.set_theme()\n",
    "    sns.set(rc={'figure.figsize':(15,10)})\n",
    "    plot=sns.scatterplot(data=data, x=\"Date\", y=y_axis)\n",
    "    plt.setp(plot.get_xticklabels(), rotation=45);"
   ]
  },
  {
   "cell_type": "markdown",
   "id": "0dbb9983",
   "metadata": {},
   "source": [
    "Let's plot the number of bicycles passed over Brooklyn Bridge."
   ]
  },
  {
   "cell_type": "code",
   "execution_count": 395,
   "id": "383b5b56",
   "metadata": {},
   "outputs": [
    {
     "data": {
      "image/png": "[encoded data removed]",
      "text/plain": [
       "<Figure size 1080x720 with 1 Axes>"
      ]
     },
     "metadata": {},
     "output_type": "display_data"
    }
   ],
   "source": [
    "plot_count(\"Brooklyn Bridge\")"
   ]
  },
  {
   "cell_type": "markdown",
   "id": "0b73eb04",
   "metadata": {},
   "source": [
    "Let's also plot for other bridges."
   ]
  },
  {
   "cell_type": "code",
   "execution_count": 232,
   "id": "787d99d6",
   "metadata": {},
   "outputs": [
    {
     "data": {
      "image/png": "[encoded data removed]",
      "text/plain": [
       "<Figure size 1080x720 with 1 Axes>"
      ]
     },
     "metadata": {},
     "output_type": "display_data"
    }
   ],
   "source": [
    "plot_count(\"Manhattan Bridge\")"
   ]
  },
  {
   "cell_type": "code",
   "execution_count": 233,
   "id": "7dab0841",
   "metadata": {},
   "outputs": [
    {
     "data": {
      "image/png": "[encoded data removed]",
      "text/plain": [
       "<Figure size 1080x720 with 1 Axes>"
      ]
     },
     "metadata": {},
     "output_type": "display_data"
    }
   ],
   "source": [
    "plot_count(\"Williamsburg Bridge\")"
   ]
  },
  {
   "cell_type": "code",
   "execution_count": 234,
   "id": "2ceb7934",
   "metadata": {},
   "outputs": [
    {
     "data": {
      "image/png": "[encoded data removed]",
      "text/plain": [
       "<Figure size 1080x720 with 1 Axes>"
      ]
     },
     "metadata": {},
     "output_type": "display_data"
    }
   ],
   "source": [
    "plot_count(\"Queensboro Bridge\")"
   ]
  },
  {
   "cell_type": "markdown",
   "id": "9e779afe",
   "metadata": {},
   "source": [
    "I will take the `splitdata()` function that we created in the previous notebooks for seperating Date into Year/Month/Day columns."
   ]
  },
  {
   "cell_type": "code",
   "execution_count": 13,
   "id": "2a85241c",
   "metadata": {},
   "outputs": [],
   "source": [
    "def splitdate(data_s):\n",
    "    data_s[\"Date\"] = pd.to_datetime(data_s[\"Date\"]) #convert it to date\n",
    "    data_s[\"Year\"]=data_s[\"Date\"].dt.year # Parsing year \n",
    "    data_s[\"Month\"]=data_s[\"Date\"].dt.month # Parsing month\n",
    "    data_s[\"Day\"]=data_s[\"Date\"].dt.day # Parsing day\n",
    "    data_s =  data_s.drop([\"Date\"], axis=1) # Dropping original Date row\n",
    "    return data_s;"
   ]
  },
  {
   "cell_type": "code",
   "execution_count": 14,
   "id": "e555fbfc",
   "metadata": {},
   "outputs": [
    {
     "data": {
      "text/html": [
       "<div>\n",
       "<style scoped>\n",
       "    .dataframe tbody tr th:only-of-type {\n",
       "        vertical-align: middle;\n",
       "    }\n",
       "\n",
       "    .dataframe tbody tr th {\n",
       "        vertical-align: top;\n",
       "    }\n",
       "\n",
       "    .dataframe thead th {\n",
       "        text-align: right;\n",
       "    }\n",
       "</style>\n",
       "<table border=\"1\" class=\"dataframe\">\n",
       "  <thead>\n",
       "    <tr style=\"text-align: right;\">\n",
       "      <th></th>\n",
       "      <th>High Temp (°F)</th>\n",
       "      <th>Low Temp (°F)</th>\n",
       "      <th>Precipitation</th>\n",
       "      <th>Brooklyn Bridge</th>\n",
       "      <th>Manhattan Bridge</th>\n",
       "      <th>Williamsburg Bridge</th>\n",
       "      <th>Queensboro Bridge</th>\n",
       "      <th>Total</th>\n",
       "      <th>Year</th>\n",
       "      <th>Month</th>\n",
       "      <th>Day</th>\n",
       "    </tr>\n",
       "  </thead>\n",
       "  <tbody>\n",
       "    <tr>\n",
       "      <th>0</th>\n",
       "      <td>78.1</td>\n",
       "      <td>66.0</td>\n",
       "      <td>0.01</td>\n",
       "      <td>1704.0</td>\n",
       "      <td>3126</td>\n",
       "      <td>4115.0</td>\n",
       "      <td>2552.0</td>\n",
       "      <td>11497</td>\n",
       "      <td>2016</td>\n",
       "      <td>4</td>\n",
       "      <td>1</td>\n",
       "    </tr>\n",
       "    <tr>\n",
       "      <th>1</th>\n",
       "      <td>55.0</td>\n",
       "      <td>48.9</td>\n",
       "      <td>0.15</td>\n",
       "      <td>827.0</td>\n",
       "      <td>1646</td>\n",
       "      <td>2565.0</td>\n",
       "      <td>1884.0</td>\n",
       "      <td>6922</td>\n",
       "      <td>2016</td>\n",
       "      <td>4</td>\n",
       "      <td>2</td>\n",
       "    </tr>\n",
       "    <tr>\n",
       "      <th>2</th>\n",
       "      <td>39.9</td>\n",
       "      <td>34.0</td>\n",
       "      <td>0.09</td>\n",
       "      <td>526.0</td>\n",
       "      <td>1232</td>\n",
       "      <td>1695.0</td>\n",
       "      <td>1306.0</td>\n",
       "      <td>4759</td>\n",
       "      <td>2016</td>\n",
       "      <td>4</td>\n",
       "      <td>3</td>\n",
       "    </tr>\n",
       "    <tr>\n",
       "      <th>3</th>\n",
       "      <td>44.1</td>\n",
       "      <td>33.1</td>\n",
       "      <td>0.47</td>\n",
       "      <td>521.0</td>\n",
       "      <td>1067</td>\n",
       "      <td>1440.0</td>\n",
       "      <td>1307.0</td>\n",
       "      <td>4335</td>\n",
       "      <td>2016</td>\n",
       "      <td>4</td>\n",
       "      <td>4</td>\n",
       "    </tr>\n",
       "    <tr>\n",
       "      <th>4</th>\n",
       "      <td>42.1</td>\n",
       "      <td>26.1</td>\n",
       "      <td>0</td>\n",
       "      <td>1416.0</td>\n",
       "      <td>2617</td>\n",
       "      <td>3081.0</td>\n",
       "      <td>2357.0</td>\n",
       "      <td>9471</td>\n",
       "      <td>2016</td>\n",
       "      <td>4</td>\n",
       "      <td>5</td>\n",
       "    </tr>\n",
       "  </tbody>\n",
       "</table>\n",
       "</div>"
      ],
      "text/plain": [
       "   High Temp (°F)  Low Temp (°F) Precipitation  Brooklyn Bridge  \\\n",
       "0            78.1           66.0          0.01           1704.0   \n",
       "1            55.0           48.9          0.15            827.0   \n",
       "2            39.9           34.0          0.09            526.0   \n",
       "3            44.1           33.1      0.47                521.0   \n",
       "4            42.1           26.1             0           1416.0   \n",
       "\n",
       "   Manhattan Bridge  Williamsburg Bridge  Queensboro Bridge  Total  Year  \\\n",
       "0              3126               4115.0             2552.0  11497  2016   \n",
       "1              1646               2565.0             1884.0   6922  2016   \n",
       "2              1232               1695.0             1306.0   4759  2016   \n",
       "3              1067               1440.0             1307.0   4335  2016   \n",
       "4              2617               3081.0             2357.0   9471  2016   \n",
       "\n",
       "   Month  Day  \n",
       "0      4    1  \n",
       "1      4    2  \n",
       "2      4    3  \n",
       "3      4    4  \n",
       "4      4    5  "
      ]
     },
     "execution_count": 14,
     "metadata": {},
     "output_type": "execute_result"
    }
   ],
   "source": [
    "data_processed=splitdate(data)\n",
    "data_processed.head(5)"
   ]
  },
  {
   "cell_type": "markdown",
   "id": "b44e65df",
   "metadata": {},
   "source": [
    "I will use the model for predicting the numbers bicycles passed over Manhattan Bridge (because it is the one I like the most between the bridges we have in this dataset)."
   ]
  },
  {
   "cell_type": "code",
   "execution_count": 15,
   "id": "c5aa1e41",
   "metadata": {},
   "outputs": [],
   "source": [
    "target=data_processed[\"Manhattan Bridge\"]\n",
    "data_processed=data_processed.drop([\"Total\", \"Manhattan Bridge\"],axis=1) # I also drop total not for any spesific reason."
   ]
  },
  {
   "cell_type": "code",
   "execution_count": 16,
   "id": "6b5659ef",
   "metadata": {},
   "outputs": [
    {
     "data": {
      "text/html": [
       "<div>\n",
       "<style scoped>\n",
       "    .dataframe tbody tr th:only-of-type {\n",
       "        vertical-align: middle;\n",
       "    }\n",
       "\n",
       "    .dataframe tbody tr th {\n",
       "        vertical-align: top;\n",
       "    }\n",
       "\n",
       "    .dataframe thead th {\n",
       "        text-align: right;\n",
       "    }\n",
       "</style>\n",
       "<table border=\"1\" class=\"dataframe\">\n",
       "  <thead>\n",
       "    <tr style=\"text-align: right;\">\n",
       "      <th></th>\n",
       "      <th>High Temp (°F)</th>\n",
       "      <th>Low Temp (°F)</th>\n",
       "      <th>Precipitation</th>\n",
       "      <th>Brooklyn Bridge</th>\n",
       "      <th>Williamsburg Bridge</th>\n",
       "      <th>Queensboro Bridge</th>\n",
       "      <th>Year</th>\n",
       "      <th>Month</th>\n",
       "      <th>Day</th>\n",
       "    </tr>\n",
       "  </thead>\n",
       "  <tbody>\n",
       "    <tr>\n",
       "      <th>0</th>\n",
       "      <td>78.1</td>\n",
       "      <td>66.0</td>\n",
       "      <td>0.01</td>\n",
       "      <td>1704.0</td>\n",
       "      <td>4115.0</td>\n",
       "      <td>2552.0</td>\n",
       "      <td>2016</td>\n",
       "      <td>4</td>\n",
       "      <td>1</td>\n",
       "    </tr>\n",
       "    <tr>\n",
       "      <th>1</th>\n",
       "      <td>55.0</td>\n",
       "      <td>48.9</td>\n",
       "      <td>0.15</td>\n",
       "      <td>827.0</td>\n",
       "      <td>2565.0</td>\n",
       "      <td>1884.0</td>\n",
       "      <td>2016</td>\n",
       "      <td>4</td>\n",
       "      <td>2</td>\n",
       "    </tr>\n",
       "    <tr>\n",
       "      <th>2</th>\n",
       "      <td>39.9</td>\n",
       "      <td>34.0</td>\n",
       "      <td>0.09</td>\n",
       "      <td>526.0</td>\n",
       "      <td>1695.0</td>\n",
       "      <td>1306.0</td>\n",
       "      <td>2016</td>\n",
       "      <td>4</td>\n",
       "      <td>3</td>\n",
       "    </tr>\n",
       "    <tr>\n",
       "      <th>3</th>\n",
       "      <td>44.1</td>\n",
       "      <td>33.1</td>\n",
       "      <td>0.47</td>\n",
       "      <td>521.0</td>\n",
       "      <td>1440.0</td>\n",
       "      <td>1307.0</td>\n",
       "      <td>2016</td>\n",
       "      <td>4</td>\n",
       "      <td>4</td>\n",
       "    </tr>\n",
       "    <tr>\n",
       "      <th>4</th>\n",
       "      <td>42.1</td>\n",
       "      <td>26.1</td>\n",
       "      <td>0</td>\n",
       "      <td>1416.0</td>\n",
       "      <td>3081.0</td>\n",
       "      <td>2357.0</td>\n",
       "      <td>2016</td>\n",
       "      <td>4</td>\n",
       "      <td>5</td>\n",
       "    </tr>\n",
       "  </tbody>\n",
       "</table>\n",
       "</div>"
      ],
      "text/plain": [
       "   High Temp (°F)  Low Temp (°F) Precipitation  Brooklyn Bridge  \\\n",
       "0            78.1           66.0          0.01           1704.0   \n",
       "1            55.0           48.9          0.15            827.0   \n",
       "2            39.9           34.0          0.09            526.0   \n",
       "3            44.1           33.1      0.47                521.0   \n",
       "4            42.1           26.1             0           1416.0   \n",
       "\n",
       "   Williamsburg Bridge  Queensboro Bridge  Year  Month  Day  \n",
       "0               4115.0             2552.0  2016      4    1  \n",
       "1               2565.0             1884.0  2016      4    2  \n",
       "2               1695.0             1306.0  2016      4    3  \n",
       "3               1440.0             1307.0  2016      4    4  \n",
       "4               3081.0             2357.0  2016      4    5  "
      ]
     },
     "execution_count": 16,
     "metadata": {},
     "output_type": "execute_result"
    }
   ],
   "source": [
    "data_processed.head(5)"
   ]
  },
  {
   "cell_type": "markdown",
   "id": "c6b08a56",
   "metadata": {},
   "source": [
    "Let's use standardscaler on predictors (I recommend training the model without using StandardScaler() and see how drastically it changes the results)."
   ]
  },
  {
   "cell_type": "code",
   "execution_count": 17,
   "id": "0b959cb7",
   "metadata": {},
   "outputs": [],
   "source": [
    "data_processed=StandardScaler().fit_transform(data_processed)"
   ]
  },
  {
   "cell_type": "markdown",
   "id": "76aa94c2",
   "metadata": {},
   "source": [
    "This time I will also add polynomial terms."
   ]
  },
  {
   "cell_type": "code",
   "execution_count": 18,
   "id": "97aa41c3",
   "metadata": {},
   "outputs": [],
   "source": [
    "data_processed_pf=PolynomialFeatures(degree=3, include_bias=True).fit_transform(data_processed)"
   ]
  },
  {
   "cell_type": "markdown",
   "id": "798d046b",
   "metadata": {},
   "source": [
    "Okay we are ready to split train and test data."
   ]
  },
  {
   "cell_type": "code",
   "execution_count": 19,
   "id": "8d042b82",
   "metadata": {},
   "outputs": [],
   "source": [
    "X_train, X_test, y_train, y_test = train_test_split(data_processed_pf, target, test_size = 0.2, random_state = 42)"
   ]
  },
  {
   "cell_type": "markdown",
   "id": "c0a22efa",
   "metadata": {},
   "source": [
    "Now by using `PoissonRegressor()` and `GridSearchCV()` I will train the model."
   ]
  },
  {
   "cell_type": "code",
   "execution_count": 109,
   "id": "cb2bde06",
   "metadata": {},
   "outputs": [],
   "source": [
    "poisson_reg=PoissonRegressor(max_iter=300)"
   ]
  },
  {
   "cell_type": "code",
   "execution_count": 110,
   "id": "2bf3d18e",
   "metadata": {},
   "outputs": [],
   "source": [
    "params = {\n",
    "    'alpha': np.geomspace(1e-9, 1e1, num=20),\n",
    "    'fit_intercept': (True, False),\n",
    "    'warm_start':(True,False)\n",
    "}"
   ]
  },
  {
   "cell_type": "code",
   "execution_count": 111,
   "id": "24d5dcdc",
   "metadata": {},
   "outputs": [],
   "source": [
    "gscv=GridSearchCV(poisson_reg, params, cv=10,verbose=20,scoring=\"r2\")"
   ]
  },
  {
   "cell_type": "code",
   "execution_count": null,
   "id": "cfa4272c",
   "metadata": {
    "scrolled": true
   },
   "outputs": [],
   "source": [
    "model=gscv.fit(X_train,y_train)"
   ]
  },
  {
   "cell_type": "code",
   "execution_count": 113,
   "id": "8a1d56bd",
   "metadata": {},
   "outputs": [],
   "source": [
    "predicted=gscv.predict(X_test)"
   ]
  },
  {
   "cell_type": "code",
   "execution_count": 114,
   "id": "141ec6ac",
   "metadata": {},
   "outputs": [
    {
     "data": {
      "text/plain": [
       "'1.000000'"
      ]
     },
     "execution_count": 114,
     "metadata": {},
     "output_type": "execute_result"
    }
   ],
   "source": [
    "format(r2_score(predicted,y_test),'f')"
   ]
  },
  {
   "cell_type": "code",
   "execution_count": 115,
   "id": "749bcf14",
   "metadata": {},
   "outputs": [
    {
     "data": {
      "text/plain": [
       "'0.565144'"
      ]
     },
     "execution_count": 115,
     "metadata": {},
     "output_type": "execute_result"
    }
   ],
   "source": [
    "format(mean_squared_error(predicted,y_test),'f')"
   ]
  },
  {
   "cell_type": "markdown",
   "id": "b845f6c4",
   "metadata": {},
   "source": [
    "How well would a linear regression line fit this data ? Let's use `Ridge()` and `GridSearchCV()` to find out."
   ]
  },
  {
   "cell_type": "code",
   "execution_count": 30,
   "id": "2913f7db",
   "metadata": {},
   "outputs": [],
   "source": [
    "params = {\n",
    "    'alpha': np.geomspace(1e-9, 1e1, num=10),\n",
    "    'solver': ['svd', 'cholesky', 'lsqr', 'sparse_cg', 'sag', 'saga'],\n",
    "    'fit_intercept': [True, False],\n",
    "}"
   ]
  },
  {
   "cell_type": "code",
   "execution_count": null,
   "id": "2ce93f14",
   "metadata": {},
   "outputs": [],
   "source": [
    "ridgemodel= GridSearchCV(Ridge(), params, scoring='neg_mean_squared_error',verbose=42,cv=10).fit(X_train, y_train)"
   ]
  },
  {
   "cell_type": "code",
   "execution_count": 32,
   "id": "1ebbf1a3",
   "metadata": {},
   "outputs": [
    {
     "data": {
      "text/plain": [
       "'1.000000'"
      ]
     },
     "execution_count": 32,
     "metadata": {},
     "output_type": "execute_result"
    }
   ],
   "source": [
    "format(r2_score(ridgemodel.predict(X_test),y_test),'f')"
   ]
  },
  {
   "cell_type": "code",
   "execution_count": 33,
   "id": "0f3f207d",
   "metadata": {},
   "outputs": [
    {
     "data": {
      "text/plain": [
       "'0.000000'"
      ]
     },
     "execution_count": 33,
     "metadata": {},
     "output_type": "execute_result"
    }
   ],
   "source": [
    "format(mean_squared_error(ridgemodel.predict(X_test),y_test),'f')"
   ]
  },
  {
   "cell_type": "markdown",
   "id": "9e262166",
   "metadata": {},
   "source": [
    "It looks like Ridge Regression provides us a better model. I find to learn the idea behind GLM important, moreover the model family provides us ways to deal with non normally distributed data which can be very useful as well. However, my personal experience is that if we organize the data in a good fashion we can generally get a better result with linear regression compared to Poisson Regression. This may be because that I haven't actually used Poisson Regression for a lot of different datasets as well as I didn't use it for a real life example. On the other hand, I find it reasonable to use both linear regression and poisson regression when dealing with count data because no free lunch."
   ]
  },
  {
   "cell_type": "markdown",
   "id": "0e437214",
   "metadata": {},
   "source": [
    "WE ARE DONE!!"
   ]
  },
  {
   "cell_type": "markdown",
   "id": "cc9f32a9",
   "metadata": {},
   "source": [
    "# Generalizing the Linear Models\n",
    "\n",
    "## 1. Exponential Dispersion Family\n",
    "Above I said that we assume response variable is generated from exponential family of distributions. This family is called Exponential Dispersion Family and they are basically a set of probability distributions which contains members like normal, binomial and poisson distributions (actually it contains more than that but I will focus on only these distributions). To be a part of this family, distributions must have a probability density function in the way below.\n",
    "\n",
    "$$f_y\\left(y\\right)=f\\left(y;\\:θ\\right)\\:=\\:s\\left(y\\right)t\\left(θ\\right)e^{a\\left(y\\right)b\\left(θ\\right)}=exp\\left(\\left(\\frac{1}{a\\left(\\phi \\right)}\\cdot \\left(y\\cdot\\theta -b\\left(\\theta\\right)\\right)+c\\left(y,\\phi\\right)\\right)\\right)$$ \n",
    "\n",
    "\n",
    "Let's spend some time to understand this equation. \n",
    "\n",
    "1. In the equation above $a\\left(\\phi \\right)$ represent dispersion parameter. GLM uses this parameter to model the variability in our data. We didn't talk about dispersion directly before but actually we saw some examples of it. For instance, variance and standart deviation are all examples of dispersion. You can find more about this concept in this [website](https://datatab.net/tutorial/dispersion-parameter).\n",
    "2. $\\theta$ is called natural parameter. Every distribution of Exponential family has a natural parameter space denoted by $\\theta$. In GLM we relate this natural parameter to linear predictor, in other words, we say that natural parameter is equal to the link function. In this case the link function is called canonical link function. <br><br>\n",
    "$$\\theta =\\eta =g\\left(\\mu \\right)$$<br>\n",
    "One of the ideas behind the need for using canonical link function is that, we don't always know in advance which link function we should use for a particular distribution. By relating the link function to natural parameter we expect the distribution to use its natural link function for our need, for instance, we use logit as our canonical link function for logistic regression. However, we can also use another link function called Probit. Moreover, even though we used log-link for poisson regression we can also use identity function. So canonical link functions are the functions that generally works best with the models but we always have some alternative ones that we can use. Moreover, as we will see soon relating natural parameter to linear predictor simplifies likelihood analysis. You can find about more about the relationship between natural parameter and linear predictor in these discussion [What is the difference between a \"link function\" and a \"canonical link function\" for GLM](https://stats.stackexchange.com/questions/40876/what-is-the-difference-between-a-link-function-and-a-canonical-link-function) and [Difference between logit and probit models](https://stats.stackexchange.com/questions/20523/difference-between-logit-and-probit-models)\n",
    "3. The last parameter $c\\left(y,\\phi \\right)$ is not important for us since it is not related to natural parameter.\n",
    "\n",
    "Now let's prove that bernoulli and poisson distributions are part of that family\n",
    "\n",
    "### Bernoulli Distribution\n",
    "\n",
    "\n",
    "The Bernoulli Distribution has the PDF  $$f_y\\left(y\\right)=p^y\\left(1-p\\right)^{1-p}$$\n",
    "\n",
    "By using rules of logarithm we can convert the function into this form as follows.<br><br>\n",
    "$$f_y=e^{ln\\left(p^y\\left(1-p\\right)^{1-y}\\right)}\\:=e^{yln\\left(p\\right)+\\left(1-y\\right)ln\\left(1-p\\right)}=e^{y\\left(ln\\left(p\\right)-ln\\left(1-p\\right)\\right)+ln\\left(1-p\\right)}=e^{yln\\left(\\frac{p}{1-p}\\right)+ln\\left(1-p\\right)}$$<br>\n",
    "\n",
    "We end up having the following exponential equation for bernoulli distribution.<br><br> $$f_y=exp\\left(^{yln\\left(\\frac{p}{1-p}\\right)+ln\\left(1-p\\right)}\\right)$$<br>\n",
    "\n",
    "In the equation above, $a\\left(\\phi \\right)=1$ and $\\:\\theta =ln\\left(\\frac{p}{1-p}\\right)$. Moreover, we have $b\\left(\\theta \\right)=-ln\\left(1-p\\right)$. \n",
    "\n",
    "Since $ \\mu = p $ we can say $\\theta =logit\\left(P\\right)$ and take inverse of the function as following $p=sigmoid\\left(\\theta \\right)=\\frac{e^{\\left(\\theta\\right)}}{1+e^{\\left(\\theta \\right)}}$  <br>\n",
    "\n",
    "Therefore we can write down an equation for $b\\left(\\theta \\right)$ as follows\n",
    "\n",
    "$$b\\left(\\theta \\right)=-ln\\left(1-\\frac{e^{\\theta }}{1+e^{\\theta }}\\right)=-ln\\left(\\frac{1}{1+e^{\\theta }}\\right)=ln\\left(1+e^{\\left(\\theta\\right)}\\right)$$<br>\n",
    "\n",
    "And finally we get the PDF <br><br> $$f_y\\left(y\\right)=exp\\left(y\\cdot\\theta-ln\\left(1+e^{\\theta }\\right)\\right)$$\n",
    "\n",
    "We converted Bernoulli distribution into the general form of exponential dispersion family.\n",
    "\n",
    "### Poisson Distribution\n",
    "\n",
    "The Poisson Distribution has the PDF  $$f_y\\left(y\\right)=\\frac{e^{-\\lambda }\\lambda ^y}{y!}$$<br>\n",
    "\n",
    "We can write this PDF in exponential form as follows <br><br> $$f_y\\left(y\\right)=\\frac{e^{-\\lambda }\\lambda ^y}{y!}=exp\\left(yln\\left(\\lambda \\right)-\\lambda -ln\\left(y!\\right)\\right)$$<br>\n",
    "\n",
    "Then we again have $a\\left(\\phi \\right)=1$ and $\\theta =ln\\left(\\lambda \\right)$. Then we can define $$b\\left(\\theta \\right)=\\lambda =e^{\\theta }$$\n",
    "\n",
    "## 2. Mean and Variance\n",
    "\n",
    "Next let's talk about mean and variance. For the exponential family we have the two following equivalances.\n",
    "\n",
    "1. The mean is equal to derivative of $b\\left(\\theta \\right)$ <br> $$E\\left(y\\right)=b'\\left(\\theta \\right)=\\mu $$<br>\n",
    "2. The variance is equal to second derivative of $b\\left(\\theta \\right)$ <br> $$V\\left(\\mu \\right)=b''\\left(\\theta \\right)$$\n",
    "\n",
    "I will not go into details of proving these two equivalances but you can find the proof in this [video](https://www.youtube.com/watch?v=2Y5yREdEoIk&list=PLJ71tqAZr197DkSiGT7DD9dMYxkyZX0ti&index=7)\n",
    "\n",
    "However, there is another part related to mean that I would like to prove. While I was talking about Logistic Regression I said that probability is equal to mean and for poisson regression I said that mean equals to lambda. These are properties of Bernoulli and Poisson Distribution, let's prove them.\n",
    "\n",
    "**For Bernoulli Distribution:**\n",
    "\n",
    "$$b'\\left(\\theta \\right)=\\frac{d}{d\\left(\\theta \\right)}\\left(ln\\left(1+e^{\\theta }\\right)\\right)=\\frac{e^{\\theta}}{1+e^{\\theta}}$$<br>\n",
    "\n",
    "As we previously saw this equation is equal to probability.\n",
    "\n",
    "**For Poisson Distribution**\n",
    "<br><br> $$b'\\left(\\theta\\right)=\\frac{d}{d\\left(\\theta \\right)}\\left(e^{\\theta}\\right)=e^{\\theta}$$\n",
    "\n",
    "And again we know that $$\\lambda =e^{\\theta }$$\n",
    "\n",
    "You can find more about proofs of mean and variance in GLM in this [document](http://home.iitk.ac.in/~shalab/regression/Chapter16-Regression-Generalized%20Linear%20Models.pdf)\n",
    "\n",
    "## 3. Likelihood Analysis\n",
    "\n",
    "For both Logistic Regression and Poisson Regression we derived Maximum Likelihood Estimation by using PDF of Bernoulli and Poisson distributions. However, one of the important concept for GLM we need our models to be generalized. What I mean by that, we need some general equations that we can use for different distributions of exponential family. We only see Bernoulli and Poisson also Normal (to some extent) but there are also other distributions that we can use to model different kinds of data. In this part, by using the general PDF form of Exponential Dispersion Family we will derive an Likelihood Function that we can use easily for every distribution in the family. Let's get started.\n",
    "\n",
    "1. Firstly let's rewrite the likelihood function in terms of PDF of exponential family.\n",
    "$$PDF=exp\\left(\\left(\\frac{1}{a\\left(\\phi \\:\\right)}\\cdot \\:\\left(y\\cdot \\theta \\:-b\\left(\\theta \\right)\\right)+c\\left(y,\\phi \\right)\\right)\\right)$$<br>\n",
    "2. Let's take logarithm of this function.$$log\\:f\\left(y\\right)=\\frac{1}{a\\left(\\phi \\:\\right)}\\left(y\\cdot \\theta \\:-b\\left(\\theta \\:\\right)\\right)+c\\left(y,\\phi \\:\\right)$$<br>\n",
    "3. We know that $\\beta$ values are connected to $\\theta$ with the following equations. <br><br>$$b'\\left(\\theta \\right)=\\mu ,\\:g\\left(\\mu \\right)=\\eta =\\beta _0+\\beta _1x$$<br>\n",
    "4. I will use the chain rule to take derivative of this function and then calculate derivatives one by one. <br><br> $$\\frac{\\partial \\left(logf_y\\left(y\\right)\\right)}{\\partial \\beta _j}=\\frac{\\partial \\:}{\\partial \\theta \\:}\\left(logf\\right)\\frac{\\partial \\:}{\\partial \\mu \\:}\\left(\\theta \\right)\\frac{\\partial \\:\\:}{\\partial \\eta }\\left(\\mu \\right)\\frac{\\partial \\:\\:}{\\partial \\beta _j\\:}\\left(\\eta \\right)$$\n",
    "\n",
    "Let's find derivatives.\n",
    "$$\\left(1\\right)=\\frac{\\partial \\:}{\\partial \\:\\theta \\:}\\left(logf\\right)=\\frac{y-b'\\left(\\theta \\right)}{a\\left(\\phi \\right)}$$\n",
    "$$\\left(2\\right)=\\frac{\\partial \\:}{\\partial\\mu}\\left(\\theta \\right)=\\frac{a\\left(\\phi \\right)}{V\\left(y\\right)}$$\n",
    "$$\\left(4\\right)=\\frac{\\partial \\:}{\\partial \\beta_j}\\left(\\eta \\right)=x_j$$\n",
    "\n",
    "Where is the third derivative ? The third term depends on the link function. It will change according to the spesific choice of user. Therefore I will combine the terms in a general formule without taking derivative of the third term.\n",
    "\n",
    "$$\\frac{y-b'\\left(\\theta \\right)}{V\\left(y\\right)}\\cdot x_j\\cdot \\frac{\\partial }{\\partial \\eta }\\left(\\mu \\right)=0$$\n",
    "\n",
    "and we can generalize it as\n",
    "$$\\sum _{i=1}^n\\left(\\frac{y_i-\\mu _i}{V\\left(y_i\\right)}\\cdot \\:x_{ij}\\cdot \\:\\frac{\\partial \\:}{\\partial \\:\\eta _i\\:}\\left(\\mu _i\\:\\right)\\right)=0$$\n",
    "\n",
    "This is the general form of the function. However, when we use a canonical link function which says that $\\theta =\\eta \\:$ and $g\\left(\\mu \\right)=\\theta $ Some terms in the derivative will cancel each other out and we will get a simplified likelihood function for canonical case. This is actually the simplification that I talked about in exponential dispersion family part. The canonical link function simplified our calculation here.\n",
    "$$\\frac{y-b'\\left(\\theta \\right)}{a\\left(\\phi \\right)}\\cdot x_j$$\n",
    "\n",
    "\n",
    "We need to use a numerical solution algorithm to optimize this function (there isn't any closed form solution). We can use methods such as\n",
    "1. Newton Raphson Method\n",
    "2. Fisher Scoring\n",
    "3. Iterative Reweighted Least Squares\n",
    "\n",
    "\n",
    "Nonetheless, I will not go into details of solution of the general or canonical form by using these methods but you can watch this video to learn more about solutions of the general form [link](https://www.youtube.com/watch?v=45lb8Xwm1E4&list=PLJ71tqAZr197DkSiGT7DD9dMYxkyZX0ti&index=10). There are also other algorithms we can use as well, for instance, we can use SGD.\n",
    "\n",
    "\n",
    "Lastly, let's use the general form for deriving the likelihood function for poisson regression so that we can see actually the general form works.\n",
    "\n",
    "\n",
    "The Poisson Distribution has the PDF  $$f_y\\left(y\\right)=\\frac{e^{-\\lambda \\:}\\lambda \\:^y}{y!}=exp\\left(yln\\left(\\lambda \\:\\right)-\\lambda \\:-ln\\left(y!\\right)\\right)$$<br>\n",
    "\n",
    "We know the following terms are equal.\n",
    "1. $\\theta =ln\\left(\\lambda \\right)$\n",
    "\n",
    "2. $a\\left(\\phi \\right)=1$\n",
    "\n",
    "3. $b\\left(\\theta \\right)=\\lambda \\:=e^{\\theta \\:}=\\mu $\n",
    "\n",
    "In poisson regression we used the canonical link function log-link. Therefore, here we should use the canonical form of likelihood analysis.\n",
    "\n",
    "$$\\frac{y-b'\\left(\\theta \\right)}{a\\left(\\phi \\right)}\\cdot \\:x_j=\\:\\:\\left(y-\\mu \\:\\right)\\cdot x_j=\\left(y-exp\\left(\\theta \\right)\\right)\\cdot \\:x_j=\\left(y-exp\\left(\\beta _0+\\beta _1\\cdot x\\:\\right)\\right)\\cdot \\:\\:x_j$$\n",
    "\n",
    "When we generalize it we get $$\\frac{\\partial }{\\partial \\beta _j}\\left(ℓ\\right)=\\sum _{i=0}^m\\:\\left(y_i-exp\\left(\\beta _0+\\beta \\:_1\\cdot \\:x_i\\:\\right)\\right)\\cdot x_{ij}$$\n",
    "\n",
    "This actually the same equation that we got when we estimated the maximum likelihood for Poisson Distribution. "
   ]
  },
  {
   "cell_type": "markdown",
   "id": "34d8a50e",
   "metadata": {},
   "source": [
    "### 4. Deviance\n",
    "When we were talking about linear regression we talked about residuals, however, in GLM we use another metric called Deviance more often than residuals. I will briefly talk about Deviance and to begin with, I recommend watching this video from Statquest about Deviance [link](https://www.youtube.com/watch?v=JC56jS2gVUE)\n",
    "\n",
    "There are three types of deviance\n",
    "1. Unit Deviance\n",
    "2. Total Deviance\n",
    "3. Null Deviance\n",
    "\n",
    "I will only talk about Unit Deviance and Total Deviance. However, as always I will share other sources in which you can find more about all types of deviance. Unit deviance can be calculated by the following equation $$d\\left(y,\\mu \\:\\:\\right)=2\\left(t\\left(y,y\\:\\right)-t\\left(y,\\mu \\:\\:\\:\\right)\\right)$$\n",
    "\n",
    "In the above equation $t\\left(y,\\mu \\:\\right)=y\\cdot \\:\\theta \\:\\left(\\mu \\right)-b\\left(\\theta \\:\\left(\\mu \\right)\\right)$\n",
    "\n",
    "We can sum up all the unit deviance and get Total Deviance. $$\\sum _{i=0}^mD\\left(y_i,\\mu _i\\right)$$\n",
    "\n",
    "Actually there are more about deviance and this part is not even an introduction for deviance. I just wanted to write down some of the important equations for deviance in this notebook. I will share a youtube video in which you can find equations for calculating deviance for different members of exponential family as well as explenation for deviance types (Unit,Total,Null)    [video](https://www.youtube.com/watch?v=JUrKnBbDDzU&list=PLJ71tqAZr197DkSiGT7DD9dMYxkyZX0ti&index=8). "
   ]
  },
  {
   "cell_type": "markdown",
   "id": "535b0708",
   "metadata": {},
   "source": [
    "WE ARE DONE!!!\n",
    "\n",
    "Resources for Mathematical Parts:\n",
    "1. In this document you can find brief explanations for GLM [Advanced Methods for Data Analysis ](https://www.stat.cmu.edu/~ryantibs/advmethods/notes/glm.pdf)\n",
    "2. There is a lecture slide that I used for writing canonical link function part, you can check it as well [link](https://cedar.buffalo.edu/~srihari/CSE574/Chap4/4.3.6-CanonicalLink.pdf)\n",
    "3. This is a brief mathematical article on Poisson Regression [Poisson Regression Models \n",
    "](http://home.iitk.ac.in/~shalab/regression/Chapter15-Regression-PoissonRegressionModels.pdf)\n",
    "4. There are some good notes from Stanford University [link](https://see.stanford.edu/materials/aimlcs229/cs229-notes1.pdf)\n",
    "5. In this link you can learn more about Deviance [link](https://www.datascienceblog.net/post/machine-learning/interpreting_generalized_linear_models/)\n",
    "6. For more about mean and variance of Bernoulli distribution [link](https://www.youtube.com/watch?v=bC6WIpRgMuc)\n",
    "**7. Lastly I recommend watching all the videos in this youtube serie [link](https://www.youtube.com/watch?v=ddCO2714W-o&list=PLJ71tqAZr197DkSiGT7DD9dMYxkyZX0ti&index=1)**\n",
    "\n"
   ]
  }
 ],
 "metadata": {
  "kernelspec": {
   "display_name": "Python 3 (ipykernel)",
   "language": "python",
   "name": "python3"
  },
  "language_info": {
   "codemirror_mode": {
    "name": "ipython",
    "version": 3
   },
   "file_extension": ".py",
   "mimetype": "text/x-python",
   "name": "python",
   "nbconvert_exporter": "python",
   "pygments_lexer": "ipython3",
   "version": "3.8.8"
  }
 },
 "nbformat": 4,
 "nbformat_minor": 5
}
