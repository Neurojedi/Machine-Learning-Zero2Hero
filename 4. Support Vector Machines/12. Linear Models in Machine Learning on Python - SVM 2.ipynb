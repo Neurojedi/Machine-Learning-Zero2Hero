{
 "cells": [
  {
   "cell_type": "markdown",
   "id": "9e3e9795",
   "metadata": {},
   "source": [
    "# Linear Models in Machine Learning on Python - Support Vector Machines 2"
   ]
  },
  {
   "cell_type": "markdown",
   "id": "404b2d2d",
   "metadata": {},
   "source": [
    "Welcome to the second notebook on Support Vector Machines. In this notebook we will use Kernel Trick and explore other implementation of SVM on Python."
   ]
  },
  {
   "cell_type": "code",
   "execution_count": 288,
   "id": "651e5247",
   "metadata": {},
   "outputs": [],
   "source": [
    "import seaborn as sns\n",
    "import pandas as pd\n",
    "import numpy as np\n",
    "import matplotlib.pyplot as plt\n",
    "from sklearn.metrics import accuracy_score\n",
    "from sklearn.model_selection import StratifiedKFold\n",
    "from sklearn.base import clone\n",
    "import warnings\n",
    "warnings.filterwarnings('ignore', module='sklearn')\n",
    "from sklearn.metrics import plot_confusion_matrix\n",
    "from sklearn.metrics import roc_curve\n",
    "from sklearn.metrics import roc_auc_score\n",
    "from matplotlib import pyplot\n",
    "from sklearn.metrics import precision_recall_curve\n",
    "from sklearn.metrics import precision_score\n",
    "from sklearn.metrics import f1_score\n",
    "from sklearn.metrics import auc\n",
    "from sklearn.metrics import confusion_matrix, ConfusionMatrixDisplay\n",
    "from sklearn.model_selection import train_test_split\n",
    "from sklearn.model_selection import GridSearchCV\n",
    "from sklearn.preprocessing import label_binarize\n",
    "from sklearn.multiclass import OneVsRestClassifier\n",
    "from sklearn.preprocessing import StandardScaler"
   ]
  },
  {
   "cell_type": "markdown",
   "id": "b578ce23",
   "metadata": {},
   "source": [
    "## Step 5: Kernel Trick"
   ]
  },
  {
   "cell_type": "markdown",
   "id": "c79d6a04",
   "metadata": {},
   "source": [
    "Primal problem can be used when your dataset has relatively small dimension. Situations in which you have a massive dimension you need to use something called kernel trick which changes the dimension of your data and tries to get a better seperation. In machine learning, kernel is a function that computes the dot product $\\phi \\left(a\\right)^T\\phi \\left(b\\right)$ based on the original vectors a and b, without really computing the high order mapping. It computes the dot product as if it mapped the points to high order so it doesn't actually change the dimension. We can calculate $\\phi \\left(x_n\\right)^T\\phi \\left(x_m\\right)$ just like we calculated $x^T_nx_m$ and use this higher dimensional dot product to get a better classifier."
   ]
  },
  {
   "cell_type": "markdown",
   "id": "c74e26ce",
   "metadata": {},
   "source": [
    "<div>\n",
    "<img src=\"https://www.researchgate.net/profile/Marouane-Hachimi/publication/340610860/figure/fig4/AS:880021191286786@1586824810950/Non-linear-classifier-using-Kernel-trick-16.ppm\" width=\"800\">\n",
    "</div>"
   ]
  },
  {
   "cell_type": "markdown",
   "id": "1fa09c67",
   "metadata": {},
   "source": [
    "Let's say that out feature is distributed as the one in 2D above. We cannot use a linear hyperplane that seperates this class, however, by using kernel trick we can map the target feature into a higher dimensional space in which we can use a linear hyperplane to seperate them. So basically, we will not calculate the dot product below.\n",
    "\n",
    "$$\\phi \\:\\left(w\\right)=\\frac{1}{2}w^Tw$$\n",
    "\n",
    "Instead we will use the function $\\phi$ to map our inputs into a higher dimensional space then the Kernel Function ($K\\left(x,z\\right)$) will calculate the dot product of these mapped features in higher dimensional space.\n",
    "\n",
    "$$K\\left(x,z\\right)=\\phi \\left(x\\right)^T\\phi\\left(z\\right)$$\n",
    "\n",
    "\n",
    "In this case we also need to tune the dual problem as follows.\n",
    "\n",
    "$$L_D\\left(\\lambda \\right)=\\sum _n\\left(\\lambda _n\\right)-\\frac{1}{2}\\sum _n\\sum _j\\left(\\lambda \\:\\:_n\\lambda \\:\\:_jy_ny_jK\\left(x,z\\right)\\right)$$\n",
    "\n",
    "subject to\n",
    "\n",
    "$$K\\left(x,z\\right)=\\phi \\:\\left(x\\right)^T\\phi \\left(z\\right)$$\n",
    "\n",
    "$$\\sum_n\\left(\\lambda_ny_n\\right)=0$$\n",
    "\n",
    "$$0\\:\\le \\lambda _n\\:\\le C\\:for\\:n=1,...,l$$\n",
    "\n",
    "We can actually calculate the optimal hyperplane by using the equation below.\n",
    "\n",
    "$$w^T\\cdot x+b=\\sum_n\\left(\\lambda \\:_ny_nK\\left(x,z\\right)\\right)+b$$\n",
    "\n",
    "### Kernels\n",
    "\n",
    "Let's talk about what are these kernels that we can use\n",
    "\n",
    "1. **Linear Kernel:** This is the standard Kernel Function that we have formulated the SVM Algorithm which is defined below.\n",
    "\n",
    "$$K_{linear}\\left(x,\\:z\\right)=x^Tz$$\n",
    "\n",
    "2. **Polynomial Kernel:** Another kernel we can use is polynomial kernel.  The polynomial kernel has some parameters that we need to specify we can also use hyperparameter tuning. The polynomial kernel is defined as follows. r is called threshold and d is the power of kernel. I will use GridSearchCV() to tune them.\n",
    "\n",
    "$$K_{poly}\\left(x,\\:z\\right)=\\left(x^Tz+r\\right)^d$$\n",
    "\n",
    "   \n",
    "3. **Gaussian Kernel:** This kernel is most widely used and it is generally default because it is generally the one that gives the best result. It's also called Radial Basis Kernel and it can map the features into infinite dimensional space. The equation below is the general version but generally (actually on both Python and MATLAB) the sigma part is omitted.\n",
    "\n",
    "\n",
    "$$K_{rbf}\\left(x,\\:z\\right)=exp\\left(-\\frac{1}{2\\sigma \\:^2}\\left|\\left|x-z\\right|\\right|^2\\right)$$\n",
    "\n",
    "4. **Sigmoid Kernel:** Lastly we have the sigmoid kernel\n",
    "\n",
    "$$K_{sigmoid}\\left(x,\\:z\\right)=tanh\\left(\\eta xz+r\\right)$$\n",
    "\n",
    "In fact we can also define our own kernel but there are some rules that kernels must have to be used properly. These rules are known as Mercer's Theorem.\n",
    "\n",
    "1. Kernel must be continuous\n",
    "2. Kernel must be symmetric\n",
    "3. Kernel mustbe positive semi definite\n",
    "\n",
    "Okay we are done !!!\n",
    "\n",
    "### Additional Sources and References\n",
    "\n",
    "Now It's time for some additional resources and references. Firstly I recommend everybody to watch Statquest's video about Polynomial and Gaussion Kernel.\n",
    "\n",
    "1. [Polynomial Kernel](https://www.youtube.com/watch?v=Toet3EiSFcM&list=PLblh5JKOoLUICTaGLRoHQDuF_7q2GfuJF&index=60) \n",
    "2. [Gaussian Kernel](https://www.youtube.com/watch?v=Qc5IyLW_hns&list=PLblh5JKOoLUICTaGLRoHQDuF_7q2GfuJF&index=61)\n",
    "\n",
    "Moreover Ritvikmath has two very good video about SVM and Kernels I recommend these videos as suplementary material to my notes [SVM](https://www.youtube.com/watch?v=bM4_AstaBZo) and [Kernel](https://www.youtube.com/watch?v=OKFMZQyDROI). Lastly, there is another video about Kernels that I can recommend [link](https://www.youtube.com/watch?v=tEx-iqUX9Z4)\n",
    "\n",
    "Moreover, I only talked about Kernel types briefly. For a deeper understanding about the properties of these functiona I can recommend reading these articles: \n",
    "\n",
    "1. [Support Vector Machine: Kernel Trick; Mercer’s Theorem](https://towardsdatascience.com/understanding-support-vector-machine-part-2-kernel-trick-mercers-theorem-e1e6848c6c4d)  \n",
    "2. [Major Kernel Functions in Support Vector Machine (SVM)](https://www.geeksforgeeks.org/major-kernel-functions-in-support-vector-machine-svm/)  \n",
    "3. [The Kernel Trick in Support Vector Classification](https://towardsdatascience.com/the-kernel-trick-c98cdbcaeb3f)\n",
    "\n",
    "There are also some course notes and papers that I want to add here you can look through them for equations.\n",
    "1. Kernels\tand\tthe\tKernel\tTrick, The University of UTAH [link](https://svivek.com/teaching/lectures/slides/svm/kernels.pdf)\n",
    "2. Support Vector Machines - Dual formulation and Kernel Trick, Carnegie Mellon University [link](https://www.cs.cmu.edu/~aarti/Class/10315_Fall20/lecs/svm_dual_kernel.pdf)\n",
    "3.  Machine Learning Basics Lecture 5: SVM II, Princeton University [link](https://www.cs.princeton.edu/courses/archive/spring16/cos495/slides/ML_basics_lecture5_SVM_II.pdf)\n",
    "4. You can find almost everything about SVM and especially you can also find about SMO Algorithm [link](https://see.stanford.edu/materials/aimlcs229/cs229-notes3.pdf)\n",
    "5. That is a very brief and well written paper about SVM [link](https://www.eecs189.org/static/notes/n20.pdf)\n",
    "6. This is the main paper that I took equation from [Support Vector Machines — Kernels and the Kernel Trick](https://cogsys.uni-bamberg.de/teaching/ss06/hs_svm/slides/SVM_Seminarbericht_Hofmann.pdf). I love this paper because it came to my aid when I didn't understand the idea of SVM while reading Introduction to Machine Learning by Ethem Alpaydın. I also got a lot help from Probabilistic Machine Learning: An Introduction by Kevin Patrick Murphy while writing this notebook. \n",
    "7. Lastly I want to share a channel on which you can find almost every mathematical part of Machine Learning including SVM [link](https://www.youtube.com/channel/UCt8HFaRhijEKuKY7qzvdA3A)\n",
    "\n",
    "\n",
    "\n",
    "Let's start by defining some functions we used previously."
   ]
  },
  {
   "cell_type": "code",
   "execution_count": 239,
   "id": "5ced734a",
   "metadata": {},
   "outputs": [],
   "source": [
    "def plot_confusion(y,y_pred):\n",
    "    if isinstance(y_pred, (np.ndarray)):\n",
    "        plt.figure(figsize=(10, 7))\n",
    "        cm=confusion_matrix(y, y_pred)\n",
    "        \n",
    "        plt.figure(figsize=(10, 7))\n",
    "        group_names =['TN','FS','FN','TP']\n",
    "        \n",
    "        group_counts = ['{0:0.0f}'.format(value) for value in cm.flatten()]\n",
    "        group_percentages = ['{0:.2%}'.format(value) for value in cm.flatten()/np.sum(cm)]\n",
    "\n",
    "        labels = [f'{v1}\\n\\n{v2}\\n{v3}' for v1, v2, v3 in zip(group_names,group_counts,group_percentages)]\n",
    "        labels = np.asarray(labels).reshape(2,2)\n",
    "    \n",
    "        sns.heatmap(cm, annot=labels, fmt='', cmap='mako',annot_kws={\"fontsize\":20})\n",
    "\n",
    "    else:\n",
    "        \n",
    "        f, axes = plt.subplots(1, 3,figsize=(18,5))\n",
    "        for i in range(3):\n",
    "            cm=confusion_matrix(y, y_pred[i])\n",
    "            plt.figure(figsize=(10, 7))\n",
    "            group_names =['TN','FS','FN','TP']\n",
    "            group_counts = ['{0:0.0f}'.format(value) for value in cm.flatten()]\n",
    "            group_percentages = ['{0:.2%}'.format(value) for value in cm.flatten()/np.sum(cm)]\n",
    "            labels = [f'{v1}\\n\\n{v2}\\n{v3}' for v1, v2, v3 in zip(group_names,group_counts,group_percentages)]\n",
    "            labels = np.asarray(labels).reshape(2,2)\n",
    "            sns.heatmap(cm, annot=labels, fmt='', cmap='mako',annot_kws={\"fontsize\":20},ax=axes[i])"
   ]
  },
  {
   "cell_type": "code",
   "execution_count": 240,
   "id": "db7d4d40",
   "metadata": {},
   "outputs": [],
   "source": [
    "def avgprevsrecallAUC(y_predicted):\n",
    "    y_score=label_binarize(y_predicted, classes=[0, 1, 2])\n",
    "    y_test_binarized=label_binarize(y_test, classes=[0, 1, 2])\n",
    "    n_classes = y_score.shape[1]\n",
    "    precision = dict()\n",
    "    prevsrec_auc=dict()\n",
    "    recall = dict()\n",
    "    th = dict()\n",
    "    precision[\"micro\"], recall[\"micro\"], th[\"micro\"] = precision_recall_curve(y_test_binarized.ravel(), y_score.ravel())\n",
    "    prevsrec_auc[\"micro\"] = auc(recall[\"micro\"], precision[\"micro\"])\n",
    "    return prevsrec_auc[\"micro\"]"
   ]
  },
  {
   "cell_type": "markdown",
   "id": "9428596e",
   "metadata": {},
   "source": [
    "# SVC"
   ]
  },
  {
   "cell_type": "markdown",
   "id": "fe99857e",
   "metadata": {},
   "source": [
    "Support Vector Classifier or SVC is the main function that we will use for implementing Support Vector Machines. It does not only provide us the Linear Kernel that we have used in the previous notebook but also the kernels that we talked about above. Let's firstly explore some of the parameters of that function.\n",
    "\n",
    "1. **kernel:** We can select the kernels that I introduced by using this parameter. The avaliable kernels are linear, sigmoid, rbf, poly, precomputed (I never used this one but can be a good to give it a try).\n",
    "\n",
    "2. **degree:** We need to specify this parameter when we are using polynomial kernel.\n",
    "\n",
    "3. **gamma:** If you look at the [documentation](https://scikit-learn.org/stable/modules/svm.html#classification) of Sklearn for SVM you will see that kernels other than linear are multiplied by a the term gamma. We can specify gamma with this parameter.\n",
    "\n",
    "4. **probability**: It is used to select whether or not to return the probabilities.\n",
    "\n",
    "5. We also have the parameter C that I introduced in the previous notebook.\n",
    "\n",
    "**Note:** `SVC()` doesn't use One-vs-Rest strategy unlike `LinearSVC()`, It uses One-vs-One strategy internally. Also I recommend checking out the [documentation](https://scikit-learn.org/stable/modules/generated/sklearn.svm.SVC.html#sklearn.svm.SVC) for exploring out parameters."
   ]
  },
  {
   "cell_type": "markdown",
   "id": "7a621446",
   "metadata": {},
   "source": [
    "## Wine Dataset"
   ]
  },
  {
   "cell_type": "markdown",
   "id": "b07aea70",
   "metadata": {},
   "source": [
    "Let's use the function. I will load the wide dataset that we used in the logistic regression notebooks."
   ]
  },
  {
   "cell_type": "code",
   "execution_count": 241,
   "id": "9cdd3aca",
   "metadata": {},
   "outputs": [],
   "source": [
    "from sklearn.datasets import load_wine\n",
    "data = load_wine()"
   ]
  },
  {
   "cell_type": "code",
   "execution_count": 242,
   "id": "b62b8c24",
   "metadata": {},
   "outputs": [
    {
     "data": {
      "text/html": [
       "<div>\n",
       "<style scoped>\n",
       "    .dataframe tbody tr th:only-of-type {\n",
       "        vertical-align: middle;\n",
       "    }\n",
       "\n",
       "    .dataframe tbody tr th {\n",
       "        vertical-align: top;\n",
       "    }\n",
       "\n",
       "    .dataframe thead th {\n",
       "        text-align: right;\n",
       "    }\n",
       "</style>\n",
       "<table border=\"1\" class=\"dataframe\">\n",
       "  <thead>\n",
       "    <tr style=\"text-align: right;\">\n",
       "      <th></th>\n",
       "      <th>alcohol</th>\n",
       "      <th>malic_acid</th>\n",
       "      <th>ash</th>\n",
       "      <th>alcalinity_of_ash</th>\n",
       "      <th>magnesium</th>\n",
       "      <th>total_phenols</th>\n",
       "      <th>flavanoids</th>\n",
       "      <th>nonflavanoid_phenols</th>\n",
       "      <th>proanthocyanins</th>\n",
       "      <th>color_intensity</th>\n",
       "      <th>hue</th>\n",
       "      <th>od280/od315_of_diluted_wines</th>\n",
       "      <th>proline</th>\n",
       "    </tr>\n",
       "  </thead>\n",
       "  <tbody>\n",
       "    <tr>\n",
       "      <th>0</th>\n",
       "      <td>14.23</td>\n",
       "      <td>1.71</td>\n",
       "      <td>2.43</td>\n",
       "      <td>15.6</td>\n",
       "      <td>127.0</td>\n",
       "      <td>2.80</td>\n",
       "      <td>3.06</td>\n",
       "      <td>0.28</td>\n",
       "      <td>2.29</td>\n",
       "      <td>5.64</td>\n",
       "      <td>1.04</td>\n",
       "      <td>3.92</td>\n",
       "      <td>1065.0</td>\n",
       "    </tr>\n",
       "    <tr>\n",
       "      <th>1</th>\n",
       "      <td>13.20</td>\n",
       "      <td>1.78</td>\n",
       "      <td>2.14</td>\n",
       "      <td>11.2</td>\n",
       "      <td>100.0</td>\n",
       "      <td>2.65</td>\n",
       "      <td>2.76</td>\n",
       "      <td>0.26</td>\n",
       "      <td>1.28</td>\n",
       "      <td>4.38</td>\n",
       "      <td>1.05</td>\n",
       "      <td>3.40</td>\n",
       "      <td>1050.0</td>\n",
       "    </tr>\n",
       "    <tr>\n",
       "      <th>2</th>\n",
       "      <td>13.16</td>\n",
       "      <td>2.36</td>\n",
       "      <td>2.67</td>\n",
       "      <td>18.6</td>\n",
       "      <td>101.0</td>\n",
       "      <td>2.80</td>\n",
       "      <td>3.24</td>\n",
       "      <td>0.30</td>\n",
       "      <td>2.81</td>\n",
       "      <td>5.68</td>\n",
       "      <td>1.03</td>\n",
       "      <td>3.17</td>\n",
       "      <td>1185.0</td>\n",
       "    </tr>\n",
       "    <tr>\n",
       "      <th>3</th>\n",
       "      <td>14.37</td>\n",
       "      <td>1.95</td>\n",
       "      <td>2.50</td>\n",
       "      <td>16.8</td>\n",
       "      <td>113.0</td>\n",
       "      <td>3.85</td>\n",
       "      <td>3.49</td>\n",
       "      <td>0.24</td>\n",
       "      <td>2.18</td>\n",
       "      <td>7.80</td>\n",
       "      <td>0.86</td>\n",
       "      <td>3.45</td>\n",
       "      <td>1480.0</td>\n",
       "    </tr>\n",
       "    <tr>\n",
       "      <th>4</th>\n",
       "      <td>13.24</td>\n",
       "      <td>2.59</td>\n",
       "      <td>2.87</td>\n",
       "      <td>21.0</td>\n",
       "      <td>118.0</td>\n",
       "      <td>2.80</td>\n",
       "      <td>2.69</td>\n",
       "      <td>0.39</td>\n",
       "      <td>1.82</td>\n",
       "      <td>4.32</td>\n",
       "      <td>1.04</td>\n",
       "      <td>2.93</td>\n",
       "      <td>735.0</td>\n",
       "    </tr>\n",
       "  </tbody>\n",
       "</table>\n",
       "</div>"
      ],
      "text/plain": [
       "   alcohol  malic_acid   ash  alcalinity_of_ash  magnesium  total_phenols  \\\n",
       "0    14.23        1.71  2.43               15.6      127.0           2.80   \n",
       "1    13.20        1.78  2.14               11.2      100.0           2.65   \n",
       "2    13.16        2.36  2.67               18.6      101.0           2.80   \n",
       "3    14.37        1.95  2.50               16.8      113.0           3.85   \n",
       "4    13.24        2.59  2.87               21.0      118.0           2.80   \n",
       "\n",
       "   flavanoids  nonflavanoid_phenols  proanthocyanins  color_intensity   hue  \\\n",
       "0        3.06                  0.28             2.29             5.64  1.04   \n",
       "1        2.76                  0.26             1.28             4.38  1.05   \n",
       "2        3.24                  0.30             2.81             5.68  1.03   \n",
       "3        3.49                  0.24             2.18             7.80  0.86   \n",
       "4        2.69                  0.39             1.82             4.32  1.04   \n",
       "\n",
       "   od280/od315_of_diluted_wines  proline  \n",
       "0                          3.92   1065.0  \n",
       "1                          3.40   1050.0  \n",
       "2                          3.17   1185.0  \n",
       "3                          3.45   1480.0  \n",
       "4                          2.93    735.0  "
      ]
     },
     "execution_count": 242,
     "metadata": {},
     "output_type": "execute_result"
    }
   ],
   "source": [
    "predictors=pd.DataFrame(data.data,columns=data.feature_names)\n",
    "predictors.head(5)"
   ]
  },
  {
   "cell_type": "code",
   "execution_count": 243,
   "id": "523f5671",
   "metadata": {},
   "outputs": [],
   "source": [
    "target=data.target"
   ]
  },
  {
   "cell_type": "markdown",
   "id": "330f6d02",
   "metadata": {},
   "source": [
    "Let's use `train_test_split()`"
   ]
  },
  {
   "cell_type": "code",
   "execution_count": 244,
   "id": "428df015",
   "metadata": {},
   "outputs": [],
   "source": [
    "X_train, X_test, y_train, y_test = train_test_split(predictors, target, test_size = 0.2, random_state = 42,stratify = target)"
   ]
  },
  {
   "cell_type": "markdown",
   "id": "d097e7e2",
   "metadata": {},
   "source": [
    "Let's define the parameters that we want to optimize and use `GridSearchCV()`."
   ]
  },
  {
   "cell_type": "code",
   "execution_count": 245,
   "id": "94d5e020",
   "metadata": {},
   "outputs": [],
   "source": [
    "params1 = {\n",
    "    'C':[0.25,0.50,0.60,0.75,1,5,10,50],\n",
    "    'kernel': [\"linear\",\"poly\",\"rbf\",\"sigmoid\"],\n",
    "    'gamma': [\"scale\",\"auto\"],\n",
    "    'degree':[2,3,4,5], \n",
    "}"
   ]
  },
  {
   "cell_type": "code",
   "execution_count": 246,
   "id": "0443be0a",
   "metadata": {},
   "outputs": [],
   "source": [
    "from sklearn.svm import SVC"
   ]
  },
  {
   "cell_type": "code",
   "execution_count": 247,
   "id": "0f46faa0",
   "metadata": {},
   "outputs": [],
   "source": [
    "svc = SVC()"
   ]
  },
  {
   "cell_type": "code",
   "execution_count": 248,
   "id": "64b319d6",
   "metadata": {},
   "outputs": [],
   "source": [
    "gscv=GridSearchCV(svc, params1, cv=10,verbose=2,scoring=\"accuracy\")"
   ]
  },
  {
   "cell_type": "code",
   "execution_count": null,
   "id": "5065c5f8",
   "metadata": {},
   "outputs": [],
   "source": [
    "model=gscv.fit(X_train,y_train)"
   ]
  },
  {
   "cell_type": "code",
   "execution_count": 250,
   "id": "8eec408e",
   "metadata": {},
   "outputs": [],
   "source": [
    "y_pred=gscv.predict(X_test)"
   ]
  },
  {
   "cell_type": "code",
   "execution_count": 251,
   "id": "3c684a13",
   "metadata": {},
   "outputs": [
    {
     "data": {
      "text/plain": [
       "0.9722222222222222"
      ]
     },
     "execution_count": 251,
     "metadata": {},
     "output_type": "execute_result"
    }
   ],
   "source": [
    "accuracy_score(y_pred,y_test)"
   ]
  },
  {
   "cell_type": "markdown",
   "id": "d2d28034",
   "metadata": {},
   "source": [
    "Accuracy is very high. Let's also use other metrics.\n",
    "\n",
    "I will firstly plot Confusion Matrix but instead of using the Confusion Matrix Function we defined in the previous notebooks, I will use `ConfusionMatrixDisplay()` function which is very similar to `plot_confusion_matrix()` function that I introduced in the first logistic regression notebook."
   ]
  },
  {
   "cell_type": "code",
   "execution_count": 252,
   "id": "afa23297",
   "metadata": {},
   "outputs": [
    {
     "data": {
      "text/plain": [
       "<sklearn.metrics._plot.confusion_matrix.ConfusionMatrixDisplay at 0x2056a4727f0>"
      ]
     },
     "execution_count": 252,
     "metadata": {},
     "output_type": "execute_result"
    },
    {
     "data": {
      "image/png": "[encoded data removed]",
      "text/plain": [
       "<Figure size 432x288 with 2 Axes>"
      ]
     },
     "metadata": {
      "needs_background": "light"
     },
     "output_type": "display_data"
    }
   ],
   "source": [
    "cm = confusion_matrix(y_test, y_pred, labels=model.classes_)\n",
    "\n",
    "ConfusionMatrixDisplay(confusion_matrix=cm, display_labels=model.classes_).plot()"
   ]
  },
  {
   "cell_type": "markdown",
   "id": "fffd7658",
   "metadata": {},
   "source": [
    "Let's also look at AUC of Precision-vs-Recall Curve."
   ]
  },
  {
   "cell_type": "code",
   "execution_count": 253,
   "id": "3646fc90",
   "metadata": {},
   "outputs": [
    {
     "data": {
      "text/plain": [
       "0.9768518518518519"
      ]
     },
     "execution_count": 253,
     "metadata": {},
     "output_type": "execute_result"
    }
   ],
   "source": [
    "avgprevsrecallAUC(y_pred)"
   ]
  },
  {
   "cell_type": "markdown",
   "id": "03b9158d",
   "metadata": {},
   "source": [
    "The AUC score looks good too. Let's now use OneVsRest Classifier to see whether or not it will improve the performance."
   ]
  },
  {
   "cell_type": "code",
   "execution_count": 254,
   "id": "a2a407a5",
   "metadata": {},
   "outputs": [],
   "source": [
    "model_onevsrest=OneVsRestClassifier(svc)"
   ]
  },
  {
   "cell_type": "code",
   "execution_count": 255,
   "id": "dde1f271",
   "metadata": {},
   "outputs": [],
   "source": [
    "params2 = {\n",
    "    'estimator__C':[0.15,0.25,0.35,0,50,0.60,0.75,1],\n",
    "    'estimator__kernel': [\"linear\",\"poly\",\"rbf\",\"sigmoid\"],\n",
    "    'estimator__gamma': [\"scale\",\"auto\"],\n",
    "    'estimator__degree':[2,3,4,5], \n",
    "}"
   ]
  },
  {
   "cell_type": "code",
   "execution_count": 256,
   "id": "b12ed3b4",
   "metadata": {},
   "outputs": [],
   "source": [
    "gscv=GridSearchCV(model_onevsrest, params2, cv=10,verbose=2,scoring=\"accuracy\")"
   ]
  },
  {
   "cell_type": "code",
   "execution_count": null,
   "id": "ae14f334",
   "metadata": {},
   "outputs": [],
   "source": [
    "model=gscv.fit(X_train,y_train)"
   ]
  },
  {
   "cell_type": "code",
   "execution_count": 258,
   "id": "34944026",
   "metadata": {},
   "outputs": [],
   "source": [
    "y_pred=gscv.predict(X_test)"
   ]
  },
  {
   "cell_type": "code",
   "execution_count": 259,
   "id": "ae06d614",
   "metadata": {},
   "outputs": [
    {
     "data": {
      "text/plain": [
       "0.9444444444444444"
      ]
     },
     "execution_count": 259,
     "metadata": {},
     "output_type": "execute_result"
    }
   ],
   "source": [
    "accuracy_score(y_pred,y_test)"
   ]
  },
  {
   "cell_type": "code",
   "execution_count": 260,
   "id": "d6d3dc36",
   "metadata": {},
   "outputs": [
    {
     "data": {
      "text/plain": [
       "0.9537037037037037"
      ]
     },
     "execution_count": 260,
     "metadata": {},
     "output_type": "execute_result"
    }
   ],
   "source": [
    "avgprevsrecallAUC(y_pred)"
   ]
  },
  {
   "cell_type": "markdown",
   "id": "2a727d60",
   "metadata": {},
   "source": [
    "One-vs-One strategy performs better."
   ]
  },
  {
   "cell_type": "markdown",
   "id": "d8a970cb",
   "metadata": {},
   "source": [
    "## Nu-SVC"
   ]
  },
  {
   "cell_type": "markdown",
   "id": "846f0702",
   "metadata": {},
   "source": [
    "Nu SVC is a very similar implementation of SVC which almost share the same parameters as well. The difference is that instead of the parameter C that we used for regularization, we have another parameter called Nu ($\\nu $) in this classifier.\n",
    "\n",
    "**Why do we need that ?** \n",
    "\n",
    "The problem of C is that it is not bounded, even though I generally used values between 0 and 1 for tuning in GridSearch we can actually pass any positive number. On the other hand, Nu is bounded between 0 and 1 which makes it easier for hyperparameter tuning because you can pass a more interpretable range. Nu is defined by the below statement in sklearn:\n",
    "\n",
    "* An upper bound on the fraction of margin errors and a lower bound of the fraction of support vectors. Should be in the interval (0, 1]\n",
    "\n",
    "**What does that mean ?**\n",
    "\n",
    "This means that if we set nu to 0.1 we let %10 of our data can be considered as outliers (margin errors) or can be misclasified, in addition, at least %10 of our data will be used as our support vectors. So by using nu we strike a balance between number of errors allowed and number of support vectors( Remember we cannot choose the number of support vector in classical SVM algorithms that we used previously). I can recommend reading the StackOverFlow discussion below for learning more about this parameter. However I think It's better (if you fancy the mathematics behind) to read this paper about Nu-SVC [link](http://ntur.lib.ntu.edu.tw/bitstream/246246/155217/1/09.pdf)\n",
    "\n",
    "[What is the meaning of the nu parameter in Scikit-Learn's SVM class?](https://stats.stackexchange.com/questions/347185/what-is-the-parameter-nu-in-oneclass-svm#:~:text=According%20to%20this%20link%2C%20nu,The%20default%20is%200.1.)"
   ]
  },
  {
   "cell_type": "markdown",
   "id": "25ddd90a",
   "metadata": {},
   "source": [
    "Scaling matters... I didn't use any scaling for SVC or LinearSVC but It makes hyperparameter tuning process take a long time unless I don't use scaling for Nu-SVC. SVM is sensitive to scaling and it may affect drastically the time it takes for training and hyperparameter tuning. It may also improve the results, however, this can be very changeable according to the dataset you have.\n",
    "\n",
    " Let's scale our predictors and use train_test_split() one more time."
   ]
  },
  {
   "cell_type": "code",
   "execution_count": 261,
   "id": "c2a3d428",
   "metadata": {},
   "outputs": [],
   "source": [
    "scaler = StandardScaler()\n",
    "data_scaled=scaler.fit_transform(predictors)"
   ]
  },
  {
   "cell_type": "code",
   "execution_count": 262,
   "id": "20a8cd19",
   "metadata": {},
   "outputs": [],
   "source": [
    "X_train, X_test, y_train, y_test = train_test_split(data_scaled, target, test_size = 0.2, random_state = 42,stratify = target)"
   ]
  },
  {
   "cell_type": "markdown",
   "id": "c4b5309e",
   "metadata": {},
   "source": [
    "Now let's define `NuSVC()` and pass it to `GridSearchCV()`. The only difference will be that I will pass Nu instead of C in params argument."
   ]
  },
  {
   "cell_type": "code",
   "execution_count": 263,
   "id": "8a1c10a2",
   "metadata": {},
   "outputs": [],
   "source": [
    "from sklearn.svm import NuSVC\n",
    "nusvc=NuSVC()"
   ]
  },
  {
   "cell_type": "code",
   "execution_count": 264,
   "id": "e24a0b69",
   "metadata": {},
   "outputs": [],
   "source": [
    "params3 = {\n",
    "    'nu':[0.25,0.50,0.75,0.95],\n",
    "    'kernel': [\"linear\",\"poly\",\"rbf\",\"sigmoid\"],\n",
    "    'gamma': [\"scale\",\"auto\"],\n",
    "    'degree':[2,3], \n",
    "}"
   ]
  },
  {
   "cell_type": "code",
   "execution_count": 265,
   "id": "4c579f10",
   "metadata": {},
   "outputs": [],
   "source": [
    "gscv=GridSearchCV(NuSVC(), params3, cv=10,verbose=2,scoring=\"accuracy\")"
   ]
  },
  {
   "cell_type": "code",
   "execution_count": null,
   "id": "1af691e3",
   "metadata": {
    "scrolled": true
   },
   "outputs": [],
   "source": [
    "model=gscv.fit(X_train,y_train)"
   ]
  },
  {
   "cell_type": "code",
   "execution_count": 267,
   "id": "4a18e78a",
   "metadata": {},
   "outputs": [],
   "source": [
    "y_pred=gscv.predict(X_test)"
   ]
  },
  {
   "cell_type": "code",
   "execution_count": 268,
   "id": "fcc508cb",
   "metadata": {},
   "outputs": [
    {
     "data": {
      "text/plain": [
       "0.9722222222222222"
      ]
     },
     "execution_count": 268,
     "metadata": {},
     "output_type": "execute_result"
    }
   ],
   "source": [
    "accuracy_score(y_pred,y_test)"
   ]
  },
  {
   "cell_type": "markdown",
   "id": "718060fd",
   "metadata": {},
   "source": [
    "Let's also plot Confusion Matrix and calculate AUC."
   ]
  },
  {
   "cell_type": "code",
   "execution_count": 269,
   "id": "5044842f",
   "metadata": {},
   "outputs": [
    {
     "data": {
      "text/plain": [
       "<sklearn.metrics._plot.confusion_matrix.ConfusionMatrixDisplay at 0x2056b64d310>"
      ]
     },
     "execution_count": 269,
     "metadata": {},
     "output_type": "execute_result"
    },
    {
     "data": {
      "image/png": "[encoded data removed]",
      "text/plain": [
       "<Figure size 432x288 with 2 Axes>"
      ]
     },
     "metadata": {
      "needs_background": "light"
     },
     "output_type": "display_data"
    }
   ],
   "source": [
    "cm = confusion_matrix(y_test, y_pred, labels=model.classes_)\n",
    "\n",
    "ConfusionMatrixDisplay(confusion_matrix=cm, display_labels=model.classes_).plot()"
   ]
  },
  {
   "cell_type": "code",
   "execution_count": 270,
   "id": "f695df3a",
   "metadata": {},
   "outputs": [
    {
     "data": {
      "text/plain": [
       "0.9768518518518519"
      ]
     },
     "execution_count": 270,
     "metadata": {},
     "output_type": "execute_result"
    }
   ],
   "source": [
    "avgprevsrecallAUC(y_pred)"
   ]
  },
  {
   "cell_type": "markdown",
   "id": "64c36366",
   "metadata": {},
   "source": [
    "Let's also use OneVsRestClassifier"
   ]
  },
  {
   "cell_type": "code",
   "execution_count": 271,
   "id": "8b4e1a34",
   "metadata": {},
   "outputs": [],
   "source": [
    "model_onevsrest=OneVsRestClassifier(nusvc)"
   ]
  },
  {
   "cell_type": "code",
   "execution_count": 272,
   "id": "ccabaec7",
   "metadata": {},
   "outputs": [],
   "source": [
    "params4 = {\n",
    "    'estimator__nu':[0.25,0.50,0.75,0.95],\n",
    "    'estimator__kernel': [\"linear\",\"poly\",\"rbf\",\"sigmoid\"],\n",
    "    'estimator__gamma': [\"scale\",\"auto\"],\n",
    "    'estimator__degree':[2,3,4], \n",
    "}"
   ]
  },
  {
   "cell_type": "code",
   "execution_count": 273,
   "id": "e5d5ebd0",
   "metadata": {},
   "outputs": [],
   "source": [
    "gscv=GridSearchCV(model_onevsrest, params4, cv=10,verbose=2,scoring=\"accuracy\")"
   ]
  },
  {
   "cell_type": "code",
   "execution_count": null,
   "id": "f58c10a9",
   "metadata": {},
   "outputs": [],
   "source": [
    "model=gscv.fit(X_train,y_train)"
   ]
  },
  {
   "cell_type": "code",
   "execution_count": 286,
   "id": "98811f35",
   "metadata": {},
   "outputs": [],
   "source": [
    "y_pred=model.predict(X_test)"
   ]
  },
  {
   "cell_type": "code",
   "execution_count": 287,
   "id": "12fd1969",
   "metadata": {},
   "outputs": [
    {
     "data": {
      "text/plain": [
       "0.9722222222222222"
      ]
     },
     "execution_count": 287,
     "metadata": {},
     "output_type": "execute_result"
    }
   ],
   "source": [
    "accuracy_score(y_pred,y_test)"
   ]
  },
  {
   "cell_type": "code",
   "execution_count": 285,
   "id": "0d2a1a93",
   "metadata": {},
   "outputs": [
    {
     "data": {
      "text/plain": [
       "<sklearn.metrics._plot.confusion_matrix.ConfusionMatrixDisplay at 0x2056b71ea30>"
      ]
     },
     "execution_count": 285,
     "metadata": {},
     "output_type": "execute_result"
    },
    {
     "data": {
      "image/png": "[encoded data removed]",
      "text/plain": [
       "<Figure size 432x288 with 2 Axes>"
      ]
     },
     "metadata": {
      "needs_background": "light"
     },
     "output_type": "display_data"
    }
   ],
   "source": [
    "cm = confusion_matrix(y_test, y_pred, labels=model.classes_)\n",
    "\n",
    "ConfusionMatrixDisplay(confusion_matrix=cm, display_labels=model.classes_).plot()"
   ]
  },
  {
   "cell_type": "code",
   "execution_count": 278,
   "id": "d0a11224",
   "metadata": {},
   "outputs": [
    {
     "data": {
      "text/plain": [
       "0.9768518518518519"
      ]
     },
     "execution_count": 278,
     "metadata": {},
     "output_type": "execute_result"
    }
   ],
   "source": [
    "from sklearn.preprocessing import label_binarize\n",
    "avgprevsrecallAUC(y_pred)"
   ]
  },
  {
   "cell_type": "markdown",
   "id": "b52ec4a9",
   "metadata": {},
   "source": [
    "Looks like both strategy works good. It's hard to know in advance which one would perform better. \n",
    "\n",
    "Now let's use the algorithms on a new dataset and compare them."
   ]
  },
  {
   "cell_type": "markdown",
   "id": "33d2579e",
   "metadata": {},
   "source": [
    "## Numbers Dataset"
   ]
  },
  {
   "cell_type": "markdown",
   "id": "4d0040dd",
   "metadata": {},
   "source": [
    "There is a widely used dataset known as MNIST Handwritten Digits dataset. The dataset contains images of handwritten digits (0 to 9). Sklearn provides us a version of this dataset and we will train different SVC and Nu-SVC models on that dataset."
   ]
  },
  {
   "cell_type": "code",
   "execution_count": 2,
   "id": "46ac650a",
   "metadata": {},
   "outputs": [],
   "source": [
    "from sklearn.datasets import load_digits\n",
    "digits = load_digits() #predictors\n",
    "target=digits.target #target"
   ]
  },
  {
   "cell_type": "markdown",
   "id": "73e4daf0",
   "metadata": {},
   "source": [
    "Let's plot some of the instances and see what we have."
   ]
  },
  {
   "cell_type": "code",
   "execution_count": 3,
   "id": "444e4d9e",
   "metadata": {},
   "outputs": [
    {
     "data": {
      "image/png": "[encoded data removed]",
      "text/plain": [
       "<Figure size 504x216 with 4 Axes>"
      ]
     },
     "metadata": {
      "needs_background": "light"
     },
     "output_type": "display_data"
    }
   ],
   "source": [
    "_, axes = plt.subplots(nrows=1, ncols=4, figsize=(7, 3))\n",
    "for ax, image, label in zip(axes, digits.images, digits.target):\n",
    "    ax.set_axis_off()\n",
    "    ax.imshow(image, cmap=plt.cm.gray_r, interpolation=\"nearest\")\n",
    "    ax.set_title(\"Training: %i\" % label)"
   ]
  },
  {
   "cell_type": "markdown",
   "id": "d00b712b",
   "metadata": {},
   "source": [
    "You may wonder why the pictures have very low resolution. It is because lower resolution makes training the model easier. \n",
    "\n",
    "\n",
    "To train our model we firstly need to convert every array in this dataset into one dimensional form (this is known as flattening). Let's do it."
   ]
  },
  {
   "cell_type": "code",
   "execution_count": 4,
   "id": "1832d6eb",
   "metadata": {},
   "outputs": [],
   "source": [
    "data_flattened = digits.images.reshape((len(digits.images), -1))"
   ]
  },
  {
   "cell_type": "markdown",
   "id": "581c8a36",
   "metadata": {},
   "source": [
    "Another important thing is that we also need to change `avgprevsrecallAUC()` function slightly because we will be binarizing the output for 10 classes."
   ]
  },
  {
   "cell_type": "code",
   "execution_count": 30,
   "id": "3d8e3427",
   "metadata": {},
   "outputs": [],
   "source": [
    "def avgprevsrecallAUC(y_predicted,y_test):\n",
    "    y_score=label_binarize(y_predicted, classes=[0, 1, 2, 3, 4, 5, 6, 7, 8, 9])\n",
    "    y_test_binarized=label_binarize(y_test, classes=[0, 1, 2, 3, 4, 5, 6, 7, 8, 9])\n",
    "    n_classes = y_score.shape[1]\n",
    "    precision = dict()\n",
    "    prevsrec_auc=dict()\n",
    "    recall = dict()\n",
    "    th = dict()\n",
    "    precision[\"micro\"], recall[\"micro\"], th[\"micro\"] = precision_recall_curve(y_test_binarized.ravel(), y_score.ravel())\n",
    "    prevsrec_auc[\"micro\"] = auc(recall[\"micro\"], precision[\"micro\"]) # I also changed this line slightly\n",
    "    return prevsrec_auc[\"micro\"]"
   ]
  },
  {
   "cell_type": "markdown",
   "id": "c74e73c0",
   "metadata": {},
   "source": [
    "We are ready to train the model. Here I will make things a bit complicated. We previously defined different parameters to tune using `GridSearchCV()`. I will use all of these parameters to train SVC and Nu-SVC models by using both of the strategies One-vs-One and One-vs-Rest. On top of that, I will use scaled and unscaled versions of the data so that we can see which one works better (I'm basically trying to use all of the combinations we have). Not to repeat the same code again and again, I will define a function that does most of the stuff."
   ]
  },
  {
   "cell_type": "code",
   "execution_count": 66,
   "id": "30f653b6",
   "metadata": {},
   "outputs": [],
   "source": [
    "def myclassifier(algorithm,parametrics,trn,ytrn,xtst):\n",
    "    gscv_svc=GridSearchCV(algorithm, parametrics, cv=10,verbose=2,scoring=\"accuracy\")\n",
    "    predicted=gscv_svc.fit(trn,ytrn).predict(xtst)\n",
    "    return predicted"
   ]
  },
  {
   "cell_type": "code",
   "execution_count": 43,
   "id": "c01ca77a",
   "metadata": {},
   "outputs": [],
   "source": [
    "def trainthemall(data,target,scale):\n",
    "    acc=[]\n",
    "    auc=[]\n",
    "    if(scale==False):\n",
    "        X_train, X_test, y_train, y_test = train_test_split(data, target, test_size = 0.2, random_state = 42,stratify = target)\n",
    "    elif(scale==True):\n",
    "        X_train, X_test, y_train, y_test = train_test_split(scaler.fit_transform(data), target, test_size = 0.2, random_state = 42,stratify = target) \n",
    "    \n",
    "    algorithms=[SVC(),OneVsRestClassifier(SVC()),NuSVC(),OneVsRestClassifier(NuSVC())]\n",
    "    params=[params1,params2,params3,params4]\n",
    "    for i in range(4):\n",
    "        predict=myclassifier(algorithms[i],params[i],X_train,y_train,X_test)\n",
    "        acc.append(accuracy_score(predict,y_test))\n",
    "        auc.append(avgprevsrecallAUC(predict,y_test))\n",
    "    df=pd.DataFrame([acc,auc])\n",
    "    labels={0:'SVC',1:'OVR_SVC',2:'NuSVC',3:'OVR_NuSVC'}\n",
    "    columns={0:'Accuracy',1:'Precision-vs-Recall AUC'}\n",
    "    df=df.T\n",
    "    df.rename(columns=columns, index=labels, inplace=True) \n",
    "    return df"
   ]
  },
  {
   "cell_type": "markdown",
   "id": "766e4d77",
   "metadata": {},
   "source": [
    "Moreover, I will slightly change params3 and params4 because I want to tune this model a little bit further."
   ]
  },
  {
   "cell_type": "code",
   "execution_count": 279,
   "id": "468b4a5d",
   "metadata": {},
   "outputs": [],
   "source": [
    "params3 = {\n",
    "    'nu':[0.10,0.15,0.25,0.50,0.75,0.95],\n",
    "    'kernel': [\"linear\",\"poly\",\"rbf\",\"sigmoid\"],\n",
    "    'gamma': [\"scale\",\"auto\"],\n",
    "    'degree':[2,3], \n",
    "}"
   ]
  },
  {
   "cell_type": "code",
   "execution_count": 280,
   "id": "f38114f4",
   "metadata": {},
   "outputs": [],
   "source": [
    "params4 = {\n",
    "    'estimator__nu':[0.10,0.15,0.25,0.50,0.75,0.95],\n",
    "    'estimator__kernel': [\"linear\",\"poly\",\"rbf\",\"sigmoid\"],\n",
    "    'estimator__gamma': [\"scale\",\"auto\"],\n",
    "    'estimator__degree':[2,3], \n",
    "}"
   ]
  },
  {
   "cell_type": "markdown",
   "id": "17624b23",
   "metadata": {},
   "source": [
    "Let's train the models on unscaled data first."
   ]
  },
  {
   "cell_type": "code",
   "execution_count": null,
   "id": "a998bf93",
   "metadata": {
    "scrolled": true
   },
   "outputs": [],
   "source": [
    "scores=trainthemall(data_flattened,target,False)"
   ]
  },
  {
   "cell_type": "code",
   "execution_count": 106,
   "id": "cdb37ce0",
   "metadata": {},
   "outputs": [
    {
     "data": {
      "text/html": [
       "<div>\n",
       "<style scoped>\n",
       "    .dataframe tbody tr th:only-of-type {\n",
       "        vertical-align: middle;\n",
       "    }\n",
       "\n",
       "    .dataframe tbody tr th {\n",
       "        vertical-align: top;\n",
       "    }\n",
       "\n",
       "    .dataframe thead th {\n",
       "        text-align: right;\n",
       "    }\n",
       "</style>\n",
       "<table border=\"1\" class=\"dataframe\">\n",
       "  <thead>\n",
       "    <tr style=\"text-align: right;\">\n",
       "      <th></th>\n",
       "      <th>Accuracy</th>\n",
       "      <th>Precision-vs-Recall AUC</th>\n",
       "    </tr>\n",
       "  </thead>\n",
       "  <tbody>\n",
       "    <tr>\n",
       "      <th>SVC</th>\n",
       "      <td>0.986111</td>\n",
       "      <td>0.986806</td>\n",
       "    </tr>\n",
       "    <tr>\n",
       "      <th>OVR_SVC</th>\n",
       "      <td>0.983333</td>\n",
       "      <td>0.984167</td>\n",
       "    </tr>\n",
       "    <tr>\n",
       "      <th>NuSVC</th>\n",
       "      <td>0.986111</td>\n",
       "      <td>0.986806</td>\n",
       "    </tr>\n",
       "    <tr>\n",
       "      <th>OVR_NuSVC</th>\n",
       "      <td>0.991667</td>\n",
       "      <td>0.992083</td>\n",
       "    </tr>\n",
       "  </tbody>\n",
       "</table>\n",
       "</div>"
      ],
      "text/plain": [
       "           Accuracy  Precision-vs-Recall AUC\n",
       "SVC        0.986111                 0.986806\n",
       "OVR_SVC    0.983333                 0.984167\n",
       "NuSVC      0.986111                 0.986806\n",
       "OVR_NuSVC  0.991667                 0.992083"
      ]
     },
     "execution_count": 106,
     "metadata": {},
     "output_type": "execute_result"
    }
   ],
   "source": [
    "scores"
   ]
  },
  {
   "cell_type": "markdown",
   "id": "097d457a",
   "metadata": {},
   "source": [
    "Now I will train the model using scaled data."
   ]
  },
  {
   "cell_type": "code",
   "execution_count": null,
   "id": "f43f337d",
   "metadata": {
    "scrolled": true
   },
   "outputs": [],
   "source": [
    "scores=trainthemall(data_flattened,target,True)"
   ]
  },
  {
   "cell_type": "code",
   "execution_count": 112,
   "id": "87b6088f",
   "metadata": {},
   "outputs": [
    {
     "data": {
      "text/html": [
       "<div>\n",
       "<style scoped>\n",
       "    .dataframe tbody tr th:only-of-type {\n",
       "        vertical-align: middle;\n",
       "    }\n",
       "\n",
       "    .dataframe tbody tr th {\n",
       "        vertical-align: top;\n",
       "    }\n",
       "\n",
       "    .dataframe thead th {\n",
       "        text-align: right;\n",
       "    }\n",
       "</style>\n",
       "<table border=\"1\" class=\"dataframe\">\n",
       "  <thead>\n",
       "    <tr style=\"text-align: right;\">\n",
       "      <th></th>\n",
       "      <th>Accuracy</th>\n",
       "      <th>Precision-vs-Recall AUC</th>\n",
       "    </tr>\n",
       "  </thead>\n",
       "  <tbody>\n",
       "    <tr>\n",
       "      <th>SVC</th>\n",
       "      <td>0.994444</td>\n",
       "      <td>0.994722</td>\n",
       "    </tr>\n",
       "    <tr>\n",
       "      <th>OVR_SVC</th>\n",
       "      <td>0.986111</td>\n",
       "      <td>0.986806</td>\n",
       "    </tr>\n",
       "    <tr>\n",
       "      <th>NuSVC</th>\n",
       "      <td>0.994444</td>\n",
       "      <td>0.994722</td>\n",
       "    </tr>\n",
       "    <tr>\n",
       "      <th>OVR_NuSVC</th>\n",
       "      <td>0.988889</td>\n",
       "      <td>0.989444</td>\n",
       "    </tr>\n",
       "  </tbody>\n",
       "</table>\n",
       "</div>"
      ],
      "text/plain": [
       "           Accuracy  Precision-vs-Recall AUC\n",
       "SVC        0.994444                 0.994722\n",
       "OVR_SVC    0.986111                 0.986806\n",
       "NuSVC      0.994444                 0.994722\n",
       "OVR_NuSVC  0.988889                 0.989444"
      ]
     },
     "execution_count": 112,
     "metadata": {},
     "output_type": "execute_result"
    }
   ],
   "source": [
    "scores"
   ]
  },
  {
   "cell_type": "markdown",
   "id": "f087393f",
   "metadata": {},
   "source": [
    "Well looks like scaled version works better. "
   ]
  },
  {
   "cell_type": "markdown",
   "id": "54234a47",
   "metadata": {},
   "source": [
    "We are actualy done with SVM but there are some other functions that are related to SVM which I want to introduce."
   ]
  },
  {
   "cell_type": "markdown",
   "id": "acac34c9",
   "metadata": {},
   "source": [
    "## 1. SGDClassifier"
   ]
  },
  {
   "cell_type": "markdown",
   "id": "089581fd",
   "metadata": {},
   "source": [
    "We previously used SGDRegressor in our regression examples. The classifier version provides us a implementation Linear SVM algorithm and let us use some parameters that we cannot use with LinearSVM such as elastic net penality. SGDClassifier actually provides much more classifier algorithms you can see them in the [documentation](https://scikit-learn.org/stable/modules/generated/sklearn.linear_model.SGDClassifier.html). Let's use Linear SVM with SGDClassifier on handwritten digits."
   ]
  },
  {
   "cell_type": "code",
   "execution_count": 117,
   "id": "c03561a6",
   "metadata": {},
   "outputs": [],
   "source": [
    "X_train, X_test, y_train, y_test = train_test_split(scaler.fit_transform(data_flattened), target, test_size = 0.2, random_state = 42,stratify = target)"
   ]
  },
  {
   "cell_type": "code",
   "execution_count": 118,
   "id": "e29c8fa7",
   "metadata": {},
   "outputs": [],
   "source": [
    "from sklearn.linear_model import SGDClassifier"
   ]
  },
  {
   "cell_type": "code",
   "execution_count": 119,
   "id": "3e0a8312",
   "metadata": {},
   "outputs": [],
   "source": [
    "sgd_classifier=SGDClassifier()"
   ]
  },
  {
   "cell_type": "code",
   "execution_count": 120,
   "id": "a874674a",
   "metadata": {},
   "outputs": [],
   "source": [
    "params = {\n",
    "    'penalty': [\"l2\",\"l1\",\"elasticnet\"],\n",
    "    'loss': [\"hinge\",\"squared_hinge\"],\n",
    "    'fit_intercept':[True,False],\n",
    "    'alpha':[0.1,0.01,0.001,0.0001],\n",
    "    'learning_rate':[\"optimal\",\"adaptive\",\"invscaling\"],\n",
    "    'eta0':[0.1,0.01,0.001],\n",
    "    \n",
    "}"
   ]
  },
  {
   "cell_type": "code",
   "execution_count": 121,
   "id": "48fd67f3",
   "metadata": {},
   "outputs": [],
   "source": [
    "gscv=GridSearchCV(sgd_classifier, params, cv=10,verbose=2,scoring=\"accuracy\")"
   ]
  },
  {
   "cell_type": "code",
   "execution_count": null,
   "id": "19e7c451",
   "metadata": {
    "scrolled": true
   },
   "outputs": [],
   "source": [
    "model=gscv.fit(X_train,y_train)"
   ]
  },
  {
   "cell_type": "code",
   "execution_count": 123,
   "id": "bba6b230",
   "metadata": {},
   "outputs": [],
   "source": [
    "y_pred=model.predict(X_test)"
   ]
  },
  {
   "cell_type": "code",
   "execution_count": 124,
   "id": "cc699766",
   "metadata": {},
   "outputs": [
    {
     "data": {
      "text/plain": [
       "0.9638888888888889"
      ]
     },
     "execution_count": 124,
     "metadata": {},
     "output_type": "execute_result"
    }
   ],
   "source": [
    "accuracy_score(y_pred,y_test)"
   ]
  },
  {
   "cell_type": "code",
   "execution_count": 128,
   "id": "f31f4ead",
   "metadata": {},
   "outputs": [
    {
     "data": {
      "text/plain": [
       "<sklearn.metrics._plot.confusion_matrix.ConfusionMatrixDisplay at 0x2055e09c5e0>"
      ]
     },
     "execution_count": 128,
     "metadata": {},
     "output_type": "execute_result"
    },
    {
     "data": {
      "image/png": "[encoded data removed]",
      "text/plain": [
       "<Figure size 432x288 with 2 Axes>"
      ]
     },
     "metadata": {
      "needs_background": "light"
     },
     "output_type": "display_data"
    }
   ],
   "source": [
    "cm = confusion_matrix(y_test, y_pred, labels=model.classes_)\n",
    "\n",
    "ConfusionMatrixDisplay(confusion_matrix=cm, display_labels=model.classes_).plot()"
   ]
  },
  {
   "cell_type": "code",
   "execution_count": 127,
   "id": "d29ccd60",
   "metadata": {},
   "outputs": [
    {
     "data": {
      "text/plain": [
       "0.9656944444444445"
      ]
     },
     "execution_count": 127,
     "metadata": {},
     "output_type": "execute_result"
    }
   ],
   "source": [
    "avgprevsrecallAUC(y_pred,y_test)"
   ]
  },
  {
   "cell_type": "markdown",
   "id": "64078192",
   "metadata": {},
   "source": [
    "## 2. One Class SVM"
   ]
  },
  {
   "cell_type": "markdown",
   "id": "c78b49ac",
   "metadata": {},
   "source": [
    "In the robust regression notebook, I said that I would talk about other methods for outlier detection. One of the techniques used for outlier detection (actually for novelty detection) is One Class SVM. OneClassSVM works in a very similar fashion to SVM. There are two different approaches for One Class SVM, one is proposed by [Schölkopf](https://proceedings.neurips.cc/paper/1999/file/8725fb777f25776ffa9076e44fcfd776-Paper.pdf) and the other one is proposed by [Tax and Duin](http://homepage.tudelft.nl/a9p19/papers/ML_SVDD_04.pdf). `OneClassSVM()` function of Sklearn uses the approach proposed by Schölkopf (I actually like the algorithm proposed by Tax and Duin more not because of I think it is better approach but It makes more sense for me). \n",
    "\n",
    "The algorithm proposed by Schölkopf basically tries to find an hyperplane which seperates similar points and dissimilar points in a feature space F and then transforms this feature space back into the input space in which the decision boundary corresponds to a seperation between the majority of mass(similar inputs) and the minority of mass(dissimilar inputs).\n",
    "\n",
    "I think we can summarize the algorithm in 5 steps as follows:\n",
    "\n",
    "1. The main objective of the algorithm is to return +1 for the region that captures most of the data and -1 elsewhere.\n",
    "2. To do that the algorithm maps the data we have into a feature space and seperate the data from the origin.\n",
    "3. Remember that by using the kernel function we are calculating the similarity between two points. Since the inner product of points from the origin will be 0 ($⟨ϕ\\left(x\\right),0⟩=0$) the similarity between the most of data we have and the origin must be low.\n",
    "4. The algorithm maximizes the margin from the origin so that it maximizes the distance between dissimilar points(origin) and similar points.\n",
    "5. And finally, when we map the hyperplane back into the input space we get a decision boundary that seperates majority of mass(similar inputs) and the minority of mass(dissimilar inputs)\n",
    "\n",
    "Additional Sources:\n",
    "1. In this article you can find a very good explanation for both of the one class svm approaches. [Introduction to One-class Support Vector Machines](http://rvlasveld.github.io/blog/2013/07/12/introduction-to-one-class-support-vector-machines/#:~:text=One%2DClass%20SVM%20according%20to%20Sch%C3%B6lkopf&text=basically%20separates%20all%20the%20data,density%20of%20the%20data%20lives.)\n",
    "\n",
    "2. There are some StackOverFlow discussions which I strongly recommend reading : [What is one class SVM and how does it work?](https://stats.stackexchange.com/questions/99162/what-is-one-class-svm-and-how-does-it-work) and [Why One class SVM seperate from the origin](https://stats.stackexchange.com/questions/313857/why-one-class-svm-seperate-from-the-origin)\n",
    "\n",
    "3. Finally I recommend checking out an article from MachineLearningMastery about outlier detection. [link](https://machinelearningmastery.com/model-based-outlier-detection-and-removal-in-python/)\n",
    "\n",
    "Let's use the algorithm on House Price Dataset"
   ]
  },
  {
   "cell_type": "code",
   "execution_count": 332,
   "id": "7eded3cf",
   "metadata": {},
   "outputs": [],
   "source": [
    "from sklearn.datasets import fetch_california_housing\n",
    "housing = fetch_california_housing()"
   ]
  },
  {
   "cell_type": "code",
   "execution_count": 345,
   "id": "93a85d80",
   "metadata": {},
   "outputs": [
    {
     "data": {
      "text/html": [
       "<div>\n",
       "<style scoped>\n",
       "    .dataframe tbody tr th:only-of-type {\n",
       "        vertical-align: middle;\n",
       "    }\n",
       "\n",
       "    .dataframe tbody tr th {\n",
       "        vertical-align: top;\n",
       "    }\n",
       "\n",
       "    .dataframe thead th {\n",
       "        text-align: right;\n",
       "    }\n",
       "</style>\n",
       "<table border=\"1\" class=\"dataframe\">\n",
       "  <thead>\n",
       "    <tr style=\"text-align: right;\">\n",
       "      <th></th>\n",
       "      <th>MedInc</th>\n",
       "      <th>HouseAge</th>\n",
       "      <th>AveRooms</th>\n",
       "      <th>AveBedrms</th>\n",
       "      <th>Population</th>\n",
       "      <th>AveOccup</th>\n",
       "      <th>Latitude</th>\n",
       "      <th>Longitude</th>\n",
       "    </tr>\n",
       "  </thead>\n",
       "  <tbody>\n",
       "    <tr>\n",
       "      <th>0</th>\n",
       "      <td>8.3252</td>\n",
       "      <td>41.0</td>\n",
       "      <td>6.984127</td>\n",
       "      <td>1.023810</td>\n",
       "      <td>322.0</td>\n",
       "      <td>2.555556</td>\n",
       "      <td>37.88</td>\n",
       "      <td>-122.23</td>\n",
       "    </tr>\n",
       "    <tr>\n",
       "      <th>1</th>\n",
       "      <td>8.3014</td>\n",
       "      <td>21.0</td>\n",
       "      <td>6.238137</td>\n",
       "      <td>0.971880</td>\n",
       "      <td>2401.0</td>\n",
       "      <td>2.109842</td>\n",
       "      <td>37.86</td>\n",
       "      <td>-122.22</td>\n",
       "    </tr>\n",
       "    <tr>\n",
       "      <th>2</th>\n",
       "      <td>7.2574</td>\n",
       "      <td>52.0</td>\n",
       "      <td>8.288136</td>\n",
       "      <td>1.073446</td>\n",
       "      <td>496.0</td>\n",
       "      <td>2.802260</td>\n",
       "      <td>37.85</td>\n",
       "      <td>-122.24</td>\n",
       "    </tr>\n",
       "    <tr>\n",
       "      <th>3</th>\n",
       "      <td>5.6431</td>\n",
       "      <td>52.0</td>\n",
       "      <td>5.817352</td>\n",
       "      <td>1.073059</td>\n",
       "      <td>558.0</td>\n",
       "      <td>2.547945</td>\n",
       "      <td>37.85</td>\n",
       "      <td>-122.25</td>\n",
       "    </tr>\n",
       "    <tr>\n",
       "      <th>4</th>\n",
       "      <td>3.8462</td>\n",
       "      <td>52.0</td>\n",
       "      <td>6.281853</td>\n",
       "      <td>1.081081</td>\n",
       "      <td>565.0</td>\n",
       "      <td>2.181467</td>\n",
       "      <td>37.85</td>\n",
       "      <td>-122.25</td>\n",
       "    </tr>\n",
       "    <tr>\n",
       "      <th>...</th>\n",
       "      <td>...</td>\n",
       "      <td>...</td>\n",
       "      <td>...</td>\n",
       "      <td>...</td>\n",
       "      <td>...</td>\n",
       "      <td>...</td>\n",
       "      <td>...</td>\n",
       "      <td>...</td>\n",
       "    </tr>\n",
       "    <tr>\n",
       "      <th>20635</th>\n",
       "      <td>1.5603</td>\n",
       "      <td>25.0</td>\n",
       "      <td>5.045455</td>\n",
       "      <td>1.133333</td>\n",
       "      <td>845.0</td>\n",
       "      <td>2.560606</td>\n",
       "      <td>39.48</td>\n",
       "      <td>-121.09</td>\n",
       "    </tr>\n",
       "    <tr>\n",
       "      <th>20636</th>\n",
       "      <td>2.5568</td>\n",
       "      <td>18.0</td>\n",
       "      <td>6.114035</td>\n",
       "      <td>1.315789</td>\n",
       "      <td>356.0</td>\n",
       "      <td>3.122807</td>\n",
       "      <td>39.49</td>\n",
       "      <td>-121.21</td>\n",
       "    </tr>\n",
       "    <tr>\n",
       "      <th>20637</th>\n",
       "      <td>1.7000</td>\n",
       "      <td>17.0</td>\n",
       "      <td>5.205543</td>\n",
       "      <td>1.120092</td>\n",
       "      <td>1007.0</td>\n",
       "      <td>2.325635</td>\n",
       "      <td>39.43</td>\n",
       "      <td>-121.22</td>\n",
       "    </tr>\n",
       "    <tr>\n",
       "      <th>20638</th>\n",
       "      <td>1.8672</td>\n",
       "      <td>18.0</td>\n",
       "      <td>5.329513</td>\n",
       "      <td>1.171920</td>\n",
       "      <td>741.0</td>\n",
       "      <td>2.123209</td>\n",
       "      <td>39.43</td>\n",
       "      <td>-121.32</td>\n",
       "    </tr>\n",
       "    <tr>\n",
       "      <th>20639</th>\n",
       "      <td>2.3886</td>\n",
       "      <td>16.0</td>\n",
       "      <td>5.254717</td>\n",
       "      <td>1.162264</td>\n",
       "      <td>1387.0</td>\n",
       "      <td>2.616981</td>\n",
       "      <td>39.37</td>\n",
       "      <td>-121.24</td>\n",
       "    </tr>\n",
       "  </tbody>\n",
       "</table>\n",
       "<p>20640 rows × 8 columns</p>\n",
       "</div>"
      ],
      "text/plain": [
       "       MedInc  HouseAge  AveRooms  AveBedrms  Population  AveOccup  Latitude  \\\n",
       "0      8.3252      41.0  6.984127   1.023810       322.0  2.555556     37.88   \n",
       "1      8.3014      21.0  6.238137   0.971880      2401.0  2.109842     37.86   \n",
       "2      7.2574      52.0  8.288136   1.073446       496.0  2.802260     37.85   \n",
       "3      5.6431      52.0  5.817352   1.073059       558.0  2.547945     37.85   \n",
       "4      3.8462      52.0  6.281853   1.081081       565.0  2.181467     37.85   \n",
       "...       ...       ...       ...        ...         ...       ...       ...   \n",
       "20635  1.5603      25.0  5.045455   1.133333       845.0  2.560606     39.48   \n",
       "20636  2.5568      18.0  6.114035   1.315789       356.0  3.122807     39.49   \n",
       "20637  1.7000      17.0  5.205543   1.120092      1007.0  2.325635     39.43   \n",
       "20638  1.8672      18.0  5.329513   1.171920       741.0  2.123209     39.43   \n",
       "20639  2.3886      16.0  5.254717   1.162264      1387.0  2.616981     39.37   \n",
       "\n",
       "       Longitude  \n",
       "0        -122.23  \n",
       "1        -122.22  \n",
       "2        -122.24  \n",
       "3        -122.25  \n",
       "4        -122.25  \n",
       "...          ...  \n",
       "20635    -121.09  \n",
       "20636    -121.21  \n",
       "20637    -121.22  \n",
       "20638    -121.32  \n",
       "20639    -121.24  \n",
       "\n",
       "[20640 rows x 8 columns]"
      ]
     },
     "execution_count": 345,
     "metadata": {},
     "output_type": "execute_result"
    }
   ],
   "source": [
    "predictors=pd.DataFrame(housing.data,columns=housing.feature_names)\n",
    "predictors"
   ]
  },
  {
   "cell_type": "markdown",
   "id": "0baeca4f",
   "metadata": {},
   "source": [
    "Let's fit the model."
   ]
  },
  {
   "cell_type": "code",
   "execution_count": 361,
   "id": "b7430d20",
   "metadata": {},
   "outputs": [],
   "source": [
    "outlier_detector = OneClassSVM(nu=0.01)# this is the same nu in Nu-SVM"
   ]
  },
  {
   "cell_type": "markdown",
   "id": "a81af593",
   "metadata": {},
   "source": [
    "Let's fit the model on predictors."
   ]
  },
  {
   "cell_type": "code",
   "execution_count": 362,
   "id": "a595ec41",
   "metadata": {},
   "outputs": [],
   "source": [
    "threshold = ee.fit_predict(predictors)"
   ]
  },
  {
   "cell_type": "code",
   "execution_count": 363,
   "id": "ccc5420c",
   "metadata": {},
   "outputs": [
    {
     "data": {
      "text/plain": [
       "array([1, 1, 1, ..., 1, 1, 1], dtype=int64)"
      ]
     },
     "execution_count": 363,
     "metadata": {},
     "output_type": "execute_result"
    }
   ],
   "source": [
    "threshold"
   ]
  },
  {
   "cell_type": "markdown",
   "id": "18de64ce",
   "metadata": {},
   "source": [
    "Let's return the values instances classified as inliers."
   ]
  },
  {
   "cell_type": "code",
   "execution_count": 364,
   "id": "4cc6103f",
   "metadata": {},
   "outputs": [
    {
     "data": {
      "text/plain": [
       "array([ True,  True,  True, ...,  True,  True,  True])"
      ]
     },
     "execution_count": 364,
     "metadata": {},
     "output_type": "execute_result"
    }
   ],
   "source": [
    "inliers = threshold != -1\n",
    "inliers"
   ]
  },
  {
   "cell_type": "code",
   "execution_count": 365,
   "id": "4877e138",
   "metadata": {},
   "outputs": [
    {
     "data": {
      "text/html": [
       "<div>\n",
       "<style scoped>\n",
       "    .dataframe tbody tr th:only-of-type {\n",
       "        vertical-align: middle;\n",
       "    }\n",
       "\n",
       "    .dataframe tbody tr th {\n",
       "        vertical-align: top;\n",
       "    }\n",
       "\n",
       "    .dataframe thead th {\n",
       "        text-align: right;\n",
       "    }\n",
       "</style>\n",
       "<table border=\"1\" class=\"dataframe\">\n",
       "  <thead>\n",
       "    <tr style=\"text-align: right;\">\n",
       "      <th></th>\n",
       "      <th>MedInc</th>\n",
       "      <th>HouseAge</th>\n",
       "      <th>AveRooms</th>\n",
       "      <th>AveBedrms</th>\n",
       "      <th>Population</th>\n",
       "      <th>AveOccup</th>\n",
       "      <th>Latitude</th>\n",
       "      <th>Longitude</th>\n",
       "    </tr>\n",
       "  </thead>\n",
       "  <tbody>\n",
       "    <tr>\n",
       "      <th>0</th>\n",
       "      <td>8.3252</td>\n",
       "      <td>41.0</td>\n",
       "      <td>6.984127</td>\n",
       "      <td>1.023810</td>\n",
       "      <td>322.0</td>\n",
       "      <td>2.555556</td>\n",
       "      <td>37.88</td>\n",
       "      <td>-122.23</td>\n",
       "    </tr>\n",
       "    <tr>\n",
       "      <th>1</th>\n",
       "      <td>8.3014</td>\n",
       "      <td>21.0</td>\n",
       "      <td>6.238137</td>\n",
       "      <td>0.971880</td>\n",
       "      <td>2401.0</td>\n",
       "      <td>2.109842</td>\n",
       "      <td>37.86</td>\n",
       "      <td>-122.22</td>\n",
       "    </tr>\n",
       "    <tr>\n",
       "      <th>2</th>\n",
       "      <td>7.2574</td>\n",
       "      <td>52.0</td>\n",
       "      <td>8.288136</td>\n",
       "      <td>1.073446</td>\n",
       "      <td>496.0</td>\n",
       "      <td>2.802260</td>\n",
       "      <td>37.85</td>\n",
       "      <td>-122.24</td>\n",
       "    </tr>\n",
       "    <tr>\n",
       "      <th>3</th>\n",
       "      <td>5.6431</td>\n",
       "      <td>52.0</td>\n",
       "      <td>5.817352</td>\n",
       "      <td>1.073059</td>\n",
       "      <td>558.0</td>\n",
       "      <td>2.547945</td>\n",
       "      <td>37.85</td>\n",
       "      <td>-122.25</td>\n",
       "    </tr>\n",
       "    <tr>\n",
       "      <th>4</th>\n",
       "      <td>3.8462</td>\n",
       "      <td>52.0</td>\n",
       "      <td>6.281853</td>\n",
       "      <td>1.081081</td>\n",
       "      <td>565.0</td>\n",
       "      <td>2.181467</td>\n",
       "      <td>37.85</td>\n",
       "      <td>-122.25</td>\n",
       "    </tr>\n",
       "    <tr>\n",
       "      <th>...</th>\n",
       "      <td>...</td>\n",
       "      <td>...</td>\n",
       "      <td>...</td>\n",
       "      <td>...</td>\n",
       "      <td>...</td>\n",
       "      <td>...</td>\n",
       "      <td>...</td>\n",
       "      <td>...</td>\n",
       "    </tr>\n",
       "    <tr>\n",
       "      <th>20635</th>\n",
       "      <td>1.5603</td>\n",
       "      <td>25.0</td>\n",
       "      <td>5.045455</td>\n",
       "      <td>1.133333</td>\n",
       "      <td>845.0</td>\n",
       "      <td>2.560606</td>\n",
       "      <td>39.48</td>\n",
       "      <td>-121.09</td>\n",
       "    </tr>\n",
       "    <tr>\n",
       "      <th>20636</th>\n",
       "      <td>2.5568</td>\n",
       "      <td>18.0</td>\n",
       "      <td>6.114035</td>\n",
       "      <td>1.315789</td>\n",
       "      <td>356.0</td>\n",
       "      <td>3.122807</td>\n",
       "      <td>39.49</td>\n",
       "      <td>-121.21</td>\n",
       "    </tr>\n",
       "    <tr>\n",
       "      <th>20637</th>\n",
       "      <td>1.7000</td>\n",
       "      <td>17.0</td>\n",
       "      <td>5.205543</td>\n",
       "      <td>1.120092</td>\n",
       "      <td>1007.0</td>\n",
       "      <td>2.325635</td>\n",
       "      <td>39.43</td>\n",
       "      <td>-121.22</td>\n",
       "    </tr>\n",
       "    <tr>\n",
       "      <th>20638</th>\n",
       "      <td>1.8672</td>\n",
       "      <td>18.0</td>\n",
       "      <td>5.329513</td>\n",
       "      <td>1.171920</td>\n",
       "      <td>741.0</td>\n",
       "      <td>2.123209</td>\n",
       "      <td>39.43</td>\n",
       "      <td>-121.32</td>\n",
       "    </tr>\n",
       "    <tr>\n",
       "      <th>20639</th>\n",
       "      <td>2.3886</td>\n",
       "      <td>16.0</td>\n",
       "      <td>5.254717</td>\n",
       "      <td>1.162264</td>\n",
       "      <td>1387.0</td>\n",
       "      <td>2.616981</td>\n",
       "      <td>39.37</td>\n",
       "      <td>-121.24</td>\n",
       "    </tr>\n",
       "  </tbody>\n",
       "</table>\n",
       "<p>20430 rows × 8 columns</p>\n",
       "</div>"
      ],
      "text/plain": [
       "       MedInc  HouseAge  AveRooms  AveBedrms  Population  AveOccup  Latitude  \\\n",
       "0      8.3252      41.0  6.984127   1.023810       322.0  2.555556     37.88   \n",
       "1      8.3014      21.0  6.238137   0.971880      2401.0  2.109842     37.86   \n",
       "2      7.2574      52.0  8.288136   1.073446       496.0  2.802260     37.85   \n",
       "3      5.6431      52.0  5.817352   1.073059       558.0  2.547945     37.85   \n",
       "4      3.8462      52.0  6.281853   1.081081       565.0  2.181467     37.85   \n",
       "...       ...       ...       ...        ...         ...       ...       ...   \n",
       "20635  1.5603      25.0  5.045455   1.133333       845.0  2.560606     39.48   \n",
       "20636  2.5568      18.0  6.114035   1.315789       356.0  3.122807     39.49   \n",
       "20637  1.7000      17.0  5.205543   1.120092      1007.0  2.325635     39.43   \n",
       "20638  1.8672      18.0  5.329513   1.171920       741.0  2.123209     39.43   \n",
       "20639  2.3886      16.0  5.254717   1.162264      1387.0  2.616981     39.37   \n",
       "\n",
       "       Longitude  \n",
       "0        -122.23  \n",
       "1        -122.22  \n",
       "2        -122.24  \n",
       "3        -122.25  \n",
       "4        -122.25  \n",
       "...          ...  \n",
       "20635    -121.09  \n",
       "20636    -121.21  \n",
       "20637    -121.22  \n",
       "20638    -121.32  \n",
       "20639    -121.24  \n",
       "\n",
       "[20430 rows x 8 columns]"
      ]
     },
     "execution_count": 365,
     "metadata": {},
     "output_type": "execute_result"
    }
   ],
   "source": [
    "predictors_cleaned = predictors[inliers]\n",
    "predictors_cleaned"
   ]
  },
  {
   "cell_type": "markdown",
   "id": "d85f27cb",
   "metadata": {},
   "source": [
    "Let's find out what portion of the data we lost."
   ]
  },
  {
   "cell_type": "code",
   "execution_count": 368,
   "id": "3b552bd2",
   "metadata": {},
   "outputs": [],
   "source": [
    "outliers = threshold == -1\n",
    "outliers=predictors[outliers]"
   ]
  },
  {
   "cell_type": "code",
   "execution_count": 369,
   "id": "9759257e",
   "metadata": {},
   "outputs": [],
   "source": [
    "prtc=(len(outliers)/(len(outliers)+len(predictors)))*100"
   ]
  },
  {
   "cell_type": "code",
   "execution_count": 370,
   "id": "d4b8c8ac",
   "metadata": {},
   "outputs": [
    {
     "name": "stdout",
     "output_type": "stream",
     "text": [
      "Non-outlier observations: %f 1.0071942446043165\n"
     ]
    }
   ],
   "source": [
    "print('Non-outlier observations: %f',prtc )"
   ]
  },
  {
   "cell_type": "markdown",
   "id": "a1d81221",
   "metadata": {},
   "source": [
    "We only lost %1 of our data. We can tune the severity of outlier detection by changing the parameter nu."
   ]
  },
  {
   "cell_type": "markdown",
   "id": "563704b8",
   "metadata": {},
   "source": [
    "We are done with all the SVM functions on Python. I recommend checking some examples of Sklearn about OneClassSVM which you can find here : [One-class SVM with non-linear kernel (RBF)](https://scikit-learn.org/stable/auto_examples/svm/plot_oneclass.html#sphx-glr-auto-examples-svm-plot-oneclass-py) and [One-Class SVM versus One-Class SVM using Stochastic Gradient Descent](https://scikit-learn.org/stable/auto_examples/linear_model/plot_sgdocsvm_vs_ocsvm.html#sphx-glr-auto-examples-linear-model-plot-sgdocsvm-vs-ocsvm-py)\n",
    "\n",
    "Also I recommend reading the Novelty Detection documentation of Sklearn [link](https://scikit-learn.org/stable/modules/outlier_detection.html#outlier-detection)\n",
    "\n",
    "\n",
    "Lastly, there are two classifiers related to both Logistic Regression and SVM. I didn't want to add them here as a section but I recommend checking the documentations. You may use them in some cases.\n",
    "\n",
    "[RidgeClassifier](https://scikit-learn.org/stable/modules/generated/sklearn.linear_model.RidgeClassifier.html)\n",
    "\n",
    "\n",
    "[KernelRidge](https://scikit-learn.org/stable/modules/generated/sklearn.kernel_ridge.KernelRidge.html#sklearn.kernel_ridge.KernelRidge)"
   ]
  }
 ],
 "metadata": {
  "kernelspec": {
   "display_name": "Python 3 (ipykernel)",
   "language": "python",
   "name": "python3"
  },
  "language_info": {
   "codemirror_mode": {
    "name": "ipython",
    "version": 3
   },
   "file_extension": ".py",
   "mimetype": "text/x-python",
   "name": "python",
   "nbconvert_exporter": "python",
   "pygments_lexer": "ipython3",
   "version": "3.8.8"
  }
 },
 "nbformat": 4,
 "nbformat_minor": 5
}
