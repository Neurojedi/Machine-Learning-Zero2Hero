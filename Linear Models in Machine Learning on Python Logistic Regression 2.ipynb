{
 "cells": [
  {
   "cell_type": "markdown",
   "id": "88a56de5",
   "metadata": {},
   "source": [
    "# Linear Models in Machine Learning on Python - Logistic Regression 2"
   ]
  },
  {
   "cell_type": "markdown",
   "id": "a01b56fd",
   "metadata": {},
   "source": [
    "Welcome to the second notebook on Logistic Regression. In this notebook we will go into details of regularization of Logistic Regression. Afterwards, we will talk about another important concept that arises while dealing with regularization is hyperparameter tuning, by extension of that, cross-validation.  I will talk about these concept and extend our idea on these functions and models."
   ]
  },
  {
   "cell_type": "code",
   "execution_count": 1,
   "id": "799b2ac3",
   "metadata": {},
   "outputs": [],
   "source": [
    "import seaborn as sns\n",
    "import pandas as pd\n",
    "import numpy as np\n",
    "import matplotlib.pyplot as plt\n",
    "from sklearn.linear_model import LogisticRegression\n",
    "from sklearn.metrics import accuracy_score\n",
    "from sklearn.impute import SimpleImputer\n",
    "from sklearn.model_selection import cross_val_score\n",
    "from sklearn.model_selection import StratifiedKFold\n",
    "from sklearn.preprocessing import StandardScaler\n",
    "from sklearn.base import clone\n",
    "import warnings\n",
    "from sklearn.preprocessing import LabelEncoder\n",
    "warnings.filterwarnings('ignore', module='sklearn')\n",
    "from sklearn.model_selection import cross_val_score\n",
    "from sklearn.model_selection import cross_val_predict\n",
    "from sklearn.metrics import confusion_matrix\n",
    "from sklearn.metrics import plot_confusion_matrix\n",
    "from sklearn.model_selection import cross_validate\n",
    "from sklearn.metrics import roc_curve\n",
    "from sklearn.metrics import roc_auc_score\n",
    "from matplotlib import pyplot\n",
    "from sklearn.metrics import precision_recall_curve\n",
    "from sklearn.metrics import f1_score\n",
    "from sklearn.metrics import auc"
   ]
  },
  {
   "cell_type": "markdown",
   "id": "2110293b",
   "metadata": {},
   "source": [
    "## Mathematics Under the Hood Regularization of Logistic Regression"
   ]
  },
  {
   "cell_type": "markdown",
   "id": "4e581012",
   "metadata": {},
   "source": [
    "Okay if you are familiar with regularization in Linear Regression (I covered it in my Linear Regression notebooks), regularization of Logistic Regression won't be so hard for you.\n",
    "\n",
    "Let's start by revisiting our cost function.\n",
    "\n",
    "$$J\\left(\\theta\\right)=-\\frac{1}{m}\\left[\\sum _{i=1}^my^{\\left(i\\right)}log\\left(h_{\\theta }\\left(x^{\\left(i\\right)}\\right)\\right)+\\left(1-y^{\\left(i\\right)}\\right)log\\left(1-h_{\\theta }\\left(x^{\\left(i\\right)}\\right)\\right)\\right]$$\n",
    "\n",
    "### Ridge Regularization in Logistic Regression\n",
    "\n",
    "Okay now Let's add L2 term into the cost function, this step is actually almost the same as adding the term to Linear Regression. We just add penalization terms to our cost function as follows:\n",
    "\n",
    "\n",
    "$$J\\left(\\theta\\right)=-\\frac{1}{m}\\left[\\sum _{i=1}^m\\:y^{\\left(i\\right)}log\\left(h_{\\theta }\\left(x^{\\left(i\\right)}\\right)\\right)+\\left(1-y^{\\left(i\\right)}\\right)log\\left(1-h_{\\theta }\\left(x^{\\left(i\\right)}\\right)\\right)\\right]+\\frac{\\lambda}{2m}\\sum_{j=1}^n\\theta^2_j$$\n",
    "\n",
    "Let's get derivative of the cost function so that we can use gradient vector for updating our weights.\n",
    "\n",
    "$$\\frac{\\partial }{\\partial \\theta }\\left(J\\left(\\theta\\right)\\right)=\\frac{1}{m}\\sum _{i=1}^m\\left(h_{\\theta }\\left(x^{\\left(i\\right)}\\right)-y^{\\left(i\\right)}\\right)^2\\cdot x_j^{\\left(i\\right)}+\\frac{\\lambda }{m}\\theta _j$$\n",
    "\n",
    "\n",
    "Okay now we will write down our update rule. It's almost identical to linear regression but be careful about hypothesis. In all of these equations we have a different hypothesis than linear regression. Moreover, we don't use regularization on bias term $\\theta_0$, that's why, we need a slightly different update rule for it.\n",
    "\n",
    "Update rule for bias term:\n",
    "\n",
    "$$\\theta _0:=\\theta _0-\\:\\alpha \\left(\\frac{1}{m}\\:\\sum _{i=1}^m\\left(h_{\\theta }\\left(x^{\\left(i\\right)}\\right)-y^{\\left(i\\right)}\\right)^2\\cdot \\:x_0^{\\left(i\\right)}\\right)\\:$$\n",
    "\n",
    "\n",
    "General update rule for j>0:\n",
    "\n",
    "$$\\theta_j:=\\theta _j-\\:\\alpha \\left(\\frac{1}{m}\\:\\sum _{i=1}^m\\left(h_{\\theta }\\left(x^{\\left(i\\right)}\\right)-y^{\\left(i\\right)}\\right)^2\\cdot \\:x_j^{\\left(i\\right)}+\\frac{\\lambda }{m}\\cdot \\theta_j \\right)\\:$$\n",
    "\n",
    "\n",
    "### Lasso Regularization in Logistic Regression\n",
    "\n",
    "Let's also look at L1-regularized logistic regression cost function.\n",
    "\n",
    "\n",
    "$$J\\left(\\theta\\right)=-\\frac{1}{m}\\left[\\sum _{i=1}^my^{\\left(i\\right)}log\\left(h_{\\theta }\\left(x^{\\left(i\\right)}\\right)\\right)+\\left(1-y^{\\left(i\\right)}\\right)log\\left(1-h_{\\theta }\\left(x^{\\left(i\\right)}\\right)\\right)\\right]+\\frac{\\lambda}{m}\\sum _{j=1}^n\\left|\\theta _j\\right|$$\n",
    "\n",
    "\n",
    "You probably remember when we add L1 penalty, the cost function doesn't have a closed form solution anymore. This is also the case for logistic regression as well. However, here we won't use subgradient descent as we used it for linear regression, instead we will use different optimization algorithms.\n",
    "\n",
    "I previously talked about how `LogisticRegression()` uses  *LFBGS* as its default optimization algorithm. You can use only `liblinear` and `saga` optimization algorithms with L1 regularization. I have recently read through my notes on these optimization algorithms so that perhaps I can talk about them here as well but I think it would be so complex to talk about them here and I would miss the point of preparing these notebooks, which is to provide application and mathematics behind these algorithms. If I go through talking about these optimization algorithms It would be out of the scope of this notebook (I will only talk about optimization of SVM because I think it's really important to learn it for understanding the algorithm). You can check which optimization algorithms you can use with different regularizations in the [documentation](https://scikit-learn.org/stable/modules/generated/sklearn.linear_model.LogisticRegression.html).\n",
    "\n",
    "I didn't want to write down elastic net cost function because we are just combining L1 and L2 in it, there is nothing special. A note I think I should talk about is again about optimization, we can only use elastic net with saga optimization. Check out Logistic Regression documentation for learning more about optimization algorithms you can use [link](https://scikit-learn.org/stable/modules/generated/sklearn.linear_model.LogisticRegression.html#sklearn.linear_model.LogisticRegression)\n",
    "\n"
   ]
  },
  {
   "cell_type": "markdown",
   "id": "a5bc39cc",
   "metadata": {},
   "source": [
    "### Lasso Regularization in Logistic Regression\n",
    "\n",
    "Let's also look at L1-regularized logistic regression cost function.\n",
    "\n",
    "$$J\\left(\\theta\\right)=-\\frac{1}{m}\\left[\\sum _{i=1}^my^{\\left(i\\right)}log\\left(h_{\\theta }\\left(x^{\\left(i\\right)}\\right)\\right)+\\left(1-y^{\\left(i\\right)}\\right)log\\left(1-h_{\\theta }\\left(x^{\\left(i\\right)}\\right)\\right)\\right]+\\frac{\\lambda}{m}\\sum _{j=1}^n\\left|\\theta _j\\right|$$\n",
    "\n",
    "\n",
    "You probably remember when we add L1 penalty, the cost function doesn't have a closed form solution anymore. This is also the case for logistic regression as well. However, here we won't use subgradient descent as we used it for linear regression, instead we will use different optimization algorithms.\n",
    "\n",
    "I previously talked about how `LogisticRegression()` uses  *LFBGS* as its default optimization algorithm. You can use only `liblinear` and `saga` optimization algorithms with L1 regularization. I have recently read through my notes on these optimization algorithms so that perhaps I can talk about them here as well but I think it would be so complex to talk about them here and I would miss the point of preparing these notebooks, which is to provide application and mathematics behind these algorithms. If I go through talking about these optimization algorithms It would be out of the scope of this notebook (I will only talk about optimization of SVM because I think it's really important to learn it for understanding the algorithm). You can check which optimization algorithms you can use with different regularizations in the [documentation](https://scikit-learn.org/stable/modules/generated/sklearn.linear_model.LogisticRegression.html).\n",
    "\n",
    "I didn't want to write down elastic net cost function because we are just combining L1 and L2 in it, there is nothing special. A note I think I should talk about is again about optimization, we can only use elastic net with saga optimization. Check out Logistic Regression documentation for learning more about optimization algorithms you can use [link](https://scikit-learn.org/stable/modules/generated/sklearn.linear_model.LogisticRegression.html#sklearn.linear_model.LogisticRegression)"
   ]
  },
  {
   "cell_type": "markdown",
   "id": "2d46c0df",
   "metadata": {},
   "source": [
    "## Australia Rain Dataset"
   ]
  },
  {
   "cell_type": "markdown",
   "id": "98b13491",
   "metadata": {},
   "source": [
    "Instead of using basic datasets, I wanted to use one that we need to do some preprocessing. The reason I provide these preprocessing steps is to get you familiar with them by showing how I do it again and again. I will not do all the necessary preprocessing steps since this notebook is about regularization of Logistic Regression but you can complete the preprocessing part (or perhaps improve it) so that you may get a better result in the end."
   ]
  },
  {
   "cell_type": "markdown",
   "id": "513ea004",
   "metadata": {},
   "source": [
    "Let's load our dataset"
   ]
  },
  {
   "cell_type": "code",
   "execution_count": 2,
   "id": "6edd377a",
   "metadata": {},
   "outputs": [
    {
     "data": {
      "text/html": [
       "<div>\n",
       "<style scoped>\n",
       "    .dataframe tbody tr th:only-of-type {\n",
       "        vertical-align: middle;\n",
       "    }\n",
       "\n",
       "    .dataframe tbody tr th {\n",
       "        vertical-align: top;\n",
       "    }\n",
       "\n",
       "    .dataframe thead th {\n",
       "        text-align: right;\n",
       "    }\n",
       "</style>\n",
       "<table border=\"1\" class=\"dataframe\">\n",
       "  <thead>\n",
       "    <tr style=\"text-align: right;\">\n",
       "      <th></th>\n",
       "      <th>Date</th>\n",
       "      <th>Location</th>\n",
       "      <th>MinTemp</th>\n",
       "      <th>MaxTemp</th>\n",
       "      <th>Rainfall</th>\n",
       "      <th>Evaporation</th>\n",
       "      <th>Sunshine</th>\n",
       "      <th>WindGustDir</th>\n",
       "      <th>WindGustSpeed</th>\n",
       "      <th>WindDir9am</th>\n",
       "      <th>...</th>\n",
       "      <th>Humidity9am</th>\n",
       "      <th>Humidity3pm</th>\n",
       "      <th>Pressure9am</th>\n",
       "      <th>Pressure3pm</th>\n",
       "      <th>Cloud9am</th>\n",
       "      <th>Cloud3pm</th>\n",
       "      <th>Temp9am</th>\n",
       "      <th>Temp3pm</th>\n",
       "      <th>RainToday</th>\n",
       "      <th>RainTomorrow</th>\n",
       "    </tr>\n",
       "  </thead>\n",
       "  <tbody>\n",
       "    <tr>\n",
       "      <th>0</th>\n",
       "      <td>2008-12-01</td>\n",
       "      <td>Albury</td>\n",
       "      <td>13.4</td>\n",
       "      <td>22.9</td>\n",
       "      <td>0.6</td>\n",
       "      <td>NaN</td>\n",
       "      <td>NaN</td>\n",
       "      <td>W</td>\n",
       "      <td>44.0</td>\n",
       "      <td>W</td>\n",
       "      <td>...</td>\n",
       "      <td>71.0</td>\n",
       "      <td>22.0</td>\n",
       "      <td>1007.7</td>\n",
       "      <td>1007.1</td>\n",
       "      <td>8.0</td>\n",
       "      <td>NaN</td>\n",
       "      <td>16.9</td>\n",
       "      <td>21.8</td>\n",
       "      <td>No</td>\n",
       "      <td>No</td>\n",
       "    </tr>\n",
       "    <tr>\n",
       "      <th>1</th>\n",
       "      <td>2008-12-02</td>\n",
       "      <td>Albury</td>\n",
       "      <td>7.4</td>\n",
       "      <td>25.1</td>\n",
       "      <td>0.0</td>\n",
       "      <td>NaN</td>\n",
       "      <td>NaN</td>\n",
       "      <td>WNW</td>\n",
       "      <td>44.0</td>\n",
       "      <td>NNW</td>\n",
       "      <td>...</td>\n",
       "      <td>44.0</td>\n",
       "      <td>25.0</td>\n",
       "      <td>1010.6</td>\n",
       "      <td>1007.8</td>\n",
       "      <td>NaN</td>\n",
       "      <td>NaN</td>\n",
       "      <td>17.2</td>\n",
       "      <td>24.3</td>\n",
       "      <td>No</td>\n",
       "      <td>No</td>\n",
       "    </tr>\n",
       "    <tr>\n",
       "      <th>2</th>\n",
       "      <td>2008-12-03</td>\n",
       "      <td>Albury</td>\n",
       "      <td>12.9</td>\n",
       "      <td>25.7</td>\n",
       "      <td>0.0</td>\n",
       "      <td>NaN</td>\n",
       "      <td>NaN</td>\n",
       "      <td>WSW</td>\n",
       "      <td>46.0</td>\n",
       "      <td>W</td>\n",
       "      <td>...</td>\n",
       "      <td>38.0</td>\n",
       "      <td>30.0</td>\n",
       "      <td>1007.6</td>\n",
       "      <td>1008.7</td>\n",
       "      <td>NaN</td>\n",
       "      <td>2.0</td>\n",
       "      <td>21.0</td>\n",
       "      <td>23.2</td>\n",
       "      <td>No</td>\n",
       "      <td>No</td>\n",
       "    </tr>\n",
       "    <tr>\n",
       "      <th>3</th>\n",
       "      <td>2008-12-04</td>\n",
       "      <td>Albury</td>\n",
       "      <td>9.2</td>\n",
       "      <td>28.0</td>\n",
       "      <td>0.0</td>\n",
       "      <td>NaN</td>\n",
       "      <td>NaN</td>\n",
       "      <td>NE</td>\n",
       "      <td>24.0</td>\n",
       "      <td>SE</td>\n",
       "      <td>...</td>\n",
       "      <td>45.0</td>\n",
       "      <td>16.0</td>\n",
       "      <td>1017.6</td>\n",
       "      <td>1012.8</td>\n",
       "      <td>NaN</td>\n",
       "      <td>NaN</td>\n",
       "      <td>18.1</td>\n",
       "      <td>26.5</td>\n",
       "      <td>No</td>\n",
       "      <td>No</td>\n",
       "    </tr>\n",
       "    <tr>\n",
       "      <th>4</th>\n",
       "      <td>2008-12-05</td>\n",
       "      <td>Albury</td>\n",
       "      <td>17.5</td>\n",
       "      <td>32.3</td>\n",
       "      <td>1.0</td>\n",
       "      <td>NaN</td>\n",
       "      <td>NaN</td>\n",
       "      <td>W</td>\n",
       "      <td>41.0</td>\n",
       "      <td>ENE</td>\n",
       "      <td>...</td>\n",
       "      <td>82.0</td>\n",
       "      <td>33.0</td>\n",
       "      <td>1010.8</td>\n",
       "      <td>1006.0</td>\n",
       "      <td>7.0</td>\n",
       "      <td>8.0</td>\n",
       "      <td>17.8</td>\n",
       "      <td>29.7</td>\n",
       "      <td>No</td>\n",
       "      <td>No</td>\n",
       "    </tr>\n",
       "  </tbody>\n",
       "</table>\n",
       "<p>5 rows × 23 columns</p>\n",
       "</div>"
      ],
      "text/plain": [
       "         Date Location  MinTemp  MaxTemp  Rainfall  Evaporation  Sunshine  \\\n",
       "0  2008-12-01   Albury     13.4     22.9       0.6          NaN       NaN   \n",
       "1  2008-12-02   Albury      7.4     25.1       0.0          NaN       NaN   \n",
       "2  2008-12-03   Albury     12.9     25.7       0.0          NaN       NaN   \n",
       "3  2008-12-04   Albury      9.2     28.0       0.0          NaN       NaN   \n",
       "4  2008-12-05   Albury     17.5     32.3       1.0          NaN       NaN   \n",
       "\n",
       "  WindGustDir  WindGustSpeed WindDir9am  ... Humidity9am  Humidity3pm  \\\n",
       "0           W           44.0          W  ...        71.0         22.0   \n",
       "1         WNW           44.0        NNW  ...        44.0         25.0   \n",
       "2         WSW           46.0          W  ...        38.0         30.0   \n",
       "3          NE           24.0         SE  ...        45.0         16.0   \n",
       "4           W           41.0        ENE  ...        82.0         33.0   \n",
       "\n",
       "   Pressure9am  Pressure3pm  Cloud9am  Cloud3pm  Temp9am  Temp3pm  RainToday  \\\n",
       "0       1007.7       1007.1       8.0       NaN     16.9     21.8         No   \n",
       "1       1010.6       1007.8       NaN       NaN     17.2     24.3         No   \n",
       "2       1007.6       1008.7       NaN       2.0     21.0     23.2         No   \n",
       "3       1017.6       1012.8       NaN       NaN     18.1     26.5         No   \n",
       "4       1010.8       1006.0       7.0       8.0     17.8     29.7         No   \n",
       "\n",
       "   RainTomorrow  \n",
       "0            No  \n",
       "1            No  \n",
       "2            No  \n",
       "3            No  \n",
       "4            No  \n",
       "\n",
       "[5 rows x 23 columns]"
      ]
     },
     "execution_count": 2,
     "metadata": {},
     "output_type": "execute_result"
    }
   ],
   "source": [
    "data=pd.read_csv(\"weatherAUS.csv\")\n",
    "data.head(5)"
   ]
  },
  {
   "cell_type": "markdown",
   "id": "54fa66da",
   "metadata": {},
   "source": [
    "## Preprocessing"
   ]
  },
  {
   "cell_type": "markdown",
   "id": "8f9624c0",
   "metadata": {},
   "source": [
    "I will do the three preprocessing steps below\n",
    "\n",
    "1. Dealing with missing values.\n",
    "2. One-Hot Encoding the categorical features\n",
    "3. Scaling the numerical Features.\n",
    "\n",
    "Apart from that, It would be nice to deal with outliers and if I did that I would also use min-max scaling (Here I will use StandardScaler). Furthermore, I won't look at distributions of predictors and it would be nice to convert skewed features. \n",
    "\n",
    "I will use full preprocessing in my last logistic regression notebook in which I will more focus on application. Here I just wanted to apply the necessary steps."
   ]
  },
  {
   "cell_type": "markdown",
   "id": "ef55c3d6",
   "metadata": {},
   "source": [
    "### Finding Missing values in Categorical and Numerical Features"
   ]
  },
  {
   "cell_type": "code",
   "execution_count": 3,
   "id": "0d822977",
   "metadata": {},
   "outputs": [
    {
     "data": {
      "text/html": [
       "<div>\n",
       "<style scoped>\n",
       "    .dataframe tbody tr th:only-of-type {\n",
       "        vertical-align: middle;\n",
       "    }\n",
       "\n",
       "    .dataframe tbody tr th {\n",
       "        vertical-align: top;\n",
       "    }\n",
       "\n",
       "    .dataframe thead th {\n",
       "        text-align: right;\n",
       "    }\n",
       "</style>\n",
       "<table border=\"1\" class=\"dataframe\">\n",
       "  <thead>\n",
       "    <tr style=\"text-align: right;\">\n",
       "      <th></th>\n",
       "      <th>Date</th>\n",
       "      <th>Location</th>\n",
       "      <th>WindGustDir</th>\n",
       "      <th>WindDir9am</th>\n",
       "      <th>WindDir3pm</th>\n",
       "      <th>RainToday</th>\n",
       "      <th>RainTomorrow</th>\n",
       "    </tr>\n",
       "  </thead>\n",
       "  <tbody>\n",
       "    <tr>\n",
       "      <th>0</th>\n",
       "      <td>2008-12-01</td>\n",
       "      <td>Albury</td>\n",
       "      <td>W</td>\n",
       "      <td>W</td>\n",
       "      <td>WNW</td>\n",
       "      <td>No</td>\n",
       "      <td>No</td>\n",
       "    </tr>\n",
       "    <tr>\n",
       "      <th>1</th>\n",
       "      <td>2008-12-02</td>\n",
       "      <td>Albury</td>\n",
       "      <td>WNW</td>\n",
       "      <td>NNW</td>\n",
       "      <td>WSW</td>\n",
       "      <td>No</td>\n",
       "      <td>No</td>\n",
       "    </tr>\n",
       "    <tr>\n",
       "      <th>2</th>\n",
       "      <td>2008-12-03</td>\n",
       "      <td>Albury</td>\n",
       "      <td>WSW</td>\n",
       "      <td>W</td>\n",
       "      <td>WSW</td>\n",
       "      <td>No</td>\n",
       "      <td>No</td>\n",
       "    </tr>\n",
       "    <tr>\n",
       "      <th>3</th>\n",
       "      <td>2008-12-04</td>\n",
       "      <td>Albury</td>\n",
       "      <td>NE</td>\n",
       "      <td>SE</td>\n",
       "      <td>E</td>\n",
       "      <td>No</td>\n",
       "      <td>No</td>\n",
       "    </tr>\n",
       "    <tr>\n",
       "      <th>4</th>\n",
       "      <td>2008-12-05</td>\n",
       "      <td>Albury</td>\n",
       "      <td>W</td>\n",
       "      <td>ENE</td>\n",
       "      <td>NW</td>\n",
       "      <td>No</td>\n",
       "      <td>No</td>\n",
       "    </tr>\n",
       "  </tbody>\n",
       "</table>\n",
       "</div>"
      ],
      "text/plain": [
       "         Date Location WindGustDir WindDir9am WindDir3pm RainToday  \\\n",
       "0  2008-12-01   Albury           W          W        WNW        No   \n",
       "1  2008-12-02   Albury         WNW        NNW        WSW        No   \n",
       "2  2008-12-03   Albury         WSW          W        WSW        No   \n",
       "3  2008-12-04   Albury          NE         SE          E        No   \n",
       "4  2008-12-05   Albury           W        ENE         NW        No   \n",
       "\n",
       "  RainTomorrow  \n",
       "0           No  \n",
       "1           No  \n",
       "2           No  \n",
       "3           No  \n",
       "4           No  "
      ]
     },
     "execution_count": 3,
     "metadata": {},
     "output_type": "execute_result"
    }
   ],
   "source": [
    "categorical = [features for features in data.columns if data[features].dtype==object] # getting names of categorical columns\n",
    "data[categorical].head(5)"
   ]
  },
  {
   "cell_type": "markdown",
   "id": "469b8504",
   "metadata": {},
   "source": [
    "Let's look at how many missing values we have in each categorical feature."
   ]
  },
  {
   "cell_type": "code",
   "execution_count": 4,
   "id": "8e92fa98",
   "metadata": {},
   "outputs": [
    {
     "data": {
      "text/plain": [
       "Date                0\n",
       "Location            0\n",
       "WindGustDir     10326\n",
       "WindDir9am      10566\n",
       "WindDir3pm       4228\n",
       "RainToday        3261\n",
       "RainTomorrow     3267\n",
       "dtype: int64"
      ]
     },
     "execution_count": 4,
     "metadata": {},
     "output_type": "execute_result"
    }
   ],
   "source": [
    "data[categorical].isnull().sum()"
   ]
  },
  {
   "cell_type": "markdown",
   "id": "4277e1e8",
   "metadata": {},
   "source": [
    "I will also do the same steps for numerical features."
   ]
  },
  {
   "cell_type": "code",
   "execution_count": 5,
   "id": "8eb707f1",
   "metadata": {},
   "outputs": [
    {
     "data": {
      "text/html": [
       "<div>\n",
       "<style scoped>\n",
       "    .dataframe tbody tr th:only-of-type {\n",
       "        vertical-align: middle;\n",
       "    }\n",
       "\n",
       "    .dataframe tbody tr th {\n",
       "        vertical-align: top;\n",
       "    }\n",
       "\n",
       "    .dataframe thead th {\n",
       "        text-align: right;\n",
       "    }\n",
       "</style>\n",
       "<table border=\"1\" class=\"dataframe\">\n",
       "  <thead>\n",
       "    <tr style=\"text-align: right;\">\n",
       "      <th></th>\n",
       "      <th>MinTemp</th>\n",
       "      <th>MaxTemp</th>\n",
       "      <th>Rainfall</th>\n",
       "      <th>Evaporation</th>\n",
       "      <th>Sunshine</th>\n",
       "      <th>WindGustSpeed</th>\n",
       "      <th>WindSpeed9am</th>\n",
       "      <th>WindSpeed3pm</th>\n",
       "      <th>Humidity9am</th>\n",
       "      <th>Humidity3pm</th>\n",
       "      <th>Pressure9am</th>\n",
       "      <th>Pressure3pm</th>\n",
       "      <th>Cloud9am</th>\n",
       "      <th>Cloud3pm</th>\n",
       "      <th>Temp9am</th>\n",
       "      <th>Temp3pm</th>\n",
       "    </tr>\n",
       "  </thead>\n",
       "  <tbody>\n",
       "    <tr>\n",
       "      <th>0</th>\n",
       "      <td>13.4</td>\n",
       "      <td>22.9</td>\n",
       "      <td>0.6</td>\n",
       "      <td>NaN</td>\n",
       "      <td>NaN</td>\n",
       "      <td>44.0</td>\n",
       "      <td>20.0</td>\n",
       "      <td>24.0</td>\n",
       "      <td>71.0</td>\n",
       "      <td>22.0</td>\n",
       "      <td>1007.7</td>\n",
       "      <td>1007.1</td>\n",
       "      <td>8.0</td>\n",
       "      <td>NaN</td>\n",
       "      <td>16.9</td>\n",
       "      <td>21.8</td>\n",
       "    </tr>\n",
       "    <tr>\n",
       "      <th>1</th>\n",
       "      <td>7.4</td>\n",
       "      <td>25.1</td>\n",
       "      <td>0.0</td>\n",
       "      <td>NaN</td>\n",
       "      <td>NaN</td>\n",
       "      <td>44.0</td>\n",
       "      <td>4.0</td>\n",
       "      <td>22.0</td>\n",
       "      <td>44.0</td>\n",
       "      <td>25.0</td>\n",
       "      <td>1010.6</td>\n",
       "      <td>1007.8</td>\n",
       "      <td>NaN</td>\n",
       "      <td>NaN</td>\n",
       "      <td>17.2</td>\n",
       "      <td>24.3</td>\n",
       "    </tr>\n",
       "    <tr>\n",
       "      <th>2</th>\n",
       "      <td>12.9</td>\n",
       "      <td>25.7</td>\n",
       "      <td>0.0</td>\n",
       "      <td>NaN</td>\n",
       "      <td>NaN</td>\n",
       "      <td>46.0</td>\n",
       "      <td>19.0</td>\n",
       "      <td>26.0</td>\n",
       "      <td>38.0</td>\n",
       "      <td>30.0</td>\n",
       "      <td>1007.6</td>\n",
       "      <td>1008.7</td>\n",
       "      <td>NaN</td>\n",
       "      <td>2.0</td>\n",
       "      <td>21.0</td>\n",
       "      <td>23.2</td>\n",
       "    </tr>\n",
       "    <tr>\n",
       "      <th>3</th>\n",
       "      <td>9.2</td>\n",
       "      <td>28.0</td>\n",
       "      <td>0.0</td>\n",
       "      <td>NaN</td>\n",
       "      <td>NaN</td>\n",
       "      <td>24.0</td>\n",
       "      <td>11.0</td>\n",
       "      <td>9.0</td>\n",
       "      <td>45.0</td>\n",
       "      <td>16.0</td>\n",
       "      <td>1017.6</td>\n",
       "      <td>1012.8</td>\n",
       "      <td>NaN</td>\n",
       "      <td>NaN</td>\n",
       "      <td>18.1</td>\n",
       "      <td>26.5</td>\n",
       "    </tr>\n",
       "    <tr>\n",
       "      <th>4</th>\n",
       "      <td>17.5</td>\n",
       "      <td>32.3</td>\n",
       "      <td>1.0</td>\n",
       "      <td>NaN</td>\n",
       "      <td>NaN</td>\n",
       "      <td>41.0</td>\n",
       "      <td>7.0</td>\n",
       "      <td>20.0</td>\n",
       "      <td>82.0</td>\n",
       "      <td>33.0</td>\n",
       "      <td>1010.8</td>\n",
       "      <td>1006.0</td>\n",
       "      <td>7.0</td>\n",
       "      <td>8.0</td>\n",
       "      <td>17.8</td>\n",
       "      <td>29.7</td>\n",
       "    </tr>\n",
       "  </tbody>\n",
       "</table>\n",
       "</div>"
      ],
      "text/plain": [
       "   MinTemp  MaxTemp  Rainfall  Evaporation  Sunshine  WindGustSpeed  \\\n",
       "0     13.4     22.9       0.6          NaN       NaN           44.0   \n",
       "1      7.4     25.1       0.0          NaN       NaN           44.0   \n",
       "2     12.9     25.7       0.0          NaN       NaN           46.0   \n",
       "3      9.2     28.0       0.0          NaN       NaN           24.0   \n",
       "4     17.5     32.3       1.0          NaN       NaN           41.0   \n",
       "\n",
       "   WindSpeed9am  WindSpeed3pm  Humidity9am  Humidity3pm  Pressure9am  \\\n",
       "0          20.0          24.0         71.0         22.0       1007.7   \n",
       "1           4.0          22.0         44.0         25.0       1010.6   \n",
       "2          19.0          26.0         38.0         30.0       1007.6   \n",
       "3          11.0           9.0         45.0         16.0       1017.6   \n",
       "4           7.0          20.0         82.0         33.0       1010.8   \n",
       "\n",
       "   Pressure3pm  Cloud9am  Cloud3pm  Temp9am  Temp3pm  \n",
       "0       1007.1       8.0       NaN     16.9     21.8  \n",
       "1       1007.8       NaN       NaN     17.2     24.3  \n",
       "2       1008.7       NaN       2.0     21.0     23.2  \n",
       "3       1012.8       NaN       NaN     18.1     26.5  \n",
       "4       1006.0       7.0       8.0     17.8     29.7  "
      ]
     },
     "execution_count": 5,
     "metadata": {},
     "output_type": "execute_result"
    }
   ],
   "source": [
    "numerical = [features for features in data.columns if data[features].dtype==float]  # getting names of numerical columns\n",
    "data[numerical].head(5)"
   ]
  },
  {
   "cell_type": "code",
   "execution_count": 6,
   "id": "fe649c47",
   "metadata": {},
   "outputs": [
    {
     "data": {
      "text/plain": [
       "MinTemp           1485\n",
       "MaxTemp           1261\n",
       "Rainfall          3261\n",
       "Evaporation      62790\n",
       "Sunshine         69835\n",
       "WindGustSpeed    10263\n",
       "WindSpeed9am      1767\n",
       "WindSpeed3pm      3062\n",
       "Humidity9am       2654\n",
       "Humidity3pm       4507\n",
       "Pressure9am      15065\n",
       "Pressure3pm      15028\n",
       "Cloud9am         55888\n",
       "Cloud3pm         59358\n",
       "Temp9am           1767\n",
       "Temp3pm           3609\n",
       "dtype: int64"
      ]
     },
     "execution_count": 6,
     "metadata": {},
     "output_type": "execute_result"
    }
   ],
   "source": [
    "data[numerical].isnull().sum()"
   ]
  },
  {
   "cell_type": "markdown",
   "id": "5cebb1b9",
   "metadata": {},
   "source": [
    "Now we have some information about missing values in categorical and numerical features. Let's now deal with them."
   ]
  },
  {
   "cell_type": "markdown",
   "id": "d9caf3da",
   "metadata": {},
   "source": [
    "### Filling Missing Values"
   ]
  },
  {
   "cell_type": "markdown",
   "id": "82b8d948",
   "metadata": {},
   "source": [
    "Before dealing with these missing values I will split date into three columns. I start with doing that because I do not need to fit `SimpleImputer()` on date since there aren't any missing values in this column, I will split it into three columns as day/month/year."
   ]
  },
  {
   "cell_type": "code",
   "execution_count": 7,
   "id": "48b2009c",
   "metadata": {},
   "outputs": [
    {
     "data": {
      "text/plain": [
       "dtype('O')"
      ]
     },
     "execution_count": 7,
     "metadata": {},
     "output_type": "execute_result"
    }
   ],
   "source": [
    "# Firstly let's check whether or not the feature's type is Date\n",
    "data[\"Date\"].dtype"
   ]
  },
  {
   "cell_type": "markdown",
   "id": "671d18cb",
   "metadata": {},
   "source": [
    "Let's define a function that splits Date into Year,Month and Day."
   ]
  },
  {
   "cell_type": "code",
   "execution_count": 8,
   "id": "cc674fc6",
   "metadata": {},
   "outputs": [],
   "source": [
    "# I will\n",
    "def splitdate(data_s):\n",
    "    data_s[\"Date\"] = pd.to_datetime(data_s[\"Date\"]) #convert it to date\n",
    "    data_s[\"Year\"]=data_s[\"Date\"].dt.year # Parsing year \n",
    "    data_s[\"Month\"]=data_s[\"Date\"].dt.month # Parsing month\n",
    "    data_s[\"Day\"]=data_s[\"Date\"].dt.day # Parsing day\n",
    "    data_s =  data_s.drop([\"Date\"], axis=1) # Dropping original Date row\n",
    "    return data_s;"
   ]
  },
  {
   "cell_type": "markdown",
   "id": "e2ccc9a5",
   "metadata": {},
   "source": [
    "Now Let's fill in these missing values. I will use two different imputers since we need different strategies for categorical and numerical features. For categorical ones, I will use mode (most_freguent) and for numerical features, I will use median as strategy."
   ]
  },
  {
   "cell_type": "code",
   "execution_count": 9,
   "id": "f5dc08ed",
   "metadata": {},
   "outputs": [
    {
     "data": {
      "text/plain": [
       "SimpleImputer(strategy='most_frequent')"
      ]
     },
     "execution_count": 9,
     "metadata": {},
     "output_type": "execute_result"
    }
   ],
   "source": [
    "imputer = SimpleImputer(strategy=\"most_frequent\")\n",
    "categorical = [features for features in data.columns if data[features].dtype==object]\n",
    "imputer.fit(data[categorical])"
   ]
  },
  {
   "cell_type": "markdown",
   "id": "21730433",
   "metadata": {},
   "source": [
    "Let's look at our categorical features after using the imputer."
   ]
  },
  {
   "cell_type": "code",
   "execution_count": 10,
   "id": "362a90c5",
   "metadata": {},
   "outputs": [
    {
     "data": {
      "text/plain": [
       "array([['2008-12-01', 'Albury', 'W', ..., 'WNW', 'No', 'No'],\n",
       "       ['2008-12-02', 'Albury', 'WNW', ..., 'WSW', 'No', 'No'],\n",
       "       ['2008-12-03', 'Albury', 'WSW', ..., 'WSW', 'No', 'No'],\n",
       "       ...,\n",
       "       ['2017-06-23', 'Uluru', 'N', ..., 'WNW', 'No', 'No'],\n",
       "       ['2017-06-24', 'Uluru', 'SE', ..., 'N', 'No', 'No'],\n",
       "       ['2017-06-25', 'Uluru', 'W', ..., 'ESE', 'No', 'No']], dtype=object)"
      ]
     },
     "execution_count": 10,
     "metadata": {},
     "output_type": "execute_result"
    }
   ],
   "source": [
    "categorical_x=imputer.transform(data[categorical])\n",
    "categorical_x"
   ]
  },
  {
   "cell_type": "markdown",
   "id": "cb9f2c41",
   "metadata": {},
   "source": [
    "Now I will use SimpleImputer on numerical features."
   ]
  },
  {
   "cell_type": "code",
   "execution_count": 122,
   "id": "204b1c30",
   "metadata": {},
   "outputs": [
    {
     "data": {
      "text/plain": [
       "array([[13.4, 22.9,  0.6, ...,  5. , 16.9, 21.8],\n",
       "       [ 7.4, 25.1,  0. , ...,  5. , 17.2, 24.3],\n",
       "       [12.9, 25.7,  0. , ...,  2. , 21. , 23.2],\n",
       "       ...,\n",
       "       [ 5.4, 26.9,  0. , ...,  5. , 12.5, 26.1],\n",
       "       [ 7.8, 27. ,  0. , ...,  2. , 15.1, 26. ],\n",
       "       [14.9, 22.6,  0. , ...,  8. , 15. , 20.9]])"
      ]
     },
     "execution_count": 122,
     "metadata": {},
     "output_type": "execute_result"
    }
   ],
   "source": [
    "imputer2 = SimpleImputer(strategy=\"median\")\n",
    "numarical_x=imputer2.fit_transform(data[numerical])\n",
    "numarical_x"
   ]
  },
  {
   "cell_type": "markdown",
   "id": "bb831095",
   "metadata": {},
   "source": [
    "I will convert all the steps I did above into a single transformer. This is something that I showed in my linear regression notebooks that's why, I won't talk about making our own transformers but I will explain the code.\n",
    "\n",
    "1. **__init__:**\n",
    "Here I use `splitdate()` function and get names of categorical and numerical features in our dataset. The only thing that I didn't show above in this code is numerical_int64 variable. When we split our Date into Year/Month/Day columns, all of these columns have int64 data type. I here select them seperately, I could use one variable to find all the numerical features but I didn't. you can do it if you'd like :)\n",
    "2. **transform:** \n",
    "The first four lines of codes are the same as the one I used above. Apart from that, the other codes are for concataneting arrays and converting it to dataframe."
   ]
  },
  {
   "cell_type": "code",
   "execution_count": 11,
   "id": "b5c39e80",
   "metadata": {},
   "outputs": [],
   "source": [
    "from sklearn.base import BaseEstimator, TransformerMixin\n",
    "\n",
    "class Convert_Missing(BaseEstimator, TransformerMixin):\n",
    "    def __init__(self,data): # no *args or **kargs\n",
    "        print(\"Transforming in progress...\")\n",
    "        self.data=data;\n",
    "        self.splitted_data=splitdate(data);\n",
    "        self.categorical = [features for features in self.splitted_data.columns if self.splitted_data[features].dtype==object]\n",
    "        self.numerical = [features for features in self.splitted_data.columns if self.splitted_data[features].dtype==float]\n",
    "        self.numerical_int64 = [features for features in self.splitted_data.columns if self.splitted_data[features].dtype=='int64']\n",
    "    def transform(self):\n",
    "        imputer = SimpleImputer(strategy=\"most_frequent\")\n",
    "        features_categorical=imputer.fit_transform(self.splitted_data[self.categorical])\n",
    "        imputer = SimpleImputer(strategy=\"median\")\n",
    "        features_numeric=imputer.fit_transform(self.splitted_data[self.numerical])\n",
    "        concatenated_array=np.concatenate((features_categorical,features_numeric),axis=1)#concatane arrays obtained from imputer\n",
    "        dataframe=pd.DataFrame(concatenated_array, columns=self.categorical+self.numerical) # convert it to dataframe\n",
    "        frames = [dataframe, data[self.numerical_int64]] # combining the dataframe in the previous line and date dataframe \n",
    "        final_dataframe=pd.concat(frames,axis=1)  # concataneting the two dataframes in the previous line\n",
    "        final_dataframe=final_dataframe.loc[:,~final_dataframe.columns.duplicated()]\n",
    "        print(\"Transforming completed\")\n",
    "        return final_dataframe"
   ]
  },
  {
   "cell_type": "code",
   "execution_count": 12,
   "id": "6f37e96e",
   "metadata": {},
   "outputs": [
    {
     "name": "stdout",
     "output_type": "stream",
     "text": [
      "Transforming in progress...\n",
      "Transforming completed\n"
     ]
    }
   ],
   "source": [
    "missing_transformer=Convert_Missing(data)\n",
    "data4=missing_transformer.transform()"
   ]
  },
  {
   "cell_type": "markdown",
   "id": "23e35b15",
   "metadata": {},
   "source": [
    "### One-hot encoding Categorical Features"
   ]
  },
  {
   "cell_type": "markdown",
   "id": "8f8f4bd2",
   "metadata": {},
   "source": [
    "Instead of using OneHotEncoder, I will use `get_dummies()` I find it easier when working with dataframes. Let's firstly look at how many columns we have in our dataframe."
   ]
  },
  {
   "cell_type": "code",
   "execution_count": 13,
   "id": "b6683bad",
   "metadata": {},
   "outputs": [
    {
     "data": {
      "text/plain": [
       "25"
      ]
     },
     "execution_count": 13,
     "metadata": {},
     "output_type": "execute_result"
    }
   ],
   "source": [
    "len(data4.columns)"
   ]
  },
  {
   "cell_type": "markdown",
   "id": "e3ac5e9e",
   "metadata": {},
   "source": [
    "Let's find out how many new columns we will get after one hot encoding."
   ]
  },
  {
   "cell_type": "code",
   "execution_count": 14,
   "id": "bd5e451b",
   "metadata": {},
   "outputs": [
    {
     "data": {
      "text/plain": [
       "Location        49\n",
       "WindGustDir     16\n",
       "WindDir9am      16\n",
       "WindDir3pm      16\n",
       "RainToday        2\n",
       "RainTomorrow     2\n",
       "dtype: int64"
      ]
     },
     "execution_count": 14,
     "metadata": {},
     "output_type": "execute_result"
    }
   ],
   "source": [
    "categorical = [features for features in data.columns if data[features].dtype==object]\n",
    "num_enc_cols = (data4[categorical].apply(lambda x: x.nunique()).sort_values(ascending=False))\n",
    "num_enc_cols"
   ]
  },
  {
   "cell_type": "code",
   "execution_count": 15,
   "id": "1306d525",
   "metadata": {},
   "outputs": [
    {
     "data": {
      "text/plain": [
       "101"
      ]
     },
     "execution_count": 15,
     "metadata": {},
     "output_type": "execute_result"
    }
   ],
   "source": [
    "sum(num_enc_cols)"
   ]
  },
  {
   "cell_type": "markdown",
   "id": "9efd1b87",
   "metadata": {},
   "source": [
    "We will get 101 new columns but also delete the originals ones, so we will probably have 118 columns in the end. Let's define our function that we will use for One-Hot Encoding. Here I will not encode **RainTomorrow** because I will use it as our target class and will encode that feature with `LabelEncoder()`. Moreover, I will also use LabelEncoder for RainToday as well."
   ]
  },
  {
   "cell_type": "code",
   "execution_count": 16,
   "id": "1221a17e",
   "metadata": {},
   "outputs": [],
   "source": [
    "le=LabelEncoder()\n",
    "def One_Hot_Encoder(data):\n",
    "    data=pd.concat([data[numerical],data[categorical],data[numerical_int64],pd.get_dummies(data.Location), \n",
    "                     pd.get_dummies(data.WindGustDir),\n",
    "                     pd.get_dummies(data.WindDir9am),\n",
    "                     pd.get_dummies(data.WindDir3pm)],axis=1)\n",
    "    data[\"RainToday\"]=le.fit_transform(data[\"RainToday\"])\n",
    "    data.drop(['Location','WindGustDir','WindDir9am','WindDir3pm'],axis=1,inplace=True)\n",
    "    return data;"
   ]
  },
  {
   "cell_type": "code",
   "execution_count": 17,
   "id": "d8696b3c",
   "metadata": {},
   "outputs": [],
   "source": [
    "numerical_int64 = [features for features in data4.columns if data4[features].dtype=='int64']\n",
    "data_enc=One_Hot_Encoder(data4)"
   ]
  },
  {
   "cell_type": "code",
   "execution_count": 18,
   "id": "a0b2e4a5",
   "metadata": {},
   "outputs": [
    {
     "data": {
      "text/html": [
       "<div>\n",
       "<style scoped>\n",
       "    .dataframe tbody tr th:only-of-type {\n",
       "        vertical-align: middle;\n",
       "    }\n",
       "\n",
       "    .dataframe tbody tr th {\n",
       "        vertical-align: top;\n",
       "    }\n",
       "\n",
       "    .dataframe thead th {\n",
       "        text-align: right;\n",
       "    }\n",
       "</style>\n",
       "<table border=\"1\" class=\"dataframe\">\n",
       "  <thead>\n",
       "    <tr style=\"text-align: right;\">\n",
       "      <th></th>\n",
       "      <th>MinTemp</th>\n",
       "      <th>MaxTemp</th>\n",
       "      <th>Rainfall</th>\n",
       "      <th>Evaporation</th>\n",
       "      <th>Sunshine</th>\n",
       "      <th>WindGustSpeed</th>\n",
       "      <th>WindSpeed9am</th>\n",
       "      <th>WindSpeed3pm</th>\n",
       "      <th>Humidity9am</th>\n",
       "      <th>Humidity3pm</th>\n",
       "      <th>...</th>\n",
       "      <th>NNW</th>\n",
       "      <th>NW</th>\n",
       "      <th>S</th>\n",
       "      <th>SE</th>\n",
       "      <th>SSE</th>\n",
       "      <th>SSW</th>\n",
       "      <th>SW</th>\n",
       "      <th>W</th>\n",
       "      <th>WNW</th>\n",
       "      <th>WSW</th>\n",
       "    </tr>\n",
       "  </thead>\n",
       "  <tbody>\n",
       "    <tr>\n",
       "      <th>0</th>\n",
       "      <td>13.4</td>\n",
       "      <td>22.9</td>\n",
       "      <td>0.6</td>\n",
       "      <td>4.8</td>\n",
       "      <td>8.4</td>\n",
       "      <td>44.0</td>\n",
       "      <td>20.0</td>\n",
       "      <td>24.0</td>\n",
       "      <td>71.0</td>\n",
       "      <td>22.0</td>\n",
       "      <td>...</td>\n",
       "      <td>0</td>\n",
       "      <td>0</td>\n",
       "      <td>0</td>\n",
       "      <td>0</td>\n",
       "      <td>0</td>\n",
       "      <td>0</td>\n",
       "      <td>0</td>\n",
       "      <td>0</td>\n",
       "      <td>1</td>\n",
       "      <td>0</td>\n",
       "    </tr>\n",
       "    <tr>\n",
       "      <th>1</th>\n",
       "      <td>7.4</td>\n",
       "      <td>25.1</td>\n",
       "      <td>0.0</td>\n",
       "      <td>4.8</td>\n",
       "      <td>8.4</td>\n",
       "      <td>44.0</td>\n",
       "      <td>4.0</td>\n",
       "      <td>22.0</td>\n",
       "      <td>44.0</td>\n",
       "      <td>25.0</td>\n",
       "      <td>...</td>\n",
       "      <td>0</td>\n",
       "      <td>0</td>\n",
       "      <td>0</td>\n",
       "      <td>0</td>\n",
       "      <td>0</td>\n",
       "      <td>0</td>\n",
       "      <td>0</td>\n",
       "      <td>0</td>\n",
       "      <td>0</td>\n",
       "      <td>1</td>\n",
       "    </tr>\n",
       "    <tr>\n",
       "      <th>2</th>\n",
       "      <td>12.9</td>\n",
       "      <td>25.7</td>\n",
       "      <td>0.0</td>\n",
       "      <td>4.8</td>\n",
       "      <td>8.4</td>\n",
       "      <td>46.0</td>\n",
       "      <td>19.0</td>\n",
       "      <td>26.0</td>\n",
       "      <td>38.0</td>\n",
       "      <td>30.0</td>\n",
       "      <td>...</td>\n",
       "      <td>0</td>\n",
       "      <td>0</td>\n",
       "      <td>0</td>\n",
       "      <td>0</td>\n",
       "      <td>0</td>\n",
       "      <td>0</td>\n",
       "      <td>0</td>\n",
       "      <td>0</td>\n",
       "      <td>0</td>\n",
       "      <td>1</td>\n",
       "    </tr>\n",
       "    <tr>\n",
       "      <th>3</th>\n",
       "      <td>9.2</td>\n",
       "      <td>28.0</td>\n",
       "      <td>0.0</td>\n",
       "      <td>4.8</td>\n",
       "      <td>8.4</td>\n",
       "      <td>24.0</td>\n",
       "      <td>11.0</td>\n",
       "      <td>9.0</td>\n",
       "      <td>45.0</td>\n",
       "      <td>16.0</td>\n",
       "      <td>...</td>\n",
       "      <td>0</td>\n",
       "      <td>0</td>\n",
       "      <td>0</td>\n",
       "      <td>0</td>\n",
       "      <td>0</td>\n",
       "      <td>0</td>\n",
       "      <td>0</td>\n",
       "      <td>0</td>\n",
       "      <td>0</td>\n",
       "      <td>0</td>\n",
       "    </tr>\n",
       "    <tr>\n",
       "      <th>4</th>\n",
       "      <td>17.5</td>\n",
       "      <td>32.3</td>\n",
       "      <td>1.0</td>\n",
       "      <td>4.8</td>\n",
       "      <td>8.4</td>\n",
       "      <td>41.0</td>\n",
       "      <td>7.0</td>\n",
       "      <td>20.0</td>\n",
       "      <td>82.0</td>\n",
       "      <td>33.0</td>\n",
       "      <td>...</td>\n",
       "      <td>0</td>\n",
       "      <td>1</td>\n",
       "      <td>0</td>\n",
       "      <td>0</td>\n",
       "      <td>0</td>\n",
       "      <td>0</td>\n",
       "      <td>0</td>\n",
       "      <td>0</td>\n",
       "      <td>0</td>\n",
       "      <td>0</td>\n",
       "    </tr>\n",
       "  </tbody>\n",
       "</table>\n",
       "<p>5 rows × 118 columns</p>\n",
       "</div>"
      ],
      "text/plain": [
       "  MinTemp MaxTemp Rainfall Evaporation Sunshine WindGustSpeed WindSpeed9am  \\\n",
       "0    13.4    22.9      0.6         4.8      8.4          44.0         20.0   \n",
       "1     7.4    25.1      0.0         4.8      8.4          44.0          4.0   \n",
       "2    12.9    25.7      0.0         4.8      8.4          46.0         19.0   \n",
       "3     9.2    28.0      0.0         4.8      8.4          24.0         11.0   \n",
       "4    17.5    32.3      1.0         4.8      8.4          41.0          7.0   \n",
       "\n",
       "  WindSpeed3pm Humidity9am Humidity3pm  ... NNW NW  S SE SSE SSW  SW  W  WNW  \\\n",
       "0         24.0        71.0        22.0  ...   0  0  0  0   0   0   0  0    1   \n",
       "1         22.0        44.0        25.0  ...   0  0  0  0   0   0   0  0    0   \n",
       "2         26.0        38.0        30.0  ...   0  0  0  0   0   0   0  0    0   \n",
       "3          9.0        45.0        16.0  ...   0  0  0  0   0   0   0  0    0   \n",
       "4         20.0        82.0        33.0  ...   0  1  0  0   0   0   0  0    0   \n",
       "\n",
       "   WSW  \n",
       "0    0  \n",
       "1    1  \n",
       "2    1  \n",
       "3    0  \n",
       "4    0  \n",
       "\n",
       "[5 rows x 118 columns]"
      ]
     },
     "execution_count": 18,
     "metadata": {},
     "output_type": "execute_result"
    }
   ],
   "source": [
    "data_enc.head(5)"
   ]
  },
  {
   "cell_type": "markdown",
   "id": "50f5fb7b",
   "metadata": {},
   "source": [
    "I guessed right !!!"
   ]
  },
  {
   "cell_type": "markdown",
   "id": "067a80ec",
   "metadata": {},
   "source": [
    "### Scaling Numerical Features"
   ]
  },
  {
   "cell_type": "markdown",
   "id": "be36c452",
   "metadata": {},
   "source": [
    "Now In our last step I will scale numerical features."
   ]
  },
  {
   "cell_type": "code",
   "execution_count": 19,
   "id": "19e9357b",
   "metadata": {},
   "outputs": [],
   "source": [
    "StandardScaler()\n",
    "scaler = StandardScaler()\n",
    "numerical_data = scaler.fit_transform(data_enc[numerical])"
   ]
  },
  {
   "cell_type": "code",
   "execution_count": 20,
   "id": "b15ff684",
   "metadata": {},
   "outputs": [
    {
     "data": {
      "text/plain": [
       "array([[ 0.18975691, -0.0445749 , -0.20358073, ...,  0.13769321,\n",
       "        -0.01350553,  0.0191346 ],\n",
       "       [-0.75278601,  0.26579424, -0.27509664, ...,  0.13769321,\n",
       "         0.03301131,  0.3840643 ],\n",
       "       [ 0.11121166,  0.35044037, -0.27509664, ..., -1.28629394,\n",
       "         0.62222462,  0.22349523],\n",
       "       ...,\n",
       "       [-1.06696699,  0.51973264, -0.27509664, ...,  0.13769321,\n",
       "        -0.69575252,  0.64681369],\n",
       "       [-0.68994982,  0.53384032, -0.27509664, ..., -1.28629394,\n",
       "        -0.29260657,  0.6322165 ],\n",
       "       [ 0.42539264, -0.08689797, -0.27509664, ...,  1.56168036,\n",
       "        -0.30811219, -0.11224009]])"
      ]
     },
     "execution_count": 20,
     "metadata": {},
     "output_type": "execute_result"
    }
   ],
   "source": [
    "numerical_data"
   ]
  },
  {
   "cell_type": "code",
   "execution_count": 21,
   "id": "59882ec5",
   "metadata": {},
   "outputs": [
    {
     "data": {
      "text/html": [
       "<div>\n",
       "<style scoped>\n",
       "    .dataframe tbody tr th:only-of-type {\n",
       "        vertical-align: middle;\n",
       "    }\n",
       "\n",
       "    .dataframe tbody tr th {\n",
       "        vertical-align: top;\n",
       "    }\n",
       "\n",
       "    .dataframe thead tr th {\n",
       "        text-align: left;\n",
       "    }\n",
       "</style>\n",
       "<table border=\"1\" class=\"dataframe\">\n",
       "  <thead>\n",
       "    <tr>\n",
       "      <th></th>\n",
       "      <th>MinTemp</th>\n",
       "      <th>MaxTemp</th>\n",
       "      <th>Rainfall</th>\n",
       "      <th>Evaporation</th>\n",
       "      <th>Sunshine</th>\n",
       "      <th>WindGustSpeed</th>\n",
       "      <th>WindSpeed9am</th>\n",
       "      <th>WindSpeed3pm</th>\n",
       "      <th>Humidity9am</th>\n",
       "      <th>Humidity3pm</th>\n",
       "      <th>Pressure9am</th>\n",
       "      <th>Pressure3pm</th>\n",
       "      <th>Cloud9am</th>\n",
       "      <th>Cloud3pm</th>\n",
       "      <th>Temp9am</th>\n",
       "      <th>Temp3pm</th>\n",
       "    </tr>\n",
       "  </thead>\n",
       "  <tbody>\n",
       "    <tr>\n",
       "      <th>0</th>\n",
       "      <td>0.189757</td>\n",
       "      <td>-0.044575</td>\n",
       "      <td>-0.203581</td>\n",
       "      <td>-0.119472</td>\n",
       "      <td>0.14871</td>\n",
       "      <td>0.307739</td>\n",
       "      <td>0.673596</td>\n",
       "      <td>0.611499</td>\n",
       "      <td>0.111308</td>\n",
       "      <td>-1.443652</td>\n",
       "      <td>-1.478015</td>\n",
       "      <td>-1.223012</td>\n",
       "      <td>1.464068</td>\n",
       "      <td>0.137693</td>\n",
       "      <td>-0.013506</td>\n",
       "      <td>0.019135</td>\n",
       "    </tr>\n",
       "    <tr>\n",
       "      <th>1</th>\n",
       "      <td>-0.752786</td>\n",
       "      <td>0.265794</td>\n",
       "      <td>-0.275097</td>\n",
       "      <td>-0.119472</td>\n",
       "      <td>0.14871</td>\n",
       "      <td>0.307739</td>\n",
       "      <td>-1.131913</td>\n",
       "      <td>0.382054</td>\n",
       "      <td>-1.320650</td>\n",
       "      <td>-1.297105</td>\n",
       "      <td>-1.047010</td>\n",
       "      <td>-1.117969</td>\n",
       "      <td>0.149133</td>\n",
       "      <td>0.137693</td>\n",
       "      <td>0.033011</td>\n",
       "      <td>0.384064</td>\n",
       "    </tr>\n",
       "    <tr>\n",
       "      <th>2</th>\n",
       "      <td>0.111212</td>\n",
       "      <td>0.350440</td>\n",
       "      <td>-0.275097</td>\n",
       "      <td>-0.119472</td>\n",
       "      <td>0.14871</td>\n",
       "      <td>0.460168</td>\n",
       "      <td>0.560752</td>\n",
       "      <td>0.840944</td>\n",
       "      <td>-1.638863</td>\n",
       "      <td>-1.052860</td>\n",
       "      <td>-1.492877</td>\n",
       "      <td>-0.982915</td>\n",
       "      <td>0.149133</td>\n",
       "      <td>-1.286294</td>\n",
       "      <td>0.622225</td>\n",
       "      <td>0.223495</td>\n",
       "    </tr>\n",
       "    <tr>\n",
       "      <th>3</th>\n",
       "      <td>-0.470023</td>\n",
       "      <td>0.674917</td>\n",
       "      <td>-0.275097</td>\n",
       "      <td>-0.119472</td>\n",
       "      <td>0.14871</td>\n",
       "      <td>-1.216548</td>\n",
       "      <td>-0.342003</td>\n",
       "      <td>-1.109339</td>\n",
       "      <td>-1.267615</td>\n",
       "      <td>-1.736746</td>\n",
       "      <td>-0.006653</td>\n",
       "      <td>-0.367666</td>\n",
       "      <td>0.149133</td>\n",
       "      <td>0.137693</td>\n",
       "      <td>0.172562</td>\n",
       "      <td>0.705202</td>\n",
       "    </tr>\n",
       "    <tr>\n",
       "      <th>4</th>\n",
       "      <td>0.833828</td>\n",
       "      <td>1.281548</td>\n",
       "      <td>-0.155903</td>\n",
       "      <td>-0.119472</td>\n",
       "      <td>0.14871</td>\n",
       "      <td>0.079096</td>\n",
       "      <td>-0.793380</td>\n",
       "      <td>0.152609</td>\n",
       "      <td>0.694699</td>\n",
       "      <td>-0.906314</td>\n",
       "      <td>-1.017286</td>\n",
       "      <td>-1.388078</td>\n",
       "      <td>1.025756</td>\n",
       "      <td>1.561680</td>\n",
       "      <td>0.126045</td>\n",
       "      <td>1.172312</td>\n",
       "    </tr>\n",
       "  </tbody>\n",
       "</table>\n",
       "</div>"
      ],
      "text/plain": [
       "    MinTemp   MaxTemp  Rainfall Evaporation Sunshine WindGustSpeed  \\\n",
       "0  0.189757 -0.044575 -0.203581   -0.119472  0.14871      0.307739   \n",
       "1 -0.752786  0.265794 -0.275097   -0.119472  0.14871      0.307739   \n",
       "2  0.111212  0.350440 -0.275097   -0.119472  0.14871      0.460168   \n",
       "3 -0.470023  0.674917 -0.275097   -0.119472  0.14871     -1.216548   \n",
       "4  0.833828  1.281548 -0.155903   -0.119472  0.14871      0.079096   \n",
       "\n",
       "  WindSpeed9am WindSpeed3pm Humidity9am Humidity3pm Pressure9am Pressure3pm  \\\n",
       "0     0.673596     0.611499    0.111308   -1.443652   -1.478015   -1.223012   \n",
       "1    -1.131913     0.382054   -1.320650   -1.297105   -1.047010   -1.117969   \n",
       "2     0.560752     0.840944   -1.638863   -1.052860   -1.492877   -0.982915   \n",
       "3    -0.342003    -1.109339   -1.267615   -1.736746   -0.006653   -0.367666   \n",
       "4    -0.793380     0.152609    0.694699   -0.906314   -1.017286   -1.388078   \n",
       "\n",
       "   Cloud9am  Cloud3pm   Temp9am   Temp3pm  \n",
       "0  1.464068  0.137693 -0.013506  0.019135  \n",
       "1  0.149133  0.137693  0.033011  0.384064  \n",
       "2  0.149133 -1.286294  0.622225  0.223495  \n",
       "3  0.149133  0.137693  0.172562  0.705202  \n",
       "4  1.025756  1.561680  0.126045  1.172312  "
      ]
     },
     "execution_count": 21,
     "metadata": {},
     "output_type": "execute_result"
    }
   ],
   "source": [
    "numerical_data = pd.DataFrame(numerical_data, columns=[numerical])\n",
    "numerical_data.head(5)"
   ]
  },
  {
   "cell_type": "markdown",
   "id": "fab0028d",
   "metadata": {},
   "source": [
    "Let's drop numerical columns from our original dataframe so that we can add the scaled ones."
   ]
  },
  {
   "cell_type": "code",
   "execution_count": 22,
   "id": "8a2450ec",
   "metadata": {},
   "outputs": [],
   "source": [
    "data_enc.drop(numerical,axis=1,inplace=True)"
   ]
  },
  {
   "cell_type": "markdown",
   "id": "193738da",
   "metadata": {},
   "source": [
    "I will use `concat()` function from Pandas to merge the two DataFrames."
   ]
  },
  {
   "cell_type": "code",
   "execution_count": 23,
   "id": "77db7d69",
   "metadata": {},
   "outputs": [],
   "source": [
    "data_processed=pd.concat([numerical_data, data_enc],axis=1) "
   ]
  },
  {
   "cell_type": "code",
   "execution_count": 24,
   "id": "cc13b440",
   "metadata": {},
   "outputs": [
    {
     "data": {
      "text/html": [
       "<div>\n",
       "<style scoped>\n",
       "    .dataframe tbody tr th:only-of-type {\n",
       "        vertical-align: middle;\n",
       "    }\n",
       "\n",
       "    .dataframe tbody tr th {\n",
       "        vertical-align: top;\n",
       "    }\n",
       "\n",
       "    .dataframe thead th {\n",
       "        text-align: right;\n",
       "    }\n",
       "</style>\n",
       "<table border=\"1\" class=\"dataframe\">\n",
       "  <thead>\n",
       "    <tr style=\"text-align: right;\">\n",
       "      <th></th>\n",
       "      <th>(MinTemp,)</th>\n",
       "      <th>(MaxTemp,)</th>\n",
       "      <th>(Rainfall,)</th>\n",
       "      <th>(Evaporation,)</th>\n",
       "      <th>(Sunshine,)</th>\n",
       "      <th>(WindGustSpeed,)</th>\n",
       "      <th>(WindSpeed9am,)</th>\n",
       "      <th>(WindSpeed3pm,)</th>\n",
       "      <th>(Humidity9am,)</th>\n",
       "      <th>(Humidity3pm,)</th>\n",
       "      <th>...</th>\n",
       "      <th>NNW</th>\n",
       "      <th>NW</th>\n",
       "      <th>S</th>\n",
       "      <th>SE</th>\n",
       "      <th>SSE</th>\n",
       "      <th>SSW</th>\n",
       "      <th>SW</th>\n",
       "      <th>W</th>\n",
       "      <th>WNW</th>\n",
       "      <th>WSW</th>\n",
       "    </tr>\n",
       "  </thead>\n",
       "  <tbody>\n",
       "    <tr>\n",
       "      <th>0</th>\n",
       "      <td>0.189757</td>\n",
       "      <td>-0.044575</td>\n",
       "      <td>-0.203581</td>\n",
       "      <td>-0.119472</td>\n",
       "      <td>0.14871</td>\n",
       "      <td>0.307739</td>\n",
       "      <td>0.673596</td>\n",
       "      <td>0.611499</td>\n",
       "      <td>0.111308</td>\n",
       "      <td>-1.443652</td>\n",
       "      <td>...</td>\n",
       "      <td>0</td>\n",
       "      <td>0</td>\n",
       "      <td>0</td>\n",
       "      <td>0</td>\n",
       "      <td>0</td>\n",
       "      <td>0</td>\n",
       "      <td>0</td>\n",
       "      <td>0</td>\n",
       "      <td>1</td>\n",
       "      <td>0</td>\n",
       "    </tr>\n",
       "    <tr>\n",
       "      <th>1</th>\n",
       "      <td>-0.752786</td>\n",
       "      <td>0.265794</td>\n",
       "      <td>-0.275097</td>\n",
       "      <td>-0.119472</td>\n",
       "      <td>0.14871</td>\n",
       "      <td>0.307739</td>\n",
       "      <td>-1.131913</td>\n",
       "      <td>0.382054</td>\n",
       "      <td>-1.320650</td>\n",
       "      <td>-1.297105</td>\n",
       "      <td>...</td>\n",
       "      <td>0</td>\n",
       "      <td>0</td>\n",
       "      <td>0</td>\n",
       "      <td>0</td>\n",
       "      <td>0</td>\n",
       "      <td>0</td>\n",
       "      <td>0</td>\n",
       "      <td>0</td>\n",
       "      <td>0</td>\n",
       "      <td>1</td>\n",
       "    </tr>\n",
       "    <tr>\n",
       "      <th>2</th>\n",
       "      <td>0.111212</td>\n",
       "      <td>0.350440</td>\n",
       "      <td>-0.275097</td>\n",
       "      <td>-0.119472</td>\n",
       "      <td>0.14871</td>\n",
       "      <td>0.460168</td>\n",
       "      <td>0.560752</td>\n",
       "      <td>0.840944</td>\n",
       "      <td>-1.638863</td>\n",
       "      <td>-1.052860</td>\n",
       "      <td>...</td>\n",
       "      <td>0</td>\n",
       "      <td>0</td>\n",
       "      <td>0</td>\n",
       "      <td>0</td>\n",
       "      <td>0</td>\n",
       "      <td>0</td>\n",
       "      <td>0</td>\n",
       "      <td>0</td>\n",
       "      <td>0</td>\n",
       "      <td>1</td>\n",
       "    </tr>\n",
       "    <tr>\n",
       "      <th>3</th>\n",
       "      <td>-0.470023</td>\n",
       "      <td>0.674917</td>\n",
       "      <td>-0.275097</td>\n",
       "      <td>-0.119472</td>\n",
       "      <td>0.14871</td>\n",
       "      <td>-1.216548</td>\n",
       "      <td>-0.342003</td>\n",
       "      <td>-1.109339</td>\n",
       "      <td>-1.267615</td>\n",
       "      <td>-1.736746</td>\n",
       "      <td>...</td>\n",
       "      <td>0</td>\n",
       "      <td>0</td>\n",
       "      <td>0</td>\n",
       "      <td>0</td>\n",
       "      <td>0</td>\n",
       "      <td>0</td>\n",
       "      <td>0</td>\n",
       "      <td>0</td>\n",
       "      <td>0</td>\n",
       "      <td>0</td>\n",
       "    </tr>\n",
       "    <tr>\n",
       "      <th>4</th>\n",
       "      <td>0.833828</td>\n",
       "      <td>1.281548</td>\n",
       "      <td>-0.155903</td>\n",
       "      <td>-0.119472</td>\n",
       "      <td>0.14871</td>\n",
       "      <td>0.079096</td>\n",
       "      <td>-0.793380</td>\n",
       "      <td>0.152609</td>\n",
       "      <td>0.694699</td>\n",
       "      <td>-0.906314</td>\n",
       "      <td>...</td>\n",
       "      <td>0</td>\n",
       "      <td>1</td>\n",
       "      <td>0</td>\n",
       "      <td>0</td>\n",
       "      <td>0</td>\n",
       "      <td>0</td>\n",
       "      <td>0</td>\n",
       "      <td>0</td>\n",
       "      <td>0</td>\n",
       "      <td>0</td>\n",
       "    </tr>\n",
       "    <tr>\n",
       "      <th>...</th>\n",
       "      <td>...</td>\n",
       "      <td>...</td>\n",
       "      <td>...</td>\n",
       "      <td>...</td>\n",
       "      <td>...</td>\n",
       "      <td>...</td>\n",
       "      <td>...</td>\n",
       "      <td>...</td>\n",
       "      <td>...</td>\n",
       "      <td>...</td>\n",
       "      <td>...</td>\n",
       "      <td>...</td>\n",
       "      <td>...</td>\n",
       "      <td>...</td>\n",
       "      <td>...</td>\n",
       "      <td>...</td>\n",
       "      <td>...</td>\n",
       "      <td>...</td>\n",
       "      <td>...</td>\n",
       "      <td>...</td>\n",
       "      <td>...</td>\n",
       "    </tr>\n",
       "    <tr>\n",
       "      <th>145455</th>\n",
       "      <td>-1.475402</td>\n",
       "      <td>0.025964</td>\n",
       "      <td>-0.275097</td>\n",
       "      <td>-0.119472</td>\n",
       "      <td>0.14871</td>\n",
       "      <td>-0.683048</td>\n",
       "      <td>-0.116314</td>\n",
       "      <td>-0.879894</td>\n",
       "      <td>-0.949402</td>\n",
       "      <td>-1.345954</td>\n",
       "      <td>...</td>\n",
       "      <td>0</td>\n",
       "      <td>0</td>\n",
       "      <td>0</td>\n",
       "      <td>0</td>\n",
       "      <td>0</td>\n",
       "      <td>0</td>\n",
       "      <td>0</td>\n",
       "      <td>0</td>\n",
       "      <td>0</td>\n",
       "      <td>0</td>\n",
       "    </tr>\n",
       "    <tr>\n",
       "      <th>145456</th>\n",
       "      <td>-1.349730</td>\n",
       "      <td>0.294010</td>\n",
       "      <td>-0.275097</td>\n",
       "      <td>-0.119472</td>\n",
       "      <td>0.14871</td>\n",
       "      <td>-1.368977</td>\n",
       "      <td>-0.116314</td>\n",
       "      <td>-1.109339</td>\n",
       "      <td>-0.684224</td>\n",
       "      <td>-1.492501</td>\n",
       "      <td>...</td>\n",
       "      <td>0</td>\n",
       "      <td>0</td>\n",
       "      <td>0</td>\n",
       "      <td>0</td>\n",
       "      <td>0</td>\n",
       "      <td>0</td>\n",
       "      <td>0</td>\n",
       "      <td>0</td>\n",
       "      <td>0</td>\n",
       "      <td>0</td>\n",
       "    </tr>\n",
       "    <tr>\n",
       "      <th>145457</th>\n",
       "      <td>-1.066967</td>\n",
       "      <td>0.519733</td>\n",
       "      <td>-0.275097</td>\n",
       "      <td>-0.119472</td>\n",
       "      <td>0.14871</td>\n",
       "      <td>-0.225761</td>\n",
       "      <td>-0.567692</td>\n",
       "      <td>-1.109339</td>\n",
       "      <td>-0.843331</td>\n",
       "      <td>-1.345954</td>\n",
       "      <td>...</td>\n",
       "      <td>0</td>\n",
       "      <td>0</td>\n",
       "      <td>0</td>\n",
       "      <td>0</td>\n",
       "      <td>0</td>\n",
       "      <td>0</td>\n",
       "      <td>0</td>\n",
       "      <td>0</td>\n",
       "      <td>1</td>\n",
       "      <td>0</td>\n",
       "    </tr>\n",
       "    <tr>\n",
       "      <th>145458</th>\n",
       "      <td>-0.689950</td>\n",
       "      <td>0.533840</td>\n",
       "      <td>-0.275097</td>\n",
       "      <td>-0.119472</td>\n",
       "      <td>0.14871</td>\n",
       "      <td>-0.911691</td>\n",
       "      <td>-0.116314</td>\n",
       "      <td>-1.338784</td>\n",
       "      <td>-0.949402</td>\n",
       "      <td>-1.345954</td>\n",
       "      <td>...</td>\n",
       "      <td>0</td>\n",
       "      <td>0</td>\n",
       "      <td>0</td>\n",
       "      <td>0</td>\n",
       "      <td>0</td>\n",
       "      <td>0</td>\n",
       "      <td>0</td>\n",
       "      <td>0</td>\n",
       "      <td>0</td>\n",
       "      <td>0</td>\n",
       "    </tr>\n",
       "    <tr>\n",
       "      <th>145459</th>\n",
       "      <td>0.425393</td>\n",
       "      <td>-0.086898</td>\n",
       "      <td>-0.275097</td>\n",
       "      <td>-0.119472</td>\n",
       "      <td>0.14871</td>\n",
       "      <td>-0.073333</td>\n",
       "      <td>0.335063</td>\n",
       "      <td>-0.191559</td>\n",
       "      <td>-0.366011</td>\n",
       "      <td>-0.759767</td>\n",
       "      <td>...</td>\n",
       "      <td>0</td>\n",
       "      <td>0</td>\n",
       "      <td>0</td>\n",
       "      <td>0</td>\n",
       "      <td>0</td>\n",
       "      <td>0</td>\n",
       "      <td>0</td>\n",
       "      <td>0</td>\n",
       "      <td>0</td>\n",
       "      <td>0</td>\n",
       "    </tr>\n",
       "  </tbody>\n",
       "</table>\n",
       "<p>145460 rows × 118 columns</p>\n",
       "</div>"
      ],
      "text/plain": [
       "        (MinTemp,)  (MaxTemp,)  (Rainfall,)  (Evaporation,)  (Sunshine,)  \\\n",
       "0         0.189757   -0.044575    -0.203581       -0.119472      0.14871   \n",
       "1        -0.752786    0.265794    -0.275097       -0.119472      0.14871   \n",
       "2         0.111212    0.350440    -0.275097       -0.119472      0.14871   \n",
       "3        -0.470023    0.674917    -0.275097       -0.119472      0.14871   \n",
       "4         0.833828    1.281548    -0.155903       -0.119472      0.14871   \n",
       "...            ...         ...          ...             ...          ...   \n",
       "145455   -1.475402    0.025964    -0.275097       -0.119472      0.14871   \n",
       "145456   -1.349730    0.294010    -0.275097       -0.119472      0.14871   \n",
       "145457   -1.066967    0.519733    -0.275097       -0.119472      0.14871   \n",
       "145458   -0.689950    0.533840    -0.275097       -0.119472      0.14871   \n",
       "145459    0.425393   -0.086898    -0.275097       -0.119472      0.14871   \n",
       "\n",
       "        (WindGustSpeed,)  (WindSpeed9am,)  (WindSpeed3pm,)  (Humidity9am,)  \\\n",
       "0               0.307739         0.673596         0.611499        0.111308   \n",
       "1               0.307739        -1.131913         0.382054       -1.320650   \n",
       "2               0.460168         0.560752         0.840944       -1.638863   \n",
       "3              -1.216548        -0.342003        -1.109339       -1.267615   \n",
       "4               0.079096        -0.793380         0.152609        0.694699   \n",
       "...                  ...              ...              ...             ...   \n",
       "145455         -0.683048        -0.116314        -0.879894       -0.949402   \n",
       "145456         -1.368977        -0.116314        -1.109339       -0.684224   \n",
       "145457         -0.225761        -0.567692        -1.109339       -0.843331   \n",
       "145458         -0.911691        -0.116314        -1.338784       -0.949402   \n",
       "145459         -0.073333         0.335063        -0.191559       -0.366011   \n",
       "\n",
       "        (Humidity3pm,)  ...  NNW  NW  S  SE  SSE  SSW  SW  W  WNW  WSW  \n",
       "0            -1.443652  ...    0   0  0   0    0    0   0  0    1    0  \n",
       "1            -1.297105  ...    0   0  0   0    0    0   0  0    0    1  \n",
       "2            -1.052860  ...    0   0  0   0    0    0   0  0    0    1  \n",
       "3            -1.736746  ...    0   0  0   0    0    0   0  0    0    0  \n",
       "4            -0.906314  ...    0   1  0   0    0    0   0  0    0    0  \n",
       "...                ...  ...  ...  .. ..  ..  ...  ...  .. ..  ...  ...  \n",
       "145455       -1.345954  ...    0   0  0   0    0    0   0  0    0    0  \n",
       "145456       -1.492501  ...    0   0  0   0    0    0   0  0    0    0  \n",
       "145457       -1.345954  ...    0   0  0   0    0    0   0  0    1    0  \n",
       "145458       -1.345954  ...    0   0  0   0    0    0   0  0    0    0  \n",
       "145459       -0.759767  ...    0   0  0   0    0    0   0  0    0    0  \n",
       "\n",
       "[145460 rows x 118 columns]"
      ]
     },
     "execution_count": 24,
     "metadata": {},
     "output_type": "execute_result"
    }
   ],
   "source": [
    "data_processed"
   ]
  },
  {
   "cell_type": "markdown",
   "id": "98d59c66",
   "metadata": {},
   "source": [
    "Okay now let's define our own scaling function which also deals with this merging step of two dataframes."
   ]
  },
  {
   "cell_type": "code",
   "execution_count": 25,
   "id": "a52703b2",
   "metadata": {},
   "outputs": [],
   "source": [
    "def scaleandmerge(data):\n",
    "    numerical_data = scaler.fit_transform(data[numerical])\n",
    "    numerical_data = pd.DataFrame(numerical_data, columns=[numerical])\n",
    "    data.drop(numerical,axis=1,inplace=True)\n",
    "    data_processed=pd.concat([numerical_data, data],axis=1) \n",
    "    return data_processed"
   ]
  },
  {
   "cell_type": "markdown",
   "id": "6c306309",
   "metadata": {},
   "source": [
    "To try out the function, let's get a clear copy of the dataframe."
   ]
  },
  {
   "cell_type": "code",
   "execution_count": 26,
   "id": "1d040c49",
   "metadata": {},
   "outputs": [],
   "source": [
    "data_enc=One_Hot_Encoder(data4)"
   ]
  },
  {
   "cell_type": "markdown",
   "id": "ca2fc53f",
   "metadata": {},
   "source": [
    "Let's apply our function"
   ]
  },
  {
   "cell_type": "code",
   "execution_count": 27,
   "id": "f0e2d14b",
   "metadata": {},
   "outputs": [
    {
     "name": "stderr",
     "output_type": "stream",
     "text": [
      "C:\\Users\\gorke\\anaconda3\\lib\\site-packages\\pandas\\core\\frame.py:4308: SettingWithCopyWarning: \n",
      "A value is trying to be set on a copy of a slice from a DataFrame\n",
      "\n",
      "See the caveats in the documentation: https://pandas.pydata.org/pandas-docs/stable/user_guide/indexing.html#returning-a-view-versus-a-copy\n",
      "  return super().drop(\n"
     ]
    }
   ],
   "source": [
    "data_processed=scaleandmerge(data_enc[numerical])"
   ]
  },
  {
   "cell_type": "code",
   "execution_count": 28,
   "id": "8474d633",
   "metadata": {},
   "outputs": [
    {
     "data": {
      "text/html": [
       "<div>\n",
       "<style scoped>\n",
       "    .dataframe tbody tr th:only-of-type {\n",
       "        vertical-align: middle;\n",
       "    }\n",
       "\n",
       "    .dataframe tbody tr th {\n",
       "        vertical-align: top;\n",
       "    }\n",
       "\n",
       "    .dataframe thead tr th {\n",
       "        text-align: left;\n",
       "    }\n",
       "</style>\n",
       "<table border=\"1\" class=\"dataframe\">\n",
       "  <thead>\n",
       "    <tr>\n",
       "      <th></th>\n",
       "      <th>MinTemp</th>\n",
       "      <th>MaxTemp</th>\n",
       "      <th>Rainfall</th>\n",
       "      <th>Evaporation</th>\n",
       "      <th>Sunshine</th>\n",
       "      <th>WindGustSpeed</th>\n",
       "      <th>WindSpeed9am</th>\n",
       "      <th>WindSpeed3pm</th>\n",
       "      <th>Humidity9am</th>\n",
       "      <th>Humidity3pm</th>\n",
       "      <th>Pressure9am</th>\n",
       "      <th>Pressure3pm</th>\n",
       "      <th>Cloud9am</th>\n",
       "      <th>Cloud3pm</th>\n",
       "      <th>Temp9am</th>\n",
       "      <th>Temp3pm</th>\n",
       "    </tr>\n",
       "  </thead>\n",
       "  <tbody>\n",
       "    <tr>\n",
       "      <th>0</th>\n",
       "      <td>0.189757</td>\n",
       "      <td>-0.044575</td>\n",
       "      <td>-0.203581</td>\n",
       "      <td>-0.119472</td>\n",
       "      <td>0.14871</td>\n",
       "      <td>0.307739</td>\n",
       "      <td>0.673596</td>\n",
       "      <td>0.611499</td>\n",
       "      <td>0.111308</td>\n",
       "      <td>-1.443652</td>\n",
       "      <td>-1.478015</td>\n",
       "      <td>-1.223012</td>\n",
       "      <td>1.464068</td>\n",
       "      <td>0.137693</td>\n",
       "      <td>-0.013506</td>\n",
       "      <td>0.019135</td>\n",
       "    </tr>\n",
       "    <tr>\n",
       "      <th>1</th>\n",
       "      <td>-0.752786</td>\n",
       "      <td>0.265794</td>\n",
       "      <td>-0.275097</td>\n",
       "      <td>-0.119472</td>\n",
       "      <td>0.14871</td>\n",
       "      <td>0.307739</td>\n",
       "      <td>-1.131913</td>\n",
       "      <td>0.382054</td>\n",
       "      <td>-1.320650</td>\n",
       "      <td>-1.297105</td>\n",
       "      <td>-1.047010</td>\n",
       "      <td>-1.117969</td>\n",
       "      <td>0.149133</td>\n",
       "      <td>0.137693</td>\n",
       "      <td>0.033011</td>\n",
       "      <td>0.384064</td>\n",
       "    </tr>\n",
       "    <tr>\n",
       "      <th>2</th>\n",
       "      <td>0.111212</td>\n",
       "      <td>0.350440</td>\n",
       "      <td>-0.275097</td>\n",
       "      <td>-0.119472</td>\n",
       "      <td>0.14871</td>\n",
       "      <td>0.460168</td>\n",
       "      <td>0.560752</td>\n",
       "      <td>0.840944</td>\n",
       "      <td>-1.638863</td>\n",
       "      <td>-1.052860</td>\n",
       "      <td>-1.492877</td>\n",
       "      <td>-0.982915</td>\n",
       "      <td>0.149133</td>\n",
       "      <td>-1.286294</td>\n",
       "      <td>0.622225</td>\n",
       "      <td>0.223495</td>\n",
       "    </tr>\n",
       "    <tr>\n",
       "      <th>3</th>\n",
       "      <td>-0.470023</td>\n",
       "      <td>0.674917</td>\n",
       "      <td>-0.275097</td>\n",
       "      <td>-0.119472</td>\n",
       "      <td>0.14871</td>\n",
       "      <td>-1.216548</td>\n",
       "      <td>-0.342003</td>\n",
       "      <td>-1.109339</td>\n",
       "      <td>-1.267615</td>\n",
       "      <td>-1.736746</td>\n",
       "      <td>-0.006653</td>\n",
       "      <td>-0.367666</td>\n",
       "      <td>0.149133</td>\n",
       "      <td>0.137693</td>\n",
       "      <td>0.172562</td>\n",
       "      <td>0.705202</td>\n",
       "    </tr>\n",
       "    <tr>\n",
       "      <th>4</th>\n",
       "      <td>0.833828</td>\n",
       "      <td>1.281548</td>\n",
       "      <td>-0.155903</td>\n",
       "      <td>-0.119472</td>\n",
       "      <td>0.14871</td>\n",
       "      <td>0.079096</td>\n",
       "      <td>-0.793380</td>\n",
       "      <td>0.152609</td>\n",
       "      <td>0.694699</td>\n",
       "      <td>-0.906314</td>\n",
       "      <td>-1.017286</td>\n",
       "      <td>-1.388078</td>\n",
       "      <td>1.025756</td>\n",
       "      <td>1.561680</td>\n",
       "      <td>0.126045</td>\n",
       "      <td>1.172312</td>\n",
       "    </tr>\n",
       "  </tbody>\n",
       "</table>\n",
       "</div>"
      ],
      "text/plain": [
       "    MinTemp   MaxTemp  Rainfall Evaporation Sunshine WindGustSpeed  \\\n",
       "0  0.189757 -0.044575 -0.203581   -0.119472  0.14871      0.307739   \n",
       "1 -0.752786  0.265794 -0.275097   -0.119472  0.14871      0.307739   \n",
       "2  0.111212  0.350440 -0.275097   -0.119472  0.14871      0.460168   \n",
       "3 -0.470023  0.674917 -0.275097   -0.119472  0.14871     -1.216548   \n",
       "4  0.833828  1.281548 -0.155903   -0.119472  0.14871      0.079096   \n",
       "\n",
       "  WindSpeed9am WindSpeed3pm Humidity9am Humidity3pm Pressure9am Pressure3pm  \\\n",
       "0     0.673596     0.611499    0.111308   -1.443652   -1.478015   -1.223012   \n",
       "1    -1.131913     0.382054   -1.320650   -1.297105   -1.047010   -1.117969   \n",
       "2     0.560752     0.840944   -1.638863   -1.052860   -1.492877   -0.982915   \n",
       "3    -0.342003    -1.109339   -1.267615   -1.736746   -0.006653   -0.367666   \n",
       "4    -0.793380     0.152609    0.694699   -0.906314   -1.017286   -1.388078   \n",
       "\n",
       "   Cloud9am  Cloud3pm   Temp9am   Temp3pm  \n",
       "0  1.464068  0.137693 -0.013506  0.019135  \n",
       "1  0.149133  0.137693  0.033011  0.384064  \n",
       "2  0.149133 -1.286294  0.622225  0.223495  \n",
       "3  0.149133  0.137693  0.172562  0.705202  \n",
       "4  1.025756  1.561680  0.126045  1.172312  "
      ]
     },
     "execution_count": 28,
     "metadata": {},
     "output_type": "execute_result"
    }
   ],
   "source": [
    "data_processed.head(5)"
   ]
  },
  {
   "cell_type": "markdown",
   "id": "1e235faa",
   "metadata": {},
   "source": [
    "We defined all the necessary functions that we need for preprocessing part. Now let's merge all of these function, by doing so, I will only use the function below to process the data. Basically, we can think that as I'm defining my own pipeline."
   ]
  },
  {
   "cell_type": "code",
   "execution_count": 29,
   "id": "c8fb5620",
   "metadata": {},
   "outputs": [],
   "source": [
    "def combinedprocessing(data):\n",
    "    missing_transformer=Convert_Missing(data)\n",
    "    data1=missing_transformer.transform()\n",
    "    data2=One_Hot_Encoder(data1)\n",
    "    data3=scaleandmerge(data2)\n",
    "    return data3;"
   ]
  },
  {
   "cell_type": "code",
   "execution_count": 30,
   "id": "ac764c2e",
   "metadata": {
    "scrolled": true
   },
   "outputs": [
    {
     "name": "stdout",
     "output_type": "stream",
     "text": [
      "Transforming in progress...\n",
      "Transforming completed\n"
     ]
    }
   ],
   "source": [
    "data_processed=combinedprocessing(data)"
   ]
  },
  {
   "cell_type": "markdown",
   "id": "56c416e7",
   "metadata": {},
   "source": [
    "The preprocessing part is over. Now I will use `train_test_split()` but before that, I need to get our target feature. Additionally, I will also use `LabelEncoder()` for encoding our target feature."
   ]
  },
  {
   "cell_type": "code",
   "execution_count": 31,
   "id": "f46e72be",
   "metadata": {},
   "outputs": [],
   "source": [
    "le=LabelEncoder()\n",
    "target=le.fit_transform(data_processed[\"RainTomorrow\"])\n",
    "data_processed.drop([\"RainTomorrow\"],axis=1,inplace=True) #deleting target feature from the data"
   ]
  },
  {
   "cell_type": "code",
   "execution_count": 32,
   "id": "8d5517d0",
   "metadata": {},
   "outputs": [],
   "source": [
    "from sklearn.model_selection import train_test_split\n",
    "X_train, X_test, y_train, y_test = train_test_split(data_processed, target, test_size = 0.2, random_state = 42)"
   ]
  },
  {
   "cell_type": "markdown",
   "id": "74631b68",
   "metadata": {},
   "source": [
    "Firstly, let's construct a baseline LogisticRegression model so that we can compare the results of regularization."
   ]
  },
  {
   "cell_type": "code",
   "execution_count": 33,
   "id": "8e5198cd",
   "metadata": {},
   "outputs": [],
   "source": [
    "logreg = LogisticRegression()"
   ]
  },
  {
   "cell_type": "code",
   "execution_count": 34,
   "id": "fcba97f8",
   "metadata": {},
   "outputs": [
    {
     "data": {
      "text/plain": [
       "LogisticRegression()"
      ]
     },
     "execution_count": 34,
     "metadata": {},
     "output_type": "execute_result"
    }
   ],
   "source": [
    "logreg.fit(X_train, y_train)"
   ]
  },
  {
   "cell_type": "code",
   "execution_count": 35,
   "id": "ca5e6b08",
   "metadata": {},
   "outputs": [],
   "source": [
    "y_pred_test = logreg.predict(X_test)"
   ]
  },
  {
   "cell_type": "code",
   "execution_count": 36,
   "id": "64185020",
   "metadata": {},
   "outputs": [
    {
     "name": "stdout",
     "output_type": "stream",
     "text": [
      "Model accuracy score: 0.8398\n"
     ]
    }
   ],
   "source": [
    "print('Model accuracy score: {0:0.4f}'. format(accuracy_score(y_test, y_pred_test)))"
   ]
  },
  {
   "cell_type": "markdown",
   "id": "fb9e42cb",
   "metadata": {},
   "source": [
    "Before getting on with Regularization, I want to check the balance between the two class."
   ]
  },
  {
   "cell_type": "code",
   "execution_count": 37,
   "id": "bebfae38",
   "metadata": {},
   "outputs": [
    {
     "name": "stderr",
     "output_type": "stream",
     "text": [
      "C:\\Users\\gorke\\anaconda3\\lib\\site-packages\\seaborn\\_decorators.py:36: FutureWarning: Pass the following variable as a keyword arg: x. From version 0.12, the only valid positional argument will be `data`, and passing other arguments without an explicit keyword will result in an error or misinterpretation.\n",
      "  warnings.warn(\n"
     ]
    },
    {
     "data": {
      "text/plain": [
       "<AxesSubplot:xlabel='RainTomorrow', ylabel='count'>"
      ]
     },
     "execution_count": 37,
     "metadata": {},
     "output_type": "execute_result"
    },
    {
     "data": {
      "image/png": "[encoded data removed]",
      "text/plain": [
       "<Figure size 432x288 with 1 Axes>"
      ]
     },
     "metadata": {
      "needs_background": "light"
     },
     "output_type": "display_data"
    }
   ],
   "source": [
    "sns.countplot(data[\"RainTomorrow\"])"
   ]
  },
  {
   "cell_type": "code",
   "execution_count": 38,
   "id": "8a138d6a",
   "metadata": {},
   "outputs": [
    {
     "data": {
      "text/plain": [
       "array([0, 1])"
      ]
     },
     "execution_count": 38,
     "metadata": {},
     "output_type": "execute_result"
    }
   ],
   "source": [
    "np.unique(target)"
   ]
  },
  {
   "cell_type": "markdown",
   "id": "2c0afc43",
   "metadata": {},
   "source": [
    "Okay, the target is imbalanced and there is a huge gap between the two labels. I will deal with that problem later but before that let's get back to our original topic in this notebook Regularization."
   ]
  },
  {
   "cell_type": "markdown",
   "id": "1b817147",
   "metadata": {},
   "source": [
    "### L1 Regularization"
   ]
  },
  {
   "cell_type": "markdown",
   "id": "8ab0f8e4",
   "metadata": {},
   "source": [
    "Using Regularization with logistic regression is pretty easy, you just need to specify `penalty` parameter with the regularization technique you want."
   ]
  },
  {
   "cell_type": "code",
   "execution_count": 39,
   "id": "6557454f",
   "metadata": {},
   "outputs": [],
   "source": [
    "logreg = LogisticRegression(penalty=\"l1\",solver=\"liblinear\")"
   ]
  },
  {
   "cell_type": "code",
   "execution_count": 40,
   "id": "a3db6fc5",
   "metadata": {},
   "outputs": [
    {
     "data": {
      "text/plain": [
       "LogisticRegression(penalty='l1', solver='liblinear')"
      ]
     },
     "execution_count": 40,
     "metadata": {},
     "output_type": "execute_result"
    }
   ],
   "source": [
    "logreg.fit(X_train, y_train)"
   ]
  },
  {
   "cell_type": "code",
   "execution_count": 41,
   "id": "d29b7745",
   "metadata": {},
   "outputs": [],
   "source": [
    "y_pred_test_l1 = logreg.predict(X_test)"
   ]
  },
  {
   "cell_type": "code",
   "execution_count": 42,
   "id": "bed7384e",
   "metadata": {},
   "outputs": [
    {
     "name": "stdout",
     "output_type": "stream",
     "text": [
      "Model accuracy score: 0.8477\n"
     ]
    }
   ],
   "source": [
    "print('Model accuracy score: {0:0.4f}'. format(accuracy_score(y_test, y_pred_test_l1)))"
   ]
  },
  {
   "cell_type": "markdown",
   "id": "61edbb1b",
   "metadata": {},
   "source": [
    "### L2 Regularization"
   ]
  },
  {
   "cell_type": "code",
   "execution_count": 43,
   "id": "862cd251",
   "metadata": {},
   "outputs": [],
   "source": [
    "logreg = LogisticRegression(penalty=\"l2\",solver=\"newton-cg\",max_iter=250)"
   ]
  },
  {
   "cell_type": "code",
   "execution_count": 44,
   "id": "96e8de77",
   "metadata": {},
   "outputs": [
    {
     "name": "stderr",
     "output_type": "stream",
     "text": [
      "C:\\Users\\gorke\\anaconda3\\lib\\site-packages\\scipy\\optimize\\linesearch.py:478: LineSearchWarning: The line search algorithm did not converge\n",
      "  warn('The line search algorithm did not converge', LineSearchWarning)\n",
      "C:\\Users\\gorke\\anaconda3\\lib\\site-packages\\scipy\\optimize\\linesearch.py:327: LineSearchWarning: The line search algorithm did not converge\n",
      "  warn('The line search algorithm did not converge', LineSearchWarning)\n",
      "C:\\Users\\gorke\\anaconda3\\lib\\site-packages\\scipy\\optimize\\linesearch.py:478: LineSearchWarning: The line search algorithm did not converge\n",
      "  warn('The line search algorithm did not converge', LineSearchWarning)\n",
      "C:\\Users\\gorke\\anaconda3\\lib\\site-packages\\scipy\\optimize\\linesearch.py:327: LineSearchWarning: The line search algorithm did not converge\n",
      "  warn('The line search algorithm did not converge', LineSearchWarning)\n",
      "C:\\Users\\gorke\\anaconda3\\lib\\site-packages\\scipy\\optimize\\linesearch.py:478: LineSearchWarning: The line search algorithm did not converge\n",
      "  warn('The line search algorithm did not converge', LineSearchWarning)\n",
      "C:\\Users\\gorke\\anaconda3\\lib\\site-packages\\scipy\\optimize\\linesearch.py:327: LineSearchWarning: The line search algorithm did not converge\n",
      "  warn('The line search algorithm did not converge', LineSearchWarning)\n",
      "C:\\Users\\gorke\\anaconda3\\lib\\site-packages\\scipy\\optimize\\linesearch.py:478: LineSearchWarning: The line search algorithm did not converge\n",
      "  warn('The line search algorithm did not converge', LineSearchWarning)\n",
      "C:\\Users\\gorke\\anaconda3\\lib\\site-packages\\scipy\\optimize\\linesearch.py:327: LineSearchWarning: The line search algorithm did not converge\n",
      "  warn('The line search algorithm did not converge', LineSearchWarning)\n",
      "C:\\Users\\gorke\\anaconda3\\lib\\site-packages\\scipy\\optimize\\linesearch.py:478: LineSearchWarning: The line search algorithm did not converge\n",
      "  warn('The line search algorithm did not converge', LineSearchWarning)\n",
      "C:\\Users\\gorke\\anaconda3\\lib\\site-packages\\scipy\\optimize\\linesearch.py:327: LineSearchWarning: The line search algorithm did not converge\n",
      "  warn('The line search algorithm did not converge', LineSearchWarning)\n",
      "C:\\Users\\gorke\\anaconda3\\lib\\site-packages\\scipy\\optimize\\linesearch.py:478: LineSearchWarning: The line search algorithm did not converge\n",
      "  warn('The line search algorithm did not converge', LineSearchWarning)\n",
      "C:\\Users\\gorke\\anaconda3\\lib\\site-packages\\scipy\\optimize\\linesearch.py:327: LineSearchWarning: The line search algorithm did not converge\n",
      "  warn('The line search algorithm did not converge', LineSearchWarning)\n",
      "C:\\Users\\gorke\\anaconda3\\lib\\site-packages\\scipy\\optimize\\linesearch.py:478: LineSearchWarning: The line search algorithm did not converge\n",
      "  warn('The line search algorithm did not converge', LineSearchWarning)\n",
      "C:\\Users\\gorke\\anaconda3\\lib\\site-packages\\scipy\\optimize\\linesearch.py:327: LineSearchWarning: The line search algorithm did not converge\n",
      "  warn('The line search algorithm did not converge', LineSearchWarning)\n",
      "C:\\Users\\gorke\\anaconda3\\lib\\site-packages\\scipy\\optimize\\linesearch.py:437: LineSearchWarning: Rounding errors prevent the line search from converging\n",
      "  warn(msg, LineSearchWarning)\n",
      "C:\\Users\\gorke\\anaconda3\\lib\\site-packages\\scipy\\optimize\\linesearch.py:327: LineSearchWarning: The line search algorithm did not converge\n",
      "  warn('The line search algorithm did not converge', LineSearchWarning)\n"
     ]
    },
    {
     "data": {
      "text/plain": [
       "LogisticRegression(max_iter=250, solver='newton-cg')"
      ]
     },
     "execution_count": 44,
     "metadata": {},
     "output_type": "execute_result"
    }
   ],
   "source": [
    "logreg.fit(X_train, y_train)"
   ]
  },
  {
   "cell_type": "code",
   "execution_count": 45,
   "id": "5448d15a",
   "metadata": {},
   "outputs": [],
   "source": [
    "y_pred_test_l2 = logreg.predict(X_test)"
   ]
  },
  {
   "cell_type": "code",
   "execution_count": 46,
   "id": "b25a46fb",
   "metadata": {},
   "outputs": [
    {
     "name": "stdout",
     "output_type": "stream",
     "text": [
      "Model accuracy score: 0.8478\n"
     ]
    }
   ],
   "source": [
    "print('Model accuracy score: {0:0.4f}'. format(accuracy_score(y_test, y_pred_test_l2)))"
   ]
  },
  {
   "cell_type": "markdown",
   "id": "e39d9564",
   "metadata": {},
   "source": [
    "### Elastic Net"
   ]
  },
  {
   "cell_type": "code",
   "execution_count": 47,
   "id": "24ae0ead",
   "metadata": {},
   "outputs": [],
   "source": [
    "logreg = LogisticRegression(penalty=\"elasticnet\",solver=\"saga\",l1_ratio=0.5)"
   ]
  },
  {
   "cell_type": "code",
   "execution_count": 48,
   "id": "6f5e99ab",
   "metadata": {},
   "outputs": [
    {
     "data": {
      "text/plain": [
       "LogisticRegression(l1_ratio=0.5, penalty='elasticnet', solver='saga')"
      ]
     },
     "execution_count": 48,
     "metadata": {},
     "output_type": "execute_result"
    }
   ],
   "source": [
    "logreg.fit(X_train, y_train)"
   ]
  },
  {
   "cell_type": "code",
   "execution_count": 49,
   "id": "03966293",
   "metadata": {},
   "outputs": [],
   "source": [
    "y_pred_test_en = logreg.predict(X_test)"
   ]
  },
  {
   "cell_type": "code",
   "execution_count": 50,
   "id": "17f56657",
   "metadata": {},
   "outputs": [
    {
     "name": "stdout",
     "output_type": "stream",
     "text": [
      "Model accuracy score: 0.8301\n"
     ]
    }
   ],
   "source": [
    "print('Model accuracy score: {0:0.4f}'. format(accuracy_score(y_test, y_pred_test_en)))"
   ]
  },
  {
   "cell_type": "markdown",
   "id": "fc620686",
   "metadata": {},
   "source": [
    "When we look at accuracy it looks like L1 and L2 regularization both improves the performance compared to our baseline model, whereas, Elastic Net does not. Moreover, keep in mind that accuracy may deceive us in this case because we have a highly-imbalanced target."
   ]
  },
  {
   "cell_type": "markdown",
   "id": "b4851522",
   "metadata": {},
   "source": [
    "Let's plot confusion matrix of all of these models."
   ]
  },
  {
   "cell_type": "code",
   "execution_count": 51,
   "id": "09171d40",
   "metadata": {},
   "outputs": [],
   "source": [
    "def plot_confusion(y,y_pred):\n",
    "    if isinstance(y_pred, (np.ndarray)):\n",
    "        plt.figure(figsize=(10, 7))\n",
    "        cm=confusion_matrix(y, y_pred)\n",
    "        \n",
    "        plt.figure(figsize=(10, 7))\n",
    "        group_names =['TN','FS','FN','TP']\n",
    "        \n",
    "        group_counts = ['{0:0.0f}'.format(value) for value in cm.flatten()]\n",
    "        group_percentages = ['{0:.2%}'.format(value) for value in cm.flatten()/np.sum(cm)]\n",
    "\n",
    "        labels = [f'{v1}\\n\\n{v2}\\n{v3}' for v1, v2, v3 in zip(group_names,group_counts,group_percentages)]\n",
    "        labels = np.asarray(labels).reshape(2,2)\n",
    "    \n",
    "        sns.heatmap(cm, annot=labels, fmt='', cmap='mako',annot_kws={\"fontsize\":20})\n",
    "\n",
    "    else:\n",
    "        \n",
    "        f, axes = plt.subplots(1, 3,figsize=(18,5))\n",
    "        for i in range(3):\n",
    "            cm=confusion_matrix(y, y_pred[i])\n",
    "            plt.figure(figsize=(10, 7))\n",
    "            group_names =['TN','FS','FN','TP']\n",
    "            group_counts = ['{0:0.0f}'.format(value) for value in cm.flatten()]\n",
    "            group_percentages = ['{0:.2%}'.format(value) for value in cm.flatten()/np.sum(cm)]\n",
    "            labels = [f'{v1}\\n\\n{v2}\\n{v3}' for v1, v2, v3 in zip(group_names,group_counts,group_percentages)]\n",
    "            labels = np.asarray(labels).reshape(2,2)\n",
    "            sns.heatmap(cm, annot=labels, fmt='', cmap='mako',annot_kws={\"fontsize\":20},ax=axes[i])"
   ]
  },
  {
   "cell_type": "code",
   "execution_count": 52,
   "id": "eb294aae",
   "metadata": {},
   "outputs": [
    {
     "data": {
      "image/png": "[encoded data removed]",
      "text/plain": [
       "<Figure size 1296x360 with 6 Axes>"
      ]
     },
     "metadata": {
      "needs_background": "light"
     },
     "output_type": "display_data"
    },
    {
     "data": {
      "text/plain": [
       "<Figure size 720x504 with 0 Axes>"
      ]
     },
     "metadata": {},
     "output_type": "display_data"
    },
    {
     "data": {
      "text/plain": [
       "<Figure size 720x504 with 0 Axes>"
      ]
     },
     "metadata": {},
     "output_type": "display_data"
    },
    {
     "data": {
      "text/plain": [
       "<Figure size 720x504 with 0 Axes>"
      ]
     },
     "metadata": {},
     "output_type": "display_data"
    }
   ],
   "source": [
    "plot_confusion(y_test, [y_pred_test_l1,y_pred_test_l2,y_pred_test_en])"
   ]
  },
  {
   "cell_type": "markdown",
   "id": "a2ab10df",
   "metadata": {},
   "source": [
    "Let's also use Precision Recall Curve"
   ]
  },
  {
   "cell_type": "code",
   "execution_count": 53,
   "id": "bf38e047",
   "metadata": {},
   "outputs": [],
   "source": [
    "def plot_precisionvsrecall(y,y_pred):\n",
    "    if isinstance(y_pred, (np.ndarray)):\n",
    "        plt.figure(figsize=(10, 7))\n",
    "        precisions, recalls, thresholds = precision_recall_curve(y, y_pred)\n",
    "        sns.set_style(\"darkgrid\")\n",
    "        ax=sns.lineplot(x=precisions, y=recalls ,linewidth = 2)\n",
    "        ax.set_xlabel(\"Precision\",fontsize=15)\n",
    "        ax.set_ylabel(\"Recall\",fontsize=15)\n",
    "        ax.text(0.7 * (0.25 + 0.25+ 0.5), 0.80 * (0.25 + 0.25+ 0.5), 'AUC=%.3f' % auc(recalls, precisions),size=14)\n",
    "        ax.text(0.3 * (0.25 + 0.25+ 0.5), 0.20 * (0.25 + 0.25+ 0.5), 'F1-Score =%.3f' % f1_score(y, y_pred),size=14)\n",
    "        \n",
    "    else: \n",
    "        f, axes = plt.subplots(1, 3,figsize=(17,5))\n",
    "        for i in range(3):\n",
    "            precisions, recalls, thresholds = precision_recall_curve(y, y_pred[i])\n",
    "            sns.set_style(\"darkgrid\")\n",
    "            ax=sns.lineplot(x=precisions, y=recalls ,ax=axes[i],linewidth = 2)\n",
    "            ax.set_xlabel(\"Precision\",fontsize=15)\n",
    "            ax.set_ylabel(\"Recall\",fontsize=15)\n",
    "            ax.text(0.7 * (0.25 + 0.25+ 0.5), 0.80 * (0.25 + 0.25+ 0.5), 'AUC=%.3f' % auc(recalls, precisions),size=14)\n",
    "            ax.text(0.3 * (0.25 + 0.25+ 0.5), 0.20 * (0.25 + 0.25+ 0.5), 'F1-Score =%.3f' % f1_score(y, y_pred[i]),size=14)\n"
   ]
  },
  {
   "cell_type": "code",
   "execution_count": 54,
   "id": "90c2c604",
   "metadata": {},
   "outputs": [
    {
     "data": {
      "image/png": "[encoded data removed]",
      "text/plain": [
       "<Figure size 1224x360 with 3 Axes>"
      ]
     },
     "metadata": {
      "needs_background": "light"
     },
     "output_type": "display_data"
    }
   ],
   "source": [
    "plot_precisionvsrecall(y_test, [y_pred_test_l1, y_pred_test_l2, y_pred_test_en])"
   ]
  },
  {
   "cell_type": "markdown",
   "id": "64541130",
   "metadata": {},
   "source": [
    "## Hyperparameter Tuning and Cross Validation"
   ]
  },
  {
   "cell_type": "markdown",
   "id": "dc08ba8d",
   "metadata": {},
   "source": [
    "Now normally, I would get on with hyperparameter tuning but before that there is a topic that we should revisit. It is cross validation. Since we will also use cross validation in hyperparameter tuning I want to talk about it before I use GridSearchVS or RandomSearchCV.\n",
    "\n",
    "\n",
    "When I used `countplot()` we saw that there is a big class imbalance in our target feature. There are ways to deal with this class imbalance which I will talk about later, apart from that, this class imbalance also causes some problems when we use `train_test_-split()`. The function `train_test_split()` uses a random sampling strategy, that is not a problem when we have a large number of instances and there is not a big class imbalance but this is not the case here in this dataset. \n",
    "\n",
    "Let's say that we are conveying a public survey and ask people whether or not they think supplements are healthy, we wouldn't ask randomly 1000 people that question but we would find 1000 people who are representative of the general population so that we would ensure this people's idea will reflect the public opinion. This is actually something about Central Limit Theorem in Statistics but talking about it may be out of scope, however you can find more information about Central Limit Theorem [AN INTRODUCTION TO THE CENTRAL LIMIT THEOREM AND SAMPLING TECHNIQUES](https://www.datascienceprophet.com/an-introduction-to-the-central-limit-theorem-and-sampling-techniques/). \n",
    "\n",
    "This processes of finding a group of people who are representative of a bigger population is called stratified sampling: we divide our instances (in this case population) into homogenous subgroups called strata and we sample our instances to each stratum to guarantee that they are representative of the overall population.\n",
    "\n",
    "To do that we will use some function let's learn about them.\n",
    "\n"
   ]
  },
  {
   "cell_type": "markdown",
   "id": "b40df036",
   "metadata": {},
   "source": [
    "We can use data stratification with `train_test_split()` function.To do that we need to specify which column we will use for stratification. The function will use this specified column to sample homogenously."
   ]
  },
  {
   "cell_type": "code",
   "execution_count": 55,
   "id": "dadd089a",
   "metadata": {},
   "outputs": [],
   "source": [
    "X_train, X_test, y_train, y_test = train_test_split(data_processed, target, test_size = 0.2, random_state = 42,stratify = target)"
   ]
  },
  {
   "cell_type": "markdown",
   "id": "e7fbdc38",
   "metadata": {},
   "source": [
    "We can also use another function called `StratifiedShuffleSplit()`"
   ]
  },
  {
   "cell_type": "code",
   "execution_count": 56,
   "id": "74adb864",
   "metadata": {},
   "outputs": [],
   "source": [
    "from sklearn.model_selection import StratifiedShuffleSplit"
   ]
  },
  {
   "cell_type": "code",
   "execution_count": 57,
   "id": "beb672c7",
   "metadata": {},
   "outputs": [
    {
     "name": "stdout",
     "output_type": "stream",
     "text": [
      "TRAIN: [108450 106460  55052 ...  58256  84461 127247] TEST: [111817  69937  82278 ...   1166  35035  73611]\n"
     ]
    }
   ],
   "source": [
    "sss = StratifiedShuffleSplit(n_splits=1, test_size=0.2, random_state=42)\n",
    "for train_index, test_index in sss.split(data_processed, target):\n",
    "    print(\"TRAIN:\", train_index, \"TEST:\", test_index)\n",
    "    X_train, X_test = data_processed.loc[train_index], data_processed.loc[test_index]\n",
    "    y_train, y_test = target[train_index], target[test_index]"
   ]
  },
  {
   "cell_type": "markdown",
   "id": "b03cb58e",
   "metadata": {},
   "source": [
    "StratifiedShuffleSplit provides us an important parameter called **n_splits**. This parameter basically defines the number of times we will split our data."
   ]
  },
  {
   "cell_type": "code",
   "execution_count": 58,
   "id": "2350a402",
   "metadata": {},
   "outputs": [
    {
     "name": "stdout",
     "output_type": "stream",
     "text": [
      "TRAIN: [108450 106460  55052 ...  58256  84461 127247] TEST: [111817  69937  82278 ...   1166  35035  73611]\n",
      "TRAIN: [ 91116 110103  69046 ...  32318  78120  59290] TEST: [ 56334  88728 126830 ...  88311  55460  74019]\n",
      "TRAIN: [ 45790  59259  23624 ...  84689   8801 112582] TEST: [ 84295  81039 106060 ... 133354 119511  14060]\n"
     ]
    }
   ],
   "source": [
    "sss = StratifiedShuffleSplit(n_splits=3, test_size=0.2, random_state=42)\n",
    "for train_index, test_index in sss.split(data_processed, target):\n",
    "    print(\"TRAIN:\", train_index, \"TEST:\", test_index)\n",
    "    X_train, X_test = data_processed.loc[train_index], data_processed.loc[test_index]\n",
    "    y_train, y_test = target[train_index], target[test_index]"
   ]
  },
  {
   "cell_type": "markdown",
   "id": "a126835b",
   "metadata": {},
   "source": [
    " You may wonder why we should split the data more than ones. As you can see when we get different splits we also get different train and test sets. We can train a new model on each split and average the test score to get a better model in the end. This is actually a concept that is very similar to something called Repeated K-Fold Cross Validation. I will talk about this method later but you can also google it now to see how it works.\n",
    " \n",
    "Let's train logistic regression on 3 different splits and see the test results."
   ]
  },
  {
   "cell_type": "code",
   "execution_count": 59,
   "id": "a7004839",
   "metadata": {},
   "outputs": [
    {
     "name": "stdout",
     "output_type": "stream",
     "text": [
      "TRAIN: [108450 106460  55052 ...  58256  84461 127247] TEST: [111817  69937  82278 ...   1166  35035  73611]\n",
      "TRAIN: [ 91116 110103  69046 ...  32318  78120  59290] TEST: [ 56334  88728 126830 ...  88311  55460  74019]\n",
      "TRAIN: [ 45790  59259  23624 ...  84689   8801 112582] TEST: [ 84295  81039 106060 ... 133354 119511  14060]\n"
     ]
    },
    {
     "data": {
      "text/plain": [
       "[0.8508868417434347, 0.8489619139282277, 0.8496493881479444]"
      ]
     },
     "execution_count": 59,
     "metadata": {},
     "output_type": "execute_result"
    }
   ],
   "source": [
    "sss = StratifiedShuffleSplit(n_splits=3, test_size=0.2, random_state=42)\n",
    "test_scores=[]\n",
    "for train_index, test_index in sss.split(data_processed, target):\n",
    "    print(\"TRAIN:\", train_index, \"TEST:\", test_index)\n",
    "    X_train, X_test = data_processed.loc[train_index], data_processed.loc[test_index]\n",
    "    y_train, y_test = target[train_index], target[test_index]\n",
    "    logreg = LogisticRegression(penalty=\"l1\",solver=\"liblinear\",max_iter=250)\n",
    "    logreg.fit(X_train, y_train)\n",
    "    y_pred_test_l2 = logreg.predict(X_test)\n",
    "    test_scores.append(accuracy_score(y_test, y_pred_test_l2))\n",
    "test_scores    "
   ]
  },
  {
   "cell_type": "code",
   "execution_count": 60,
   "id": "271b7bfa",
   "metadata": {},
   "outputs": [
    {
     "data": {
      "text/plain": [
       "[0.8508868417434347, 0.8489619139282277, 0.8496493881479444]"
      ]
     },
     "execution_count": 60,
     "metadata": {},
     "output_type": "execute_result"
    }
   ],
   "source": [
    "test_scores"
   ]
  },
  {
   "cell_type": "markdown",
   "id": "f978d185",
   "metadata": {},
   "source": [
    "There is another function `StratifiedKFold()` which is very similar to KFold function that we used for linear regression but this time function does stratified sampling. There is informative stackoverflow discussion about the difference between `StratifiedKFold()` and `KFold()` which you can check [link](https://stackoverflow.com/questions/65318931/stratifiedkfold-vs-kfold-in-scikit-learn)"
   ]
  },
  {
   "cell_type": "code",
   "execution_count": 61,
   "id": "b9e2cffa",
   "metadata": {},
   "outputs": [],
   "source": [
    "skf = StratifiedKFold(n_splits=3)"
   ]
  },
  {
   "cell_type": "code",
   "execution_count": 62,
   "id": "dad1482f",
   "metadata": {},
   "outputs": [
    {
     "name": "stdout",
     "output_type": "stream",
     "text": [
      "TRAIN: [ 48422  48425  48426 ... 145457 145458 145459] TEST: [    0     1     2 ... 48733 48738 48742]\n",
      "TRAIN: [     0      1      2 ... 145457 145458 145459] TEST: [48422 48425 48426 ... 97618 97619 97620]\n",
      "TRAIN: [    0     1     2 ... 97618 97619 97620] TEST: [ 94000  94001  94003 ... 145457 145458 145459]\n"
     ]
    },
    {
     "data": {
      "text/plain": [
       "[0.8267783117124178, 0.7845814341988574, 0.839953801097224]"
      ]
     },
     "execution_count": 62,
     "metadata": {},
     "output_type": "execute_result"
    }
   ],
   "source": [
    "test_scores=[]\n",
    "for train_index, test_index in skf.split(data_processed, target):\n",
    "    print(\"TRAIN:\", train_index, \"TEST:\", test_index)\n",
    "    X_train, X_test = data_processed.loc[train_index], data_processed.loc[test_index]\n",
    "    y_train, y_test = target[train_index], target[test_index]\n",
    "    logreg = LogisticRegression(penalty=\"l1\",solver=\"liblinear\",max_iter=250)\n",
    "    logreg.fit(X_train, y_train)\n",
    "    y_pred_test_l2 = logreg.predict(X_test)\n",
    "    test_scores.append(accuracy_score(y_test, y_pred_test_l2))\n",
    "test_scores     "
   ]
  },
  {
   "cell_type": "markdown",
   "id": "4354b4c1",
   "metadata": {},
   "source": [
    "You may wonder why we got different scores that StratifiedShuffleSplit, that's because this two function returns different test sets. `StratifiedKFold()` returns non-overlapping test set whereas test set returned by `StratifiedShuffleSplit()` can be overlapping. I recommend reading this stackoverflow discussion on these functions [link](https://stackoverflow.com/questions/45969390/difference-between-stratifiedkfold-and-stratifiedshufflesplit-in-sklearn#:~:text=So%2C%20the%20difference%20here%20is,the%20test%20sets%20can%20overlap.) to see the difference.\n",
    "\n",
    "Don't forget to check out documentation for [StratifiedShuffleSplit()](https://scikit-learn.org/stable/modules/generated/sklearn.model_selection.StratifiedShuffleSplit.html) and [StratifiedKFold](https://scikit-learn.org/stable/modules/generated/sklearn.model_selection.StratifiedKFold.html) Addititionaly, you can also check GeeksforGeeks for these function [StratifiedShuffleSplit()](https://www.geeksforgeeks.org/sklearn-stratifiedshufflesplit-function-in-python/) and [StratifiedKFold](https://www.geeksforgeeks.org/stratified-k-fold-cross-validation/)\n",
    "\n",
    "\n",
    "In addition, we can also pass these stratified versions into `cross_val_score()`. I will show more examples for this in the last notebook of Logistic Regression but I wanted to show it here as well."
   ]
  },
  {
   "cell_type": "code",
   "execution_count": 63,
   "id": "e6541c29",
   "metadata": {},
   "outputs": [
    {
     "data": {
      "text/plain": [
       "LogisticRegression(max_iter=250, penalty='l1', solver='liblinear')"
      ]
     },
     "execution_count": 63,
     "metadata": {},
     "output_type": "execute_result"
    }
   ],
   "source": [
    "logreg = LogisticRegression(penalty=\"l1\",solver=\"liblinear\",max_iter=250)\n",
    "logreg.fit(X_train, y_train)"
   ]
  },
  {
   "cell_type": "code",
   "execution_count": 64,
   "id": "0f301315",
   "metadata": {},
   "outputs": [
    {
     "data": {
      "text/plain": [
       "array([0.83718484, 0.82988399, 0.83900507])"
      ]
     },
     "execution_count": 64,
     "metadata": {},
     "output_type": "execute_result"
    }
   ],
   "source": [
    "# Using StratifiedKFold\n",
    "from sklearn.model_selection import cross_val_score\n",
    "cross_val_score(logreg, X_train, y_train, cv=skf, scoring=\"accuracy\")"
   ]
  },
  {
   "cell_type": "code",
   "execution_count": 65,
   "id": "628f4dd2",
   "metadata": {},
   "outputs": [
    {
     "data": {
      "text/plain": [
       "array([0.84666151, 0.84748647, 0.8447538 ])"
      ]
     },
     "execution_count": 65,
     "metadata": {},
     "output_type": "execute_result"
    }
   ],
   "source": [
    "# Using StratifiedShuffleSplit\n",
    "from sklearn.model_selection import cross_val_score\n",
    "cross_val_score(logreg, X_train, y_train, cv=sss, scoring=\"accuracy\")"
   ]
  },
  {
   "cell_type": "markdown",
   "id": "65331bda",
   "metadata": {},
   "source": [
    "### Hyperparameter Tuning"
   ]
  },
  {
   "cell_type": "markdown",
   "id": "d059bfa0",
   "metadata": {},
   "source": [
    "For hyperparameter tuning we can use `GridSearchCV()` and `RandomSearchCV()`. Since both of using these function is almost the same (not in terms of their algorithm but in terms of the way we use them) I will only use GridSearchCV() here. Let's look at which parameters we can tune with GridSearchCV()."
   ]
  },
  {
   "cell_type": "code",
   "execution_count": 67,
   "id": "500e8a44",
   "metadata": {},
   "outputs": [
    {
     "data": {
      "text/plain": [
       "dict_keys(['C', 'class_weight', 'dual', 'fit_intercept', 'intercept_scaling', 'l1_ratio', 'max_iter', 'multi_class', 'n_jobs', 'penalty', 'random_state', 'solver', 'tol', 'verbose', 'warm_start'])"
      ]
     },
     "execution_count": 67,
     "metadata": {},
     "output_type": "execute_result"
    }
   ],
   "source": [
    "LogisticRegression().get_params().keys()"
   ]
  },
  {
   "cell_type": "markdown",
   "id": "fd089c2e",
   "metadata": {},
   "source": [
    "You may be wondering what is that C parameter (I asked the question as well when I started using Python for Machine Learning). Well It turns out that the hyperparameter that controls strength of regularization is not $\\lambda$ but instead it is controlled by the inverse of lambda \n",
    "$$C=\\frac{1}{\\lambda }$$\n",
    "\n",
    "One thing that you should notice is since it's the inverse of lambda, as lambda increases the regularization strength will decrease and as lambda decreases, the regularization strength will increase.\n",
    "\n",
    "Moreover, there is another parameter called **l1_ratio** and as far as I remember I didn't talk about this parameter in my linear regression notebooks. This parameter is the combination of L1 and L2 penalty terms. I realized that I didn't take note of any equation for l1_ratio in my notes and then searched online for the mathematical explanation below. What I represent below, with the mathematical concept of this l1_ratio is something that I'm not %100 percent sure but probably this is the case. So let's try to understand mathematically what l1_ratio represents.\n",
    "\n",
    "In sklearn's documentation [link](https://scikit-learn.org/stable/modules/generated/sklearn.linear_model.ElasticNet.html) the description of l1_ratio involves the following lines\n",
    "\n",
    "* *The ElasticNet mixing parameter, with 0 <= l1_ratio <= 1. For l1_ratio = 0 the penalty is an L2 penalty. For l1_ratio = 1 it is an L1 penalty. For 0 < l1_ratio < 1, the penalty is a combination of L1 and L2.*\n",
    "\n",
    "I looked at the paper [(\"Regularization Path For Generalized linear Models by Coordinate Descent\")](https://www.jstatsoft.org/article/view/v033i01/v33i01.pdf) referenced in this [documentation](https://scikit-learn.org/stable/modules/linear_model.html#elastic-net) then I came across with the following equation.\n",
    "\n",
    "$$P_{\\alpha }=\\left(1\\:−\\:α\\right)\\:\\frac{1}{2}\\left|\\left|\\beta \\right|\\right|^2_{l2}+α\\left|\\left|\\beta \\right|\\right|_{l1}=\\sum _{j=1}^p\\:\\left(\\left(1\\:−\\:α\\right)\\:\\frac{1}{2}\\beta ^2_{l2}+α\\left|\\beta \\right|_{l1}\\right)$$\n",
    "\n",
    "Then I look at another [paper](https://sites.stat.washington.edu/courses/stat527/s13/readings/zouhastie05.pdf) referenced by the first paper and there was also a similar formula named elastic-net penalty which I stated below.\n",
    "\n",
    "$$P_{\\alpha \\:}=\\left(1\\:−\\:α\\right)\\:\\left|\\beta \\right|^2+α\\left|\\beta \\right|_{l1}$$\n",
    "\n",
    "Afterwards, I saw that there is the sentence below in sklearn documentation and look at the documentation for [glmnet](https://cran.r-project.org/web/packages/glmnet/glmnet.pdf) in R.\n",
    "\n",
    "* *The parameter l1_ratio corresponds to alpha in the glmnet R package while alpha corresponds to the lambda parameter in glmnet.*\n",
    "\n",
    "In glmnet documentation there is a very similar formula for the elastic net penalty\n",
    "\n",
    "$$\\frac{\\left(1\\:−\\:α\\right)}{2}\\sum vp_j\\beta \\:^2_j+α\\sum vp_j\\left|\\beta \\:\\right|$$\n",
    "\n",
    "So what do we get here ? \n",
    "\n",
    "In documentation of glmnet ${\\alpha \\:}$ is called elasticnet mixing parameter and in sklearn l1_ratio is called ElasticNet mixing parameter and also stated it is equal to ${\\alpha \\:}$ in glmnet. Therefore, probably (%99) sklearn uses the first formula I stated above which is \n",
    "\n",
    "$$P_{\\alpha }=\\left(1\\:−\\:α\\right)\\:\\frac{1}{2}\\left|\\left|\\beta \\right|\\right|^2_{l2}+α\\left|\\left|\\beta \\right|\\right|_{l1}=\\sum _{j=1}^p\\:\\left(\\left(1\\:−\\:α\\right)\\:\\frac{1}{2}\\beta ^2_{l2}+α\\left|\\beta \\right|_{l1}\\right)$$\n",
    "\n",
    "glmnet also uses parameters called $vp_j$ which are penalty factors for each of the coefficients. I do not know whether or not sklearn uses $vp_j$ but probably It does not. Moreover, if we get back to the first explanation for l1_ratio in sklearn we learnt that when l1_rati=1 the penalty becomes L1 penalty and for l1_ratio=0 it becomes L2. We can actually see $P_{\\alpha }$ follows that rule as well when we set ${\\alpha \\:}$ to one or zero.\n",
    "\n",
    "Let's get back to tuning these hyperparameters now."
   ]
  },
  {
   "cell_type": "code",
   "execution_count": 68,
   "id": "8bdb7d98",
   "metadata": {},
   "outputs": [],
   "source": [
    "logreg=LogisticRegression()"
   ]
  },
  {
   "cell_type": "code",
   "execution_count": 69,
   "id": "ac17cafe",
   "metadata": {},
   "outputs": [],
   "source": [
    "params = {\n",
    "    'C':[100, 10, 1.0, 0.1, 0.01],\n",
    "    'l1_ratio': [0.25,0.50, 0.75, 0.90],\n",
    "    'penalty': [\"l2\",\"l1\",\"elasticnet\"],\n",
    "    'fit_intercept':[True,False],\n",
    "    'warm_start':[True,False],\n",
    "    \n",
    "}"
   ]
  },
  {
   "cell_type": "code",
   "execution_count": 76,
   "id": "8ca5871d",
   "metadata": {
    "scrolled": true
   },
   "outputs": [],
   "source": [
    "from sklearn.model_selection import GridSearchCV\n",
    "gscv=GridSearchCV(logreg, params, cv=skf,verbose=2,scoring=\"accuracy\")"
   ]
  },
  {
   "cell_type": "code",
   "execution_count": 155,
   "id": "ca995719",
   "metadata": {},
   "outputs": [
    {
     "name": "stdout",
     "output_type": "stream",
     "text": [
      "Fitting 3 folds for each of 240 candidates, totalling 720 fits\n",
      "[CV] END C=100, fit_intercept=True, l1_ratio=0.25, penalty=l2, warm_start=True; total time=   2.1s\n",
      "[CV] END C=100, fit_intercept=True, l1_ratio=0.25, penalty=l2, warm_start=True; total time=   2.0s\n",
      "[CV] END C=100, fit_intercept=True, l1_ratio=0.25, penalty=l2, warm_start=True; total time=   2.2s\n",
      "[CV] END C=100, fit_intercept=True, l1_ratio=0.25, penalty=l2, warm_start=False; total time=   2.6s\n",
      "[CV] END C=100, fit_intercept=True, l1_ratio=0.25, penalty=l2, warm_start=False; total time=   2.5s\n",
      "[CV] END C=100, fit_intercept=True, l1_ratio=0.25, penalty=l2, warm_start=False; total time=   2.4s\n",
      "[CV] END C=100, fit_intercept=True, l1_ratio=0.25, penalty=l1, warm_start=True; total time=   0.0s\n",
      "[CV] END C=100, fit_intercept=True, l1_ratio=0.25, penalty=l1, warm_start=True; total time=   0.0s\n",
      "[CV] END C=100, fit_intercept=True, l1_ratio=0.25, penalty=l1, warm_start=True; total time=   0.0s\n",
      "[CV] END C=100, fit_intercept=True, l1_ratio=0.25, penalty=l1, warm_start=False; total time=   0.0s\n",
      "[CV] END C=100, fit_intercept=True, l1_ratio=0.25, penalty=l1, warm_start=False; total time=   0.0s\n",
      "[CV] END C=100, fit_intercept=True, l1_ratio=0.25, penalty=l1, warm_start=False; total time=   0.0s\n",
      "[CV] END C=100, fit_intercept=True, l1_ratio=0.25, penalty=elasticnet, warm_start=True; total time=   0.0s\n",
      "[CV] END C=100, fit_intercept=True, l1_ratio=0.25, penalty=elasticnet, warm_start=True; total time=   0.0s\n",
      "[CV] END C=100, fit_intercept=True, l1_ratio=0.25, penalty=elasticnet, warm_start=True; total time=   0.0s\n",
      "[CV] END C=100, fit_intercept=True, l1_ratio=0.25, penalty=elasticnet, warm_start=False; total time=   0.0s\n",
      "[CV] END C=100, fit_intercept=True, l1_ratio=0.25, penalty=elasticnet, warm_start=False; total time=   0.0s\n",
      "[CV] END C=100, fit_intercept=True, l1_ratio=0.25, penalty=elasticnet, warm_start=False; total time=   0.0s\n",
      "[CV] END C=100, fit_intercept=True, l1_ratio=0.5, penalty=l2, warm_start=True; total time=   2.2s\n",
      "[CV] END C=100, fit_intercept=True, l1_ratio=0.5, penalty=l2, warm_start=True; total time=   2.5s\n",
      "[CV] END C=100, fit_intercept=True, l1_ratio=0.5, penalty=l2, warm_start=True; total time=   2.6s\n",
      "[CV] END C=100, fit_intercept=True, l1_ratio=0.5, penalty=l2, warm_start=False; total time=   2.5s\n",
      "[CV] END C=100, fit_intercept=True, l1_ratio=0.5, penalty=l2, warm_start=False; total time=   3.6s\n",
      "[CV] END C=100, fit_intercept=True, l1_ratio=0.5, penalty=l2, warm_start=False; total time=   2.6s\n",
      "[CV] END C=100, fit_intercept=True, l1_ratio=0.5, penalty=l1, warm_start=True; total time=   0.0s\n",
      "[CV] END C=100, fit_intercept=True, l1_ratio=0.5, penalty=l1, warm_start=True; total time=   0.0s\n",
      "[CV] END C=100, fit_intercept=True, l1_ratio=0.5, penalty=l1, warm_start=True; total time=   0.0s\n",
      "[CV] END C=100, fit_intercept=True, l1_ratio=0.5, penalty=l1, warm_start=False; total time=   0.0s\n",
      "[CV] END C=100, fit_intercept=True, l1_ratio=0.5, penalty=l1, warm_start=False; total time=   0.0s\n",
      "[CV] END C=100, fit_intercept=True, l1_ratio=0.5, penalty=l1, warm_start=False; total time=   0.0s\n",
      "[CV] END C=100, fit_intercept=True, l1_ratio=0.5, penalty=elasticnet, warm_start=True; total time=   0.0s\n",
      "[CV] END C=100, fit_intercept=True, l1_ratio=0.5, penalty=elasticnet, warm_start=True; total time=   0.0s\n",
      "[CV] END C=100, fit_intercept=True, l1_ratio=0.5, penalty=elasticnet, warm_start=True; total time=   0.0s\n",
      "[CV] END C=100, fit_intercept=True, l1_ratio=0.5, penalty=elasticnet, warm_start=False; total time=   0.0s\n",
      "[CV] END C=100, fit_intercept=True, l1_ratio=0.5, penalty=elasticnet, warm_start=False; total time=   0.0s\n",
      "[CV] END C=100, fit_intercept=True, l1_ratio=0.5, penalty=elasticnet, warm_start=False; total time=   0.0s\n",
      "[CV] END C=100, fit_intercept=True, l1_ratio=0.75, penalty=l2, warm_start=True; total time=   2.4s\n",
      "[CV] END C=100, fit_intercept=True, l1_ratio=0.75, penalty=l2, warm_start=True; total time=   2.3s\n",
      "[CV] END C=100, fit_intercept=True, l1_ratio=0.75, penalty=l2, warm_start=True; total time=   2.1s\n",
      "[CV] END C=100, fit_intercept=True, l1_ratio=0.75, penalty=l2, warm_start=False; total time=   2.2s\n",
      "[CV] END C=100, fit_intercept=True, l1_ratio=0.75, penalty=l2, warm_start=False; total time=   2.5s\n",
      "[CV] END C=100, fit_intercept=True, l1_ratio=0.75, penalty=l2, warm_start=False; total time=   2.3s\n",
      "[CV] END C=100, fit_intercept=True, l1_ratio=0.75, penalty=l1, warm_start=True; total time=   0.0s\n",
      "[CV] END C=100, fit_intercept=True, l1_ratio=0.75, penalty=l1, warm_start=True; total time=   0.0s\n",
      "[CV] END C=100, fit_intercept=True, l1_ratio=0.75, penalty=l1, warm_start=True; total time=   0.0s\n",
      "[CV] END C=100, fit_intercept=True, l1_ratio=0.75, penalty=l1, warm_start=False; total time=   0.0s\n",
      "[CV] END C=100, fit_intercept=True, l1_ratio=0.75, penalty=l1, warm_start=False; total time=   0.0s\n",
      "[CV] END C=100, fit_intercept=True, l1_ratio=0.75, penalty=l1, warm_start=False; total time=   0.0s\n",
      "[CV] END C=100, fit_intercept=True, l1_ratio=0.75, penalty=elasticnet, warm_start=True; total time=   0.0s\n",
      "[CV] END C=100, fit_intercept=True, l1_ratio=0.75, penalty=elasticnet, warm_start=True; total time=   0.0s\n",
      "[CV] END C=100, fit_intercept=True, l1_ratio=0.75, penalty=elasticnet, warm_start=True; total time=   0.0s\n",
      "[CV] END C=100, fit_intercept=True, l1_ratio=0.75, penalty=elasticnet, warm_start=False; total time=   0.0s\n",
      "[CV] END C=100, fit_intercept=True, l1_ratio=0.75, penalty=elasticnet, warm_start=False; total time=   0.0s\n",
      "[CV] END C=100, fit_intercept=True, l1_ratio=0.75, penalty=elasticnet, warm_start=False; total time=   0.0s\n",
      "[CV] END C=100, fit_intercept=True, l1_ratio=0.9, penalty=l2, warm_start=True; total time=   2.7s\n",
      "[CV] END C=100, fit_intercept=True, l1_ratio=0.9, penalty=l2, warm_start=True; total time=   2.4s\n",
      "[CV] END C=100, fit_intercept=True, l1_ratio=0.9, penalty=l2, warm_start=True; total time=   1.9s\n",
      "[CV] END C=100, fit_intercept=True, l1_ratio=0.9, penalty=l2, warm_start=False; total time=   2.0s\n",
      "[CV] END C=100, fit_intercept=True, l1_ratio=0.9, penalty=l2, warm_start=False; total time=   2.0s\n",
      "[CV] END C=100, fit_intercept=True, l1_ratio=0.9, penalty=l2, warm_start=False; total time=   1.9s\n",
      "[CV] END C=100, fit_intercept=True, l1_ratio=0.9, penalty=l1, warm_start=True; total time=   0.0s\n",
      "[CV] END C=100, fit_intercept=True, l1_ratio=0.9, penalty=l1, warm_start=True; total time=   0.0s\n",
      "[CV] END C=100, fit_intercept=True, l1_ratio=0.9, penalty=l1, warm_start=True; total time=   0.0s\n",
      "[CV] END C=100, fit_intercept=True, l1_ratio=0.9, penalty=l1, warm_start=False; total time=   0.0s\n",
      "[CV] END C=100, fit_intercept=True, l1_ratio=0.9, penalty=l1, warm_start=False; total time=   0.0s\n",
      "[CV] END C=100, fit_intercept=True, l1_ratio=0.9, penalty=l1, warm_start=False; total time=   0.0s\n",
      "[CV] END C=100, fit_intercept=True, l1_ratio=0.9, penalty=elasticnet, warm_start=True; total time=   0.0s\n",
      "[CV] END C=100, fit_intercept=True, l1_ratio=0.9, penalty=elasticnet, warm_start=True; total time=   0.0s\n",
      "[CV] END C=100, fit_intercept=True, l1_ratio=0.9, penalty=elasticnet, warm_start=True; total time=   0.0s\n",
      "[CV] END C=100, fit_intercept=True, l1_ratio=0.9, penalty=elasticnet, warm_start=False; total time=   0.0s\n",
      "[CV] END C=100, fit_intercept=True, l1_ratio=0.9, penalty=elasticnet, warm_start=False; total time=   0.0s\n",
      "[CV] END C=100, fit_intercept=True, l1_ratio=0.9, penalty=elasticnet, warm_start=False; total time=   0.0s\n",
      "[CV] END C=100, fit_intercept=False, l1_ratio=0.25, penalty=l2, warm_start=True; total time=   1.9s\n",
      "[CV] END C=100, fit_intercept=False, l1_ratio=0.25, penalty=l2, warm_start=True; total time=   1.9s\n",
      "[CV] END C=100, fit_intercept=False, l1_ratio=0.25, penalty=l2, warm_start=True; total time=   1.9s\n",
      "[CV] END C=100, fit_intercept=False, l1_ratio=0.25, penalty=l2, warm_start=False; total time=   2.0s\n",
      "[CV] END C=100, fit_intercept=False, l1_ratio=0.25, penalty=l2, warm_start=False; total time=   2.7s\n",
      "[CV] END C=100, fit_intercept=False, l1_ratio=0.25, penalty=l2, warm_start=False; total time=   2.1s\n",
      "[CV] END C=100, fit_intercept=False, l1_ratio=0.25, penalty=l1, warm_start=True; total time=   0.0s\n",
      "[CV] END C=100, fit_intercept=False, l1_ratio=0.25, penalty=l1, warm_start=True; total time=   0.0s\n",
      "[CV] END C=100, fit_intercept=False, l1_ratio=0.25, penalty=l1, warm_start=True; total time=   0.0s\n",
      "[CV] END C=100, fit_intercept=False, l1_ratio=0.25, penalty=l1, warm_start=False; total time=   0.0s\n",
      "[CV] END C=100, fit_intercept=False, l1_ratio=0.25, penalty=l1, warm_start=False; total time=   0.0s\n",
      "[CV] END C=100, fit_intercept=False, l1_ratio=0.25, penalty=l1, warm_start=False; total time=   0.0s\n"
     ]
    },
    {
     "name": "stdout",
     "output_type": "stream",
     "text": [
      "[CV] END C=100, fit_intercept=False, l1_ratio=0.25, penalty=elasticnet, warm_start=True; total time=   0.0s\n",
      "[CV] END C=100, fit_intercept=False, l1_ratio=0.25, penalty=elasticnet, warm_start=True; total time=   0.0s\n",
      "[CV] END C=100, fit_intercept=False, l1_ratio=0.25, penalty=elasticnet, warm_start=True; total time=   0.0s\n",
      "[CV] END C=100, fit_intercept=False, l1_ratio=0.25, penalty=elasticnet, warm_start=False; total time=   0.0s\n",
      "[CV] END C=100, fit_intercept=False, l1_ratio=0.25, penalty=elasticnet, warm_start=False; total time=   0.0s\n",
      "[CV] END C=100, fit_intercept=False, l1_ratio=0.25, penalty=elasticnet, warm_start=False; total time=   0.0s\n",
      "[CV] END C=100, fit_intercept=False, l1_ratio=0.5, penalty=l2, warm_start=True; total time=   2.2s\n",
      "[CV] END C=100, fit_intercept=False, l1_ratio=0.5, penalty=l2, warm_start=True; total time=   2.6s\n",
      "[CV] END C=100, fit_intercept=False, l1_ratio=0.5, penalty=l2, warm_start=True; total time=   2.2s\n",
      "[CV] END C=100, fit_intercept=False, l1_ratio=0.5, penalty=l2, warm_start=False; total time=   3.2s\n",
      "[CV] END C=100, fit_intercept=False, l1_ratio=0.5, penalty=l2, warm_start=False; total time=   3.0s\n",
      "[CV] END C=100, fit_intercept=False, l1_ratio=0.5, penalty=l2, warm_start=False; total time=   2.2s\n",
      "[CV] END C=100, fit_intercept=False, l1_ratio=0.5, penalty=l1, warm_start=True; total time=   0.0s\n",
      "[CV] END C=100, fit_intercept=False, l1_ratio=0.5, penalty=l1, warm_start=True; total time=   0.0s\n",
      "[CV] END C=100, fit_intercept=False, l1_ratio=0.5, penalty=l1, warm_start=True; total time=   0.0s\n",
      "[CV] END C=100, fit_intercept=False, l1_ratio=0.5, penalty=l1, warm_start=False; total time=   0.0s\n",
      "[CV] END C=100, fit_intercept=False, l1_ratio=0.5, penalty=l1, warm_start=False; total time=   0.0s\n",
      "[CV] END C=100, fit_intercept=False, l1_ratio=0.5, penalty=l1, warm_start=False; total time=   0.0s\n",
      "[CV] END C=100, fit_intercept=False, l1_ratio=0.5, penalty=elasticnet, warm_start=True; total time=   0.0s\n",
      "[CV] END C=100, fit_intercept=False, l1_ratio=0.5, penalty=elasticnet, warm_start=True; total time=   0.0s\n",
      "[CV] END C=100, fit_intercept=False, l1_ratio=0.5, penalty=elasticnet, warm_start=True; total time=   0.0s\n",
      "[CV] END C=100, fit_intercept=False, l1_ratio=0.5, penalty=elasticnet, warm_start=False; total time=   0.0s\n",
      "[CV] END C=100, fit_intercept=False, l1_ratio=0.5, penalty=elasticnet, warm_start=False; total time=   0.0s\n",
      "[CV] END C=100, fit_intercept=False, l1_ratio=0.5, penalty=elasticnet, warm_start=False; total time=   0.0s\n",
      "[CV] END C=100, fit_intercept=False, l1_ratio=0.75, penalty=l2, warm_start=True; total time=   2.0s\n",
      "[CV] END C=100, fit_intercept=False, l1_ratio=0.75, penalty=l2, warm_start=True; total time=   2.0s\n",
      "[CV] END C=100, fit_intercept=False, l1_ratio=0.75, penalty=l2, warm_start=True; total time=   2.1s\n",
      "[CV] END C=100, fit_intercept=False, l1_ratio=0.75, penalty=l2, warm_start=False; total time=   2.2s\n",
      "[CV] END C=100, fit_intercept=False, l1_ratio=0.75, penalty=l2, warm_start=False; total time=   2.3s\n",
      "[CV] END C=100, fit_intercept=False, l1_ratio=0.75, penalty=l2, warm_start=False; total time=   3.0s\n",
      "[CV] END C=100, fit_intercept=False, l1_ratio=0.75, penalty=l1, warm_start=True; total time=   0.0s\n",
      "[CV] END C=100, fit_intercept=False, l1_ratio=0.75, penalty=l1, warm_start=True; total time=   0.0s\n",
      "[CV] END C=100, fit_intercept=False, l1_ratio=0.75, penalty=l1, warm_start=True; total time=   0.0s\n",
      "[CV] END C=100, fit_intercept=False, l1_ratio=0.75, penalty=l1, warm_start=False; total time=   0.0s\n",
      "[CV] END C=100, fit_intercept=False, l1_ratio=0.75, penalty=l1, warm_start=False; total time=   0.0s\n",
      "[CV] END C=100, fit_intercept=False, l1_ratio=0.75, penalty=l1, warm_start=False; total time=   0.0s\n",
      "[CV] END C=100, fit_intercept=False, l1_ratio=0.75, penalty=elasticnet, warm_start=True; total time=   0.0s\n",
      "[CV] END C=100, fit_intercept=False, l1_ratio=0.75, penalty=elasticnet, warm_start=True; total time=   0.0s\n",
      "[CV] END C=100, fit_intercept=False, l1_ratio=0.75, penalty=elasticnet, warm_start=True; total time=   0.0s\n",
      "[CV] END C=100, fit_intercept=False, l1_ratio=0.75, penalty=elasticnet, warm_start=False; total time=   0.0s\n",
      "[CV] END C=100, fit_intercept=False, l1_ratio=0.75, penalty=elasticnet, warm_start=False; total time=   0.0s\n",
      "[CV] END C=100, fit_intercept=False, l1_ratio=0.75, penalty=elasticnet, warm_start=False; total time=   0.0s\n",
      "[CV] END C=100, fit_intercept=False, l1_ratio=0.9, penalty=l2, warm_start=True; total time=   2.3s\n",
      "[CV] END C=100, fit_intercept=False, l1_ratio=0.9, penalty=l2, warm_start=True; total time=   3.0s\n",
      "[CV] END C=100, fit_intercept=False, l1_ratio=0.9, penalty=l2, warm_start=True; total time=   2.4s\n",
      "[CV] END C=100, fit_intercept=False, l1_ratio=0.9, penalty=l2, warm_start=False; total time=   2.9s\n",
      "[CV] END C=100, fit_intercept=False, l1_ratio=0.9, penalty=l2, warm_start=False; total time=   2.7s\n",
      "[CV] END C=100, fit_intercept=False, l1_ratio=0.9, penalty=l2, warm_start=False; total time=   2.7s\n",
      "[CV] END C=100, fit_intercept=False, l1_ratio=0.9, penalty=l1, warm_start=True; total time=   0.0s\n",
      "[CV] END C=100, fit_intercept=False, l1_ratio=0.9, penalty=l1, warm_start=True; total time=   0.0s\n",
      "[CV] END C=100, fit_intercept=False, l1_ratio=0.9, penalty=l1, warm_start=True; total time=   0.0s\n",
      "[CV] END C=100, fit_intercept=False, l1_ratio=0.9, penalty=l1, warm_start=False; total time=   0.0s\n",
      "[CV] END C=100, fit_intercept=False, l1_ratio=0.9, penalty=l1, warm_start=False; total time=   0.0s\n",
      "[CV] END C=100, fit_intercept=False, l1_ratio=0.9, penalty=l1, warm_start=False; total time=   0.0s\n",
      "[CV] END C=100, fit_intercept=False, l1_ratio=0.9, penalty=elasticnet, warm_start=True; total time=   0.0s\n",
      "[CV] END C=100, fit_intercept=False, l1_ratio=0.9, penalty=elasticnet, warm_start=True; total time=   0.0s\n",
      "[CV] END C=100, fit_intercept=False, l1_ratio=0.9, penalty=elasticnet, warm_start=True; total time=   0.0s\n",
      "[CV] END C=100, fit_intercept=False, l1_ratio=0.9, penalty=elasticnet, warm_start=False; total time=   0.0s\n",
      "[CV] END C=100, fit_intercept=False, l1_ratio=0.9, penalty=elasticnet, warm_start=False; total time=   0.0s\n",
      "[CV] END C=100, fit_intercept=False, l1_ratio=0.9, penalty=elasticnet, warm_start=False; total time=   0.0s\n",
      "[CV] END C=10, fit_intercept=True, l1_ratio=0.25, penalty=l2, warm_start=True; total time=   2.1s\n",
      "[CV] END C=10, fit_intercept=True, l1_ratio=0.25, penalty=l2, warm_start=True; total time=   2.6s\n",
      "[CV] END C=10, fit_intercept=True, l1_ratio=0.25, penalty=l2, warm_start=True; total time=   2.1s\n",
      "[CV] END C=10, fit_intercept=True, l1_ratio=0.25, penalty=l2, warm_start=False; total time=   2.0s\n",
      "[CV] END C=10, fit_intercept=True, l1_ratio=0.25, penalty=l2, warm_start=False; total time=   1.9s\n",
      "[CV] END C=10, fit_intercept=True, l1_ratio=0.25, penalty=l2, warm_start=False; total time=   2.1s\n",
      "[CV] END C=10, fit_intercept=True, l1_ratio=0.25, penalty=l1, warm_start=True; total time=   0.0s\n",
      "[CV] END C=10, fit_intercept=True, l1_ratio=0.25, penalty=l1, warm_start=True; total time=   0.0s\n",
      "[CV] END C=10, fit_intercept=True, l1_ratio=0.25, penalty=l1, warm_start=True; total time=   0.0s\n",
      "[CV] END C=10, fit_intercept=True, l1_ratio=0.25, penalty=l1, warm_start=False; total time=   0.0s\n",
      "[CV] END C=10, fit_intercept=True, l1_ratio=0.25, penalty=l1, warm_start=False; total time=   0.0s\n",
      "[CV] END C=10, fit_intercept=True, l1_ratio=0.25, penalty=l1, warm_start=False; total time=   0.0s\n",
      "[CV] END C=10, fit_intercept=True, l1_ratio=0.25, penalty=elasticnet, warm_start=True; total time=   0.0s\n",
      "[CV] END C=10, fit_intercept=True, l1_ratio=0.25, penalty=elasticnet, warm_start=True; total time=   0.0s\n",
      "[CV] END C=10, fit_intercept=True, l1_ratio=0.25, penalty=elasticnet, warm_start=True; total time=   0.0s\n",
      "[CV] END C=10, fit_intercept=True, l1_ratio=0.25, penalty=elasticnet, warm_start=False; total time=   0.0s\n",
      "[CV] END C=10, fit_intercept=True, l1_ratio=0.25, penalty=elasticnet, warm_start=False; total time=   0.0s\n",
      "[CV] END C=10, fit_intercept=True, l1_ratio=0.25, penalty=elasticnet, warm_start=False; total time=   0.0s\n",
      "[CV] END C=10, fit_intercept=True, l1_ratio=0.5, penalty=l2, warm_start=True; total time=   1.9s\n",
      "[CV] END C=10, fit_intercept=True, l1_ratio=0.5, penalty=l2, warm_start=True; total time=   2.0s\n"
     ]
    },
    {
     "name": "stdout",
     "output_type": "stream",
     "text": [
      "[CV] END C=10, fit_intercept=True, l1_ratio=0.5, penalty=l2, warm_start=True; total time=   2.6s\n",
      "[CV] END C=10, fit_intercept=True, l1_ratio=0.5, penalty=l2, warm_start=False; total time=   2.4s\n",
      "[CV] END C=10, fit_intercept=True, l1_ratio=0.5, penalty=l2, warm_start=False; total time=   2.8s\n",
      "[CV] END C=10, fit_intercept=True, l1_ratio=0.5, penalty=l2, warm_start=False; total time=   2.6s\n",
      "[CV] END C=10, fit_intercept=True, l1_ratio=0.5, penalty=l1, warm_start=True; total time=   0.0s\n",
      "[CV] END C=10, fit_intercept=True, l1_ratio=0.5, penalty=l1, warm_start=True; total time=   0.0s\n",
      "[CV] END C=10, fit_intercept=True, l1_ratio=0.5, penalty=l1, warm_start=True; total time=   0.0s\n",
      "[CV] END C=10, fit_intercept=True, l1_ratio=0.5, penalty=l1, warm_start=False; total time=   0.0s\n",
      "[CV] END C=10, fit_intercept=True, l1_ratio=0.5, penalty=l1, warm_start=False; total time=   0.0s\n",
      "[CV] END C=10, fit_intercept=True, l1_ratio=0.5, penalty=l1, warm_start=False; total time=   0.0s\n",
      "[CV] END C=10, fit_intercept=True, l1_ratio=0.5, penalty=elasticnet, warm_start=True; total time=   0.0s\n",
      "[CV] END C=10, fit_intercept=True, l1_ratio=0.5, penalty=elasticnet, warm_start=True; total time=   0.0s\n",
      "[CV] END C=10, fit_intercept=True, l1_ratio=0.5, penalty=elasticnet, warm_start=True; total time=   0.0s\n",
      "[CV] END C=10, fit_intercept=True, l1_ratio=0.5, penalty=elasticnet, warm_start=False; total time=   0.0s\n",
      "[CV] END C=10, fit_intercept=True, l1_ratio=0.5, penalty=elasticnet, warm_start=False; total time=   0.0s\n",
      "[CV] END C=10, fit_intercept=True, l1_ratio=0.5, penalty=elasticnet, warm_start=False; total time=   0.0s\n",
      "[CV] END C=10, fit_intercept=True, l1_ratio=0.75, penalty=l2, warm_start=True; total time=   2.9s\n",
      "[CV] END C=10, fit_intercept=True, l1_ratio=0.75, penalty=l2, warm_start=True; total time=   2.9s\n",
      "[CV] END C=10, fit_intercept=True, l1_ratio=0.75, penalty=l2, warm_start=True; total time=   3.9s\n",
      "[CV] END C=10, fit_intercept=True, l1_ratio=0.75, penalty=l2, warm_start=False; total time=   3.7s\n",
      "[CV] END C=10, fit_intercept=True, l1_ratio=0.75, penalty=l2, warm_start=False; total time=   3.0s\n",
      "[CV] END C=10, fit_intercept=True, l1_ratio=0.75, penalty=l2, warm_start=False; total time=   2.5s\n",
      "[CV] END C=10, fit_intercept=True, l1_ratio=0.75, penalty=l1, warm_start=True; total time=   0.0s\n",
      "[CV] END C=10, fit_intercept=True, l1_ratio=0.75, penalty=l1, warm_start=True; total time=   0.0s\n",
      "[CV] END C=10, fit_intercept=True, l1_ratio=0.75, penalty=l1, warm_start=True; total time=   0.0s\n",
      "[CV] END C=10, fit_intercept=True, l1_ratio=0.75, penalty=l1, warm_start=False; total time=   0.0s\n",
      "[CV] END C=10, fit_intercept=True, l1_ratio=0.75, penalty=l1, warm_start=False; total time=   0.0s\n",
      "[CV] END C=10, fit_intercept=True, l1_ratio=0.75, penalty=l1, warm_start=False; total time=   0.0s\n",
      "[CV] END C=10, fit_intercept=True, l1_ratio=0.75, penalty=elasticnet, warm_start=True; total time=   0.0s\n",
      "[CV] END C=10, fit_intercept=True, l1_ratio=0.75, penalty=elasticnet, warm_start=True; total time=   0.0s\n",
      "[CV] END C=10, fit_intercept=True, l1_ratio=0.75, penalty=elasticnet, warm_start=True; total time=   0.0s\n",
      "[CV] END C=10, fit_intercept=True, l1_ratio=0.75, penalty=elasticnet, warm_start=False; total time=   0.0s\n",
      "[CV] END C=10, fit_intercept=True, l1_ratio=0.75, penalty=elasticnet, warm_start=False; total time=   0.0s\n",
      "[CV] END C=10, fit_intercept=True, l1_ratio=0.75, penalty=elasticnet, warm_start=False; total time=   0.0s\n",
      "[CV] END C=10, fit_intercept=True, l1_ratio=0.9, penalty=l2, warm_start=True; total time=   2.2s\n",
      "[CV] END C=10, fit_intercept=True, l1_ratio=0.9, penalty=l2, warm_start=True; total time=   2.0s\n",
      "[CV] END C=10, fit_intercept=True, l1_ratio=0.9, penalty=l2, warm_start=True; total time=   2.1s\n",
      "[CV] END C=10, fit_intercept=True, l1_ratio=0.9, penalty=l2, warm_start=False; total time=   2.3s\n",
      "[CV] END C=10, fit_intercept=True, l1_ratio=0.9, penalty=l2, warm_start=False; total time=   1.9s\n",
      "[CV] END C=10, fit_intercept=True, l1_ratio=0.9, penalty=l2, warm_start=False; total time=   2.1s\n",
      "[CV] END C=10, fit_intercept=True, l1_ratio=0.9, penalty=l1, warm_start=True; total time=   0.0s\n",
      "[CV] END C=10, fit_intercept=True, l1_ratio=0.9, penalty=l1, warm_start=True; total time=   0.0s\n",
      "[CV] END C=10, fit_intercept=True, l1_ratio=0.9, penalty=l1, warm_start=True; total time=   0.0s\n",
      "[CV] END C=10, fit_intercept=True, l1_ratio=0.9, penalty=l1, warm_start=False; total time=   0.0s\n",
      "[CV] END C=10, fit_intercept=True, l1_ratio=0.9, penalty=l1, warm_start=False; total time=   0.0s\n",
      "[CV] END C=10, fit_intercept=True, l1_ratio=0.9, penalty=l1, warm_start=False; total time=   0.0s\n",
      "[CV] END C=10, fit_intercept=True, l1_ratio=0.9, penalty=elasticnet, warm_start=True; total time=   0.0s\n",
      "[CV] END C=10, fit_intercept=True, l1_ratio=0.9, penalty=elasticnet, warm_start=True; total time=   0.0s\n",
      "[CV] END C=10, fit_intercept=True, l1_ratio=0.9, penalty=elasticnet, warm_start=True; total time=   0.0s\n",
      "[CV] END C=10, fit_intercept=True, l1_ratio=0.9, penalty=elasticnet, warm_start=False; total time=   0.0s\n",
      "[CV] END C=10, fit_intercept=True, l1_ratio=0.9, penalty=elasticnet, warm_start=False; total time=   0.0s\n",
      "[CV] END C=10, fit_intercept=True, l1_ratio=0.9, penalty=elasticnet, warm_start=False; total time=   0.0s\n",
      "[CV] END C=10, fit_intercept=False, l1_ratio=0.25, penalty=l2, warm_start=True; total time=   2.0s\n",
      "[CV] END C=10, fit_intercept=False, l1_ratio=0.25, penalty=l2, warm_start=True; total time=   2.2s\n",
      "[CV] END C=10, fit_intercept=False, l1_ratio=0.25, penalty=l2, warm_start=True; total time=   2.3s\n",
      "[CV] END C=10, fit_intercept=False, l1_ratio=0.25, penalty=l2, warm_start=False; total time=   2.3s\n",
      "[CV] END C=10, fit_intercept=False, l1_ratio=0.25, penalty=l2, warm_start=False; total time=   2.4s\n",
      "[CV] END C=10, fit_intercept=False, l1_ratio=0.25, penalty=l2, warm_start=False; total time=   2.7s\n",
      "[CV] END C=10, fit_intercept=False, l1_ratio=0.25, penalty=l1, warm_start=True; total time=   0.0s\n",
      "[CV] END C=10, fit_intercept=False, l1_ratio=0.25, penalty=l1, warm_start=True; total time=   0.0s\n",
      "[CV] END C=10, fit_intercept=False, l1_ratio=0.25, penalty=l1, warm_start=True; total time=   0.0s\n",
      "[CV] END C=10, fit_intercept=False, l1_ratio=0.25, penalty=l1, warm_start=False; total time=   0.0s\n",
      "[CV] END C=10, fit_intercept=False, l1_ratio=0.25, penalty=l1, warm_start=False; total time=   0.0s\n",
      "[CV] END C=10, fit_intercept=False, l1_ratio=0.25, penalty=l1, warm_start=False; total time=   0.0s\n",
      "[CV] END C=10, fit_intercept=False, l1_ratio=0.25, penalty=elasticnet, warm_start=True; total time=   0.0s\n",
      "[CV] END C=10, fit_intercept=False, l1_ratio=0.25, penalty=elasticnet, warm_start=True; total time=   0.0s\n",
      "[CV] END C=10, fit_intercept=False, l1_ratio=0.25, penalty=elasticnet, warm_start=True; total time=   0.0s\n",
      "[CV] END C=10, fit_intercept=False, l1_ratio=0.25, penalty=elasticnet, warm_start=False; total time=   0.0s\n",
      "[CV] END C=10, fit_intercept=False, l1_ratio=0.25, penalty=elasticnet, warm_start=False; total time=   0.0s\n",
      "[CV] END C=10, fit_intercept=False, l1_ratio=0.25, penalty=elasticnet, warm_start=False; total time=   0.0s\n",
      "[CV] END C=10, fit_intercept=False, l1_ratio=0.5, penalty=l2, warm_start=True; total time=   2.1s\n",
      "[CV] END C=10, fit_intercept=False, l1_ratio=0.5, penalty=l2, warm_start=True; total time=   3.1s\n",
      "[CV] END C=10, fit_intercept=False, l1_ratio=0.5, penalty=l2, warm_start=True; total time=   2.4s\n",
      "[CV] END C=10, fit_intercept=False, l1_ratio=0.5, penalty=l2, warm_start=False; total time=   2.1s\n",
      "[CV] END C=10, fit_intercept=False, l1_ratio=0.5, penalty=l2, warm_start=False; total time=   2.0s\n",
      "[CV] END C=10, fit_intercept=False, l1_ratio=0.5, penalty=l2, warm_start=False; total time=   2.1s\n",
      "[CV] END C=10, fit_intercept=False, l1_ratio=0.5, penalty=l1, warm_start=True; total time=   0.0s\n",
      "[CV] END C=10, fit_intercept=False, l1_ratio=0.5, penalty=l1, warm_start=True; total time=   0.0s\n",
      "[CV] END C=10, fit_intercept=False, l1_ratio=0.5, penalty=l1, warm_start=True; total time=   0.0s\n",
      "[CV] END C=10, fit_intercept=False, l1_ratio=0.5, penalty=l1, warm_start=False; total time=   0.0s\n",
      "[CV] END C=10, fit_intercept=False, l1_ratio=0.5, penalty=l1, warm_start=False; total time=   0.0s\n",
      "[CV] END C=10, fit_intercept=False, l1_ratio=0.5, penalty=l1, warm_start=False; total time=   0.0s\n",
      "[CV] END C=10, fit_intercept=False, l1_ratio=0.5, penalty=elasticnet, warm_start=True; total time=   0.0s\n"
     ]
    },
    {
     "name": "stdout",
     "output_type": "stream",
     "text": [
      "[CV] END C=10, fit_intercept=False, l1_ratio=0.5, penalty=elasticnet, warm_start=True; total time=   0.0s\n",
      "[CV] END C=10, fit_intercept=False, l1_ratio=0.5, penalty=elasticnet, warm_start=True; total time=   0.0s\n",
      "[CV] END C=10, fit_intercept=False, l1_ratio=0.5, penalty=elasticnet, warm_start=False; total time=   0.0s\n",
      "[CV] END C=10, fit_intercept=False, l1_ratio=0.5, penalty=elasticnet, warm_start=False; total time=   0.0s\n",
      "[CV] END C=10, fit_intercept=False, l1_ratio=0.5, penalty=elasticnet, warm_start=False; total time=   0.0s\n",
      "[CV] END C=10, fit_intercept=False, l1_ratio=0.75, penalty=l2, warm_start=True; total time=   2.1s\n",
      "[CV] END C=10, fit_intercept=False, l1_ratio=0.75, penalty=l2, warm_start=True; total time=   3.0s\n",
      "[CV] END C=10, fit_intercept=False, l1_ratio=0.75, penalty=l2, warm_start=True; total time=   2.4s\n",
      "[CV] END C=10, fit_intercept=False, l1_ratio=0.75, penalty=l2, warm_start=False; total time=   2.5s\n",
      "[CV] END C=10, fit_intercept=False, l1_ratio=0.75, penalty=l2, warm_start=False; total time=   3.2s\n",
      "[CV] END C=10, fit_intercept=False, l1_ratio=0.75, penalty=l2, warm_start=False; total time=   2.7s\n",
      "[CV] END C=10, fit_intercept=False, l1_ratio=0.75, penalty=l1, warm_start=True; total time=   0.0s\n",
      "[CV] END C=10, fit_intercept=False, l1_ratio=0.75, penalty=l1, warm_start=True; total time=   0.0s\n",
      "[CV] END C=10, fit_intercept=False, l1_ratio=0.75, penalty=l1, warm_start=True; total time=   0.0s\n",
      "[CV] END C=10, fit_intercept=False, l1_ratio=0.75, penalty=l1, warm_start=False; total time=   0.0s\n",
      "[CV] END C=10, fit_intercept=False, l1_ratio=0.75, penalty=l1, warm_start=False; total time=   0.0s\n",
      "[CV] END C=10, fit_intercept=False, l1_ratio=0.75, penalty=l1, warm_start=False; total time=   0.0s\n",
      "[CV] END C=10, fit_intercept=False, l1_ratio=0.75, penalty=elasticnet, warm_start=True; total time=   0.0s\n",
      "[CV] END C=10, fit_intercept=False, l1_ratio=0.75, penalty=elasticnet, warm_start=True; total time=   0.0s\n",
      "[CV] END C=10, fit_intercept=False, l1_ratio=0.75, penalty=elasticnet, warm_start=True; total time=   0.0s\n",
      "[CV] END C=10, fit_intercept=False, l1_ratio=0.75, penalty=elasticnet, warm_start=False; total time=   0.0s\n",
      "[CV] END C=10, fit_intercept=False, l1_ratio=0.75, penalty=elasticnet, warm_start=False; total time=   0.0s\n",
      "[CV] END C=10, fit_intercept=False, l1_ratio=0.75, penalty=elasticnet, warm_start=False; total time=   0.0s\n",
      "[CV] END C=10, fit_intercept=False, l1_ratio=0.9, penalty=l2, warm_start=True; total time=   2.3s\n",
      "[CV] END C=10, fit_intercept=False, l1_ratio=0.9, penalty=l2, warm_start=True; total time=   2.0s\n",
      "[CV] END C=10, fit_intercept=False, l1_ratio=0.9, penalty=l2, warm_start=True; total time=   2.1s\n",
      "[CV] END C=10, fit_intercept=False, l1_ratio=0.9, penalty=l2, warm_start=False; total time=   2.0s\n",
      "[CV] END C=10, fit_intercept=False, l1_ratio=0.9, penalty=l2, warm_start=False; total time=   2.4s\n",
      "[CV] END C=10, fit_intercept=False, l1_ratio=0.9, penalty=l2, warm_start=False; total time=   2.5s\n",
      "[CV] END C=10, fit_intercept=False, l1_ratio=0.9, penalty=l1, warm_start=True; total time=   0.0s\n",
      "[CV] END C=10, fit_intercept=False, l1_ratio=0.9, penalty=l1, warm_start=True; total time=   0.0s\n",
      "[CV] END C=10, fit_intercept=False, l1_ratio=0.9, penalty=l1, warm_start=True; total time=   0.0s\n",
      "[CV] END C=10, fit_intercept=False, l1_ratio=0.9, penalty=l1, warm_start=False; total time=   0.0s\n",
      "[CV] END C=10, fit_intercept=False, l1_ratio=0.9, penalty=l1, warm_start=False; total time=   0.0s\n",
      "[CV] END C=10, fit_intercept=False, l1_ratio=0.9, penalty=l1, warm_start=False; total time=   0.0s\n",
      "[CV] END C=10, fit_intercept=False, l1_ratio=0.9, penalty=elasticnet, warm_start=True; total time=   0.0s\n",
      "[CV] END C=10, fit_intercept=False, l1_ratio=0.9, penalty=elasticnet, warm_start=True; total time=   0.0s\n",
      "[CV] END C=10, fit_intercept=False, l1_ratio=0.9, penalty=elasticnet, warm_start=True; total time=   0.0s\n",
      "[CV] END C=10, fit_intercept=False, l1_ratio=0.9, penalty=elasticnet, warm_start=False; total time=   0.0s\n",
      "[CV] END C=10, fit_intercept=False, l1_ratio=0.9, penalty=elasticnet, warm_start=False; total time=   0.0s\n",
      "[CV] END C=10, fit_intercept=False, l1_ratio=0.9, penalty=elasticnet, warm_start=False; total time=   0.0s\n",
      "[CV] END C=1.0, fit_intercept=True, l1_ratio=0.25, penalty=l2, warm_start=True; total time=   3.4s\n",
      "[CV] END C=1.0, fit_intercept=True, l1_ratio=0.25, penalty=l2, warm_start=True; total time=   1.9s\n",
      "[CV] END C=1.0, fit_intercept=True, l1_ratio=0.25, penalty=l2, warm_start=True; total time=   2.3s\n",
      "[CV] END C=1.0, fit_intercept=True, l1_ratio=0.25, penalty=l2, warm_start=False; total time=   2.1s\n",
      "[CV] END C=1.0, fit_intercept=True, l1_ratio=0.25, penalty=l2, warm_start=False; total time=   2.0s\n",
      "[CV] END C=1.0, fit_intercept=True, l1_ratio=0.25, penalty=l2, warm_start=False; total time=   2.1s\n",
      "[CV] END C=1.0, fit_intercept=True, l1_ratio=0.25, penalty=l1, warm_start=True; total time=   0.0s\n",
      "[CV] END C=1.0, fit_intercept=True, l1_ratio=0.25, penalty=l1, warm_start=True; total time=   0.0s\n",
      "[CV] END C=1.0, fit_intercept=True, l1_ratio=0.25, penalty=l1, warm_start=True; total time=   0.0s\n",
      "[CV] END C=1.0, fit_intercept=True, l1_ratio=0.25, penalty=l1, warm_start=False; total time=   0.0s\n",
      "[CV] END C=1.0, fit_intercept=True, l1_ratio=0.25, penalty=l1, warm_start=False; total time=   0.0s\n",
      "[CV] END C=1.0, fit_intercept=True, l1_ratio=0.25, penalty=l1, warm_start=False; total time=   0.0s\n",
      "[CV] END C=1.0, fit_intercept=True, l1_ratio=0.25, penalty=elasticnet, warm_start=True; total time=   0.0s\n",
      "[CV] END C=1.0, fit_intercept=True, l1_ratio=0.25, penalty=elasticnet, warm_start=True; total time=   0.0s\n",
      "[CV] END C=1.0, fit_intercept=True, l1_ratio=0.25, penalty=elasticnet, warm_start=True; total time=   0.0s\n",
      "[CV] END C=1.0, fit_intercept=True, l1_ratio=0.25, penalty=elasticnet, warm_start=False; total time=   0.0s\n",
      "[CV] END C=1.0, fit_intercept=True, l1_ratio=0.25, penalty=elasticnet, warm_start=False; total time=   0.0s\n",
      "[CV] END C=1.0, fit_intercept=True, l1_ratio=0.25, penalty=elasticnet, warm_start=False; total time=   0.0s\n",
      "[CV] END C=1.0, fit_intercept=True, l1_ratio=0.5, penalty=l2, warm_start=True; total time=   2.2s\n",
      "[CV] END C=1.0, fit_intercept=True, l1_ratio=0.5, penalty=l2, warm_start=True; total time=   1.9s\n",
      "[CV] END C=1.0, fit_intercept=True, l1_ratio=0.5, penalty=l2, warm_start=True; total time=   2.0s\n",
      "[CV] END C=1.0, fit_intercept=True, l1_ratio=0.5, penalty=l2, warm_start=False; total time=   2.1s\n",
      "[CV] END C=1.0, fit_intercept=True, l1_ratio=0.5, penalty=l2, warm_start=False; total time=   1.9s\n",
      "[CV] END C=1.0, fit_intercept=True, l1_ratio=0.5, penalty=l2, warm_start=False; total time=   2.0s\n",
      "[CV] END C=1.0, fit_intercept=True, l1_ratio=0.5, penalty=l1, warm_start=True; total time=   0.0s\n",
      "[CV] END C=1.0, fit_intercept=True, l1_ratio=0.5, penalty=l1, warm_start=True; total time=   0.0s\n",
      "[CV] END C=1.0, fit_intercept=True, l1_ratio=0.5, penalty=l1, warm_start=True; total time=   0.0s\n",
      "[CV] END C=1.0, fit_intercept=True, l1_ratio=0.5, penalty=l1, warm_start=False; total time=   0.0s\n",
      "[CV] END C=1.0, fit_intercept=True, l1_ratio=0.5, penalty=l1, warm_start=False; total time=   0.0s\n",
      "[CV] END C=1.0, fit_intercept=True, l1_ratio=0.5, penalty=l1, warm_start=False; total time=   0.0s\n",
      "[CV] END C=1.0, fit_intercept=True, l1_ratio=0.5, penalty=elasticnet, warm_start=True; total time=   0.0s\n",
      "[CV] END C=1.0, fit_intercept=True, l1_ratio=0.5, penalty=elasticnet, warm_start=True; total time=   0.0s\n",
      "[CV] END C=1.0, fit_intercept=True, l1_ratio=0.5, penalty=elasticnet, warm_start=True; total time=   0.0s\n",
      "[CV] END C=1.0, fit_intercept=True, l1_ratio=0.5, penalty=elasticnet, warm_start=False; total time=   0.0s\n",
      "[CV] END C=1.0, fit_intercept=True, l1_ratio=0.5, penalty=elasticnet, warm_start=False; total time=   0.0s\n",
      "[CV] END C=1.0, fit_intercept=True, l1_ratio=0.5, penalty=elasticnet, warm_start=False; total time=   0.0s\n",
      "[CV] END C=1.0, fit_intercept=True, l1_ratio=0.75, penalty=l2, warm_start=True; total time=   2.0s\n",
      "[CV] END C=1.0, fit_intercept=True, l1_ratio=0.75, penalty=l2, warm_start=True; total time=   1.9s\n",
      "[CV] END C=1.0, fit_intercept=True, l1_ratio=0.75, penalty=l2, warm_start=True; total time=   1.9s\n",
      "[CV] END C=1.0, fit_intercept=True, l1_ratio=0.75, penalty=l2, warm_start=False; total time=   2.0s\n"
     ]
    },
    {
     "name": "stdout",
     "output_type": "stream",
     "text": [
      "[CV] END C=1.0, fit_intercept=True, l1_ratio=0.75, penalty=l2, warm_start=False; total time=   2.0s\n",
      "[CV] END C=1.0, fit_intercept=True, l1_ratio=0.75, penalty=l2, warm_start=False; total time=   2.1s\n",
      "[CV] END C=1.0, fit_intercept=True, l1_ratio=0.75, penalty=l1, warm_start=True; total time=   0.0s\n",
      "[CV] END C=1.0, fit_intercept=True, l1_ratio=0.75, penalty=l1, warm_start=True; total time=   0.0s\n",
      "[CV] END C=1.0, fit_intercept=True, l1_ratio=0.75, penalty=l1, warm_start=True; total time=   0.0s\n",
      "[CV] END C=1.0, fit_intercept=True, l1_ratio=0.75, penalty=l1, warm_start=False; total time=   0.0s\n",
      "[CV] END C=1.0, fit_intercept=True, l1_ratio=0.75, penalty=l1, warm_start=False; total time=   0.0s\n",
      "[CV] END C=1.0, fit_intercept=True, l1_ratio=0.75, penalty=l1, warm_start=False; total time=   0.0s\n",
      "[CV] END C=1.0, fit_intercept=True, l1_ratio=0.75, penalty=elasticnet, warm_start=True; total time=   0.0s\n",
      "[CV] END C=1.0, fit_intercept=True, l1_ratio=0.75, penalty=elasticnet, warm_start=True; total time=   0.0s\n",
      "[CV] END C=1.0, fit_intercept=True, l1_ratio=0.75, penalty=elasticnet, warm_start=True; total time=   0.0s\n",
      "[CV] END C=1.0, fit_intercept=True, l1_ratio=0.75, penalty=elasticnet, warm_start=False; total time=   0.0s\n",
      "[CV] END C=1.0, fit_intercept=True, l1_ratio=0.75, penalty=elasticnet, warm_start=False; total time=   0.0s\n",
      "[CV] END C=1.0, fit_intercept=True, l1_ratio=0.75, penalty=elasticnet, warm_start=False; total time=   0.0s\n",
      "[CV] END C=1.0, fit_intercept=True, l1_ratio=0.9, penalty=l2, warm_start=True; total time=   2.0s\n",
      "[CV] END C=1.0, fit_intercept=True, l1_ratio=0.9, penalty=l2, warm_start=True; total time=   1.9s\n",
      "[CV] END C=1.0, fit_intercept=True, l1_ratio=0.9, penalty=l2, warm_start=True; total time=   2.0s\n",
      "[CV] END C=1.0, fit_intercept=True, l1_ratio=0.9, penalty=l2, warm_start=False; total time=   2.1s\n",
      "[CV] END C=1.0, fit_intercept=True, l1_ratio=0.9, penalty=l2, warm_start=False; total time=   1.9s\n",
      "[CV] END C=1.0, fit_intercept=True, l1_ratio=0.9, penalty=l2, warm_start=False; total time=   2.0s\n",
      "[CV] END C=1.0, fit_intercept=True, l1_ratio=0.9, penalty=l1, warm_start=True; total time=   0.0s\n",
      "[CV] END C=1.0, fit_intercept=True, l1_ratio=0.9, penalty=l1, warm_start=True; total time=   0.0s\n",
      "[CV] END C=1.0, fit_intercept=True, l1_ratio=0.9, penalty=l1, warm_start=True; total time=   0.0s\n",
      "[CV] END C=1.0, fit_intercept=True, l1_ratio=0.9, penalty=l1, warm_start=False; total time=   0.0s\n",
      "[CV] END C=1.0, fit_intercept=True, l1_ratio=0.9, penalty=l1, warm_start=False; total time=   0.0s\n",
      "[CV] END C=1.0, fit_intercept=True, l1_ratio=0.9, penalty=l1, warm_start=False; total time=   0.0s\n",
      "[CV] END C=1.0, fit_intercept=True, l1_ratio=0.9, penalty=elasticnet, warm_start=True; total time=   0.0s\n",
      "[CV] END C=1.0, fit_intercept=True, l1_ratio=0.9, penalty=elasticnet, warm_start=True; total time=   0.0s\n",
      "[CV] END C=1.0, fit_intercept=True, l1_ratio=0.9, penalty=elasticnet, warm_start=True; total time=   0.0s\n",
      "[CV] END C=1.0, fit_intercept=True, l1_ratio=0.9, penalty=elasticnet, warm_start=False; total time=   0.0s\n",
      "[CV] END C=1.0, fit_intercept=True, l1_ratio=0.9, penalty=elasticnet, warm_start=False; total time=   0.0s\n",
      "[CV] END C=1.0, fit_intercept=True, l1_ratio=0.9, penalty=elasticnet, warm_start=False; total time=   0.0s\n",
      "[CV] END C=1.0, fit_intercept=False, l1_ratio=0.25, penalty=l2, warm_start=True; total time=   1.9s\n",
      "[CV] END C=1.0, fit_intercept=False, l1_ratio=0.25, penalty=l2, warm_start=True; total time=   1.9s\n",
      "[CV] END C=1.0, fit_intercept=False, l1_ratio=0.25, penalty=l2, warm_start=True; total time=   1.9s\n",
      "[CV] END C=1.0, fit_intercept=False, l1_ratio=0.25, penalty=l2, warm_start=False; total time=   2.0s\n",
      "[CV] END C=1.0, fit_intercept=False, l1_ratio=0.25, penalty=l2, warm_start=False; total time=   1.9s\n",
      "[CV] END C=1.0, fit_intercept=False, l1_ratio=0.25, penalty=l2, warm_start=False; total time=   2.0s\n",
      "[CV] END C=1.0, fit_intercept=False, l1_ratio=0.25, penalty=l1, warm_start=True; total time=   0.0s\n",
      "[CV] END C=1.0, fit_intercept=False, l1_ratio=0.25, penalty=l1, warm_start=True; total time=   0.0s\n",
      "[CV] END C=1.0, fit_intercept=False, l1_ratio=0.25, penalty=l1, warm_start=True; total time=   0.0s\n",
      "[CV] END C=1.0, fit_intercept=False, l1_ratio=0.25, penalty=l1, warm_start=False; total time=   0.0s\n",
      "[CV] END C=1.0, fit_intercept=False, l1_ratio=0.25, penalty=l1, warm_start=False; total time=   0.0s\n",
      "[CV] END C=1.0, fit_intercept=False, l1_ratio=0.25, penalty=l1, warm_start=False; total time=   0.0s\n",
      "[CV] END C=1.0, fit_intercept=False, l1_ratio=0.25, penalty=elasticnet, warm_start=True; total time=   0.0s\n",
      "[CV] END C=1.0, fit_intercept=False, l1_ratio=0.25, penalty=elasticnet, warm_start=True; total time=   0.0s\n",
      "[CV] END C=1.0, fit_intercept=False, l1_ratio=0.25, penalty=elasticnet, warm_start=True; total time=   0.0s\n",
      "[CV] END C=1.0, fit_intercept=False, l1_ratio=0.25, penalty=elasticnet, warm_start=False; total time=   0.0s\n",
      "[CV] END C=1.0, fit_intercept=False, l1_ratio=0.25, penalty=elasticnet, warm_start=False; total time=   0.0s\n",
      "[CV] END C=1.0, fit_intercept=False, l1_ratio=0.25, penalty=elasticnet, warm_start=False; total time=   0.0s\n",
      "[CV] END C=1.0, fit_intercept=False, l1_ratio=0.5, penalty=l2, warm_start=True; total time=   1.9s\n",
      "[CV] END C=1.0, fit_intercept=False, l1_ratio=0.5, penalty=l2, warm_start=True; total time=   1.8s\n",
      "[CV] END C=1.0, fit_intercept=False, l1_ratio=0.5, penalty=l2, warm_start=True; total time=   1.9s\n",
      "[CV] END C=1.0, fit_intercept=False, l1_ratio=0.5, penalty=l2, warm_start=False; total time=   2.0s\n",
      "[CV] END C=1.0, fit_intercept=False, l1_ratio=0.5, penalty=l2, warm_start=False; total time=   1.9s\n",
      "[CV] END C=1.0, fit_intercept=False, l1_ratio=0.5, penalty=l2, warm_start=False; total time=   1.9s\n",
      "[CV] END C=1.0, fit_intercept=False, l1_ratio=0.5, penalty=l1, warm_start=True; total time=   0.0s\n",
      "[CV] END C=1.0, fit_intercept=False, l1_ratio=0.5, penalty=l1, warm_start=True; total time=   0.0s\n",
      "[CV] END C=1.0, fit_intercept=False, l1_ratio=0.5, penalty=l1, warm_start=True; total time=   0.0s\n",
      "[CV] END C=1.0, fit_intercept=False, l1_ratio=0.5, penalty=l1, warm_start=False; total time=   0.0s\n",
      "[CV] END C=1.0, fit_intercept=False, l1_ratio=0.5, penalty=l1, warm_start=False; total time=   0.0s\n",
      "[CV] END C=1.0, fit_intercept=False, l1_ratio=0.5, penalty=l1, warm_start=False; total time=   0.0s\n",
      "[CV] END C=1.0, fit_intercept=False, l1_ratio=0.5, penalty=elasticnet, warm_start=True; total time=   0.0s\n",
      "[CV] END C=1.0, fit_intercept=False, l1_ratio=0.5, penalty=elasticnet, warm_start=True; total time=   0.0s\n",
      "[CV] END C=1.0, fit_intercept=False, l1_ratio=0.5, penalty=elasticnet, warm_start=True; total time=   0.0s\n",
      "[CV] END C=1.0, fit_intercept=False, l1_ratio=0.5, penalty=elasticnet, warm_start=False; total time=   0.0s\n",
      "[CV] END C=1.0, fit_intercept=False, l1_ratio=0.5, penalty=elasticnet, warm_start=False; total time=   0.0s\n",
      "[CV] END C=1.0, fit_intercept=False, l1_ratio=0.5, penalty=elasticnet, warm_start=False; total time=   0.0s\n",
      "[CV] END C=1.0, fit_intercept=False, l1_ratio=0.75, penalty=l2, warm_start=True; total time=   1.9s\n",
      "[CV] END C=1.0, fit_intercept=False, l1_ratio=0.75, penalty=l2, warm_start=True; total time=   2.0s\n",
      "[CV] END C=1.0, fit_intercept=False, l1_ratio=0.75, penalty=l2, warm_start=True; total time=   2.0s\n",
      "[CV] END C=1.0, fit_intercept=False, l1_ratio=0.75, penalty=l2, warm_start=False; total time=   1.9s\n",
      "[CV] END C=1.0, fit_intercept=False, l1_ratio=0.75, penalty=l2, warm_start=False; total time=   2.3s\n",
      "[CV] END C=1.0, fit_intercept=False, l1_ratio=0.75, penalty=l2, warm_start=False; total time=   2.4s\n",
      "[CV] END C=1.0, fit_intercept=False, l1_ratio=0.75, penalty=l1, warm_start=True; total time=   0.0s\n",
      "[CV] END C=1.0, fit_intercept=False, l1_ratio=0.75, penalty=l1, warm_start=True; total time=   0.0s\n",
      "[CV] END C=1.0, fit_intercept=False, l1_ratio=0.75, penalty=l1, warm_start=True; total time=   0.0s\n",
      "[CV] END C=1.0, fit_intercept=False, l1_ratio=0.75, penalty=l1, warm_start=False; total time=   0.0s\n",
      "[CV] END C=1.0, fit_intercept=False, l1_ratio=0.75, penalty=l1, warm_start=False; total time=   0.0s\n",
      "[CV] END C=1.0, fit_intercept=False, l1_ratio=0.75, penalty=l1, warm_start=False; total time=   0.0s\n",
      "[CV] END C=1.0, fit_intercept=False, l1_ratio=0.75, penalty=elasticnet, warm_start=True; total time=   0.0s\n",
      "[CV] END C=1.0, fit_intercept=False, l1_ratio=0.75, penalty=elasticnet, warm_start=True; total time=   0.0s\n",
      "[CV] END C=1.0, fit_intercept=False, l1_ratio=0.75, penalty=elasticnet, warm_start=True; total time=   0.0s\n",
      "[CV] END C=1.0, fit_intercept=False, l1_ratio=0.75, penalty=elasticnet, warm_start=False; total time=   0.0s\n"
     ]
    },
    {
     "name": "stdout",
     "output_type": "stream",
     "text": [
      "[CV] END C=1.0, fit_intercept=False, l1_ratio=0.75, penalty=elasticnet, warm_start=False; total time=   0.0s\n",
      "[CV] END C=1.0, fit_intercept=False, l1_ratio=0.75, penalty=elasticnet, warm_start=False; total time=   0.0s\n",
      "[CV] END C=1.0, fit_intercept=False, l1_ratio=0.9, penalty=l2, warm_start=True; total time=   2.2s\n",
      "[CV] END C=1.0, fit_intercept=False, l1_ratio=0.9, penalty=l2, warm_start=True; total time=   2.3s\n",
      "[CV] END C=1.0, fit_intercept=False, l1_ratio=0.9, penalty=l2, warm_start=True; total time=   2.2s\n",
      "[CV] END C=1.0, fit_intercept=False, l1_ratio=0.9, penalty=l2, warm_start=False; total time=   1.9s\n",
      "[CV] END C=1.0, fit_intercept=False, l1_ratio=0.9, penalty=l2, warm_start=False; total time=   1.9s\n",
      "[CV] END C=1.0, fit_intercept=False, l1_ratio=0.9, penalty=l2, warm_start=False; total time=   2.2s\n",
      "[CV] END C=1.0, fit_intercept=False, l1_ratio=0.9, penalty=l1, warm_start=True; total time=   0.0s\n",
      "[CV] END C=1.0, fit_intercept=False, l1_ratio=0.9, penalty=l1, warm_start=True; total time=   0.0s\n",
      "[CV] END C=1.0, fit_intercept=False, l1_ratio=0.9, penalty=l1, warm_start=True; total time=   0.0s\n",
      "[CV] END C=1.0, fit_intercept=False, l1_ratio=0.9, penalty=l1, warm_start=False; total time=   0.0s\n",
      "[CV] END C=1.0, fit_intercept=False, l1_ratio=0.9, penalty=l1, warm_start=False; total time=   0.0s\n",
      "[CV] END C=1.0, fit_intercept=False, l1_ratio=0.9, penalty=l1, warm_start=False; total time=   0.0s\n",
      "[CV] END C=1.0, fit_intercept=False, l1_ratio=0.9, penalty=elasticnet, warm_start=True; total time=   0.0s\n",
      "[CV] END C=1.0, fit_intercept=False, l1_ratio=0.9, penalty=elasticnet, warm_start=True; total time=   0.0s\n",
      "[CV] END C=1.0, fit_intercept=False, l1_ratio=0.9, penalty=elasticnet, warm_start=True; total time=   0.0s\n",
      "[CV] END C=1.0, fit_intercept=False, l1_ratio=0.9, penalty=elasticnet, warm_start=False; total time=   0.0s\n",
      "[CV] END C=1.0, fit_intercept=False, l1_ratio=0.9, penalty=elasticnet, warm_start=False; total time=   0.0s\n",
      "[CV] END C=1.0, fit_intercept=False, l1_ratio=0.9, penalty=elasticnet, warm_start=False; total time=   0.0s\n",
      "[CV] END C=0.1, fit_intercept=True, l1_ratio=0.25, penalty=l2, warm_start=True; total time=   2.0s\n",
      "[CV] END C=0.1, fit_intercept=True, l1_ratio=0.25, penalty=l2, warm_start=True; total time=   2.0s\n",
      "[CV] END C=0.1, fit_intercept=True, l1_ratio=0.25, penalty=l2, warm_start=True; total time=   2.3s\n",
      "[CV] END C=0.1, fit_intercept=True, l1_ratio=0.25, penalty=l2, warm_start=False; total time=   2.4s\n",
      "[CV] END C=0.1, fit_intercept=True, l1_ratio=0.25, penalty=l2, warm_start=False; total time=   2.0s\n",
      "[CV] END C=0.1, fit_intercept=True, l1_ratio=0.25, penalty=l2, warm_start=False; total time=   1.9s\n",
      "[CV] END C=0.1, fit_intercept=True, l1_ratio=0.25, penalty=l1, warm_start=True; total time=   0.0s\n",
      "[CV] END C=0.1, fit_intercept=True, l1_ratio=0.25, penalty=l1, warm_start=True; total time=   0.0s\n",
      "[CV] END C=0.1, fit_intercept=True, l1_ratio=0.25, penalty=l1, warm_start=True; total time=   0.0s\n",
      "[CV] END C=0.1, fit_intercept=True, l1_ratio=0.25, penalty=l1, warm_start=False; total time=   0.0s\n",
      "[CV] END C=0.1, fit_intercept=True, l1_ratio=0.25, penalty=l1, warm_start=False; total time=   0.0s\n",
      "[CV] END C=0.1, fit_intercept=True, l1_ratio=0.25, penalty=l1, warm_start=False; total time=   0.0s\n",
      "[CV] END C=0.1, fit_intercept=True, l1_ratio=0.25, penalty=elasticnet, warm_start=True; total time=   0.0s\n",
      "[CV] END C=0.1, fit_intercept=True, l1_ratio=0.25, penalty=elasticnet, warm_start=True; total time=   0.0s\n",
      "[CV] END C=0.1, fit_intercept=True, l1_ratio=0.25, penalty=elasticnet, warm_start=True; total time=   0.0s\n",
      "[CV] END C=0.1, fit_intercept=True, l1_ratio=0.25, penalty=elasticnet, warm_start=False; total time=   0.0s\n",
      "[CV] END C=0.1, fit_intercept=True, l1_ratio=0.25, penalty=elasticnet, warm_start=False; total time=   0.0s\n",
      "[CV] END C=0.1, fit_intercept=True, l1_ratio=0.25, penalty=elasticnet, warm_start=False; total time=   0.0s\n",
      "[CV] END C=0.1, fit_intercept=True, l1_ratio=0.5, penalty=l2, warm_start=True; total time=   1.9s\n",
      "[CV] END C=0.1, fit_intercept=True, l1_ratio=0.5, penalty=l2, warm_start=True; total time=   2.0s\n",
      "[CV] END C=0.1, fit_intercept=True, l1_ratio=0.5, penalty=l2, warm_start=True; total time=   1.8s\n",
      "[CV] END C=0.1, fit_intercept=True, l1_ratio=0.5, penalty=l2, warm_start=False; total time=   1.9s\n",
      "[CV] END C=0.1, fit_intercept=True, l1_ratio=0.5, penalty=l2, warm_start=False; total time=   2.1s\n",
      "[CV] END C=0.1, fit_intercept=True, l1_ratio=0.5, penalty=l2, warm_start=False; total time=   2.5s\n",
      "[CV] END C=0.1, fit_intercept=True, l1_ratio=0.5, penalty=l1, warm_start=True; total time=   0.0s\n",
      "[CV] END C=0.1, fit_intercept=True, l1_ratio=0.5, penalty=l1, warm_start=True; total time=   0.0s\n",
      "[CV] END C=0.1, fit_intercept=True, l1_ratio=0.5, penalty=l1, warm_start=True; total time=   0.0s\n",
      "[CV] END C=0.1, fit_intercept=True, l1_ratio=0.5, penalty=l1, warm_start=False; total time=   0.0s\n",
      "[CV] END C=0.1, fit_intercept=True, l1_ratio=0.5, penalty=l1, warm_start=False; total time=   0.0s\n",
      "[CV] END C=0.1, fit_intercept=True, l1_ratio=0.5, penalty=l1, warm_start=False; total time=   0.0s\n",
      "[CV] END C=0.1, fit_intercept=True, l1_ratio=0.5, penalty=elasticnet, warm_start=True; total time=   0.0s\n",
      "[CV] END C=0.1, fit_intercept=True, l1_ratio=0.5, penalty=elasticnet, warm_start=True; total time=   0.0s\n",
      "[CV] END C=0.1, fit_intercept=True, l1_ratio=0.5, penalty=elasticnet, warm_start=True; total time=   0.0s\n",
      "[CV] END C=0.1, fit_intercept=True, l1_ratio=0.5, penalty=elasticnet, warm_start=False; total time=   0.0s\n",
      "[CV] END C=0.1, fit_intercept=True, l1_ratio=0.5, penalty=elasticnet, warm_start=False; total time=   0.0s\n",
      "[CV] END C=0.1, fit_intercept=True, l1_ratio=0.5, penalty=elasticnet, warm_start=False; total time=   0.0s\n",
      "[CV] END C=0.1, fit_intercept=True, l1_ratio=0.75, penalty=l2, warm_start=True; total time=   2.4s\n",
      "[CV] END C=0.1, fit_intercept=True, l1_ratio=0.75, penalty=l2, warm_start=True; total time=   2.5s\n",
      "[CV] END C=0.1, fit_intercept=True, l1_ratio=0.75, penalty=l2, warm_start=True; total time=   2.2s\n",
      "[CV] END C=0.1, fit_intercept=True, l1_ratio=0.75, penalty=l2, warm_start=False; total time=   2.4s\n",
      "[CV] END C=0.1, fit_intercept=True, l1_ratio=0.75, penalty=l2, warm_start=False; total time=   2.2s\n",
      "[CV] END C=0.1, fit_intercept=True, l1_ratio=0.75, penalty=l2, warm_start=False; total time=   2.1s\n",
      "[CV] END C=0.1, fit_intercept=True, l1_ratio=0.75, penalty=l1, warm_start=True; total time=   0.0s\n",
      "[CV] END C=0.1, fit_intercept=True, l1_ratio=0.75, penalty=l1, warm_start=True; total time=   0.0s\n",
      "[CV] END C=0.1, fit_intercept=True, l1_ratio=0.75, penalty=l1, warm_start=True; total time=   0.0s\n",
      "[CV] END C=0.1, fit_intercept=True, l1_ratio=0.75, penalty=l1, warm_start=False; total time=   0.0s\n",
      "[CV] END C=0.1, fit_intercept=True, l1_ratio=0.75, penalty=l1, warm_start=False; total time=   0.0s\n",
      "[CV] END C=0.1, fit_intercept=True, l1_ratio=0.75, penalty=l1, warm_start=False; total time=   0.0s\n",
      "[CV] END C=0.1, fit_intercept=True, l1_ratio=0.75, penalty=elasticnet, warm_start=True; total time=   0.0s\n",
      "[CV] END C=0.1, fit_intercept=True, l1_ratio=0.75, penalty=elasticnet, warm_start=True; total time=   0.0s\n",
      "[CV] END C=0.1, fit_intercept=True, l1_ratio=0.75, penalty=elasticnet, warm_start=True; total time=   0.0s\n",
      "[CV] END C=0.1, fit_intercept=True, l1_ratio=0.75, penalty=elasticnet, warm_start=False; total time=   0.0s\n",
      "[CV] END C=0.1, fit_intercept=True, l1_ratio=0.75, penalty=elasticnet, warm_start=False; total time=   0.0s\n",
      "[CV] END C=0.1, fit_intercept=True, l1_ratio=0.75, penalty=elasticnet, warm_start=False; total time=   0.0s\n",
      "[CV] END C=0.1, fit_intercept=True, l1_ratio=0.9, penalty=l2, warm_start=True; total time=   2.1s\n",
      "[CV] END C=0.1, fit_intercept=True, l1_ratio=0.9, penalty=l2, warm_start=True; total time=   2.5s\n",
      "[CV] END C=0.1, fit_intercept=True, l1_ratio=0.9, penalty=l2, warm_start=True; total time=   2.0s\n",
      "[CV] END C=0.1, fit_intercept=True, l1_ratio=0.9, penalty=l2, warm_start=False; total time=   2.2s\n",
      "[CV] END C=0.1, fit_intercept=True, l1_ratio=0.9, penalty=l2, warm_start=False; total time=   2.1s\n",
      "[CV] END C=0.1, fit_intercept=True, l1_ratio=0.9, penalty=l2, warm_start=False; total time=   2.1s\n",
      "[CV] END C=0.1, fit_intercept=True, l1_ratio=0.9, penalty=l1, warm_start=True; total time=   0.0s\n",
      "[CV] END C=0.1, fit_intercept=True, l1_ratio=0.9, penalty=l1, warm_start=True; total time=   0.0s\n",
      "[CV] END C=0.1, fit_intercept=True, l1_ratio=0.9, penalty=l1, warm_start=True; total time=   0.0s\n"
     ]
    },
    {
     "name": "stdout",
     "output_type": "stream",
     "text": [
      "[CV] END C=0.1, fit_intercept=True, l1_ratio=0.9, penalty=l1, warm_start=False; total time=   0.0s\n",
      "[CV] END C=0.1, fit_intercept=True, l1_ratio=0.9, penalty=l1, warm_start=False; total time=   0.0s\n",
      "[CV] END C=0.1, fit_intercept=True, l1_ratio=0.9, penalty=l1, warm_start=False; total time=   0.0s\n",
      "[CV] END C=0.1, fit_intercept=True, l1_ratio=0.9, penalty=elasticnet, warm_start=True; total time=   0.0s\n",
      "[CV] END C=0.1, fit_intercept=True, l1_ratio=0.9, penalty=elasticnet, warm_start=True; total time=   0.0s\n",
      "[CV] END C=0.1, fit_intercept=True, l1_ratio=0.9, penalty=elasticnet, warm_start=True; total time=   0.0s\n",
      "[CV] END C=0.1, fit_intercept=True, l1_ratio=0.9, penalty=elasticnet, warm_start=False; total time=   0.0s\n",
      "[CV] END C=0.1, fit_intercept=True, l1_ratio=0.9, penalty=elasticnet, warm_start=False; total time=   0.0s\n",
      "[CV] END C=0.1, fit_intercept=True, l1_ratio=0.9, penalty=elasticnet, warm_start=False; total time=   0.0s\n",
      "[CV] END C=0.1, fit_intercept=False, l1_ratio=0.25, penalty=l2, warm_start=True; total time=   2.1s\n",
      "[CV] END C=0.1, fit_intercept=False, l1_ratio=0.25, penalty=l2, warm_start=True; total time=   2.0s\n",
      "[CV] END C=0.1, fit_intercept=False, l1_ratio=0.25, penalty=l2, warm_start=True; total time=   1.9s\n",
      "[CV] END C=0.1, fit_intercept=False, l1_ratio=0.25, penalty=l2, warm_start=False; total time=   2.0s\n",
      "[CV] END C=0.1, fit_intercept=False, l1_ratio=0.25, penalty=l2, warm_start=False; total time=   1.9s\n",
      "[CV] END C=0.1, fit_intercept=False, l1_ratio=0.25, penalty=l2, warm_start=False; total time=   2.0s\n",
      "[CV] END C=0.1, fit_intercept=False, l1_ratio=0.25, penalty=l1, warm_start=True; total time=   0.0s\n",
      "[CV] END C=0.1, fit_intercept=False, l1_ratio=0.25, penalty=l1, warm_start=True; total time=   0.0s\n",
      "[CV] END C=0.1, fit_intercept=False, l1_ratio=0.25, penalty=l1, warm_start=True; total time=   0.0s\n",
      "[CV] END C=0.1, fit_intercept=False, l1_ratio=0.25, penalty=l1, warm_start=False; total time=   0.0s\n",
      "[CV] END C=0.1, fit_intercept=False, l1_ratio=0.25, penalty=l1, warm_start=False; total time=   0.0s\n",
      "[CV] END C=0.1, fit_intercept=False, l1_ratio=0.25, penalty=l1, warm_start=False; total time=   0.0s\n",
      "[CV] END C=0.1, fit_intercept=False, l1_ratio=0.25, penalty=elasticnet, warm_start=True; total time=   0.0s\n",
      "[CV] END C=0.1, fit_intercept=False, l1_ratio=0.25, penalty=elasticnet, warm_start=True; total time=   0.0s\n",
      "[CV] END C=0.1, fit_intercept=False, l1_ratio=0.25, penalty=elasticnet, warm_start=True; total time=   0.0s\n",
      "[CV] END C=0.1, fit_intercept=False, l1_ratio=0.25, penalty=elasticnet, warm_start=False; total time=   0.0s\n",
      "[CV] END C=0.1, fit_intercept=False, l1_ratio=0.25, penalty=elasticnet, warm_start=False; total time=   0.0s\n",
      "[CV] END C=0.1, fit_intercept=False, l1_ratio=0.25, penalty=elasticnet, warm_start=False; total time=   0.0s\n",
      "[CV] END C=0.1, fit_intercept=False, l1_ratio=0.5, penalty=l2, warm_start=True; total time=   2.0s\n",
      "[CV] END C=0.1, fit_intercept=False, l1_ratio=0.5, penalty=l2, warm_start=True; total time=   2.2s\n",
      "[CV] END C=0.1, fit_intercept=False, l1_ratio=0.5, penalty=l2, warm_start=True; total time=   3.6s\n",
      "[CV] END C=0.1, fit_intercept=False, l1_ratio=0.5, penalty=l2, warm_start=False; total time=   3.5s\n",
      "[CV] END C=0.1, fit_intercept=False, l1_ratio=0.5, penalty=l2, warm_start=False; total time=   2.4s\n",
      "[CV] END C=0.1, fit_intercept=False, l1_ratio=0.5, penalty=l2, warm_start=False; total time=   2.3s\n",
      "[CV] END C=0.1, fit_intercept=False, l1_ratio=0.5, penalty=l1, warm_start=True; total time=   0.0s\n",
      "[CV] END C=0.1, fit_intercept=False, l1_ratio=0.5, penalty=l1, warm_start=True; total time=   0.0s\n",
      "[CV] END C=0.1, fit_intercept=False, l1_ratio=0.5, penalty=l1, warm_start=True; total time=   0.0s\n",
      "[CV] END C=0.1, fit_intercept=False, l1_ratio=0.5, penalty=l1, warm_start=False; total time=   0.0s\n",
      "[CV] END C=0.1, fit_intercept=False, l1_ratio=0.5, penalty=l1, warm_start=False; total time=   0.0s\n",
      "[CV] END C=0.1, fit_intercept=False, l1_ratio=0.5, penalty=l1, warm_start=False; total time=   0.0s\n",
      "[CV] END C=0.1, fit_intercept=False, l1_ratio=0.5, penalty=elasticnet, warm_start=True; total time=   0.0s\n",
      "[CV] END C=0.1, fit_intercept=False, l1_ratio=0.5, penalty=elasticnet, warm_start=True; total time=   0.0s\n",
      "[CV] END C=0.1, fit_intercept=False, l1_ratio=0.5, penalty=elasticnet, warm_start=True; total time=   0.0s\n",
      "[CV] END C=0.1, fit_intercept=False, l1_ratio=0.5, penalty=elasticnet, warm_start=False; total time=   0.0s\n",
      "[CV] END C=0.1, fit_intercept=False, l1_ratio=0.5, penalty=elasticnet, warm_start=False; total time=   0.0s\n",
      "[CV] END C=0.1, fit_intercept=False, l1_ratio=0.5, penalty=elasticnet, warm_start=False; total time=   0.0s\n",
      "[CV] END C=0.1, fit_intercept=False, l1_ratio=0.75, penalty=l2, warm_start=True; total time=   2.2s\n",
      "[CV] END C=0.1, fit_intercept=False, l1_ratio=0.75, penalty=l2, warm_start=True; total time=   2.6s\n",
      "[CV] END C=0.1, fit_intercept=False, l1_ratio=0.75, penalty=l2, warm_start=True; total time=   2.3s\n",
      "[CV] END C=0.1, fit_intercept=False, l1_ratio=0.75, penalty=l2, warm_start=False; total time=   2.4s\n",
      "[CV] END C=0.1, fit_intercept=False, l1_ratio=0.75, penalty=l2, warm_start=False; total time=   2.6s\n",
      "[CV] END C=0.1, fit_intercept=False, l1_ratio=0.75, penalty=l2, warm_start=False; total time=   2.9s\n",
      "[CV] END C=0.1, fit_intercept=False, l1_ratio=0.75, penalty=l1, warm_start=True; total time=   0.0s\n",
      "[CV] END C=0.1, fit_intercept=False, l1_ratio=0.75, penalty=l1, warm_start=True; total time=   0.0s\n",
      "[CV] END C=0.1, fit_intercept=False, l1_ratio=0.75, penalty=l1, warm_start=True; total time=   0.0s\n",
      "[CV] END C=0.1, fit_intercept=False, l1_ratio=0.75, penalty=l1, warm_start=False; total time=   0.0s\n",
      "[CV] END C=0.1, fit_intercept=False, l1_ratio=0.75, penalty=l1, warm_start=False; total time=   0.0s\n",
      "[CV] END C=0.1, fit_intercept=False, l1_ratio=0.75, penalty=l1, warm_start=False; total time=   0.0s\n",
      "[CV] END C=0.1, fit_intercept=False, l1_ratio=0.75, penalty=elasticnet, warm_start=True; total time=   0.0s\n",
      "[CV] END C=0.1, fit_intercept=False, l1_ratio=0.75, penalty=elasticnet, warm_start=True; total time=   0.0s\n",
      "[CV] END C=0.1, fit_intercept=False, l1_ratio=0.75, penalty=elasticnet, warm_start=True; total time=   0.0s\n",
      "[CV] END C=0.1, fit_intercept=False, l1_ratio=0.75, penalty=elasticnet, warm_start=False; total time=   0.0s\n",
      "[CV] END C=0.1, fit_intercept=False, l1_ratio=0.75, penalty=elasticnet, warm_start=False; total time=   0.0s\n",
      "[CV] END C=0.1, fit_intercept=False, l1_ratio=0.75, penalty=elasticnet, warm_start=False; total time=   0.0s\n",
      "[CV] END C=0.1, fit_intercept=False, l1_ratio=0.9, penalty=l2, warm_start=True; total time=   2.1s\n",
      "[CV] END C=0.1, fit_intercept=False, l1_ratio=0.9, penalty=l2, warm_start=True; total time=   1.9s\n",
      "[CV] END C=0.1, fit_intercept=False, l1_ratio=0.9, penalty=l2, warm_start=True; total time=   3.4s\n",
      "[CV] END C=0.1, fit_intercept=False, l1_ratio=0.9, penalty=l2, warm_start=False; total time=   3.0s\n",
      "[CV] END C=0.1, fit_intercept=False, l1_ratio=0.9, penalty=l2, warm_start=False; total time=   2.5s\n",
      "[CV] END C=0.1, fit_intercept=False, l1_ratio=0.9, penalty=l2, warm_start=False; total time=   2.4s\n",
      "[CV] END C=0.1, fit_intercept=False, l1_ratio=0.9, penalty=l1, warm_start=True; total time=   0.0s\n",
      "[CV] END C=0.1, fit_intercept=False, l1_ratio=0.9, penalty=l1, warm_start=True; total time=   0.0s\n",
      "[CV] END C=0.1, fit_intercept=False, l1_ratio=0.9, penalty=l1, warm_start=True; total time=   0.0s\n",
      "[CV] END C=0.1, fit_intercept=False, l1_ratio=0.9, penalty=l1, warm_start=False; total time=   0.0s\n",
      "[CV] END C=0.1, fit_intercept=False, l1_ratio=0.9, penalty=l1, warm_start=False; total time=   0.0s\n",
      "[CV] END C=0.1, fit_intercept=False, l1_ratio=0.9, penalty=l1, warm_start=False; total time=   0.0s\n",
      "[CV] END C=0.1, fit_intercept=False, l1_ratio=0.9, penalty=elasticnet, warm_start=True; total time=   0.0s\n",
      "[CV] END C=0.1, fit_intercept=False, l1_ratio=0.9, penalty=elasticnet, warm_start=True; total time=   0.0s\n",
      "[CV] END C=0.1, fit_intercept=False, l1_ratio=0.9, penalty=elasticnet, warm_start=True; total time=   0.0s\n",
      "[CV] END C=0.1, fit_intercept=False, l1_ratio=0.9, penalty=elasticnet, warm_start=False; total time=   0.0s\n",
      "[CV] END C=0.1, fit_intercept=False, l1_ratio=0.9, penalty=elasticnet, warm_start=False; total time=   0.0s\n",
      "[CV] END C=0.1, fit_intercept=False, l1_ratio=0.9, penalty=elasticnet, warm_start=False; total time=   0.0s\n"
     ]
    },
    {
     "name": "stdout",
     "output_type": "stream",
     "text": [
      "[CV] END C=0.01, fit_intercept=True, l1_ratio=0.25, penalty=l2, warm_start=True; total time=   2.5s\n",
      "[CV] END C=0.01, fit_intercept=True, l1_ratio=0.25, penalty=l2, warm_start=True; total time=   2.5s\n",
      "[CV] END C=0.01, fit_intercept=True, l1_ratio=0.25, penalty=l2, warm_start=True; total time=   2.5s\n",
      "[CV] END C=0.01, fit_intercept=True, l1_ratio=0.25, penalty=l2, warm_start=False; total time=   2.5s\n",
      "[CV] END C=0.01, fit_intercept=True, l1_ratio=0.25, penalty=l2, warm_start=False; total time=   2.5s\n",
      "[CV] END C=0.01, fit_intercept=True, l1_ratio=0.25, penalty=l2, warm_start=False; total time=   2.8s\n",
      "[CV] END C=0.01, fit_intercept=True, l1_ratio=0.25, penalty=l1, warm_start=True; total time=   0.0s\n",
      "[CV] END C=0.01, fit_intercept=True, l1_ratio=0.25, penalty=l1, warm_start=True; total time=   0.0s\n",
      "[CV] END C=0.01, fit_intercept=True, l1_ratio=0.25, penalty=l1, warm_start=True; total time=   0.0s\n",
      "[CV] END C=0.01, fit_intercept=True, l1_ratio=0.25, penalty=l1, warm_start=False; total time=   0.0s\n",
      "[CV] END C=0.01, fit_intercept=True, l1_ratio=0.25, penalty=l1, warm_start=False; total time=   0.0s\n",
      "[CV] END C=0.01, fit_intercept=True, l1_ratio=0.25, penalty=l1, warm_start=False; total time=   0.0s\n",
      "[CV] END C=0.01, fit_intercept=True, l1_ratio=0.25, penalty=elasticnet, warm_start=True; total time=   0.0s\n",
      "[CV] END C=0.01, fit_intercept=True, l1_ratio=0.25, penalty=elasticnet, warm_start=True; total time=   0.0s\n",
      "[CV] END C=0.01, fit_intercept=True, l1_ratio=0.25, penalty=elasticnet, warm_start=True; total time=   0.0s\n",
      "[CV] END C=0.01, fit_intercept=True, l1_ratio=0.25, penalty=elasticnet, warm_start=False; total time=   0.0s\n",
      "[CV] END C=0.01, fit_intercept=True, l1_ratio=0.25, penalty=elasticnet, warm_start=False; total time=   0.0s\n",
      "[CV] END C=0.01, fit_intercept=True, l1_ratio=0.25, penalty=elasticnet, warm_start=False; total time=   0.0s\n",
      "[CV] END C=0.01, fit_intercept=True, l1_ratio=0.5, penalty=l2, warm_start=True; total time=   2.4s\n",
      "[CV] END C=0.01, fit_intercept=True, l1_ratio=0.5, penalty=l2, warm_start=True; total time=   2.5s\n",
      "[CV] END C=0.01, fit_intercept=True, l1_ratio=0.5, penalty=l2, warm_start=True; total time=   2.6s\n",
      "[CV] END C=0.01, fit_intercept=True, l1_ratio=0.5, penalty=l2, warm_start=False; total time=   2.5s\n",
      "[CV] END C=0.01, fit_intercept=True, l1_ratio=0.5, penalty=l2, warm_start=False; total time=   2.5s\n",
      "[CV] END C=0.01, fit_intercept=True, l1_ratio=0.5, penalty=l2, warm_start=False; total time=   2.6s\n",
      "[CV] END C=0.01, fit_intercept=True, l1_ratio=0.5, penalty=l1, warm_start=True; total time=   0.0s\n",
      "[CV] END C=0.01, fit_intercept=True, l1_ratio=0.5, penalty=l1, warm_start=True; total time=   0.0s\n",
      "[CV] END C=0.01, fit_intercept=True, l1_ratio=0.5, penalty=l1, warm_start=True; total time=   0.0s\n",
      "[CV] END C=0.01, fit_intercept=True, l1_ratio=0.5, penalty=l1, warm_start=False; total time=   0.0s\n",
      "[CV] END C=0.01, fit_intercept=True, l1_ratio=0.5, penalty=l1, warm_start=False; total time=   0.0s\n",
      "[CV] END C=0.01, fit_intercept=True, l1_ratio=0.5, penalty=l1, warm_start=False; total time=   0.0s\n",
      "[CV] END C=0.01, fit_intercept=True, l1_ratio=0.5, penalty=elasticnet, warm_start=True; total time=   0.0s\n",
      "[CV] END C=0.01, fit_intercept=True, l1_ratio=0.5, penalty=elasticnet, warm_start=True; total time=   0.0s\n",
      "[CV] END C=0.01, fit_intercept=True, l1_ratio=0.5, penalty=elasticnet, warm_start=True; total time=   0.0s\n",
      "[CV] END C=0.01, fit_intercept=True, l1_ratio=0.5, penalty=elasticnet, warm_start=False; total time=   0.0s\n",
      "[CV] END C=0.01, fit_intercept=True, l1_ratio=0.5, penalty=elasticnet, warm_start=False; total time=   0.0s\n",
      "[CV] END C=0.01, fit_intercept=True, l1_ratio=0.5, penalty=elasticnet, warm_start=False; total time=   0.0s\n",
      "[CV] END C=0.01, fit_intercept=True, l1_ratio=0.75, penalty=l2, warm_start=True; total time=   2.6s\n",
      "[CV] END C=0.01, fit_intercept=True, l1_ratio=0.75, penalty=l2, warm_start=True; total time=   2.5s\n",
      "[CV] END C=0.01, fit_intercept=True, l1_ratio=0.75, penalty=l2, warm_start=True; total time=   2.5s\n",
      "[CV] END C=0.01, fit_intercept=True, l1_ratio=0.75, penalty=l2, warm_start=False; total time=   2.6s\n",
      "[CV] END C=0.01, fit_intercept=True, l1_ratio=0.75, penalty=l2, warm_start=False; total time=   2.6s\n",
      "[CV] END C=0.01, fit_intercept=True, l1_ratio=0.75, penalty=l2, warm_start=False; total time=   2.5s\n",
      "[CV] END C=0.01, fit_intercept=True, l1_ratio=0.75, penalty=l1, warm_start=True; total time=   0.0s\n",
      "[CV] END C=0.01, fit_intercept=True, l1_ratio=0.75, penalty=l1, warm_start=True; total time=   0.0s\n",
      "[CV] END C=0.01, fit_intercept=True, l1_ratio=0.75, penalty=l1, warm_start=True; total time=   0.0s\n",
      "[CV] END C=0.01, fit_intercept=True, l1_ratio=0.75, penalty=l1, warm_start=False; total time=   0.0s\n",
      "[CV] END C=0.01, fit_intercept=True, l1_ratio=0.75, penalty=l1, warm_start=False; total time=   0.0s\n",
      "[CV] END C=0.01, fit_intercept=True, l1_ratio=0.75, penalty=l1, warm_start=False; total time=   0.0s\n",
      "[CV] END C=0.01, fit_intercept=True, l1_ratio=0.75, penalty=elasticnet, warm_start=True; total time=   0.0s\n",
      "[CV] END C=0.01, fit_intercept=True, l1_ratio=0.75, penalty=elasticnet, warm_start=True; total time=   0.0s\n",
      "[CV] END C=0.01, fit_intercept=True, l1_ratio=0.75, penalty=elasticnet, warm_start=True; total time=   0.0s\n",
      "[CV] END C=0.01, fit_intercept=True, l1_ratio=0.75, penalty=elasticnet, warm_start=False; total time=   0.0s\n",
      "[CV] END C=0.01, fit_intercept=True, l1_ratio=0.75, penalty=elasticnet, warm_start=False; total time=   0.0s\n",
      "[CV] END C=0.01, fit_intercept=True, l1_ratio=0.75, penalty=elasticnet, warm_start=False; total time=   0.0s\n",
      "[CV] END C=0.01, fit_intercept=True, l1_ratio=0.9, penalty=l2, warm_start=True; total time=   2.5s\n",
      "[CV] END C=0.01, fit_intercept=True, l1_ratio=0.9, penalty=l2, warm_start=True; total time=   2.5s\n",
      "[CV] END C=0.01, fit_intercept=True, l1_ratio=0.9, penalty=l2, warm_start=True; total time=   2.6s\n",
      "[CV] END C=0.01, fit_intercept=True, l1_ratio=0.9, penalty=l2, warm_start=False; total time=   2.4s\n",
      "[CV] END C=0.01, fit_intercept=True, l1_ratio=0.9, penalty=l2, warm_start=False; total time=   2.4s\n",
      "[CV] END C=0.01, fit_intercept=True, l1_ratio=0.9, penalty=l2, warm_start=False; total time=   2.5s\n",
      "[CV] END C=0.01, fit_intercept=True, l1_ratio=0.9, penalty=l1, warm_start=True; total time=   0.0s\n",
      "[CV] END C=0.01, fit_intercept=True, l1_ratio=0.9, penalty=l1, warm_start=True; total time=   0.0s\n",
      "[CV] END C=0.01, fit_intercept=True, l1_ratio=0.9, penalty=l1, warm_start=True; total time=   0.0s\n",
      "[CV] END C=0.01, fit_intercept=True, l1_ratio=0.9, penalty=l1, warm_start=False; total time=   0.0s\n",
      "[CV] END C=0.01, fit_intercept=True, l1_ratio=0.9, penalty=l1, warm_start=False; total time=   0.0s\n",
      "[CV] END C=0.01, fit_intercept=True, l1_ratio=0.9, penalty=l1, warm_start=False; total time=   0.0s\n",
      "[CV] END C=0.01, fit_intercept=True, l1_ratio=0.9, penalty=elasticnet, warm_start=True; total time=   0.0s\n",
      "[CV] END C=0.01, fit_intercept=True, l1_ratio=0.9, penalty=elasticnet, warm_start=True; total time=   0.0s\n",
      "[CV] END C=0.01, fit_intercept=True, l1_ratio=0.9, penalty=elasticnet, warm_start=True; total time=   0.0s\n",
      "[CV] END C=0.01, fit_intercept=True, l1_ratio=0.9, penalty=elasticnet, warm_start=False; total time=   0.0s\n",
      "[CV] END C=0.01, fit_intercept=True, l1_ratio=0.9, penalty=elasticnet, warm_start=False; total time=   0.0s\n",
      "[CV] END C=0.01, fit_intercept=True, l1_ratio=0.9, penalty=elasticnet, warm_start=False; total time=   0.0s\n",
      "[CV] END C=0.01, fit_intercept=False, l1_ratio=0.25, penalty=l2, warm_start=True; total time=   2.5s\n",
      "[CV] END C=0.01, fit_intercept=False, l1_ratio=0.25, penalty=l2, warm_start=True; total time=   2.6s\n",
      "[CV] END C=0.01, fit_intercept=False, l1_ratio=0.25, penalty=l2, warm_start=True; total time=   2.5s\n",
      "[CV] END C=0.01, fit_intercept=False, l1_ratio=0.25, penalty=l2, warm_start=False; total time=   2.4s\n",
      "[CV] END C=0.01, fit_intercept=False, l1_ratio=0.25, penalty=l2, warm_start=False; total time=   2.5s\n",
      "[CV] END C=0.01, fit_intercept=False, l1_ratio=0.25, penalty=l2, warm_start=False; total time=   2.5s\n",
      "[CV] END C=0.01, fit_intercept=False, l1_ratio=0.25, penalty=l1, warm_start=True; total time=   0.0s\n",
      "[CV] END C=0.01, fit_intercept=False, l1_ratio=0.25, penalty=l1, warm_start=True; total time=   0.0s\n"
     ]
    },
    {
     "name": "stdout",
     "output_type": "stream",
     "text": [
      "[CV] END C=0.01, fit_intercept=False, l1_ratio=0.25, penalty=l1, warm_start=True; total time=   0.0s\n",
      "[CV] END C=0.01, fit_intercept=False, l1_ratio=0.25, penalty=l1, warm_start=False; total time=   0.0s\n",
      "[CV] END C=0.01, fit_intercept=False, l1_ratio=0.25, penalty=l1, warm_start=False; total time=   0.0s\n",
      "[CV] END C=0.01, fit_intercept=False, l1_ratio=0.25, penalty=l1, warm_start=False; total time=   0.0s\n",
      "[CV] END C=0.01, fit_intercept=False, l1_ratio=0.25, penalty=elasticnet, warm_start=True; total time=   0.0s\n",
      "[CV] END C=0.01, fit_intercept=False, l1_ratio=0.25, penalty=elasticnet, warm_start=True; total time=   0.0s\n",
      "[CV] END C=0.01, fit_intercept=False, l1_ratio=0.25, penalty=elasticnet, warm_start=True; total time=   0.0s\n",
      "[CV] END C=0.01, fit_intercept=False, l1_ratio=0.25, penalty=elasticnet, warm_start=False; total time=   0.0s\n",
      "[CV] END C=0.01, fit_intercept=False, l1_ratio=0.25, penalty=elasticnet, warm_start=False; total time=   0.0s\n",
      "[CV] END C=0.01, fit_intercept=False, l1_ratio=0.25, penalty=elasticnet, warm_start=False; total time=   0.0s\n",
      "[CV] END C=0.01, fit_intercept=False, l1_ratio=0.5, penalty=l2, warm_start=True; total time=   2.7s\n",
      "[CV] END C=0.01, fit_intercept=False, l1_ratio=0.5, penalty=l2, warm_start=True; total time=   2.5s\n",
      "[CV] END C=0.01, fit_intercept=False, l1_ratio=0.5, penalty=l2, warm_start=True; total time=   2.4s\n",
      "[CV] END C=0.01, fit_intercept=False, l1_ratio=0.5, penalty=l2, warm_start=False; total time=   2.4s\n",
      "[CV] END C=0.01, fit_intercept=False, l1_ratio=0.5, penalty=l2, warm_start=False; total time=   2.5s\n",
      "[CV] END C=0.01, fit_intercept=False, l1_ratio=0.5, penalty=l2, warm_start=False; total time=   2.4s\n",
      "[CV] END C=0.01, fit_intercept=False, l1_ratio=0.5, penalty=l1, warm_start=True; total time=   0.0s\n",
      "[CV] END C=0.01, fit_intercept=False, l1_ratio=0.5, penalty=l1, warm_start=True; total time=   0.0s\n",
      "[CV] END C=0.01, fit_intercept=False, l1_ratio=0.5, penalty=l1, warm_start=True; total time=   0.0s\n",
      "[CV] END C=0.01, fit_intercept=False, l1_ratio=0.5, penalty=l1, warm_start=False; total time=   0.0s\n",
      "[CV] END C=0.01, fit_intercept=False, l1_ratio=0.5, penalty=l1, warm_start=False; total time=   0.0s\n",
      "[CV] END C=0.01, fit_intercept=False, l1_ratio=0.5, penalty=l1, warm_start=False; total time=   0.0s\n",
      "[CV] END C=0.01, fit_intercept=False, l1_ratio=0.5, penalty=elasticnet, warm_start=True; total time=   0.0s\n",
      "[CV] END C=0.01, fit_intercept=False, l1_ratio=0.5, penalty=elasticnet, warm_start=True; total time=   0.0s\n",
      "[CV] END C=0.01, fit_intercept=False, l1_ratio=0.5, penalty=elasticnet, warm_start=True; total time=   0.0s\n",
      "[CV] END C=0.01, fit_intercept=False, l1_ratio=0.5, penalty=elasticnet, warm_start=False; total time=   0.0s\n",
      "[CV] END C=0.01, fit_intercept=False, l1_ratio=0.5, penalty=elasticnet, warm_start=False; total time=   0.0s\n",
      "[CV] END C=0.01, fit_intercept=False, l1_ratio=0.5, penalty=elasticnet, warm_start=False; total time=   0.0s\n",
      "[CV] END C=0.01, fit_intercept=False, l1_ratio=0.75, penalty=l2, warm_start=True; total time=   2.7s\n",
      "[CV] END C=0.01, fit_intercept=False, l1_ratio=0.75, penalty=l2, warm_start=True; total time=   2.5s\n",
      "[CV] END C=0.01, fit_intercept=False, l1_ratio=0.75, penalty=l2, warm_start=True; total time=   2.6s\n",
      "[CV] END C=0.01, fit_intercept=False, l1_ratio=0.75, penalty=l2, warm_start=False; total time=   2.5s\n",
      "[CV] END C=0.01, fit_intercept=False, l1_ratio=0.75, penalty=l2, warm_start=False; total time=   2.4s\n",
      "[CV] END C=0.01, fit_intercept=False, l1_ratio=0.75, penalty=l2, warm_start=False; total time=   2.4s\n",
      "[CV] END C=0.01, fit_intercept=False, l1_ratio=0.75, penalty=l1, warm_start=True; total time=   0.0s\n",
      "[CV] END C=0.01, fit_intercept=False, l1_ratio=0.75, penalty=l1, warm_start=True; total time=   0.0s\n",
      "[CV] END C=0.01, fit_intercept=False, l1_ratio=0.75, penalty=l1, warm_start=True; total time=   0.0s\n",
      "[CV] END C=0.01, fit_intercept=False, l1_ratio=0.75, penalty=l1, warm_start=False; total time=   0.0s\n",
      "[CV] END C=0.01, fit_intercept=False, l1_ratio=0.75, penalty=l1, warm_start=False; total time=   0.0s\n",
      "[CV] END C=0.01, fit_intercept=False, l1_ratio=0.75, penalty=l1, warm_start=False; total time=   0.0s\n",
      "[CV] END C=0.01, fit_intercept=False, l1_ratio=0.75, penalty=elasticnet, warm_start=True; total time=   0.0s\n",
      "[CV] END C=0.01, fit_intercept=False, l1_ratio=0.75, penalty=elasticnet, warm_start=True; total time=   0.0s\n",
      "[CV] END C=0.01, fit_intercept=False, l1_ratio=0.75, penalty=elasticnet, warm_start=True; total time=   0.0s\n",
      "[CV] END C=0.01, fit_intercept=False, l1_ratio=0.75, penalty=elasticnet, warm_start=False; total time=   0.0s\n",
      "[CV] END C=0.01, fit_intercept=False, l1_ratio=0.75, penalty=elasticnet, warm_start=False; total time=   0.0s\n",
      "[CV] END C=0.01, fit_intercept=False, l1_ratio=0.75, penalty=elasticnet, warm_start=False; total time=   0.0s\n",
      "[CV] END C=0.01, fit_intercept=False, l1_ratio=0.9, penalty=l2, warm_start=True; total time=   2.6s\n",
      "[CV] END C=0.01, fit_intercept=False, l1_ratio=0.9, penalty=l2, warm_start=True; total time=   2.5s\n",
      "[CV] END C=0.01, fit_intercept=False, l1_ratio=0.9, penalty=l2, warm_start=True; total time=   2.4s\n",
      "[CV] END C=0.01, fit_intercept=False, l1_ratio=0.9, penalty=l2, warm_start=False; total time=   2.5s\n",
      "[CV] END C=0.01, fit_intercept=False, l1_ratio=0.9, penalty=l2, warm_start=False; total time=   2.5s\n",
      "[CV] END C=0.01, fit_intercept=False, l1_ratio=0.9, penalty=l2, warm_start=False; total time=   2.6s\n",
      "[CV] END C=0.01, fit_intercept=False, l1_ratio=0.9, penalty=l1, warm_start=True; total time=   0.0s\n",
      "[CV] END C=0.01, fit_intercept=False, l1_ratio=0.9, penalty=l1, warm_start=True; total time=   0.0s\n",
      "[CV] END C=0.01, fit_intercept=False, l1_ratio=0.9, penalty=l1, warm_start=True; total time=   0.0s\n",
      "[CV] END C=0.01, fit_intercept=False, l1_ratio=0.9, penalty=l1, warm_start=False; total time=   0.0s\n",
      "[CV] END C=0.01, fit_intercept=False, l1_ratio=0.9, penalty=l1, warm_start=False; total time=   0.0s\n",
      "[CV] END C=0.01, fit_intercept=False, l1_ratio=0.9, penalty=l1, warm_start=False; total time=   0.0s\n",
      "[CV] END C=0.01, fit_intercept=False, l1_ratio=0.9, penalty=elasticnet, warm_start=True; total time=   0.0s\n",
      "[CV] END C=0.01, fit_intercept=False, l1_ratio=0.9, penalty=elasticnet, warm_start=True; total time=   0.0s\n",
      "[CV] END C=0.01, fit_intercept=False, l1_ratio=0.9, penalty=elasticnet, warm_start=True; total time=   0.0s\n",
      "[CV] END C=0.01, fit_intercept=False, l1_ratio=0.9, penalty=elasticnet, warm_start=False; total time=   0.0s\n",
      "[CV] END C=0.01, fit_intercept=False, l1_ratio=0.9, penalty=elasticnet, warm_start=False; total time=   0.0s\n",
      "[CV] END C=0.01, fit_intercept=False, l1_ratio=0.9, penalty=elasticnet, warm_start=False; total time=   0.0s\n"
     ]
    }
   ],
   "source": [
    "model=gscv.fit(X_train, y_train)"
   ]
  },
  {
   "cell_type": "code",
   "execution_count": 78,
   "id": "10f5180a",
   "metadata": {},
   "outputs": [],
   "source": [
    "predicted=model.predict(X_test)"
   ]
  },
  {
   "cell_type": "code",
   "execution_count": 79,
   "id": "ba304268",
   "metadata": {},
   "outputs": [
    {
     "data": {
      "text/plain": [
       "0.8414181413191437"
      ]
     },
     "execution_count": 79,
     "metadata": {},
     "output_type": "execute_result"
    }
   ],
   "source": [
    "accuracy_score(predicted,y_test)"
   ]
  },
  {
   "cell_type": "markdown",
   "id": "58dea941",
   "metadata": {},
   "source": [
    "Now let's also create confusion matrix and precision-vs-recall curve."
   ]
  },
  {
   "cell_type": "code",
   "execution_count": 136,
   "id": "b4d587e3",
   "metadata": {},
   "outputs": [
    {
     "data": {
      "text/plain": [
       "<Figure size 720x504 with 0 Axes>"
      ]
     },
     "metadata": {},
     "output_type": "display_data"
    },
    {
     "data": {
      "image/png": "[encoded data removed]",
      "text/plain": [
       "<Figure size 720x504 with 2 Axes>"
      ]
     },
     "metadata": {},
     "output_type": "display_data"
    }
   ],
   "source": [
    "plot_confusion(predicted,y_test)"
   ]
  },
  {
   "cell_type": "code",
   "execution_count": 139,
   "id": "2a0cda94",
   "metadata": {},
   "outputs": [
    {
     "data": {
      "image/png": "[encoded data removed]",
      "text/plain": [
       "<Figure size 720x504 with 1 Axes>"
      ]
     },
     "metadata": {},
     "output_type": "display_data"
    }
   ],
   "source": [
    "plot_precisionvsrecall(predicted,y_test)"
   ]
  },
  {
   "cell_type": "markdown",
   "id": "f5dfdb6f",
   "metadata": {},
   "source": [
    "Looks like we couldn't improve the model much. I will try to improve this model by using some techniques to deal with class imbalance in Logistic Regression Notebook 4. Moreover, you can also use `RandomSearchCV()` just like I used GridSearchCV above. \n",
    "\n",
    "\n",
    "Additionally, we also have another function that we can use for cross validation in Logistic Regression. Let's briefly look at these functions."
   ]
  },
  {
   "cell_type": "markdown",
   "id": "9804fc30",
   "metadata": {},
   "source": [
    "### LogisticRegressionCV"
   ]
  },
  {
   "cell_type": "markdown",
   "id": "9f570a64",
   "metadata": {},
   "source": [
    "`LogisticRegressionCV()` provides us less fredom than GridSearchCV because here we can only use the function to tune some of the parameters such as C or l1_ratio but we cannot add different penalities and let the function decide which one works best. There are some other changes with different parameters as well, check the [documentation](https://scikit-learn.org/stable/modules/generated/sklearn.linear_model.LogisticRegressionCV.html). Moreover, I will do something different this time an add a new parameter called **class_weight**. Normally, when we are using logistic regression the algorithm treats all the classes equally but since we have much higher number instances in negative class we can raise the weight of positive class to improve the result. For more about class_weight check this [link](https://developpaper.com/using-class-weight-to-improve-class-imbalance/) I will use this argument more in the forth notebook on Logistic Regression."
   ]
  },
  {
   "cell_type": "code",
   "execution_count": 54,
   "id": "74b7bf32",
   "metadata": {},
   "outputs": [],
   "source": [
    "logreg_cv2 = LogisticRegressionCV(cv=skf, random_state=42,Cs=[100, 10, 1.0, 0.1, 0.01],fit_intercept=True,\n",
    "                                penalty=\"l1\",solver=\"liblinear\",verbose=2,max_iter =250, class_weight={1:5})"
   ]
  },
  {
   "cell_type": "code",
   "execution_count": 55,
   "id": "005cf183",
   "metadata": {},
   "outputs": [
    {
     "name": "stderr",
     "output_type": "stream",
     "text": [
      "[Parallel(n_jobs=1)]: Using backend SequentialBackend with 1 concurrent workers.\n"
     ]
    },
    {
     "name": "stdout",
     "output_type": "stream",
     "text": [
      "[LibLinear][LibLinear][LibLinear][LibLinear][LibLinear]"
     ]
    },
    {
     "name": "stderr",
     "output_type": "stream",
     "text": [
      "[Parallel(n_jobs=1)]: Done   1 out of   1 | elapsed:  1.7min remaining:    0.0s\n"
     ]
    },
    {
     "name": "stdout",
     "output_type": "stream",
     "text": [
      "[LibLinear][LibLinear][LibLinear][LibLinear][LibLinear][LibLinear][LibLinear][LibLinear][LibLinear][LibLinear]"
     ]
    },
    {
     "name": "stderr",
     "output_type": "stream",
     "text": [
      "[Parallel(n_jobs=1)]: Done   3 out of   3 | elapsed:  2.6min finished\n"
     ]
    },
    {
     "name": "stdout",
     "output_type": "stream",
     "text": [
      "[LibLinear]"
     ]
    }
   ],
   "source": [
    "model_logregcv2=logreg_cv2.fit(X_train, y_train)"
   ]
  },
  {
   "cell_type": "code",
   "execution_count": 57,
   "id": "849e3a3b",
   "metadata": {},
   "outputs": [],
   "source": [
    "predicted_logreg2=logreg_cv2.predict(X_test)"
   ]
  },
  {
   "cell_type": "code",
   "execution_count": 58,
   "id": "067bdf3c",
   "metadata": {},
   "outputs": [
    {
     "data": {
      "text/plain": [
       "0.7539529767633714"
      ]
     },
     "execution_count": 58,
     "metadata": {},
     "output_type": "execute_result"
    }
   ],
   "source": [
    "accuracy_score(predicted_logreg2,y_test)"
   ]
  },
  {
   "cell_type": "code",
   "execution_count": 59,
   "id": "7bcd1ebd",
   "metadata": {
    "scrolled": false
   },
   "outputs": [
    {
     "data": {
      "text/plain": [
       "<Figure size 720x504 with 0 Axes>"
      ]
     },
     "metadata": {},
     "output_type": "display_data"
    },
    {
     "data": {
      "image/png": "[encoded data removed]",
      "text/plain": [
       "<Figure size 720x504 with 2 Axes>"
      ]
     },
     "metadata": {
      "needs_background": "light"
     },
     "output_type": "display_data"
    }
   ],
   "source": [
    "plot_confusion(predicted_logreg2,y_test)"
   ]
  },
  {
   "cell_type": "markdown",
   "id": "10da5464",
   "metadata": {},
   "source": [
    "Even If we doubled True Positives, that is not enough. I will address this problem more as I said in the last notebook."
   ]
  },
  {
   "cell_type": "markdown",
   "id": "4609ecce",
   "metadata": {},
   "source": [
    "Additional Notes:\n",
    "1. When I was preparing this notebook I came across with a stackoverflow discussion in which how LogisticRegressionCV calculates best_coefficients_ explained. I share the link here maybe some of you would be interested in it. [link](https://stackoverflow.com/questions/49562046/scikit-learn-logisticregressioncv-best-coefficients)\n",
    "2. If you visit the LogisticRegression documentation of sklearn, you will see that there is a parameter called dual. Dualitiy is a concept that I will introduce with Support Vector Machines but if you have taken courses like Calculus, Optimization or Linear Algebra I recommend you checking the paper in advance. In  this paper you will find how optimization algorithms are used with Logistic Regression as well as dual formula for Logistic Regression. [A comparison of numerical optimizers for logistic regression](https://tminka.github.io/papers/logreg/minka-logreg.pdf)\n",
    "3. Lastly If you remember linear regression notebooks, we used a function called SGDRegressor. There is also a classifier version of this function. I will talk about it in SVM notebooks but you can check it in advance [link](https://scikit-learn.org/stable/modules/generated/sklearn.linear_model.SGDClassifier.html)"
   ]
  }
 ],
 "metadata": {
  "kernelspec": {
   "display_name": "Python 3 (ipykernel)",
   "language": "python",
   "name": "python3"
  },
  "language_info": {
   "codemirror_mode": {
    "name": "ipython",
    "version": 3
   },
   "file_extension": ".py",
   "mimetype": "text/x-python",
   "name": "python",
   "nbconvert_exporter": "python",
   "pygments_lexer": "ipython3",
   "version": "3.8.8"
  }
 },
 "nbformat": 4,
 "nbformat_minor": 5
}
